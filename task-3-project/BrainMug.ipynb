{
 "cells": [
  {
   "cell_type": "code",
   "execution_count": 1,
   "id": "c7fd1460",
   "metadata": {},
   "outputs": [],
   "source": [
    "import pandas as pd\n",
    "import numpy as np\n",
    "import matplotlib.pyplot as plt\n",
    "import seaborn as sns"
   ]
  },
  {
   "cell_type": "code",
   "execution_count": 2,
   "id": "f259b95a",
   "metadata": {},
   "outputs": [
    {
     "name": "stdout",
     "output_type": "stream",
     "text": [
      "(184506, 122)\n",
      "(123005, 121)\n"
     ]
    }
   ],
   "source": [
    "df_train=pd.read_csv('train_data.csv')\n",
    "df_test=pd.read_csv('test_data.csv')\n",
    "df=df_train\n",
    "print(df_train.shape)\n",
    "print(df_test.shape)"
   ]
  },
  {
   "cell_type": "markdown",
   "id": "ebdf7268",
   "metadata": {},
   "source": [
    "# Merging both test and train tables"
   ]
  },
  {
   "cell_type": "code",
   "execution_count": 3,
   "id": "daffc1bb",
   "metadata": {},
   "outputs": [],
   "source": [
    "#df=df_train.append(df_test)"
   ]
  },
  {
   "cell_type": "code",
   "execution_count": 4,
   "id": "7e3240bc",
   "metadata": {},
   "outputs": [
    {
     "data": {
      "text/plain": [
       "(184506, 122)"
      ]
     },
     "execution_count": 4,
     "metadata": {},
     "output_type": "execute_result"
    }
   ],
   "source": [
    "df.shape"
   ]
  },
  {
   "cell_type": "code",
   "execution_count": 5,
   "id": "a216ec85",
   "metadata": {},
   "outputs": [
    {
     "name": "stdout",
     "output_type": "stream",
     "text": [
      "<class 'pandas.core.frame.DataFrame'>\n",
      "RangeIndex: 184506 entries, 0 to 184505\n",
      "Columns: 122 entries, SK_ID_CURR to TARGET\n",
      "dtypes: float64(65), int64(41), object(16)\n",
      "memory usage: 171.7+ MB\n"
     ]
    }
   ],
   "source": [
    "df.info()"
   ]
  },
  {
   "cell_type": "code",
   "execution_count": 6,
   "id": "48266114",
   "metadata": {},
   "outputs": [
    {
     "data": {
      "text/plain": [
       "0    169611\n",
       "1     14895\n",
       "Name: TARGET, dtype: int64"
      ]
     },
     "execution_count": 6,
     "metadata": {},
     "output_type": "execute_result"
    }
   ],
   "source": [
    "df['TARGET'].value_counts()"
   ]
  },
  {
   "cell_type": "code",
   "execution_count": 7,
   "id": "d6661332",
   "metadata": {},
   "outputs": [
    {
     "data": {
      "text/html": [
       "<div>\n",
       "<style scoped>\n",
       "    .dataframe tbody tr th:only-of-type {\n",
       "        vertical-align: middle;\n",
       "    }\n",
       "\n",
       "    .dataframe tbody tr th {\n",
       "        vertical-align: top;\n",
       "    }\n",
       "\n",
       "    .dataframe thead th {\n",
       "        text-align: right;\n",
       "    }\n",
       "</style>\n",
       "<table border=\"1\" class=\"dataframe\">\n",
       "  <thead>\n",
       "    <tr style=\"text-align: right;\">\n",
       "      <th></th>\n",
       "      <th>SK_ID_CURR</th>\n",
       "      <th>NAME_CONTRACT_TYPE</th>\n",
       "      <th>CODE_GENDER</th>\n",
       "      <th>FLAG_OWN_CAR</th>\n",
       "      <th>FLAG_OWN_REALTY</th>\n",
       "      <th>CNT_CHILDREN</th>\n",
       "      <th>AMT_INCOME_TOTAL</th>\n",
       "      <th>AMT_CREDIT</th>\n",
       "      <th>AMT_ANNUITY</th>\n",
       "      <th>AMT_GOODS_PRICE</th>\n",
       "      <th>...</th>\n",
       "      <th>FLAG_DOCUMENT_19</th>\n",
       "      <th>FLAG_DOCUMENT_20</th>\n",
       "      <th>FLAG_DOCUMENT_21</th>\n",
       "      <th>AMT_REQ_CREDIT_BUREAU_HOUR</th>\n",
       "      <th>AMT_REQ_CREDIT_BUREAU_DAY</th>\n",
       "      <th>AMT_REQ_CREDIT_BUREAU_WEEK</th>\n",
       "      <th>AMT_REQ_CREDIT_BUREAU_MON</th>\n",
       "      <th>AMT_REQ_CREDIT_BUREAU_QRT</th>\n",
       "      <th>AMT_REQ_CREDIT_BUREAU_YEAR</th>\n",
       "      <th>TARGET</th>\n",
       "    </tr>\n",
       "  </thead>\n",
       "  <tbody>\n",
       "    <tr>\n",
       "      <th>0</th>\n",
       "      <td>450407</td>\n",
       "      <td>Cash loans</td>\n",
       "      <td>F</td>\n",
       "      <td>N</td>\n",
       "      <td>Y</td>\n",
       "      <td>1</td>\n",
       "      <td>67500.0</td>\n",
       "      <td>227520.0</td>\n",
       "      <td>11065.5</td>\n",
       "      <td>180000.0</td>\n",
       "      <td>...</td>\n",
       "      <td>0</td>\n",
       "      <td>0</td>\n",
       "      <td>0</td>\n",
       "      <td>0.0</td>\n",
       "      <td>0.0</td>\n",
       "      <td>0.0</td>\n",
       "      <td>1.0</td>\n",
       "      <td>0.0</td>\n",
       "      <td>2.0</td>\n",
       "      <td>0</td>\n",
       "    </tr>\n",
       "    <tr>\n",
       "      <th>1</th>\n",
       "      <td>271298</td>\n",
       "      <td>Cash loans</td>\n",
       "      <td>M</td>\n",
       "      <td>Y</td>\n",
       "      <td>Y</td>\n",
       "      <td>1</td>\n",
       "      <td>247500.0</td>\n",
       "      <td>1882372.5</td>\n",
       "      <td>65560.5</td>\n",
       "      <td>1719000.0</td>\n",
       "      <td>...</td>\n",
       "      <td>0</td>\n",
       "      <td>0</td>\n",
       "      <td>0</td>\n",
       "      <td>0.0</td>\n",
       "      <td>0.0</td>\n",
       "      <td>0.0</td>\n",
       "      <td>0.0</td>\n",
       "      <td>1.0</td>\n",
       "      <td>3.0</td>\n",
       "      <td>0</td>\n",
       "    </tr>\n",
       "    <tr>\n",
       "      <th>2</th>\n",
       "      <td>122238</td>\n",
       "      <td>Cash loans</td>\n",
       "      <td>M</td>\n",
       "      <td>Y</td>\n",
       "      <td>Y</td>\n",
       "      <td>1</td>\n",
       "      <td>180000.0</td>\n",
       "      <td>101880.0</td>\n",
       "      <td>10827.0</td>\n",
       "      <td>90000.0</td>\n",
       "      <td>...</td>\n",
       "      <td>0</td>\n",
       "      <td>0</td>\n",
       "      <td>0</td>\n",
       "      <td>0.0</td>\n",
       "      <td>0.0</td>\n",
       "      <td>0.0</td>\n",
       "      <td>2.0</td>\n",
       "      <td>0.0</td>\n",
       "      <td>1.0</td>\n",
       "      <td>0</td>\n",
       "    </tr>\n",
       "    <tr>\n",
       "      <th>3</th>\n",
       "      <td>305311</td>\n",
       "      <td>Cash loans</td>\n",
       "      <td>M</td>\n",
       "      <td>N</td>\n",
       "      <td>N</td>\n",
       "      <td>0</td>\n",
       "      <td>81000.0</td>\n",
       "      <td>405000.0</td>\n",
       "      <td>20677.5</td>\n",
       "      <td>405000.0</td>\n",
       "      <td>...</td>\n",
       "      <td>0</td>\n",
       "      <td>0</td>\n",
       "      <td>0</td>\n",
       "      <td>0.0</td>\n",
       "      <td>0.0</td>\n",
       "      <td>0.0</td>\n",
       "      <td>0.0</td>\n",
       "      <td>0.0</td>\n",
       "      <td>2.0</td>\n",
       "      <td>0</td>\n",
       "    </tr>\n",
       "    <tr>\n",
       "      <th>4</th>\n",
       "      <td>414121</td>\n",
       "      <td>Cash loans</td>\n",
       "      <td>F</td>\n",
       "      <td>N</td>\n",
       "      <td>Y</td>\n",
       "      <td>0</td>\n",
       "      <td>157500.0</td>\n",
       "      <td>888840.0</td>\n",
       "      <td>29506.5</td>\n",
       "      <td>675000.0</td>\n",
       "      <td>...</td>\n",
       "      <td>0</td>\n",
       "      <td>0</td>\n",
       "      <td>0</td>\n",
       "      <td>0.0</td>\n",
       "      <td>0.0</td>\n",
       "      <td>0.0</td>\n",
       "      <td>0.0</td>\n",
       "      <td>0.0</td>\n",
       "      <td>2.0</td>\n",
       "      <td>0</td>\n",
       "    </tr>\n",
       "    <tr>\n",
       "      <th>5</th>\n",
       "      <td>188073</td>\n",
       "      <td>Cash loans</td>\n",
       "      <td>M</td>\n",
       "      <td>Y</td>\n",
       "      <td>Y</td>\n",
       "      <td>0</td>\n",
       "      <td>202500.0</td>\n",
       "      <td>1350000.0</td>\n",
       "      <td>64948.5</td>\n",
       "      <td>1350000.0</td>\n",
       "      <td>...</td>\n",
       "      <td>0</td>\n",
       "      <td>0</td>\n",
       "      <td>0</td>\n",
       "      <td>NaN</td>\n",
       "      <td>NaN</td>\n",
       "      <td>NaN</td>\n",
       "      <td>NaN</td>\n",
       "      <td>NaN</td>\n",
       "      <td>NaN</td>\n",
       "      <td>0</td>\n",
       "    </tr>\n",
       "    <tr>\n",
       "      <th>6</th>\n",
       "      <td>123261</td>\n",
       "      <td>Cash loans</td>\n",
       "      <td>F</td>\n",
       "      <td>N</td>\n",
       "      <td>Y</td>\n",
       "      <td>0</td>\n",
       "      <td>180000.0</td>\n",
       "      <td>1113840.0</td>\n",
       "      <td>44302.5</td>\n",
       "      <td>900000.0</td>\n",
       "      <td>...</td>\n",
       "      <td>0</td>\n",
       "      <td>0</td>\n",
       "      <td>0</td>\n",
       "      <td>0.0</td>\n",
       "      <td>0.0</td>\n",
       "      <td>0.0</td>\n",
       "      <td>0.0</td>\n",
       "      <td>1.0</td>\n",
       "      <td>6.0</td>\n",
       "      <td>0</td>\n",
       "    </tr>\n",
       "    <tr>\n",
       "      <th>7</th>\n",
       "      <td>103883</td>\n",
       "      <td>Cash loans</td>\n",
       "      <td>F</td>\n",
       "      <td>N</td>\n",
       "      <td>Y</td>\n",
       "      <td>0</td>\n",
       "      <td>103500.0</td>\n",
       "      <td>45000.0</td>\n",
       "      <td>4738.5</td>\n",
       "      <td>45000.0</td>\n",
       "      <td>...</td>\n",
       "      <td>0</td>\n",
       "      <td>0</td>\n",
       "      <td>0</td>\n",
       "      <td>0.0</td>\n",
       "      <td>0.0</td>\n",
       "      <td>0.0</td>\n",
       "      <td>0.0</td>\n",
       "      <td>0.0</td>\n",
       "      <td>3.0</td>\n",
       "      <td>0</td>\n",
       "    </tr>\n",
       "    <tr>\n",
       "      <th>8</th>\n",
       "      <td>169250</td>\n",
       "      <td>Cash loans</td>\n",
       "      <td>F</td>\n",
       "      <td>N</td>\n",
       "      <td>Y</td>\n",
       "      <td>0</td>\n",
       "      <td>157500.0</td>\n",
       "      <td>728460.0</td>\n",
       "      <td>38938.5</td>\n",
       "      <td>675000.0</td>\n",
       "      <td>...</td>\n",
       "      <td>0</td>\n",
       "      <td>0</td>\n",
       "      <td>0</td>\n",
       "      <td>0.0</td>\n",
       "      <td>0.0</td>\n",
       "      <td>0.0</td>\n",
       "      <td>0.0</td>\n",
       "      <td>0.0</td>\n",
       "      <td>0.0</td>\n",
       "      <td>0</td>\n",
       "    </tr>\n",
       "    <tr>\n",
       "      <th>9</th>\n",
       "      <td>105040</td>\n",
       "      <td>Cash loans</td>\n",
       "      <td>M</td>\n",
       "      <td>Y</td>\n",
       "      <td>N</td>\n",
       "      <td>0</td>\n",
       "      <td>90000.0</td>\n",
       "      <td>1078200.0</td>\n",
       "      <td>31653.0</td>\n",
       "      <td>900000.0</td>\n",
       "      <td>...</td>\n",
       "      <td>0</td>\n",
       "      <td>0</td>\n",
       "      <td>0</td>\n",
       "      <td>0.0</td>\n",
       "      <td>0.0</td>\n",
       "      <td>0.0</td>\n",
       "      <td>0.0</td>\n",
       "      <td>0.0</td>\n",
       "      <td>1.0</td>\n",
       "      <td>0</td>\n",
       "    </tr>\n",
       "  </tbody>\n",
       "</table>\n",
       "<p>10 rows × 122 columns</p>\n",
       "</div>"
      ],
      "text/plain": [
       "   SK_ID_CURR NAME_CONTRACT_TYPE CODE_GENDER FLAG_OWN_CAR FLAG_OWN_REALTY  \\\n",
       "0      450407         Cash loans           F            N               Y   \n",
       "1      271298         Cash loans           M            Y               Y   \n",
       "2      122238         Cash loans           M            Y               Y   \n",
       "3      305311         Cash loans           M            N               N   \n",
       "4      414121         Cash loans           F            N               Y   \n",
       "5      188073         Cash loans           M            Y               Y   \n",
       "6      123261         Cash loans           F            N               Y   \n",
       "7      103883         Cash loans           F            N               Y   \n",
       "8      169250         Cash loans           F            N               Y   \n",
       "9      105040         Cash loans           M            Y               N   \n",
       "\n",
       "   CNT_CHILDREN  AMT_INCOME_TOTAL  AMT_CREDIT  AMT_ANNUITY  AMT_GOODS_PRICE  \\\n",
       "0             1           67500.0    227520.0      11065.5         180000.0   \n",
       "1             1          247500.0   1882372.5      65560.5        1719000.0   \n",
       "2             1          180000.0    101880.0      10827.0          90000.0   \n",
       "3             0           81000.0    405000.0      20677.5         405000.0   \n",
       "4             0          157500.0    888840.0      29506.5         675000.0   \n",
       "5             0          202500.0   1350000.0      64948.5        1350000.0   \n",
       "6             0          180000.0   1113840.0      44302.5         900000.0   \n",
       "7             0          103500.0     45000.0       4738.5          45000.0   \n",
       "8             0          157500.0    728460.0      38938.5         675000.0   \n",
       "9             0           90000.0   1078200.0      31653.0         900000.0   \n",
       "\n",
       "   ... FLAG_DOCUMENT_19 FLAG_DOCUMENT_20 FLAG_DOCUMENT_21  \\\n",
       "0  ...                0                0                0   \n",
       "1  ...                0                0                0   \n",
       "2  ...                0                0                0   \n",
       "3  ...                0                0                0   \n",
       "4  ...                0                0                0   \n",
       "5  ...                0                0                0   \n",
       "6  ...                0                0                0   \n",
       "7  ...                0                0                0   \n",
       "8  ...                0                0                0   \n",
       "9  ...                0                0                0   \n",
       "\n",
       "  AMT_REQ_CREDIT_BUREAU_HOUR AMT_REQ_CREDIT_BUREAU_DAY  \\\n",
       "0                        0.0                       0.0   \n",
       "1                        0.0                       0.0   \n",
       "2                        0.0                       0.0   \n",
       "3                        0.0                       0.0   \n",
       "4                        0.0                       0.0   \n",
       "5                        NaN                       NaN   \n",
       "6                        0.0                       0.0   \n",
       "7                        0.0                       0.0   \n",
       "8                        0.0                       0.0   \n",
       "9                        0.0                       0.0   \n",
       "\n",
       "   AMT_REQ_CREDIT_BUREAU_WEEK  AMT_REQ_CREDIT_BUREAU_MON  \\\n",
       "0                         0.0                        1.0   \n",
       "1                         0.0                        0.0   \n",
       "2                         0.0                        2.0   \n",
       "3                         0.0                        0.0   \n",
       "4                         0.0                        0.0   \n",
       "5                         NaN                        NaN   \n",
       "6                         0.0                        0.0   \n",
       "7                         0.0                        0.0   \n",
       "8                         0.0                        0.0   \n",
       "9                         0.0                        0.0   \n",
       "\n",
       "   AMT_REQ_CREDIT_BUREAU_QRT  AMT_REQ_CREDIT_BUREAU_YEAR  TARGET  \n",
       "0                        0.0                         2.0       0  \n",
       "1                        1.0                         3.0       0  \n",
       "2                        0.0                         1.0       0  \n",
       "3                        0.0                         2.0       0  \n",
       "4                        0.0                         2.0       0  \n",
       "5                        NaN                         NaN       0  \n",
       "6                        1.0                         6.0       0  \n",
       "7                        0.0                         3.0       0  \n",
       "8                        0.0                         0.0       0  \n",
       "9                        0.0                         1.0       0  \n",
       "\n",
       "[10 rows x 122 columns]"
      ]
     },
     "execution_count": 7,
     "metadata": {},
     "output_type": "execute_result"
    }
   ],
   "source": [
    "df.head(10)"
   ]
  },
  {
   "cell_type": "markdown",
   "id": "6091dc97",
   "metadata": {},
   "source": [
    "## Handling categoriacal feature CODE_GENDER\n"
   ]
  },
  {
   "cell_type": "code",
   "execution_count": 8,
   "id": "ded9a95d",
   "metadata": {},
   "outputs": [
    {
     "data": {
      "text/plain": [
       "0         F\n",
       "1         M\n",
       "2         M\n",
       "3         M\n",
       "4         F\n",
       "         ..\n",
       "184501    F\n",
       "184502    F\n",
       "184503    F\n",
       "184504    F\n",
       "184505    F\n",
       "Name: CODE_GENDER, Length: 184506, dtype: object"
      ]
     },
     "execution_count": 8,
     "metadata": {},
     "output_type": "execute_result"
    }
   ],
   "source": [
    "df['CODE_GENDER']"
   ]
  },
  {
   "cell_type": "code",
   "execution_count": 9,
   "id": "9ea8f546",
   "metadata": {},
   "outputs": [
    {
     "data": {
      "text/plain": [
       "F      121357\n",
       "M       63147\n",
       "XNA         2\n",
       "Name: CODE_GENDER, dtype: int64"
      ]
     },
     "execution_count": 9,
     "metadata": {},
     "output_type": "execute_result"
    }
   ],
   "source": [
    "df['CODE_GENDER'].value_counts()"
   ]
  },
  {
   "cell_type": "code",
   "execution_count": 10,
   "id": "9dc58cf2",
   "metadata": {},
   "outputs": [
    {
     "data": {
      "text/plain": [
       "<AxesSubplot:>"
      ]
     },
     "execution_count": 10,
     "metadata": {},
     "output_type": "execute_result"
    },
    {
     "data": {
      "image/png": "[encoded data removed]",
      "text/plain": [
       "<Figure size 640x480 with 1 Axes>"
      ]
     },
     "metadata": {},
     "output_type": "display_data"
    }
   ],
   "source": [
    "df['CODE_GENDER'].value_counts().plot(kind='bar')\n",
    "\n",
    "## we can observe that females are the ones who have taken the most of the loan as compared with men\n",
    "\n",
    "## females are the one who are taking a lot of loan and maybe are defaulters as well!"
   ]
  },
  {
   "cell_type": "code",
   "execution_count": 11,
   "id": "bb70bb0a",
   "metadata": {},
   "outputs": [],
   "source": [
    "df['CODE_GENDER']=df['CODE_GENDER'].map({'F':0,'M':1,'XNA':2})"
   ]
  },
  {
   "cell_type": "code",
   "execution_count": 12,
   "id": "1e5f67ea",
   "metadata": {},
   "outputs": [
    {
     "data": {
      "text/html": [
       "<div>\n",
       "<style scoped>\n",
       "    .dataframe tbody tr th:only-of-type {\n",
       "        vertical-align: middle;\n",
       "    }\n",
       "\n",
       "    .dataframe tbody tr th {\n",
       "        vertical-align: top;\n",
       "    }\n",
       "\n",
       "    .dataframe thead th {\n",
       "        text-align: right;\n",
       "    }\n",
       "</style>\n",
       "<table border=\"1\" class=\"dataframe\">\n",
       "  <thead>\n",
       "    <tr style=\"text-align: right;\">\n",
       "      <th></th>\n",
       "      <th>SK_ID_CURR</th>\n",
       "      <th>NAME_CONTRACT_TYPE</th>\n",
       "      <th>CODE_GENDER</th>\n",
       "      <th>FLAG_OWN_CAR</th>\n",
       "      <th>FLAG_OWN_REALTY</th>\n",
       "      <th>CNT_CHILDREN</th>\n",
       "      <th>AMT_INCOME_TOTAL</th>\n",
       "      <th>AMT_CREDIT</th>\n",
       "      <th>AMT_ANNUITY</th>\n",
       "      <th>AMT_GOODS_PRICE</th>\n",
       "      <th>...</th>\n",
       "      <th>FLAG_DOCUMENT_19</th>\n",
       "      <th>FLAG_DOCUMENT_20</th>\n",
       "      <th>FLAG_DOCUMENT_21</th>\n",
       "      <th>AMT_REQ_CREDIT_BUREAU_HOUR</th>\n",
       "      <th>AMT_REQ_CREDIT_BUREAU_DAY</th>\n",
       "      <th>AMT_REQ_CREDIT_BUREAU_WEEK</th>\n",
       "      <th>AMT_REQ_CREDIT_BUREAU_MON</th>\n",
       "      <th>AMT_REQ_CREDIT_BUREAU_QRT</th>\n",
       "      <th>AMT_REQ_CREDIT_BUREAU_YEAR</th>\n",
       "      <th>TARGET</th>\n",
       "    </tr>\n",
       "  </thead>\n",
       "  <tbody>\n",
       "    <tr>\n",
       "      <th>0</th>\n",
       "      <td>450407</td>\n",
       "      <td>Cash loans</td>\n",
       "      <td>0</td>\n",
       "      <td>N</td>\n",
       "      <td>Y</td>\n",
       "      <td>1</td>\n",
       "      <td>67500.0</td>\n",
       "      <td>227520.0</td>\n",
       "      <td>11065.5</td>\n",
       "      <td>180000.0</td>\n",
       "      <td>...</td>\n",
       "      <td>0</td>\n",
       "      <td>0</td>\n",
       "      <td>0</td>\n",
       "      <td>0.0</td>\n",
       "      <td>0.0</td>\n",
       "      <td>0.0</td>\n",
       "      <td>1.0</td>\n",
       "      <td>0.0</td>\n",
       "      <td>2.0</td>\n",
       "      <td>0</td>\n",
       "    </tr>\n",
       "    <tr>\n",
       "      <th>1</th>\n",
       "      <td>271298</td>\n",
       "      <td>Cash loans</td>\n",
       "      <td>1</td>\n",
       "      <td>Y</td>\n",
       "      <td>Y</td>\n",
       "      <td>1</td>\n",
       "      <td>247500.0</td>\n",
       "      <td>1882372.5</td>\n",
       "      <td>65560.5</td>\n",
       "      <td>1719000.0</td>\n",
       "      <td>...</td>\n",
       "      <td>0</td>\n",
       "      <td>0</td>\n",
       "      <td>0</td>\n",
       "      <td>0.0</td>\n",
       "      <td>0.0</td>\n",
       "      <td>0.0</td>\n",
       "      <td>0.0</td>\n",
       "      <td>1.0</td>\n",
       "      <td>3.0</td>\n",
       "      <td>0</td>\n",
       "    </tr>\n",
       "    <tr>\n",
       "      <th>2</th>\n",
       "      <td>122238</td>\n",
       "      <td>Cash loans</td>\n",
       "      <td>1</td>\n",
       "      <td>Y</td>\n",
       "      <td>Y</td>\n",
       "      <td>1</td>\n",
       "      <td>180000.0</td>\n",
       "      <td>101880.0</td>\n",
       "      <td>10827.0</td>\n",
       "      <td>90000.0</td>\n",
       "      <td>...</td>\n",
       "      <td>0</td>\n",
       "      <td>0</td>\n",
       "      <td>0</td>\n",
       "      <td>0.0</td>\n",
       "      <td>0.0</td>\n",
       "      <td>0.0</td>\n",
       "      <td>2.0</td>\n",
       "      <td>0.0</td>\n",
       "      <td>1.0</td>\n",
       "      <td>0</td>\n",
       "    </tr>\n",
       "    <tr>\n",
       "      <th>3</th>\n",
       "      <td>305311</td>\n",
       "      <td>Cash loans</td>\n",
       "      <td>1</td>\n",
       "      <td>N</td>\n",
       "      <td>N</td>\n",
       "      <td>0</td>\n",
       "      <td>81000.0</td>\n",
       "      <td>405000.0</td>\n",
       "      <td>20677.5</td>\n",
       "      <td>405000.0</td>\n",
       "      <td>...</td>\n",
       "      <td>0</td>\n",
       "      <td>0</td>\n",
       "      <td>0</td>\n",
       "      <td>0.0</td>\n",
       "      <td>0.0</td>\n",
       "      <td>0.0</td>\n",
       "      <td>0.0</td>\n",
       "      <td>0.0</td>\n",
       "      <td>2.0</td>\n",
       "      <td>0</td>\n",
       "    </tr>\n",
       "    <tr>\n",
       "      <th>4</th>\n",
       "      <td>414121</td>\n",
       "      <td>Cash loans</td>\n",
       "      <td>0</td>\n",
       "      <td>N</td>\n",
       "      <td>Y</td>\n",
       "      <td>0</td>\n",
       "      <td>157500.0</td>\n",
       "      <td>888840.0</td>\n",
       "      <td>29506.5</td>\n",
       "      <td>675000.0</td>\n",
       "      <td>...</td>\n",
       "      <td>0</td>\n",
       "      <td>0</td>\n",
       "      <td>0</td>\n",
       "      <td>0.0</td>\n",
       "      <td>0.0</td>\n",
       "      <td>0.0</td>\n",
       "      <td>0.0</td>\n",
       "      <td>0.0</td>\n",
       "      <td>2.0</td>\n",
       "      <td>0</td>\n",
       "    </tr>\n",
       "    <tr>\n",
       "      <th>...</th>\n",
       "      <td>...</td>\n",
       "      <td>...</td>\n",
       "      <td>...</td>\n",
       "      <td>...</td>\n",
       "      <td>...</td>\n",
       "      <td>...</td>\n",
       "      <td>...</td>\n",
       "      <td>...</td>\n",
       "      <td>...</td>\n",
       "      <td>...</td>\n",
       "      <td>...</td>\n",
       "      <td>...</td>\n",
       "      <td>...</td>\n",
       "      <td>...</td>\n",
       "      <td>...</td>\n",
       "      <td>...</td>\n",
       "      <td>...</td>\n",
       "      <td>...</td>\n",
       "      <td>...</td>\n",
       "      <td>...</td>\n",
       "      <td>...</td>\n",
       "    </tr>\n",
       "    <tr>\n",
       "      <th>184501</th>\n",
       "      <td>439663</td>\n",
       "      <td>Cash loans</td>\n",
       "      <td>0</td>\n",
       "      <td>N</td>\n",
       "      <td>Y</td>\n",
       "      <td>1</td>\n",
       "      <td>135000.0</td>\n",
       "      <td>143910.0</td>\n",
       "      <td>15498.0</td>\n",
       "      <td>135000.0</td>\n",
       "      <td>...</td>\n",
       "      <td>0</td>\n",
       "      <td>0</td>\n",
       "      <td>0</td>\n",
       "      <td>NaN</td>\n",
       "      <td>NaN</td>\n",
       "      <td>NaN</td>\n",
       "      <td>NaN</td>\n",
       "      <td>NaN</td>\n",
       "      <td>NaN</td>\n",
       "      <td>0</td>\n",
       "    </tr>\n",
       "    <tr>\n",
       "      <th>184502</th>\n",
       "      <td>385689</td>\n",
       "      <td>Revolving loans</td>\n",
       "      <td>0</td>\n",
       "      <td>N</td>\n",
       "      <td>Y</td>\n",
       "      <td>0</td>\n",
       "      <td>202500.0</td>\n",
       "      <td>360000.0</td>\n",
       "      <td>18000.0</td>\n",
       "      <td>360000.0</td>\n",
       "      <td>...</td>\n",
       "      <td>0</td>\n",
       "      <td>0</td>\n",
       "      <td>0</td>\n",
       "      <td>0.0</td>\n",
       "      <td>0.0</td>\n",
       "      <td>0.0</td>\n",
       "      <td>0.0</td>\n",
       "      <td>1.0</td>\n",
       "      <td>0.0</td>\n",
       "      <td>0</td>\n",
       "    </tr>\n",
       "    <tr>\n",
       "      <th>184503</th>\n",
       "      <td>153567</td>\n",
       "      <td>Cash loans</td>\n",
       "      <td>0</td>\n",
       "      <td>N</td>\n",
       "      <td>N</td>\n",
       "      <td>0</td>\n",
       "      <td>135000.0</td>\n",
       "      <td>900000.0</td>\n",
       "      <td>45954.0</td>\n",
       "      <td>900000.0</td>\n",
       "      <td>...</td>\n",
       "      <td>0</td>\n",
       "      <td>0</td>\n",
       "      <td>0</td>\n",
       "      <td>NaN</td>\n",
       "      <td>NaN</td>\n",
       "      <td>NaN</td>\n",
       "      <td>NaN</td>\n",
       "      <td>NaN</td>\n",
       "      <td>NaN</td>\n",
       "      <td>0</td>\n",
       "    </tr>\n",
       "    <tr>\n",
       "      <th>184504</th>\n",
       "      <td>365526</td>\n",
       "      <td>Cash loans</td>\n",
       "      <td>0</td>\n",
       "      <td>N</td>\n",
       "      <td>Y</td>\n",
       "      <td>0</td>\n",
       "      <td>123300.0</td>\n",
       "      <td>744988.5</td>\n",
       "      <td>20484.0</td>\n",
       "      <td>744988.5</td>\n",
       "      <td>...</td>\n",
       "      <td>0</td>\n",
       "      <td>0</td>\n",
       "      <td>0</td>\n",
       "      <td>0.0</td>\n",
       "      <td>0.0</td>\n",
       "      <td>0.0</td>\n",
       "      <td>4.0</td>\n",
       "      <td>0.0</td>\n",
       "      <td>2.0</td>\n",
       "      <td>0</td>\n",
       "    </tr>\n",
       "    <tr>\n",
       "      <th>184505</th>\n",
       "      <td>125605</td>\n",
       "      <td>Cash loans</td>\n",
       "      <td>0</td>\n",
       "      <td>N</td>\n",
       "      <td>Y</td>\n",
       "      <td>0</td>\n",
       "      <td>81000.0</td>\n",
       "      <td>167895.0</td>\n",
       "      <td>17757.0</td>\n",
       "      <td>157500.0</td>\n",
       "      <td>...</td>\n",
       "      <td>0</td>\n",
       "      <td>0</td>\n",
       "      <td>0</td>\n",
       "      <td>0.0</td>\n",
       "      <td>0.0</td>\n",
       "      <td>0.0</td>\n",
       "      <td>0.0</td>\n",
       "      <td>0.0</td>\n",
       "      <td>2.0</td>\n",
       "      <td>0</td>\n",
       "    </tr>\n",
       "  </tbody>\n",
       "</table>\n",
       "<p>184506 rows × 122 columns</p>\n",
       "</div>"
      ],
      "text/plain": [
       "        SK_ID_CURR NAME_CONTRACT_TYPE  CODE_GENDER FLAG_OWN_CAR  \\\n",
       "0           450407         Cash loans            0            N   \n",
       "1           271298         Cash loans            1            Y   \n",
       "2           122238         Cash loans            1            Y   \n",
       "3           305311         Cash loans            1            N   \n",
       "4           414121         Cash loans            0            N   \n",
       "...            ...                ...          ...          ...   \n",
       "184501      439663         Cash loans            0            N   \n",
       "184502      385689    Revolving loans            0            N   \n",
       "184503      153567         Cash loans            0            N   \n",
       "184504      365526         Cash loans            0            N   \n",
       "184505      125605         Cash loans            0            N   \n",
       "\n",
       "       FLAG_OWN_REALTY  CNT_CHILDREN  AMT_INCOME_TOTAL  AMT_CREDIT  \\\n",
       "0                    Y             1           67500.0    227520.0   \n",
       "1                    Y             1          247500.0   1882372.5   \n",
       "2                    Y             1          180000.0    101880.0   \n",
       "3                    N             0           81000.0    405000.0   \n",
       "4                    Y             0          157500.0    888840.0   \n",
       "...                ...           ...               ...         ...   \n",
       "184501               Y             1          135000.0    143910.0   \n",
       "184502               Y             0          202500.0    360000.0   \n",
       "184503               N             0          135000.0    900000.0   \n",
       "184504               Y             0          123300.0    744988.5   \n",
       "184505               Y             0           81000.0    167895.0   \n",
       "\n",
       "        AMT_ANNUITY  AMT_GOODS_PRICE  ... FLAG_DOCUMENT_19 FLAG_DOCUMENT_20  \\\n",
       "0           11065.5         180000.0  ...                0                0   \n",
       "1           65560.5        1719000.0  ...                0                0   \n",
       "2           10827.0          90000.0  ...                0                0   \n",
       "3           20677.5         405000.0  ...                0                0   \n",
       "4           29506.5         675000.0  ...                0                0   \n",
       "...             ...              ...  ...              ...              ...   \n",
       "184501      15498.0         135000.0  ...                0                0   \n",
       "184502      18000.0         360000.0  ...                0                0   \n",
       "184503      45954.0         900000.0  ...                0                0   \n",
       "184504      20484.0         744988.5  ...                0                0   \n",
       "184505      17757.0         157500.0  ...                0                0   \n",
       "\n",
       "       FLAG_DOCUMENT_21 AMT_REQ_CREDIT_BUREAU_HOUR AMT_REQ_CREDIT_BUREAU_DAY  \\\n",
       "0                     0                        0.0                       0.0   \n",
       "1                     0                        0.0                       0.0   \n",
       "2                     0                        0.0                       0.0   \n",
       "3                     0                        0.0                       0.0   \n",
       "4                     0                        0.0                       0.0   \n",
       "...                 ...                        ...                       ...   \n",
       "184501                0                        NaN                       NaN   \n",
       "184502                0                        0.0                       0.0   \n",
       "184503                0                        NaN                       NaN   \n",
       "184504                0                        0.0                       0.0   \n",
       "184505                0                        0.0                       0.0   \n",
       "\n",
       "        AMT_REQ_CREDIT_BUREAU_WEEK  AMT_REQ_CREDIT_BUREAU_MON  \\\n",
       "0                              0.0                        1.0   \n",
       "1                              0.0                        0.0   \n",
       "2                              0.0                        2.0   \n",
       "3                              0.0                        0.0   \n",
       "4                              0.0                        0.0   \n",
       "...                            ...                        ...   \n",
       "184501                         NaN                        NaN   \n",
       "184502                         0.0                        0.0   \n",
       "184503                         NaN                        NaN   \n",
       "184504                         0.0                        4.0   \n",
       "184505                         0.0                        0.0   \n",
       "\n",
       "        AMT_REQ_CREDIT_BUREAU_QRT  AMT_REQ_CREDIT_BUREAU_YEAR  TARGET  \n",
       "0                             0.0                         2.0       0  \n",
       "1                             1.0                         3.0       0  \n",
       "2                             0.0                         1.0       0  \n",
       "3                             0.0                         2.0       0  \n",
       "4                             0.0                         2.0       0  \n",
       "...                           ...                         ...     ...  \n",
       "184501                        NaN                         NaN       0  \n",
       "184502                        1.0                         0.0       0  \n",
       "184503                        NaN                         NaN       0  \n",
       "184504                        0.0                         2.0       0  \n",
       "184505                        0.0                         2.0       0  \n",
       "\n",
       "[184506 rows x 122 columns]"
      ]
     },
     "execution_count": 12,
     "metadata": {},
     "output_type": "execute_result"
    }
   ],
   "source": [
    "df"
   ]
  },
  {
   "cell_type": "markdown",
   "id": "64aaeaa2",
   "metadata": {},
   "source": [
    "## Handling Categorical Feature FLAG_QWN_CAR"
   ]
  },
  {
   "cell_type": "code",
   "execution_count": 13,
   "id": "d251f68f",
   "metadata": {},
   "outputs": [
    {
     "data": {
      "text/plain": [
       "N    121630\n",
       "Y     62876\n",
       "Name: FLAG_OWN_CAR, dtype: int64"
      ]
     },
     "execution_count": 13,
     "metadata": {},
     "output_type": "execute_result"
    }
   ],
   "source": [
    "df['FLAG_OWN_CAR'].value_counts()  ## counting the number of unique values"
   ]
  },
  {
   "cell_type": "code",
   "execution_count": 14,
   "id": "32b715f9",
   "metadata": {},
   "outputs": [
    {
     "data": {
      "text/plain": [
       "0"
      ]
     },
     "execution_count": 14,
     "metadata": {},
     "output_type": "execute_result"
    }
   ],
   "source": [
    "df['FLAG_OWN_CAR'].isna().sum()  ## there are no null values in this column"
   ]
  },
  {
   "cell_type": "code",
   "execution_count": 15,
   "id": "ff7c6f19",
   "metadata": {},
   "outputs": [
    {
     "data": {
      "text/plain": [
       "<AxesSubplot:>"
      ]
     },
     "execution_count": 15,
     "metadata": {},
     "output_type": "execute_result"
    },
    {
     "data": {
      "image/png": "[encoded data removed]",
      "text/plain": [
       "<Figure size 640x480 with 1 Axes>"
      ]
     },
     "metadata": {},
     "output_type": "display_data"
    }
   ],
   "source": [
    "df['FLAG_OWN_CAR'].value_counts().plot(kind='bar')\n",
    "\n",
    "## Here we can observe that most of the people who have taken loan doesnot have the car"
   ]
  },
  {
   "cell_type": "code",
   "execution_count": 16,
   "id": "85d1c70a",
   "metadata": {},
   "outputs": [],
   "source": [
    "df['FLAG_OWN_CAR']=df['FLAG_OWN_CAR'].map({'N':0,'Y':1})"
   ]
  },
  {
   "cell_type": "code",
   "execution_count": 17,
   "id": "850cee50",
   "metadata": {},
   "outputs": [
    {
     "data": {
      "text/html": [
       "<div>\n",
       "<style scoped>\n",
       "    .dataframe tbody tr th:only-of-type {\n",
       "        vertical-align: middle;\n",
       "    }\n",
       "\n",
       "    .dataframe tbody tr th {\n",
       "        vertical-align: top;\n",
       "    }\n",
       "\n",
       "    .dataframe thead th {\n",
       "        text-align: right;\n",
       "    }\n",
       "</style>\n",
       "<table border=\"1\" class=\"dataframe\">\n",
       "  <thead>\n",
       "    <tr style=\"text-align: right;\">\n",
       "      <th></th>\n",
       "      <th>SK_ID_CURR</th>\n",
       "      <th>NAME_CONTRACT_TYPE</th>\n",
       "      <th>CODE_GENDER</th>\n",
       "      <th>FLAG_OWN_CAR</th>\n",
       "      <th>FLAG_OWN_REALTY</th>\n",
       "      <th>CNT_CHILDREN</th>\n",
       "      <th>AMT_INCOME_TOTAL</th>\n",
       "      <th>AMT_CREDIT</th>\n",
       "      <th>AMT_ANNUITY</th>\n",
       "      <th>AMT_GOODS_PRICE</th>\n",
       "      <th>...</th>\n",
       "      <th>FLAG_DOCUMENT_19</th>\n",
       "      <th>FLAG_DOCUMENT_20</th>\n",
       "      <th>FLAG_DOCUMENT_21</th>\n",
       "      <th>AMT_REQ_CREDIT_BUREAU_HOUR</th>\n",
       "      <th>AMT_REQ_CREDIT_BUREAU_DAY</th>\n",
       "      <th>AMT_REQ_CREDIT_BUREAU_WEEK</th>\n",
       "      <th>AMT_REQ_CREDIT_BUREAU_MON</th>\n",
       "      <th>AMT_REQ_CREDIT_BUREAU_QRT</th>\n",
       "      <th>AMT_REQ_CREDIT_BUREAU_YEAR</th>\n",
       "      <th>TARGET</th>\n",
       "    </tr>\n",
       "  </thead>\n",
       "  <tbody>\n",
       "    <tr>\n",
       "      <th>0</th>\n",
       "      <td>450407</td>\n",
       "      <td>Cash loans</td>\n",
       "      <td>0</td>\n",
       "      <td>0</td>\n",
       "      <td>Y</td>\n",
       "      <td>1</td>\n",
       "      <td>67500.0</td>\n",
       "      <td>227520.0</td>\n",
       "      <td>11065.5</td>\n",
       "      <td>180000.0</td>\n",
       "      <td>...</td>\n",
       "      <td>0</td>\n",
       "      <td>0</td>\n",
       "      <td>0</td>\n",
       "      <td>0.0</td>\n",
       "      <td>0.0</td>\n",
       "      <td>0.0</td>\n",
       "      <td>1.0</td>\n",
       "      <td>0.0</td>\n",
       "      <td>2.0</td>\n",
       "      <td>0</td>\n",
       "    </tr>\n",
       "    <tr>\n",
       "      <th>1</th>\n",
       "      <td>271298</td>\n",
       "      <td>Cash loans</td>\n",
       "      <td>1</td>\n",
       "      <td>1</td>\n",
       "      <td>Y</td>\n",
       "      <td>1</td>\n",
       "      <td>247500.0</td>\n",
       "      <td>1882372.5</td>\n",
       "      <td>65560.5</td>\n",
       "      <td>1719000.0</td>\n",
       "      <td>...</td>\n",
       "      <td>0</td>\n",
       "      <td>0</td>\n",
       "      <td>0</td>\n",
       "      <td>0.0</td>\n",
       "      <td>0.0</td>\n",
       "      <td>0.0</td>\n",
       "      <td>0.0</td>\n",
       "      <td>1.0</td>\n",
       "      <td>3.0</td>\n",
       "      <td>0</td>\n",
       "    </tr>\n",
       "    <tr>\n",
       "      <th>2</th>\n",
       "      <td>122238</td>\n",
       "      <td>Cash loans</td>\n",
       "      <td>1</td>\n",
       "      <td>1</td>\n",
       "      <td>Y</td>\n",
       "      <td>1</td>\n",
       "      <td>180000.0</td>\n",
       "      <td>101880.0</td>\n",
       "      <td>10827.0</td>\n",
       "      <td>90000.0</td>\n",
       "      <td>...</td>\n",
       "      <td>0</td>\n",
       "      <td>0</td>\n",
       "      <td>0</td>\n",
       "      <td>0.0</td>\n",
       "      <td>0.0</td>\n",
       "      <td>0.0</td>\n",
       "      <td>2.0</td>\n",
       "      <td>0.0</td>\n",
       "      <td>1.0</td>\n",
       "      <td>0</td>\n",
       "    </tr>\n",
       "    <tr>\n",
       "      <th>3</th>\n",
       "      <td>305311</td>\n",
       "      <td>Cash loans</td>\n",
       "      <td>1</td>\n",
       "      <td>0</td>\n",
       "      <td>N</td>\n",
       "      <td>0</td>\n",
       "      <td>81000.0</td>\n",
       "      <td>405000.0</td>\n",
       "      <td>20677.5</td>\n",
       "      <td>405000.0</td>\n",
       "      <td>...</td>\n",
       "      <td>0</td>\n",
       "      <td>0</td>\n",
       "      <td>0</td>\n",
       "      <td>0.0</td>\n",
       "      <td>0.0</td>\n",
       "      <td>0.0</td>\n",
       "      <td>0.0</td>\n",
       "      <td>0.0</td>\n",
       "      <td>2.0</td>\n",
       "      <td>0</td>\n",
       "    </tr>\n",
       "    <tr>\n",
       "      <th>4</th>\n",
       "      <td>414121</td>\n",
       "      <td>Cash loans</td>\n",
       "      <td>0</td>\n",
       "      <td>0</td>\n",
       "      <td>Y</td>\n",
       "      <td>0</td>\n",
       "      <td>157500.0</td>\n",
       "      <td>888840.0</td>\n",
       "      <td>29506.5</td>\n",
       "      <td>675000.0</td>\n",
       "      <td>...</td>\n",
       "      <td>0</td>\n",
       "      <td>0</td>\n",
       "      <td>0</td>\n",
       "      <td>0.0</td>\n",
       "      <td>0.0</td>\n",
       "      <td>0.0</td>\n",
       "      <td>0.0</td>\n",
       "      <td>0.0</td>\n",
       "      <td>2.0</td>\n",
       "      <td>0</td>\n",
       "    </tr>\n",
       "    <tr>\n",
       "      <th>...</th>\n",
       "      <td>...</td>\n",
       "      <td>...</td>\n",
       "      <td>...</td>\n",
       "      <td>...</td>\n",
       "      <td>...</td>\n",
       "      <td>...</td>\n",
       "      <td>...</td>\n",
       "      <td>...</td>\n",
       "      <td>...</td>\n",
       "      <td>...</td>\n",
       "      <td>...</td>\n",
       "      <td>...</td>\n",
       "      <td>...</td>\n",
       "      <td>...</td>\n",
       "      <td>...</td>\n",
       "      <td>...</td>\n",
       "      <td>...</td>\n",
       "      <td>...</td>\n",
       "      <td>...</td>\n",
       "      <td>...</td>\n",
       "      <td>...</td>\n",
       "    </tr>\n",
       "    <tr>\n",
       "      <th>184501</th>\n",
       "      <td>439663</td>\n",
       "      <td>Cash loans</td>\n",
       "      <td>0</td>\n",
       "      <td>0</td>\n",
       "      <td>Y</td>\n",
       "      <td>1</td>\n",
       "      <td>135000.0</td>\n",
       "      <td>143910.0</td>\n",
       "      <td>15498.0</td>\n",
       "      <td>135000.0</td>\n",
       "      <td>...</td>\n",
       "      <td>0</td>\n",
       "      <td>0</td>\n",
       "      <td>0</td>\n",
       "      <td>NaN</td>\n",
       "      <td>NaN</td>\n",
       "      <td>NaN</td>\n",
       "      <td>NaN</td>\n",
       "      <td>NaN</td>\n",
       "      <td>NaN</td>\n",
       "      <td>0</td>\n",
       "    </tr>\n",
       "    <tr>\n",
       "      <th>184502</th>\n",
       "      <td>385689</td>\n",
       "      <td>Revolving loans</td>\n",
       "      <td>0</td>\n",
       "      <td>0</td>\n",
       "      <td>Y</td>\n",
       "      <td>0</td>\n",
       "      <td>202500.0</td>\n",
       "      <td>360000.0</td>\n",
       "      <td>18000.0</td>\n",
       "      <td>360000.0</td>\n",
       "      <td>...</td>\n",
       "      <td>0</td>\n",
       "      <td>0</td>\n",
       "      <td>0</td>\n",
       "      <td>0.0</td>\n",
       "      <td>0.0</td>\n",
       "      <td>0.0</td>\n",
       "      <td>0.0</td>\n",
       "      <td>1.0</td>\n",
       "      <td>0.0</td>\n",
       "      <td>0</td>\n",
       "    </tr>\n",
       "    <tr>\n",
       "      <th>184503</th>\n",
       "      <td>153567</td>\n",
       "      <td>Cash loans</td>\n",
       "      <td>0</td>\n",
       "      <td>0</td>\n",
       "      <td>N</td>\n",
       "      <td>0</td>\n",
       "      <td>135000.0</td>\n",
       "      <td>900000.0</td>\n",
       "      <td>45954.0</td>\n",
       "      <td>900000.0</td>\n",
       "      <td>...</td>\n",
       "      <td>0</td>\n",
       "      <td>0</td>\n",
       "      <td>0</td>\n",
       "      <td>NaN</td>\n",
       "      <td>NaN</td>\n",
       "      <td>NaN</td>\n",
       "      <td>NaN</td>\n",
       "      <td>NaN</td>\n",
       "      <td>NaN</td>\n",
       "      <td>0</td>\n",
       "    </tr>\n",
       "    <tr>\n",
       "      <th>184504</th>\n",
       "      <td>365526</td>\n",
       "      <td>Cash loans</td>\n",
       "      <td>0</td>\n",
       "      <td>0</td>\n",
       "      <td>Y</td>\n",
       "      <td>0</td>\n",
       "      <td>123300.0</td>\n",
       "      <td>744988.5</td>\n",
       "      <td>20484.0</td>\n",
       "      <td>744988.5</td>\n",
       "      <td>...</td>\n",
       "      <td>0</td>\n",
       "      <td>0</td>\n",
       "      <td>0</td>\n",
       "      <td>0.0</td>\n",
       "      <td>0.0</td>\n",
       "      <td>0.0</td>\n",
       "      <td>4.0</td>\n",
       "      <td>0.0</td>\n",
       "      <td>2.0</td>\n",
       "      <td>0</td>\n",
       "    </tr>\n",
       "    <tr>\n",
       "      <th>184505</th>\n",
       "      <td>125605</td>\n",
       "      <td>Cash loans</td>\n",
       "      <td>0</td>\n",
       "      <td>0</td>\n",
       "      <td>Y</td>\n",
       "      <td>0</td>\n",
       "      <td>81000.0</td>\n",
       "      <td>167895.0</td>\n",
       "      <td>17757.0</td>\n",
       "      <td>157500.0</td>\n",
       "      <td>...</td>\n",
       "      <td>0</td>\n",
       "      <td>0</td>\n",
       "      <td>0</td>\n",
       "      <td>0.0</td>\n",
       "      <td>0.0</td>\n",
       "      <td>0.0</td>\n",
       "      <td>0.0</td>\n",
       "      <td>0.0</td>\n",
       "      <td>2.0</td>\n",
       "      <td>0</td>\n",
       "    </tr>\n",
       "  </tbody>\n",
       "</table>\n",
       "<p>184506 rows × 122 columns</p>\n",
       "</div>"
      ],
      "text/plain": [
       "        SK_ID_CURR NAME_CONTRACT_TYPE  CODE_GENDER  FLAG_OWN_CAR  \\\n",
       "0           450407         Cash loans            0             0   \n",
       "1           271298         Cash loans            1             1   \n",
       "2           122238         Cash loans            1             1   \n",
       "3           305311         Cash loans            1             0   \n",
       "4           414121         Cash loans            0             0   \n",
       "...            ...                ...          ...           ...   \n",
       "184501      439663         Cash loans            0             0   \n",
       "184502      385689    Revolving loans            0             0   \n",
       "184503      153567         Cash loans            0             0   \n",
       "184504      365526         Cash loans            0             0   \n",
       "184505      125605         Cash loans            0             0   \n",
       "\n",
       "       FLAG_OWN_REALTY  CNT_CHILDREN  AMT_INCOME_TOTAL  AMT_CREDIT  \\\n",
       "0                    Y             1           67500.0    227520.0   \n",
       "1                    Y             1          247500.0   1882372.5   \n",
       "2                    Y             1          180000.0    101880.0   \n",
       "3                    N             0           81000.0    405000.0   \n",
       "4                    Y             0          157500.0    888840.0   \n",
       "...                ...           ...               ...         ...   \n",
       "184501               Y             1          135000.0    143910.0   \n",
       "184502               Y             0          202500.0    360000.0   \n",
       "184503               N             0          135000.0    900000.0   \n",
       "184504               Y             0          123300.0    744988.5   \n",
       "184505               Y             0           81000.0    167895.0   \n",
       "\n",
       "        AMT_ANNUITY  AMT_GOODS_PRICE  ... FLAG_DOCUMENT_19 FLAG_DOCUMENT_20  \\\n",
       "0           11065.5         180000.0  ...                0                0   \n",
       "1           65560.5        1719000.0  ...                0                0   \n",
       "2           10827.0          90000.0  ...                0                0   \n",
       "3           20677.5         405000.0  ...                0                0   \n",
       "4           29506.5         675000.0  ...                0                0   \n",
       "...             ...              ...  ...              ...              ...   \n",
       "184501      15498.0         135000.0  ...                0                0   \n",
       "184502      18000.0         360000.0  ...                0                0   \n",
       "184503      45954.0         900000.0  ...                0                0   \n",
       "184504      20484.0         744988.5  ...                0                0   \n",
       "184505      17757.0         157500.0  ...                0                0   \n",
       "\n",
       "       FLAG_DOCUMENT_21 AMT_REQ_CREDIT_BUREAU_HOUR AMT_REQ_CREDIT_BUREAU_DAY  \\\n",
       "0                     0                        0.0                       0.0   \n",
       "1                     0                        0.0                       0.0   \n",
       "2                     0                        0.0                       0.0   \n",
       "3                     0                        0.0                       0.0   \n",
       "4                     0                        0.0                       0.0   \n",
       "...                 ...                        ...                       ...   \n",
       "184501                0                        NaN                       NaN   \n",
       "184502                0                        0.0                       0.0   \n",
       "184503                0                        NaN                       NaN   \n",
       "184504                0                        0.0                       0.0   \n",
       "184505                0                        0.0                       0.0   \n",
       "\n",
       "        AMT_REQ_CREDIT_BUREAU_WEEK  AMT_REQ_CREDIT_BUREAU_MON  \\\n",
       "0                              0.0                        1.0   \n",
       "1                              0.0                        0.0   \n",
       "2                              0.0                        2.0   \n",
       "3                              0.0                        0.0   \n",
       "4                              0.0                        0.0   \n",
       "...                            ...                        ...   \n",
       "184501                         NaN                        NaN   \n",
       "184502                         0.0                        0.0   \n",
       "184503                         NaN                        NaN   \n",
       "184504                         0.0                        4.0   \n",
       "184505                         0.0                        0.0   \n",
       "\n",
       "        AMT_REQ_CREDIT_BUREAU_QRT  AMT_REQ_CREDIT_BUREAU_YEAR  TARGET  \n",
       "0                             0.0                         2.0       0  \n",
       "1                             1.0                         3.0       0  \n",
       "2                             0.0                         1.0       0  \n",
       "3                             0.0                         2.0       0  \n",
       "4                             0.0                         2.0       0  \n",
       "...                           ...                         ...     ...  \n",
       "184501                        NaN                         NaN       0  \n",
       "184502                        1.0                         0.0       0  \n",
       "184503                        NaN                         NaN       0  \n",
       "184504                        0.0                         2.0       0  \n",
       "184505                        0.0                         2.0       0  \n",
       "\n",
       "[184506 rows x 122 columns]"
      ]
     },
     "execution_count": 17,
     "metadata": {},
     "output_type": "execute_result"
    }
   ],
   "source": [
    "df"
   ]
  },
  {
   "cell_type": "markdown",
   "id": "a9a84b2e",
   "metadata": {},
   "source": [
    "## Handling categorical feature FLAG_OWN_REALTY"
   ]
  },
  {
   "cell_type": "code",
   "execution_count": 18,
   "id": "6a64c85b",
   "metadata": {},
   "outputs": [
    {
     "data": {
      "text/plain": [
       "Y    128059\n",
       "N     56447\n",
       "Name: FLAG_OWN_REALTY, dtype: int64"
      ]
     },
     "execution_count": 18,
     "metadata": {},
     "output_type": "execute_result"
    }
   ],
   "source": [
    "df['FLAG_OWN_REALTY'].value_counts()"
   ]
  },
  {
   "cell_type": "code",
   "execution_count": 19,
   "id": "ca57aec2",
   "metadata": {},
   "outputs": [
    {
     "data": {
      "text/plain": [
       "0"
      ]
     },
     "execution_count": 19,
     "metadata": {},
     "output_type": "execute_result"
    }
   ],
   "source": [
    "df['FLAG_OWN_REALTY'].isna().sum()  ## there are no null values in this column"
   ]
  },
  {
   "cell_type": "code",
   "execution_count": 20,
   "id": "b2ad30e4",
   "metadata": {},
   "outputs": [
    {
     "data": {
      "text/plain": [
       "<AxesSubplot:>"
      ]
     },
     "execution_count": 20,
     "metadata": {},
     "output_type": "execute_result"
    },
    {
     "data": {
      "image/png": "[encoded data removed]",
      "text/plain": [
       "<Figure size 640x480 with 1 Axes>"
      ]
     },
     "metadata": {},
     "output_type": "display_data"
    }
   ],
   "source": [
    "df['FLAG_OWN_REALTY'].value_counts().plot(kind='bar')\n",
    "\n",
    "## here we can observe that most of the people taking loan own a property and very few are without a property"
   ]
  },
  {
   "cell_type": "code",
   "execution_count": 21,
   "id": "194a7fdb",
   "metadata": {},
   "outputs": [],
   "source": [
    "df['FLAG_OWN_REALTY']=df['FLAG_OWN_REALTY'].map({'N':0,'Y':1})"
   ]
  },
  {
   "cell_type": "code",
   "execution_count": 22,
   "id": "fa5595fc",
   "metadata": {},
   "outputs": [
    {
     "data": {
      "text/html": [
       "<div>\n",
       "<style scoped>\n",
       "    .dataframe tbody tr th:only-of-type {\n",
       "        vertical-align: middle;\n",
       "    }\n",
       "\n",
       "    .dataframe tbody tr th {\n",
       "        vertical-align: top;\n",
       "    }\n",
       "\n",
       "    .dataframe thead th {\n",
       "        text-align: right;\n",
       "    }\n",
       "</style>\n",
       "<table border=\"1\" class=\"dataframe\">\n",
       "  <thead>\n",
       "    <tr style=\"text-align: right;\">\n",
       "      <th></th>\n",
       "      <th>SK_ID_CURR</th>\n",
       "      <th>NAME_CONTRACT_TYPE</th>\n",
       "      <th>CODE_GENDER</th>\n",
       "      <th>FLAG_OWN_CAR</th>\n",
       "      <th>FLAG_OWN_REALTY</th>\n",
       "      <th>CNT_CHILDREN</th>\n",
       "      <th>AMT_INCOME_TOTAL</th>\n",
       "      <th>AMT_CREDIT</th>\n",
       "      <th>AMT_ANNUITY</th>\n",
       "      <th>AMT_GOODS_PRICE</th>\n",
       "      <th>...</th>\n",
       "      <th>FLAG_DOCUMENT_19</th>\n",
       "      <th>FLAG_DOCUMENT_20</th>\n",
       "      <th>FLAG_DOCUMENT_21</th>\n",
       "      <th>AMT_REQ_CREDIT_BUREAU_HOUR</th>\n",
       "      <th>AMT_REQ_CREDIT_BUREAU_DAY</th>\n",
       "      <th>AMT_REQ_CREDIT_BUREAU_WEEK</th>\n",
       "      <th>AMT_REQ_CREDIT_BUREAU_MON</th>\n",
       "      <th>AMT_REQ_CREDIT_BUREAU_QRT</th>\n",
       "      <th>AMT_REQ_CREDIT_BUREAU_YEAR</th>\n",
       "      <th>TARGET</th>\n",
       "    </tr>\n",
       "  </thead>\n",
       "  <tbody>\n",
       "    <tr>\n",
       "      <th>0</th>\n",
       "      <td>450407</td>\n",
       "      <td>Cash loans</td>\n",
       "      <td>0</td>\n",
       "      <td>0</td>\n",
       "      <td>1</td>\n",
       "      <td>1</td>\n",
       "      <td>67500.0</td>\n",
       "      <td>227520.0</td>\n",
       "      <td>11065.5</td>\n",
       "      <td>180000.0</td>\n",
       "      <td>...</td>\n",
       "      <td>0</td>\n",
       "      <td>0</td>\n",
       "      <td>0</td>\n",
       "      <td>0.0</td>\n",
       "      <td>0.0</td>\n",
       "      <td>0.0</td>\n",
       "      <td>1.0</td>\n",
       "      <td>0.0</td>\n",
       "      <td>2.0</td>\n",
       "      <td>0</td>\n",
       "    </tr>\n",
       "    <tr>\n",
       "      <th>1</th>\n",
       "      <td>271298</td>\n",
       "      <td>Cash loans</td>\n",
       "      <td>1</td>\n",
       "      <td>1</td>\n",
       "      <td>1</td>\n",
       "      <td>1</td>\n",
       "      <td>247500.0</td>\n",
       "      <td>1882372.5</td>\n",
       "      <td>65560.5</td>\n",
       "      <td>1719000.0</td>\n",
       "      <td>...</td>\n",
       "      <td>0</td>\n",
       "      <td>0</td>\n",
       "      <td>0</td>\n",
       "      <td>0.0</td>\n",
       "      <td>0.0</td>\n",
       "      <td>0.0</td>\n",
       "      <td>0.0</td>\n",
       "      <td>1.0</td>\n",
       "      <td>3.0</td>\n",
       "      <td>0</td>\n",
       "    </tr>\n",
       "    <tr>\n",
       "      <th>2</th>\n",
       "      <td>122238</td>\n",
       "      <td>Cash loans</td>\n",
       "      <td>1</td>\n",
       "      <td>1</td>\n",
       "      <td>1</td>\n",
       "      <td>1</td>\n",
       "      <td>180000.0</td>\n",
       "      <td>101880.0</td>\n",
       "      <td>10827.0</td>\n",
       "      <td>90000.0</td>\n",
       "      <td>...</td>\n",
       "      <td>0</td>\n",
       "      <td>0</td>\n",
       "      <td>0</td>\n",
       "      <td>0.0</td>\n",
       "      <td>0.0</td>\n",
       "      <td>0.0</td>\n",
       "      <td>2.0</td>\n",
       "      <td>0.0</td>\n",
       "      <td>1.0</td>\n",
       "      <td>0</td>\n",
       "    </tr>\n",
       "    <tr>\n",
       "      <th>3</th>\n",
       "      <td>305311</td>\n",
       "      <td>Cash loans</td>\n",
       "      <td>1</td>\n",
       "      <td>0</td>\n",
       "      <td>0</td>\n",
       "      <td>0</td>\n",
       "      <td>81000.0</td>\n",
       "      <td>405000.0</td>\n",
       "      <td>20677.5</td>\n",
       "      <td>405000.0</td>\n",
       "      <td>...</td>\n",
       "      <td>0</td>\n",
       "      <td>0</td>\n",
       "      <td>0</td>\n",
       "      <td>0.0</td>\n",
       "      <td>0.0</td>\n",
       "      <td>0.0</td>\n",
       "      <td>0.0</td>\n",
       "      <td>0.0</td>\n",
       "      <td>2.0</td>\n",
       "      <td>0</td>\n",
       "    </tr>\n",
       "    <tr>\n",
       "      <th>4</th>\n",
       "      <td>414121</td>\n",
       "      <td>Cash loans</td>\n",
       "      <td>0</td>\n",
       "      <td>0</td>\n",
       "      <td>1</td>\n",
       "      <td>0</td>\n",
       "      <td>157500.0</td>\n",
       "      <td>888840.0</td>\n",
       "      <td>29506.5</td>\n",
       "      <td>675000.0</td>\n",
       "      <td>...</td>\n",
       "      <td>0</td>\n",
       "      <td>0</td>\n",
       "      <td>0</td>\n",
       "      <td>0.0</td>\n",
       "      <td>0.0</td>\n",
       "      <td>0.0</td>\n",
       "      <td>0.0</td>\n",
       "      <td>0.0</td>\n",
       "      <td>2.0</td>\n",
       "      <td>0</td>\n",
       "    </tr>\n",
       "    <tr>\n",
       "      <th>...</th>\n",
       "      <td>...</td>\n",
       "      <td>...</td>\n",
       "      <td>...</td>\n",
       "      <td>...</td>\n",
       "      <td>...</td>\n",
       "      <td>...</td>\n",
       "      <td>...</td>\n",
       "      <td>...</td>\n",
       "      <td>...</td>\n",
       "      <td>...</td>\n",
       "      <td>...</td>\n",
       "      <td>...</td>\n",
       "      <td>...</td>\n",
       "      <td>...</td>\n",
       "      <td>...</td>\n",
       "      <td>...</td>\n",
       "      <td>...</td>\n",
       "      <td>...</td>\n",
       "      <td>...</td>\n",
       "      <td>...</td>\n",
       "      <td>...</td>\n",
       "    </tr>\n",
       "    <tr>\n",
       "      <th>184501</th>\n",
       "      <td>439663</td>\n",
       "      <td>Cash loans</td>\n",
       "      <td>0</td>\n",
       "      <td>0</td>\n",
       "      <td>1</td>\n",
       "      <td>1</td>\n",
       "      <td>135000.0</td>\n",
       "      <td>143910.0</td>\n",
       "      <td>15498.0</td>\n",
       "      <td>135000.0</td>\n",
       "      <td>...</td>\n",
       "      <td>0</td>\n",
       "      <td>0</td>\n",
       "      <td>0</td>\n",
       "      <td>NaN</td>\n",
       "      <td>NaN</td>\n",
       "      <td>NaN</td>\n",
       "      <td>NaN</td>\n",
       "      <td>NaN</td>\n",
       "      <td>NaN</td>\n",
       "      <td>0</td>\n",
       "    </tr>\n",
       "    <tr>\n",
       "      <th>184502</th>\n",
       "      <td>385689</td>\n",
       "      <td>Revolving loans</td>\n",
       "      <td>0</td>\n",
       "      <td>0</td>\n",
       "      <td>1</td>\n",
       "      <td>0</td>\n",
       "      <td>202500.0</td>\n",
       "      <td>360000.0</td>\n",
       "      <td>18000.0</td>\n",
       "      <td>360000.0</td>\n",
       "      <td>...</td>\n",
       "      <td>0</td>\n",
       "      <td>0</td>\n",
       "      <td>0</td>\n",
       "      <td>0.0</td>\n",
       "      <td>0.0</td>\n",
       "      <td>0.0</td>\n",
       "      <td>0.0</td>\n",
       "      <td>1.0</td>\n",
       "      <td>0.0</td>\n",
       "      <td>0</td>\n",
       "    </tr>\n",
       "    <tr>\n",
       "      <th>184503</th>\n",
       "      <td>153567</td>\n",
       "      <td>Cash loans</td>\n",
       "      <td>0</td>\n",
       "      <td>0</td>\n",
       "      <td>0</td>\n",
       "      <td>0</td>\n",
       "      <td>135000.0</td>\n",
       "      <td>900000.0</td>\n",
       "      <td>45954.0</td>\n",
       "      <td>900000.0</td>\n",
       "      <td>...</td>\n",
       "      <td>0</td>\n",
       "      <td>0</td>\n",
       "      <td>0</td>\n",
       "      <td>NaN</td>\n",
       "      <td>NaN</td>\n",
       "      <td>NaN</td>\n",
       "      <td>NaN</td>\n",
       "      <td>NaN</td>\n",
       "      <td>NaN</td>\n",
       "      <td>0</td>\n",
       "    </tr>\n",
       "    <tr>\n",
       "      <th>184504</th>\n",
       "      <td>365526</td>\n",
       "      <td>Cash loans</td>\n",
       "      <td>0</td>\n",
       "      <td>0</td>\n",
       "      <td>1</td>\n",
       "      <td>0</td>\n",
       "      <td>123300.0</td>\n",
       "      <td>744988.5</td>\n",
       "      <td>20484.0</td>\n",
       "      <td>744988.5</td>\n",
       "      <td>...</td>\n",
       "      <td>0</td>\n",
       "      <td>0</td>\n",
       "      <td>0</td>\n",
       "      <td>0.0</td>\n",
       "      <td>0.0</td>\n",
       "      <td>0.0</td>\n",
       "      <td>4.0</td>\n",
       "      <td>0.0</td>\n",
       "      <td>2.0</td>\n",
       "      <td>0</td>\n",
       "    </tr>\n",
       "    <tr>\n",
       "      <th>184505</th>\n",
       "      <td>125605</td>\n",
       "      <td>Cash loans</td>\n",
       "      <td>0</td>\n",
       "      <td>0</td>\n",
       "      <td>1</td>\n",
       "      <td>0</td>\n",
       "      <td>81000.0</td>\n",
       "      <td>167895.0</td>\n",
       "      <td>17757.0</td>\n",
       "      <td>157500.0</td>\n",
       "      <td>...</td>\n",
       "      <td>0</td>\n",
       "      <td>0</td>\n",
       "      <td>0</td>\n",
       "      <td>0.0</td>\n",
       "      <td>0.0</td>\n",
       "      <td>0.0</td>\n",
       "      <td>0.0</td>\n",
       "      <td>0.0</td>\n",
       "      <td>2.0</td>\n",
       "      <td>0</td>\n",
       "    </tr>\n",
       "  </tbody>\n",
       "</table>\n",
       "<p>184506 rows × 122 columns</p>\n",
       "</div>"
      ],
      "text/plain": [
       "        SK_ID_CURR NAME_CONTRACT_TYPE  CODE_GENDER  FLAG_OWN_CAR  \\\n",
       "0           450407         Cash loans            0             0   \n",
       "1           271298         Cash loans            1             1   \n",
       "2           122238         Cash loans            1             1   \n",
       "3           305311         Cash loans            1             0   \n",
       "4           414121         Cash loans            0             0   \n",
       "...            ...                ...          ...           ...   \n",
       "184501      439663         Cash loans            0             0   \n",
       "184502      385689    Revolving loans            0             0   \n",
       "184503      153567         Cash loans            0             0   \n",
       "184504      365526         Cash loans            0             0   \n",
       "184505      125605         Cash loans            0             0   \n",
       "\n",
       "        FLAG_OWN_REALTY  CNT_CHILDREN  AMT_INCOME_TOTAL  AMT_CREDIT  \\\n",
       "0                     1             1           67500.0    227520.0   \n",
       "1                     1             1          247500.0   1882372.5   \n",
       "2                     1             1          180000.0    101880.0   \n",
       "3                     0             0           81000.0    405000.0   \n",
       "4                     1             0          157500.0    888840.0   \n",
       "...                 ...           ...               ...         ...   \n",
       "184501                1             1          135000.0    143910.0   \n",
       "184502                1             0          202500.0    360000.0   \n",
       "184503                0             0          135000.0    900000.0   \n",
       "184504                1             0          123300.0    744988.5   \n",
       "184505                1             0           81000.0    167895.0   \n",
       "\n",
       "        AMT_ANNUITY  AMT_GOODS_PRICE  ... FLAG_DOCUMENT_19 FLAG_DOCUMENT_20  \\\n",
       "0           11065.5         180000.0  ...                0                0   \n",
       "1           65560.5        1719000.0  ...                0                0   \n",
       "2           10827.0          90000.0  ...                0                0   \n",
       "3           20677.5         405000.0  ...                0                0   \n",
       "4           29506.5         675000.0  ...                0                0   \n",
       "...             ...              ...  ...              ...              ...   \n",
       "184501      15498.0         135000.0  ...                0                0   \n",
       "184502      18000.0         360000.0  ...                0                0   \n",
       "184503      45954.0         900000.0  ...                0                0   \n",
       "184504      20484.0         744988.5  ...                0                0   \n",
       "184505      17757.0         157500.0  ...                0                0   \n",
       "\n",
       "       FLAG_DOCUMENT_21 AMT_REQ_CREDIT_BUREAU_HOUR AMT_REQ_CREDIT_BUREAU_DAY  \\\n",
       "0                     0                        0.0                       0.0   \n",
       "1                     0                        0.0                       0.0   \n",
       "2                     0                        0.0                       0.0   \n",
       "3                     0                        0.0                       0.0   \n",
       "4                     0                        0.0                       0.0   \n",
       "...                 ...                        ...                       ...   \n",
       "184501                0                        NaN                       NaN   \n",
       "184502                0                        0.0                       0.0   \n",
       "184503                0                        NaN                       NaN   \n",
       "184504                0                        0.0                       0.0   \n",
       "184505                0                        0.0                       0.0   \n",
       "\n",
       "        AMT_REQ_CREDIT_BUREAU_WEEK  AMT_REQ_CREDIT_BUREAU_MON  \\\n",
       "0                              0.0                        1.0   \n",
       "1                              0.0                        0.0   \n",
       "2                              0.0                        2.0   \n",
       "3                              0.0                        0.0   \n",
       "4                              0.0                        0.0   \n",
       "...                            ...                        ...   \n",
       "184501                         NaN                        NaN   \n",
       "184502                         0.0                        0.0   \n",
       "184503                         NaN                        NaN   \n",
       "184504                         0.0                        4.0   \n",
       "184505                         0.0                        0.0   \n",
       "\n",
       "        AMT_REQ_CREDIT_BUREAU_QRT  AMT_REQ_CREDIT_BUREAU_YEAR  TARGET  \n",
       "0                             0.0                         2.0       0  \n",
       "1                             1.0                         3.0       0  \n",
       "2                             0.0                         1.0       0  \n",
       "3                             0.0                         2.0       0  \n",
       "4                             0.0                         2.0       0  \n",
       "...                           ...                         ...     ...  \n",
       "184501                        NaN                         NaN       0  \n",
       "184502                        1.0                         0.0       0  \n",
       "184503                        NaN                         NaN       0  \n",
       "184504                        0.0                         2.0       0  \n",
       "184505                        0.0                         2.0       0  \n",
       "\n",
       "[184506 rows x 122 columns]"
      ]
     },
     "execution_count": 22,
     "metadata": {},
     "output_type": "execute_result"
    }
   ],
   "source": [
    "df"
   ]
  },
  {
   "cell_type": "code",
   "execution_count": 23,
   "id": "0560a528",
   "metadata": {},
   "outputs": [
    {
     "name": "stdout",
     "output_type": "stream",
     "text": [
      "<class 'pandas.core.frame.DataFrame'>\n",
      "RangeIndex: 184506 entries, 0 to 184505\n",
      "Columns: 122 entries, SK_ID_CURR to TARGET\n",
      "dtypes: float64(65), int64(44), object(13)\n",
      "memory usage: 171.7+ MB\n"
     ]
    }
   ],
   "source": [
    "df.info()\n",
    "\n",
    "## we have handled here 3 categorical columns"
   ]
  },
  {
   "cell_type": "code",
   "execution_count": 24,
   "id": "fcd406eb",
   "metadata": {},
   "outputs": [
    {
     "name": "stdout",
     "output_type": "stream",
     "text": [
      "NAME_CONTRACT_TYPE\n",
      "NAME_TYPE_SUITE\n",
      "NAME_INCOME_TYPE\n",
      "NAME_EDUCATION_TYPE\n",
      "NAME_FAMILY_STATUS\n",
      "NAME_HOUSING_TYPE\n",
      "OCCUPATION_TYPE\n",
      "WEEKDAY_APPR_PROCESS_START\n",
      "ORGANIZATION_TYPE\n",
      "FONDKAPREMONT_MODE\n",
      "HOUSETYPE_MODE\n",
      "WALLSMATERIAL_MODE\n",
      "EMERGENCYSTATE_MODE\n"
     ]
    }
   ],
   "source": [
    "for col in df:\n",
    "    if(df[col].dtype=='object'):\n",
    "        print(col)"
   ]
  },
  {
   "cell_type": "markdown",
   "id": "3e551e93",
   "metadata": {},
   "source": [
    "## Here we can observe that there are 13 categorical columns left to be handled"
   ]
  },
  {
   "cell_type": "markdown",
   "id": "e6a00ae0",
   "metadata": {},
   "source": [
    "## Handling categorical feature NAME_CONTRACT_TYPE"
   ]
  },
  {
   "cell_type": "code",
   "execution_count": 25,
   "id": "a1fb10f8",
   "metadata": {},
   "outputs": [
    {
     "data": {
      "text/plain": [
       "Cash loans         167013\n",
       "Revolving loans     17493\n",
       "Name: NAME_CONTRACT_TYPE, dtype: int64"
      ]
     },
     "execution_count": 25,
     "metadata": {},
     "output_type": "execute_result"
    }
   ],
   "source": [
    "df['NAME_CONTRACT_TYPE'].value_counts()"
   ]
  },
  {
   "cell_type": "code",
   "execution_count": 26,
   "id": "6b48cd72",
   "metadata": {},
   "outputs": [
    {
     "data": {
      "text/plain": [
       "0"
      ]
     },
     "execution_count": 26,
     "metadata": {},
     "output_type": "execute_result"
    }
   ],
   "source": [
    "df['NAME_CONTRACT_TYPE'].isna().sum() ## here we dont have any null values"
   ]
  },
  {
   "cell_type": "code",
   "execution_count": 27,
   "id": "a7adfbfe",
   "metadata": {},
   "outputs": [
    {
     "data": {
      "text/plain": [
       "<AxesSubplot:>"
      ]
     },
     "execution_count": 27,
     "metadata": {},
     "output_type": "execute_result"
    },
    {
     "data": {
      "image/png": "[encoded data removed]",
      "text/plain": [
       "<Figure size 640x480 with 1 Axes>"
      ]
     },
     "metadata": {},
     "output_type": "display_data"
    }
   ],
   "source": [
    "df['NAME_CONTRACT_TYPE'].value_counts().plot(kind='bar')\n",
    "\n",
    "## we can observe that most of the peope have taken cash loans and very few have taken revolving loan"
   ]
  },
  {
   "cell_type": "code",
   "execution_count": 28,
   "id": "a19b959a",
   "metadata": {},
   "outputs": [],
   "source": [
    "## we will perform one hot encoding on this column"
   ]
  },
  {
   "cell_type": "code",
   "execution_count": 29,
   "id": "6a70f05b",
   "metadata": {},
   "outputs": [
    {
     "data": {
      "text/html": [
       "<div>\n",
       "<style scoped>\n",
       "    .dataframe tbody tr th:only-of-type {\n",
       "        vertical-align: middle;\n",
       "    }\n",
       "\n",
       "    .dataframe tbody tr th {\n",
       "        vertical-align: top;\n",
       "    }\n",
       "\n",
       "    .dataframe thead th {\n",
       "        text-align: right;\n",
       "    }\n",
       "</style>\n",
       "<table border=\"1\" class=\"dataframe\">\n",
       "  <thead>\n",
       "    <tr style=\"text-align: right;\">\n",
       "      <th></th>\n",
       "      <th>Revolving loans</th>\n",
       "    </tr>\n",
       "  </thead>\n",
       "  <tbody>\n",
       "    <tr>\n",
       "      <th>0</th>\n",
       "      <td>0</td>\n",
       "    </tr>\n",
       "    <tr>\n",
       "      <th>1</th>\n",
       "      <td>0</td>\n",
       "    </tr>\n",
       "    <tr>\n",
       "      <th>2</th>\n",
       "      <td>0</td>\n",
       "    </tr>\n",
       "    <tr>\n",
       "      <th>3</th>\n",
       "      <td>0</td>\n",
       "    </tr>\n",
       "    <tr>\n",
       "      <th>4</th>\n",
       "      <td>0</td>\n",
       "    </tr>\n",
       "    <tr>\n",
       "      <th>...</th>\n",
       "      <td>...</td>\n",
       "    </tr>\n",
       "    <tr>\n",
       "      <th>184501</th>\n",
       "      <td>0</td>\n",
       "    </tr>\n",
       "    <tr>\n",
       "      <th>184502</th>\n",
       "      <td>1</td>\n",
       "    </tr>\n",
       "    <tr>\n",
       "      <th>184503</th>\n",
       "      <td>0</td>\n",
       "    </tr>\n",
       "    <tr>\n",
       "      <th>184504</th>\n",
       "      <td>0</td>\n",
       "    </tr>\n",
       "    <tr>\n",
       "      <th>184505</th>\n",
       "      <td>0</td>\n",
       "    </tr>\n",
       "  </tbody>\n",
       "</table>\n",
       "<p>184506 rows × 1 columns</p>\n",
       "</div>"
      ],
      "text/plain": [
       "        Revolving loans\n",
       "0                     0\n",
       "1                     0\n",
       "2                     0\n",
       "3                     0\n",
       "4                     0\n",
       "...                 ...\n",
       "184501                0\n",
       "184502                1\n",
       "184503                0\n",
       "184504                0\n",
       "184505                0\n",
       "\n",
       "[184506 rows x 1 columns]"
      ]
     },
     "execution_count": 29,
     "metadata": {},
     "output_type": "execute_result"
    }
   ],
   "source": [
    "df_1=pd.get_dummies(df['NAME_CONTRACT_TYPE'],drop_first=True)\n",
    "df_1"
   ]
  },
  {
   "cell_type": "code",
   "execution_count": 30,
   "id": "8d950fd2",
   "metadata": {},
   "outputs": [],
   "source": [
    "df=pd.concat([df,df_1],axis=1)"
   ]
  },
  {
   "cell_type": "code",
   "execution_count": 31,
   "id": "0b75c2fa",
   "metadata": {},
   "outputs": [
    {
     "data": {
      "text/plain": [
       "(184506, 123)"
      ]
     },
     "execution_count": 31,
     "metadata": {},
     "output_type": "execute_result"
    }
   ],
   "source": [
    "df.shape"
   ]
  },
  {
   "cell_type": "code",
   "execution_count": 32,
   "id": "73a9b439",
   "metadata": {},
   "outputs": [],
   "source": [
    "df.drop('NAME_CONTRACT_TYPE',axis=1,inplace=True)  \n",
    "\n",
    "## here we have dropped the 'NAME_CONTRACT_TYPE' column because we already have the one hot encoded column\n"
   ]
  },
  {
   "cell_type": "code",
   "execution_count": 33,
   "id": "fcbe7dd5",
   "metadata": {},
   "outputs": [
    {
     "data": {
      "text/plain": [
       "(184506, 122)"
      ]
     },
     "execution_count": 33,
     "metadata": {},
     "output_type": "execute_result"
    }
   ],
   "source": [
    "df.shape"
   ]
  },
  {
   "cell_type": "markdown",
   "id": "9c068f7b",
   "metadata": {},
   "source": [
    "## Handling categorical feature NAME_TYPE_SUITE"
   ]
  },
  {
   "cell_type": "code",
   "execution_count": 34,
   "id": "90b99a8d",
   "metadata": {},
   "outputs": [
    {
     "data": {
      "text/plain": [
       "Unaccompanied      149059\n",
       "Family              24044\n",
       "Spouse, partner      6869\n",
       "Children             1982\n",
       "Other_B              1081\n",
       "Other_A               528\n",
       "Group of people       173\n",
       "Name: NAME_TYPE_SUITE, dtype: int64"
      ]
     },
     "execution_count": 34,
     "metadata": {},
     "output_type": "execute_result"
    }
   ],
   "source": [
    "df['NAME_TYPE_SUITE'].value_counts()\n",
    "## this column tells who accompanied client while he/she went to apply for loan\n",
    "## this information is not much relevant to our model so we can drop this column"
   ]
  },
  {
   "cell_type": "code",
   "execution_count": 35,
   "id": "22a43723",
   "metadata": {},
   "outputs": [
    {
     "data": {
      "text/plain": [
       "<AxesSubplot:>"
      ]
     },
     "execution_count": 35,
     "metadata": {},
     "output_type": "execute_result"
    },
    {
     "data": {
      "image/png": "[encoded data removed]",
      "text/plain": [
       "<Figure size 640x480 with 1 Axes>"
      ]
     },
     "metadata": {},
     "output_type": "display_data"
    }
   ],
   "source": [
    "df['NAME_TYPE_SUITE'].value_counts().plot(kind='bar')"
   ]
  },
  {
   "cell_type": "markdown",
   "id": "b59ee638",
   "metadata": {},
   "source": [
    "## Not much relevant information to our model so we can drop this column"
   ]
  },
  {
   "cell_type": "code",
   "execution_count": 36,
   "id": "dfa5b341",
   "metadata": {},
   "outputs": [],
   "source": [
    "df.drop('NAME_TYPE_SUITE',axis=1,inplace=True)  ## here we dropped this column"
   ]
  },
  {
   "cell_type": "markdown",
   "id": "6c4ba8e4",
   "metadata": {},
   "source": [
    "## Handling categorical feature NAME_INCOME_TYPE"
   ]
  },
  {
   "cell_type": "code",
   "execution_count": 37,
   "id": "04e7acfb",
   "metadata": {},
   "outputs": [
    {
     "data": {
      "text/plain": [
       "Working                 95302\n",
       "Commercial associate    42967\n",
       "Pensioner               33227\n",
       "State servant           12981\n",
       "Unemployed                 15\n",
       "Student                     6\n",
       "Businessman                 6\n",
       "Maternity leave             2\n",
       "Name: NAME_INCOME_TYPE, dtype: int64"
      ]
     },
     "execution_count": 37,
     "metadata": {},
     "output_type": "execute_result"
    }
   ],
   "source": [
    "df['NAME_INCOME_TYPE'].value_counts() \n",
    "## this column is essential because loan is provided based on income"
   ]
  },
  {
   "cell_type": "code",
   "execution_count": 38,
   "id": "7fdb66a7",
   "metadata": {},
   "outputs": [
    {
     "data": {
      "text/plain": [
       "0"
      ]
     },
     "execution_count": 38,
     "metadata": {},
     "output_type": "execute_result"
    }
   ],
   "source": [
    "df['NAME_INCOME_TYPE'].isna().sum()\n",
    "## there are no null values here"
   ]
  },
  {
   "cell_type": "code",
   "execution_count": 39,
   "id": "c4296a99",
   "metadata": {},
   "outputs": [
    {
     "data": {
      "text/plain": [
       "<AxesSubplot:>"
      ]
     },
     "execution_count": 39,
     "metadata": {},
     "output_type": "execute_result"
    },
    {
     "data": {
      "image/png": "[encoded data removed]",
      "text/plain": [
       "<Figure size 640x480 with 1 Axes>"
      ]
     },
     "metadata": {},
     "output_type": "display_data"
    }
   ],
   "source": [
    "df['NAME_INCOME_TYPE'].value_counts().plot(kind='bar')"
   ]
  },
  {
   "cell_type": "markdown",
   "id": "ba2aee92",
   "metadata": {},
   "source": [
    "## Here we can observe that most of the people who take loan are working professionals followed by commercial associate followed by Pensioner -- State servant --Unemployed--Student--Businessman--Maternity leave"
   ]
  },
  {
   "cell_type": "code",
   "execution_count": 40,
   "id": "6f788cb7",
   "metadata": {},
   "outputs": [
    {
     "data": {
      "text/html": [
       "<div>\n",
       "<style scoped>\n",
       "    .dataframe tbody tr th:only-of-type {\n",
       "        vertical-align: middle;\n",
       "    }\n",
       "\n",
       "    .dataframe tbody tr th {\n",
       "        vertical-align: top;\n",
       "    }\n",
       "\n",
       "    .dataframe thead th {\n",
       "        text-align: right;\n",
       "    }\n",
       "</style>\n",
       "<table border=\"1\" class=\"dataframe\">\n",
       "  <thead>\n",
       "    <tr style=\"text-align: right;\">\n",
       "      <th></th>\n",
       "      <th>Commercial associate</th>\n",
       "      <th>Maternity leave</th>\n",
       "      <th>Pensioner</th>\n",
       "      <th>State servant</th>\n",
       "      <th>Student</th>\n",
       "      <th>Unemployed</th>\n",
       "      <th>Working</th>\n",
       "    </tr>\n",
       "  </thead>\n",
       "  <tbody>\n",
       "    <tr>\n",
       "      <th>0</th>\n",
       "      <td>1</td>\n",
       "      <td>0</td>\n",
       "      <td>0</td>\n",
       "      <td>0</td>\n",
       "      <td>0</td>\n",
       "      <td>0</td>\n",
       "      <td>0</td>\n",
       "    </tr>\n",
       "    <tr>\n",
       "      <th>1</th>\n",
       "      <td>0</td>\n",
       "      <td>0</td>\n",
       "      <td>0</td>\n",
       "      <td>0</td>\n",
       "      <td>0</td>\n",
       "      <td>0</td>\n",
       "      <td>1</td>\n",
       "    </tr>\n",
       "    <tr>\n",
       "      <th>2</th>\n",
       "      <td>0</td>\n",
       "      <td>0</td>\n",
       "      <td>0</td>\n",
       "      <td>0</td>\n",
       "      <td>0</td>\n",
       "      <td>0</td>\n",
       "      <td>1</td>\n",
       "    </tr>\n",
       "    <tr>\n",
       "      <th>3</th>\n",
       "      <td>0</td>\n",
       "      <td>0</td>\n",
       "      <td>0</td>\n",
       "      <td>0</td>\n",
       "      <td>0</td>\n",
       "      <td>0</td>\n",
       "      <td>1</td>\n",
       "    </tr>\n",
       "    <tr>\n",
       "      <th>4</th>\n",
       "      <td>0</td>\n",
       "      <td>0</td>\n",
       "      <td>0</td>\n",
       "      <td>0</td>\n",
       "      <td>0</td>\n",
       "      <td>0</td>\n",
       "      <td>1</td>\n",
       "    </tr>\n",
       "    <tr>\n",
       "      <th>...</th>\n",
       "      <td>...</td>\n",
       "      <td>...</td>\n",
       "      <td>...</td>\n",
       "      <td>...</td>\n",
       "      <td>...</td>\n",
       "      <td>...</td>\n",
       "      <td>...</td>\n",
       "    </tr>\n",
       "    <tr>\n",
       "      <th>184501</th>\n",
       "      <td>0</td>\n",
       "      <td>0</td>\n",
       "      <td>0</td>\n",
       "      <td>0</td>\n",
       "      <td>0</td>\n",
       "      <td>0</td>\n",
       "      <td>1</td>\n",
       "    </tr>\n",
       "    <tr>\n",
       "      <th>184502</th>\n",
       "      <td>0</td>\n",
       "      <td>0</td>\n",
       "      <td>1</td>\n",
       "      <td>0</td>\n",
       "      <td>0</td>\n",
       "      <td>0</td>\n",
       "      <td>0</td>\n",
       "    </tr>\n",
       "    <tr>\n",
       "      <th>184503</th>\n",
       "      <td>1</td>\n",
       "      <td>0</td>\n",
       "      <td>0</td>\n",
       "      <td>0</td>\n",
       "      <td>0</td>\n",
       "      <td>0</td>\n",
       "      <td>0</td>\n",
       "    </tr>\n",
       "    <tr>\n",
       "      <th>184504</th>\n",
       "      <td>0</td>\n",
       "      <td>0</td>\n",
       "      <td>1</td>\n",
       "      <td>0</td>\n",
       "      <td>0</td>\n",
       "      <td>0</td>\n",
       "      <td>0</td>\n",
       "    </tr>\n",
       "    <tr>\n",
       "      <th>184505</th>\n",
       "      <td>0</td>\n",
       "      <td>0</td>\n",
       "      <td>0</td>\n",
       "      <td>0</td>\n",
       "      <td>0</td>\n",
       "      <td>0</td>\n",
       "      <td>1</td>\n",
       "    </tr>\n",
       "  </tbody>\n",
       "</table>\n",
       "<p>184506 rows × 7 columns</p>\n",
       "</div>"
      ],
      "text/plain": [
       "        Commercial associate  Maternity leave  Pensioner  State servant  \\\n",
       "0                          1                0          0              0   \n",
       "1                          0                0          0              0   \n",
       "2                          0                0          0              0   \n",
       "3                          0                0          0              0   \n",
       "4                          0                0          0              0   \n",
       "...                      ...              ...        ...            ...   \n",
       "184501                     0                0          0              0   \n",
       "184502                     0                0          1              0   \n",
       "184503                     1                0          0              0   \n",
       "184504                     0                0          1              0   \n",
       "184505                     0                0          0              0   \n",
       "\n",
       "        Student  Unemployed  Working  \n",
       "0             0           0        0  \n",
       "1             0           0        1  \n",
       "2             0           0        1  \n",
       "3             0           0        1  \n",
       "4             0           0        1  \n",
       "...         ...         ...      ...  \n",
       "184501        0           0        1  \n",
       "184502        0           0        0  \n",
       "184503        0           0        0  \n",
       "184504        0           0        0  \n",
       "184505        0           0        1  \n",
       "\n",
       "[184506 rows x 7 columns]"
      ]
     },
     "execution_count": 40,
     "metadata": {},
     "output_type": "execute_result"
    }
   ],
   "source": [
    "## we will perform one hot encoding\n",
    "\n",
    "df_2=pd.get_dummies(df['NAME_INCOME_TYPE'],drop_first=True)\n",
    "df_2"
   ]
  },
  {
   "cell_type": "code",
   "execution_count": 41,
   "id": "d21b40d3",
   "metadata": {},
   "outputs": [],
   "source": [
    "## merging the above table with original table\n",
    "\n",
    "df=pd.concat([df,df_2],axis=1)\n",
    "\n",
    "## now we will drop the 'NAME_INCOME_TYPE' column"
   ]
  },
  {
   "cell_type": "code",
   "execution_count": 42,
   "id": "4bb638c8",
   "metadata": {},
   "outputs": [],
   "source": [
    "df.drop('NAME_INCOME_TYPE',axis=1,inplace=True)"
   ]
  },
  {
   "cell_type": "code",
   "execution_count": 43,
   "id": "187db27b",
   "metadata": {},
   "outputs": [
    {
     "data": {
      "text/plain": [
       "(184506, 127)"
      ]
     },
     "execution_count": 43,
     "metadata": {},
     "output_type": "execute_result"
    }
   ],
   "source": [
    "df.shape"
   ]
  },
  {
   "cell_type": "markdown",
   "id": "32c035e5",
   "metadata": {},
   "source": [
    "## Handling categorical feature NAME_EDUCATION_TYPE"
   ]
  },
  {
   "cell_type": "code",
   "execution_count": 44,
   "id": "7739e8df",
   "metadata": {},
   "outputs": [
    {
     "data": {
      "text/plain": [
       "Secondary / secondary special    131092\n",
       "Higher education                  44810\n",
       "Incomplete higher                  6179\n",
       "Lower secondary                    2322\n",
       "Academic degree                     103\n",
       "Name: NAME_EDUCATION_TYPE, dtype: int64"
      ]
     },
     "execution_count": 44,
     "metadata": {},
     "output_type": "execute_result"
    }
   ],
   "source": [
    "df['NAME_EDUCATION_TYPE'].value_counts()  ## level of highest education the client has achieved"
   ]
  },
  {
   "cell_type": "code",
   "execution_count": 45,
   "id": "d5ce2f9b",
   "metadata": {},
   "outputs": [
    {
     "data": {
      "text/plain": [
       "0"
      ]
     },
     "execution_count": 45,
     "metadata": {},
     "output_type": "execute_result"
    }
   ],
   "source": [
    "df['NAME_EDUCATION_TYPE'].isna().sum() ## there are no null values in this column"
   ]
  },
  {
   "cell_type": "code",
   "execution_count": 46,
   "id": "a50e1063",
   "metadata": {},
   "outputs": [
    {
     "data": {
      "text/plain": [
       "<AxesSubplot:>"
      ]
     },
     "execution_count": 46,
     "metadata": {},
     "output_type": "execute_result"
    },
    {
     "data": {
      "image/png": "[encoded data removed]",
      "text/plain": [
       "<Figure size 640x480 with 1 Axes>"
      ]
     },
     "metadata": {},
     "output_type": "display_data"
    }
   ],
   "source": [
    "df['NAME_EDUCATION_TYPE'].value_counts().plot(kind='bar')"
   ]
  },
  {
   "cell_type": "markdown",
   "id": "693ea30e",
   "metadata": {},
   "source": [
    "## We can observer that most of clients who took loan have secondary/secondary sepecial education qualification. But we don't have to do anything with the education qualification of the client , so we will drop this column."
   ]
  },
  {
   "cell_type": "code",
   "execution_count": 47,
   "id": "85983e69",
   "metadata": {},
   "outputs": [],
   "source": [
    "df.drop('NAME_EDUCATION_TYPE',axis=1,inplace=True) ## dropped the column"
   ]
  },
  {
   "cell_type": "markdown",
   "id": "d37e598a",
   "metadata": {},
   "source": [
    "## Handling categorical feature NAME_FAMILY_STATUS"
   ]
  },
  {
   "cell_type": "code",
   "execution_count": 48,
   "id": "a4bf33f4",
   "metadata": {},
   "outputs": [
    {
     "data": {
      "text/plain": [
       "Married                 117746\n",
       "Single / not married     27130\n",
       "Civil marriage           18094\n",
       "Separated                11904\n",
       "Widow                     9631\n",
       "Unknown                      1\n",
       "Name: NAME_FAMILY_STATUS, dtype: int64"
      ]
     },
     "execution_count": 48,
     "metadata": {},
     "output_type": "execute_result"
    }
   ],
   "source": [
    "df['NAME_FAMILY_STATUS'].value_counts()  ##gives the family status of the client"
   ]
  },
  {
   "cell_type": "code",
   "execution_count": 49,
   "id": "e890c944",
   "metadata": {},
   "outputs": [
    {
     "data": {
      "text/plain": [
       "0"
      ]
     },
     "execution_count": 49,
     "metadata": {},
     "output_type": "execute_result"
    }
   ],
   "source": [
    "df['NAME_FAMILY_STATUS'].isna().sum() ## there are no null values"
   ]
  },
  {
   "cell_type": "code",
   "execution_count": 50,
   "id": "02b0fbe7",
   "metadata": {},
   "outputs": [],
   "source": [
    "df.drop('NAME_FAMILY_STATUS',axis=1,inplace=True) \n",
    "## decided to drop this column "
   ]
  },
  {
   "cell_type": "code",
   "execution_count": 51,
   "id": "173392e3",
   "metadata": {},
   "outputs": [
    {
     "data": {
      "text/plain": [
       "(184506, 125)"
      ]
     },
     "execution_count": 51,
     "metadata": {},
     "output_type": "execute_result"
    }
   ],
   "source": [
    "df.shape"
   ]
  },
  {
   "cell_type": "markdown",
   "id": "d7b880f2",
   "metadata": {},
   "source": [
    "## Handling categorical feature NAME_HOUSING_TYPE"
   ]
  },
  {
   "cell_type": "code",
   "execution_count": 52,
   "id": "d2950bdf",
   "metadata": {},
   "outputs": [
    {
     "data": {
      "text/plain": [
       "<AxesSubplot:>"
      ]
     },
     "execution_count": 52,
     "metadata": {},
     "output_type": "execute_result"
    },
    {
     "data": {
      "image/png": "[encoded data removed]",
      "text/plain": [
       "<Figure size 640x480 with 1 Axes>"
      ]
     },
     "metadata": {},
     "output_type": "display_data"
    }
   ],
   "source": [
    "df['NAME_HOUSING_TYPE'].value_counts().plot(kind='bar')"
   ]
  },
  {
   "cell_type": "markdown",
   "id": "db46ed02",
   "metadata": {},
   "source": [
    "## We can see that most of the clients who applied for loan own House/apartment and there are very less clients with co-op apartment who applied for loan"
   ]
  },
  {
   "cell_type": "code",
   "execution_count": 53,
   "id": "c21f6941",
   "metadata": {},
   "outputs": [
    {
     "data": {
      "text/plain": [
       "0"
      ]
     },
     "execution_count": 53,
     "metadata": {},
     "output_type": "execute_result"
    }
   ],
   "source": [
    "df['NAME_HOUSING_TYPE'].isna().sum()  ## there are no null values in this column"
   ]
  },
  {
   "cell_type": "code",
   "execution_count": 54,
   "id": "4017fc0c",
   "metadata": {},
   "outputs": [
    {
     "data": {
      "text/html": [
       "<div>\n",
       "<style scoped>\n",
       "    .dataframe tbody tr th:only-of-type {\n",
       "        vertical-align: middle;\n",
       "    }\n",
       "\n",
       "    .dataframe tbody tr th {\n",
       "        vertical-align: top;\n",
       "    }\n",
       "\n",
       "    .dataframe thead th {\n",
       "        text-align: right;\n",
       "    }\n",
       "</style>\n",
       "<table border=\"1\" class=\"dataframe\">\n",
       "  <thead>\n",
       "    <tr style=\"text-align: right;\">\n",
       "      <th></th>\n",
       "      <th>House / apartment</th>\n",
       "      <th>Municipal apartment</th>\n",
       "      <th>Office apartment</th>\n",
       "      <th>Rented apartment</th>\n",
       "      <th>With parents</th>\n",
       "    </tr>\n",
       "  </thead>\n",
       "  <tbody>\n",
       "    <tr>\n",
       "      <th>0</th>\n",
       "      <td>1</td>\n",
       "      <td>0</td>\n",
       "      <td>0</td>\n",
       "      <td>0</td>\n",
       "      <td>0</td>\n",
       "    </tr>\n",
       "    <tr>\n",
       "      <th>1</th>\n",
       "      <td>1</td>\n",
       "      <td>0</td>\n",
       "      <td>0</td>\n",
       "      <td>0</td>\n",
       "      <td>0</td>\n",
       "    </tr>\n",
       "    <tr>\n",
       "      <th>2</th>\n",
       "      <td>1</td>\n",
       "      <td>0</td>\n",
       "      <td>0</td>\n",
       "      <td>0</td>\n",
       "      <td>0</td>\n",
       "    </tr>\n",
       "    <tr>\n",
       "      <th>3</th>\n",
       "      <td>0</td>\n",
       "      <td>0</td>\n",
       "      <td>0</td>\n",
       "      <td>0</td>\n",
       "      <td>1</td>\n",
       "    </tr>\n",
       "    <tr>\n",
       "      <th>4</th>\n",
       "      <td>1</td>\n",
       "      <td>0</td>\n",
       "      <td>0</td>\n",
       "      <td>0</td>\n",
       "      <td>0</td>\n",
       "    </tr>\n",
       "    <tr>\n",
       "      <th>...</th>\n",
       "      <td>...</td>\n",
       "      <td>...</td>\n",
       "      <td>...</td>\n",
       "      <td>...</td>\n",
       "      <td>...</td>\n",
       "    </tr>\n",
       "    <tr>\n",
       "      <th>184501</th>\n",
       "      <td>1</td>\n",
       "      <td>0</td>\n",
       "      <td>0</td>\n",
       "      <td>0</td>\n",
       "      <td>0</td>\n",
       "    </tr>\n",
       "    <tr>\n",
       "      <th>184502</th>\n",
       "      <td>1</td>\n",
       "      <td>0</td>\n",
       "      <td>0</td>\n",
       "      <td>0</td>\n",
       "      <td>0</td>\n",
       "    </tr>\n",
       "    <tr>\n",
       "      <th>184503</th>\n",
       "      <td>0</td>\n",
       "      <td>0</td>\n",
       "      <td>0</td>\n",
       "      <td>0</td>\n",
       "      <td>1</td>\n",
       "    </tr>\n",
       "    <tr>\n",
       "      <th>184504</th>\n",
       "      <td>1</td>\n",
       "      <td>0</td>\n",
       "      <td>0</td>\n",
       "      <td>0</td>\n",
       "      <td>0</td>\n",
       "    </tr>\n",
       "    <tr>\n",
       "      <th>184505</th>\n",
       "      <td>1</td>\n",
       "      <td>0</td>\n",
       "      <td>0</td>\n",
       "      <td>0</td>\n",
       "      <td>0</td>\n",
       "    </tr>\n",
       "  </tbody>\n",
       "</table>\n",
       "<p>184506 rows × 5 columns</p>\n",
       "</div>"
      ],
      "text/plain": [
       "        House / apartment  Municipal apartment  Office apartment  \\\n",
       "0                       1                    0                 0   \n",
       "1                       1                    0                 0   \n",
       "2                       1                    0                 0   \n",
       "3                       0                    0                 0   \n",
       "4                       1                    0                 0   \n",
       "...                   ...                  ...               ...   \n",
       "184501                  1                    0                 0   \n",
       "184502                  1                    0                 0   \n",
       "184503                  0                    0                 0   \n",
       "184504                  1                    0                 0   \n",
       "184505                  1                    0                 0   \n",
       "\n",
       "        Rented apartment  With parents  \n",
       "0                      0             0  \n",
       "1                      0             0  \n",
       "2                      0             0  \n",
       "3                      0             1  \n",
       "4                      0             0  \n",
       "...                  ...           ...  \n",
       "184501                 0             0  \n",
       "184502                 0             0  \n",
       "184503                 0             1  \n",
       "184504                 0             0  \n",
       "184505                 0             0  \n",
       "\n",
       "[184506 rows x 5 columns]"
      ]
     },
     "execution_count": 54,
     "metadata": {},
     "output_type": "execute_result"
    }
   ],
   "source": [
    "## we will one hot encode this column because it kind of represents the status of client\n",
    "\n",
    "df_2=pd.get_dummies(df['NAME_HOUSING_TYPE'],drop_first=True)\n",
    "df_2"
   ]
  },
  {
   "cell_type": "code",
   "execution_count": 55,
   "id": "8dbe3066",
   "metadata": {},
   "outputs": [],
   "source": [
    "df=pd.concat([df,df_2],axis=1)"
   ]
  },
  {
   "cell_type": "code",
   "execution_count": 56,
   "id": "1d5abaa6",
   "metadata": {},
   "outputs": [],
   "source": [
    "df.drop('NAME_HOUSING_TYPE',axis=1,inplace=True)"
   ]
  },
  {
   "cell_type": "code",
   "execution_count": 57,
   "id": "8f711c2f",
   "metadata": {},
   "outputs": [
    {
     "data": {
      "text/plain": [
       "(184506, 129)"
      ]
     },
     "execution_count": 57,
     "metadata": {},
     "output_type": "execute_result"
    }
   ],
   "source": [
    "df.shape"
   ]
  },
  {
   "cell_type": "markdown",
   "id": "debed357",
   "metadata": {},
   "source": [
    "## Handling categorical feature OCCUPATION_TYPE"
   ]
  },
  {
   "cell_type": "code",
   "execution_count": 58,
   "id": "55eaeb4a",
   "metadata": {},
   "outputs": [
    {
     "data": {
      "text/plain": [
       "<AxesSubplot:>"
      ]
     },
     "execution_count": 58,
     "metadata": {},
     "output_type": "execute_result"
    },
    {
     "data": {
      "image/png": "[encoded data removed]",
      "text/plain": [
       "<Figure size 640x480 with 1 Axes>"
      ]
     },
     "metadata": {},
     "output_type": "display_data"
    }
   ],
   "source": [
    "df['OCCUPATION_TYPE'].value_counts().plot(kind='bar')"
   ]
  },
  {
   "cell_type": "markdown",
   "id": "93830dc8",
   "metadata": {},
   "source": [
    "## Most of the people who took loan are laborers"
   ]
  },
  {
   "cell_type": "code",
   "execution_count": 59,
   "id": "fc3766a7",
   "metadata": {},
   "outputs": [
    {
     "data": {
      "text/plain": [
       "57867"
      ]
     },
     "execution_count": 59,
     "metadata": {},
     "output_type": "execute_result"
    }
   ],
   "source": [
    "df['OCCUPATION_TYPE'].isna().sum()  ## there are 96391 NULL values in this column"
   ]
  },
  {
   "cell_type": "code",
   "execution_count": 60,
   "id": "5166fab9",
   "metadata": {},
   "outputs": [],
   "source": [
    "df_2=pd.get_dummies(df['OCCUPATION_TYPE'],drop_first=True)\n",
    "df=pd.concat([df,df_2],axis=1)\n",
    "df.drop('OCCUPATION_TYPE',axis=1,inplace=True)\n",
    "\n",
    "\n",
    "## we performed one hot encoding on this column "
   ]
  },
  {
   "cell_type": "code",
   "execution_count": 61,
   "id": "8cea98b1",
   "metadata": {},
   "outputs": [
    {
     "data": {
      "text/plain": [
       "(184506, 145)"
      ]
     },
     "execution_count": 61,
     "metadata": {},
     "output_type": "execute_result"
    }
   ],
   "source": [
    "df.shape"
   ]
  },
  {
   "cell_type": "markdown",
   "id": "f80e0a20",
   "metadata": {},
   "source": [
    "## Handling categorical feature 'WEEKDAY_APPR_PROCESS_START'"
   ]
  },
  {
   "cell_type": "code",
   "execution_count": 62,
   "id": "5482771f",
   "metadata": {},
   "outputs": [
    {
     "data": {
      "text/plain": [
       "<AxesSubplot:>"
      ]
     },
     "execution_count": 62,
     "metadata": {},
     "output_type": "execute_result"
    },
    {
     "data": {
      "image/png": "[encoded data removed]",
      "text/plain": [
       "<Figure size 640x480 with 1 Axes>"
      ]
     },
     "metadata": {},
     "output_type": "display_data"
    }
   ],
   "source": [
    "df['WEEKDAY_APPR_PROCESS_START'].value_counts().plot(kind='bar')"
   ]
  },
  {
   "cell_type": "markdown",
   "id": "a81fa650",
   "metadata": {},
   "source": [
    "## we cab observe that the most of the clients applied for loan was on Tuesday, this data is totally irrelevant to our model so we will drop this column"
   ]
  },
  {
   "cell_type": "code",
   "execution_count": 63,
   "id": "9f78189d",
   "metadata": {},
   "outputs": [],
   "source": [
    "df.drop('WEEKDAY_APPR_PROCESS_START',axis=1,inplace=True)"
   ]
  },
  {
   "cell_type": "markdown",
   "id": "41ace872",
   "metadata": {},
   "source": [
    " ## Handling categorical feature ORGANIZATION_TYPE"
   ]
  },
  {
   "cell_type": "code",
   "execution_count": 64,
   "id": "fe64d0ad",
   "metadata": {},
   "outputs": [
    {
     "data": {
      "text/plain": [
       "Business Entity Type 3    40943\n",
       "XNA                       33236\n",
       "Self-employed             22877\n",
       "Other                      9961\n",
       "Medicine                   6752\n",
       "Business Entity Type 2     6332\n",
       "Government                 6225\n",
       "School                     5303\n",
       "Trade: type 7              4692\n",
       "Kindergarten               4150\n",
       "Construction               4075\n",
       "Business Entity Type 1     3529\n",
       "Transport: type 4          3228\n",
       "Trade: type 3              2093\n",
       "Industry: type 3           2011\n",
       "Security                   1993\n",
       "Industry: type 9           1983\n",
       "Housing                    1786\n",
       "Industry: type 11          1613\n",
       "Military                   1548\n",
       "Bank                       1493\n",
       "Agriculture                1439\n",
       "Police                     1406\n",
       "Transport: type 2          1347\n",
       "Postal                     1311\n",
       "Security Ministries        1205\n",
       "Trade: type 2              1200\n",
       "Restaurant                 1094\n",
       "Services                    944\n",
       "University                  793\n",
       "Industry: type 7            777\n",
       "Transport: type 3           722\n",
       "Industry: type 1            617\n",
       "Hotel                       580\n",
       "Electricity                 560\n",
       "Industry: type 4            520\n",
       "Trade: type 6               395\n",
       "Insurance                   386\n",
       "Industry: type 5            350\n",
       "Telecom                     344\n",
       "Emergency                   329\n",
       "Advertising                 264\n",
       "Industry: type 2            260\n",
       "Realtor                     236\n",
       "Culture                     228\n",
       "Industry: type 12           221\n",
       "Trade: type 1               220\n",
       "Mobile                      189\n",
       "Legal Services              180\n",
       "Cleaning                    143\n",
       "Transport: type 1           109\n",
       "Religion                     63\n",
       "Industry: type 10            63\n",
       "Industry: type 6             63\n",
       "Industry: type 13            43\n",
       "Trade: type 4                39\n",
       "Trade: type 5                31\n",
       "Industry: type 8             12\n",
       "Name: ORGANIZATION_TYPE, dtype: int64"
      ]
     },
     "execution_count": 64,
     "metadata": {},
     "output_type": "execute_result"
    }
   ],
   "source": [
    "df['ORGANIZATION_TYPE'].value_counts()"
   ]
  },
  {
   "cell_type": "code",
   "execution_count": 65,
   "id": "2ab953f3",
   "metadata": {},
   "outputs": [
    {
     "data": {
      "text/plain": [
       "0"
      ]
     },
     "execution_count": 65,
     "metadata": {},
     "output_type": "execute_result"
    }
   ],
   "source": [
    "df['ORGANIZATION_TYPE'].isna().sum() ## there are no null values"
   ]
  },
  {
   "cell_type": "code",
   "execution_count": 66,
   "id": "fbc2b71a",
   "metadata": {},
   "outputs": [
    {
     "data": {
      "text/html": [
       "<div>\n",
       "<style scoped>\n",
       "    .dataframe tbody tr th:only-of-type {\n",
       "        vertical-align: middle;\n",
       "    }\n",
       "\n",
       "    .dataframe tbody tr th {\n",
       "        vertical-align: top;\n",
       "    }\n",
       "\n",
       "    .dataframe thead th {\n",
       "        text-align: right;\n",
       "    }\n",
       "</style>\n",
       "<table border=\"1\" class=\"dataframe\">\n",
       "  <thead>\n",
       "    <tr style=\"text-align: right;\">\n",
       "      <th></th>\n",
       "      <th>Agriculture</th>\n",
       "      <th>Bank</th>\n",
       "      <th>Business Entity Type 1</th>\n",
       "      <th>Business Entity Type 2</th>\n",
       "      <th>Business Entity Type 3</th>\n",
       "      <th>Cleaning</th>\n",
       "      <th>Construction</th>\n",
       "      <th>Culture</th>\n",
       "      <th>Electricity</th>\n",
       "      <th>Emergency</th>\n",
       "      <th>...</th>\n",
       "      <th>Trade: type 4</th>\n",
       "      <th>Trade: type 5</th>\n",
       "      <th>Trade: type 6</th>\n",
       "      <th>Trade: type 7</th>\n",
       "      <th>Transport: type 1</th>\n",
       "      <th>Transport: type 2</th>\n",
       "      <th>Transport: type 3</th>\n",
       "      <th>Transport: type 4</th>\n",
       "      <th>University</th>\n",
       "      <th>XNA</th>\n",
       "    </tr>\n",
       "  </thead>\n",
       "  <tbody>\n",
       "    <tr>\n",
       "      <th>0</th>\n",
       "      <td>0</td>\n",
       "      <td>0</td>\n",
       "      <td>0</td>\n",
       "      <td>0</td>\n",
       "      <td>1</td>\n",
       "      <td>0</td>\n",
       "      <td>0</td>\n",
       "      <td>0</td>\n",
       "      <td>0</td>\n",
       "      <td>0</td>\n",
       "      <td>...</td>\n",
       "      <td>0</td>\n",
       "      <td>0</td>\n",
       "      <td>0</td>\n",
       "      <td>0</td>\n",
       "      <td>0</td>\n",
       "      <td>0</td>\n",
       "      <td>0</td>\n",
       "      <td>0</td>\n",
       "      <td>0</td>\n",
       "      <td>0</td>\n",
       "    </tr>\n",
       "    <tr>\n",
       "      <th>1</th>\n",
       "      <td>0</td>\n",
       "      <td>0</td>\n",
       "      <td>0</td>\n",
       "      <td>0</td>\n",
       "      <td>1</td>\n",
       "      <td>0</td>\n",
       "      <td>0</td>\n",
       "      <td>0</td>\n",
       "      <td>0</td>\n",
       "      <td>0</td>\n",
       "      <td>...</td>\n",
       "      <td>0</td>\n",
       "      <td>0</td>\n",
       "      <td>0</td>\n",
       "      <td>0</td>\n",
       "      <td>0</td>\n",
       "      <td>0</td>\n",
       "      <td>0</td>\n",
       "      <td>0</td>\n",
       "      <td>0</td>\n",
       "      <td>0</td>\n",
       "    </tr>\n",
       "    <tr>\n",
       "      <th>2</th>\n",
       "      <td>0</td>\n",
       "      <td>0</td>\n",
       "      <td>0</td>\n",
       "      <td>0</td>\n",
       "      <td>0</td>\n",
       "      <td>0</td>\n",
       "      <td>0</td>\n",
       "      <td>0</td>\n",
       "      <td>0</td>\n",
       "      <td>0</td>\n",
       "      <td>...</td>\n",
       "      <td>0</td>\n",
       "      <td>0</td>\n",
       "      <td>0</td>\n",
       "      <td>0</td>\n",
       "      <td>0</td>\n",
       "      <td>0</td>\n",
       "      <td>0</td>\n",
       "      <td>1</td>\n",
       "      <td>0</td>\n",
       "      <td>0</td>\n",
       "    </tr>\n",
       "    <tr>\n",
       "      <th>3</th>\n",
       "      <td>0</td>\n",
       "      <td>0</td>\n",
       "      <td>0</td>\n",
       "      <td>0</td>\n",
       "      <td>0</td>\n",
       "      <td>0</td>\n",
       "      <td>0</td>\n",
       "      <td>0</td>\n",
       "      <td>0</td>\n",
       "      <td>0</td>\n",
       "      <td>...</td>\n",
       "      <td>0</td>\n",
       "      <td>0</td>\n",
       "      <td>0</td>\n",
       "      <td>0</td>\n",
       "      <td>0</td>\n",
       "      <td>0</td>\n",
       "      <td>0</td>\n",
       "      <td>0</td>\n",
       "      <td>0</td>\n",
       "      <td>0</td>\n",
       "    </tr>\n",
       "    <tr>\n",
       "      <th>4</th>\n",
       "      <td>0</td>\n",
       "      <td>0</td>\n",
       "      <td>0</td>\n",
       "      <td>0</td>\n",
       "      <td>1</td>\n",
       "      <td>0</td>\n",
       "      <td>0</td>\n",
       "      <td>0</td>\n",
       "      <td>0</td>\n",
       "      <td>0</td>\n",
       "      <td>...</td>\n",
       "      <td>0</td>\n",
       "      <td>0</td>\n",
       "      <td>0</td>\n",
       "      <td>0</td>\n",
       "      <td>0</td>\n",
       "      <td>0</td>\n",
       "      <td>0</td>\n",
       "      <td>0</td>\n",
       "      <td>0</td>\n",
       "      <td>0</td>\n",
       "    </tr>\n",
       "    <tr>\n",
       "      <th>...</th>\n",
       "      <td>...</td>\n",
       "      <td>...</td>\n",
       "      <td>...</td>\n",
       "      <td>...</td>\n",
       "      <td>...</td>\n",
       "      <td>...</td>\n",
       "      <td>...</td>\n",
       "      <td>...</td>\n",
       "      <td>...</td>\n",
       "      <td>...</td>\n",
       "      <td>...</td>\n",
       "      <td>...</td>\n",
       "      <td>...</td>\n",
       "      <td>...</td>\n",
       "      <td>...</td>\n",
       "      <td>...</td>\n",
       "      <td>...</td>\n",
       "      <td>...</td>\n",
       "      <td>...</td>\n",
       "      <td>...</td>\n",
       "      <td>...</td>\n",
       "    </tr>\n",
       "    <tr>\n",
       "      <th>184501</th>\n",
       "      <td>0</td>\n",
       "      <td>0</td>\n",
       "      <td>0</td>\n",
       "      <td>0</td>\n",
       "      <td>0</td>\n",
       "      <td>0</td>\n",
       "      <td>1</td>\n",
       "      <td>0</td>\n",
       "      <td>0</td>\n",
       "      <td>0</td>\n",
       "      <td>...</td>\n",
       "      <td>0</td>\n",
       "      <td>0</td>\n",
       "      <td>0</td>\n",
       "      <td>0</td>\n",
       "      <td>0</td>\n",
       "      <td>0</td>\n",
       "      <td>0</td>\n",
       "      <td>0</td>\n",
       "      <td>0</td>\n",
       "      <td>0</td>\n",
       "    </tr>\n",
       "    <tr>\n",
       "      <th>184502</th>\n",
       "      <td>0</td>\n",
       "      <td>0</td>\n",
       "      <td>0</td>\n",
       "      <td>0</td>\n",
       "      <td>0</td>\n",
       "      <td>0</td>\n",
       "      <td>0</td>\n",
       "      <td>0</td>\n",
       "      <td>0</td>\n",
       "      <td>0</td>\n",
       "      <td>...</td>\n",
       "      <td>0</td>\n",
       "      <td>0</td>\n",
       "      <td>0</td>\n",
       "      <td>0</td>\n",
       "      <td>0</td>\n",
       "      <td>0</td>\n",
       "      <td>0</td>\n",
       "      <td>0</td>\n",
       "      <td>0</td>\n",
       "      <td>1</td>\n",
       "    </tr>\n",
       "    <tr>\n",
       "      <th>184503</th>\n",
       "      <td>0</td>\n",
       "      <td>0</td>\n",
       "      <td>0</td>\n",
       "      <td>0</td>\n",
       "      <td>0</td>\n",
       "      <td>0</td>\n",
       "      <td>0</td>\n",
       "      <td>0</td>\n",
       "      <td>0</td>\n",
       "      <td>0</td>\n",
       "      <td>...</td>\n",
       "      <td>0</td>\n",
       "      <td>0</td>\n",
       "      <td>0</td>\n",
       "      <td>0</td>\n",
       "      <td>0</td>\n",
       "      <td>0</td>\n",
       "      <td>0</td>\n",
       "      <td>0</td>\n",
       "      <td>0</td>\n",
       "      <td>0</td>\n",
       "    </tr>\n",
       "    <tr>\n",
       "      <th>184504</th>\n",
       "      <td>0</td>\n",
       "      <td>0</td>\n",
       "      <td>0</td>\n",
       "      <td>0</td>\n",
       "      <td>0</td>\n",
       "      <td>0</td>\n",
       "      <td>0</td>\n",
       "      <td>0</td>\n",
       "      <td>0</td>\n",
       "      <td>0</td>\n",
       "      <td>...</td>\n",
       "      <td>0</td>\n",
       "      <td>0</td>\n",
       "      <td>0</td>\n",
       "      <td>0</td>\n",
       "      <td>0</td>\n",
       "      <td>0</td>\n",
       "      <td>0</td>\n",
       "      <td>0</td>\n",
       "      <td>0</td>\n",
       "      <td>1</td>\n",
       "    </tr>\n",
       "    <tr>\n",
       "      <th>184505</th>\n",
       "      <td>0</td>\n",
       "      <td>0</td>\n",
       "      <td>0</td>\n",
       "      <td>0</td>\n",
       "      <td>0</td>\n",
       "      <td>0</td>\n",
       "      <td>0</td>\n",
       "      <td>0</td>\n",
       "      <td>0</td>\n",
       "      <td>0</td>\n",
       "      <td>...</td>\n",
       "      <td>0</td>\n",
       "      <td>0</td>\n",
       "      <td>0</td>\n",
       "      <td>0</td>\n",
       "      <td>0</td>\n",
       "      <td>0</td>\n",
       "      <td>0</td>\n",
       "      <td>0</td>\n",
       "      <td>0</td>\n",
       "      <td>0</td>\n",
       "    </tr>\n",
       "  </tbody>\n",
       "</table>\n",
       "<p>184506 rows × 57 columns</p>\n",
       "</div>"
      ],
      "text/plain": [
       "        Agriculture  Bank  Business Entity Type 1  Business Entity Type 2  \\\n",
       "0                 0     0                       0                       0   \n",
       "1                 0     0                       0                       0   \n",
       "2                 0     0                       0                       0   \n",
       "3                 0     0                       0                       0   \n",
       "4                 0     0                       0                       0   \n",
       "...             ...   ...                     ...                     ...   \n",
       "184501            0     0                       0                       0   \n",
       "184502            0     0                       0                       0   \n",
       "184503            0     0                       0                       0   \n",
       "184504            0     0                       0                       0   \n",
       "184505            0     0                       0                       0   \n",
       "\n",
       "        Business Entity Type 3  Cleaning  Construction  Culture  Electricity  \\\n",
       "0                            1         0             0        0            0   \n",
       "1                            1         0             0        0            0   \n",
       "2                            0         0             0        0            0   \n",
       "3                            0         0             0        0            0   \n",
       "4                            1         0             0        0            0   \n",
       "...                        ...       ...           ...      ...          ...   \n",
       "184501                       0         0             1        0            0   \n",
       "184502                       0         0             0        0            0   \n",
       "184503                       0         0             0        0            0   \n",
       "184504                       0         0             0        0            0   \n",
       "184505                       0         0             0        0            0   \n",
       "\n",
       "        Emergency  ...  Trade: type 4  Trade: type 5  Trade: type 6  \\\n",
       "0               0  ...              0              0              0   \n",
       "1               0  ...              0              0              0   \n",
       "2               0  ...              0              0              0   \n",
       "3               0  ...              0              0              0   \n",
       "4               0  ...              0              0              0   \n",
       "...           ...  ...            ...            ...            ...   \n",
       "184501          0  ...              0              0              0   \n",
       "184502          0  ...              0              0              0   \n",
       "184503          0  ...              0              0              0   \n",
       "184504          0  ...              0              0              0   \n",
       "184505          0  ...              0              0              0   \n",
       "\n",
       "        Trade: type 7  Transport: type 1  Transport: type 2  \\\n",
       "0                   0                  0                  0   \n",
       "1                   0                  0                  0   \n",
       "2                   0                  0                  0   \n",
       "3                   0                  0                  0   \n",
       "4                   0                  0                  0   \n",
       "...               ...                ...                ...   \n",
       "184501              0                  0                  0   \n",
       "184502              0                  0                  0   \n",
       "184503              0                  0                  0   \n",
       "184504              0                  0                  0   \n",
       "184505              0                  0                  0   \n",
       "\n",
       "        Transport: type 3  Transport: type 4  University  XNA  \n",
       "0                       0                  0           0    0  \n",
       "1                       0                  0           0    0  \n",
       "2                       0                  1           0    0  \n",
       "3                       0                  0           0    0  \n",
       "4                       0                  0           0    0  \n",
       "...                   ...                ...         ...  ...  \n",
       "184501                  0                  0           0    0  \n",
       "184502                  0                  0           0    1  \n",
       "184503                  0                  0           0    0  \n",
       "184504                  0                  0           0    1  \n",
       "184505                  0                  0           0    0  \n",
       "\n",
       "[184506 rows x 57 columns]"
      ]
     },
     "execution_count": 66,
     "metadata": {},
     "output_type": "execute_result"
    }
   ],
   "source": [
    "df_2=pd.get_dummies(df['ORGANIZATION_TYPE'],drop_first=True)\n",
    "df_2"
   ]
  },
  {
   "cell_type": "code",
   "execution_count": 67,
   "id": "4c6a3e13",
   "metadata": {},
   "outputs": [],
   "source": [
    "df=pd.concat([df,df_2],axis=1)"
   ]
  },
  {
   "cell_type": "code",
   "execution_count": 68,
   "id": "8d4ba80d",
   "metadata": {},
   "outputs": [],
   "source": [
    "df.drop('ORGANIZATION_TYPE',axis=1,inplace=True)"
   ]
  },
  {
   "cell_type": "code",
   "execution_count": 69,
   "id": "7b9948b6",
   "metadata": {},
   "outputs": [
    {
     "data": {
      "text/plain": [
       "(184506, 200)"
      ]
     },
     "execution_count": 69,
     "metadata": {},
     "output_type": "execute_result"
    }
   ],
   "source": [
    "df.shape"
   ]
  },
  {
   "cell_type": "markdown",
   "id": "d47f32e7",
   "metadata": {},
   "source": [
    "## Handling categorical feature FONDKAPREMONT_MODE\n"
   ]
  },
  {
   "cell_type": "code",
   "execution_count": 70,
   "id": "15511906",
   "metadata": {},
   "outputs": [
    {
     "data": {
      "text/plain": [
       "<AxesSubplot:>"
      ]
     },
     "execution_count": 70,
     "metadata": {},
     "output_type": "execute_result"
    },
    {
     "data": {
      "image/png": "[encoded data removed]",
      "text/plain": [
       "<Figure size 640x480 with 1 Axes>"
      ]
     },
     "metadata": {},
     "output_type": "display_data"
    }
   ],
   "source": [
    "df['FONDKAPREMONT_MODE'].value_counts().plot(kind='bar')"
   ]
  },
  {
   "cell_type": "code",
   "execution_count": 71,
   "id": "456d841c",
   "metadata": {},
   "outputs": [
    {
     "data": {
      "text/plain": [
       "126254"
      ]
     },
     "execution_count": 71,
     "metadata": {},
     "output_type": "execute_result"
    }
   ],
   "source": [
    "df['FONDKAPREMONT_MODE'].isna().sum()\n",
    "## there are about 2 lakh null values in this column"
   ]
  },
  {
   "cell_type": "code",
   "execution_count": 72,
   "id": "eae702b7",
   "metadata": {},
   "outputs": [
    {
     "data": {
      "text/html": [
       "<div>\n",
       "<style scoped>\n",
       "    .dataframe tbody tr th:only-of-type {\n",
       "        vertical-align: middle;\n",
       "    }\n",
       "\n",
       "    .dataframe tbody tr th {\n",
       "        vertical-align: top;\n",
       "    }\n",
       "\n",
       "    .dataframe thead th {\n",
       "        text-align: right;\n",
       "    }\n",
       "</style>\n",
       "<table border=\"1\" class=\"dataframe\">\n",
       "  <thead>\n",
       "    <tr style=\"text-align: right;\">\n",
       "      <th></th>\n",
       "      <th>org spec account</th>\n",
       "      <th>reg oper account</th>\n",
       "      <th>reg oper spec account</th>\n",
       "    </tr>\n",
       "  </thead>\n",
       "  <tbody>\n",
       "    <tr>\n",
       "      <th>0</th>\n",
       "      <td>0</td>\n",
       "      <td>0</td>\n",
       "      <td>0</td>\n",
       "    </tr>\n",
       "    <tr>\n",
       "      <th>1</th>\n",
       "      <td>0</td>\n",
       "      <td>0</td>\n",
       "      <td>0</td>\n",
       "    </tr>\n",
       "    <tr>\n",
       "      <th>2</th>\n",
       "      <td>0</td>\n",
       "      <td>1</td>\n",
       "      <td>0</td>\n",
       "    </tr>\n",
       "    <tr>\n",
       "      <th>3</th>\n",
       "      <td>0</td>\n",
       "      <td>0</td>\n",
       "      <td>0</td>\n",
       "    </tr>\n",
       "    <tr>\n",
       "      <th>4</th>\n",
       "      <td>0</td>\n",
       "      <td>0</td>\n",
       "      <td>0</td>\n",
       "    </tr>\n",
       "    <tr>\n",
       "      <th>...</th>\n",
       "      <td>...</td>\n",
       "      <td>...</td>\n",
       "      <td>...</td>\n",
       "    </tr>\n",
       "    <tr>\n",
       "      <th>184501</th>\n",
       "      <td>0</td>\n",
       "      <td>0</td>\n",
       "      <td>0</td>\n",
       "    </tr>\n",
       "    <tr>\n",
       "      <th>184502</th>\n",
       "      <td>0</td>\n",
       "      <td>1</td>\n",
       "      <td>0</td>\n",
       "    </tr>\n",
       "    <tr>\n",
       "      <th>184503</th>\n",
       "      <td>0</td>\n",
       "      <td>0</td>\n",
       "      <td>0</td>\n",
       "    </tr>\n",
       "    <tr>\n",
       "      <th>184504</th>\n",
       "      <td>0</td>\n",
       "      <td>0</td>\n",
       "      <td>0</td>\n",
       "    </tr>\n",
       "    <tr>\n",
       "      <th>184505</th>\n",
       "      <td>0</td>\n",
       "      <td>0</td>\n",
       "      <td>0</td>\n",
       "    </tr>\n",
       "  </tbody>\n",
       "</table>\n",
       "<p>184506 rows × 3 columns</p>\n",
       "</div>"
      ],
      "text/plain": [
       "        org spec account  reg oper account  reg oper spec account\n",
       "0                      0                 0                      0\n",
       "1                      0                 0                      0\n",
       "2                      0                 1                      0\n",
       "3                      0                 0                      0\n",
       "4                      0                 0                      0\n",
       "...                  ...               ...                    ...\n",
       "184501                 0                 0                      0\n",
       "184502                 0                 1                      0\n",
       "184503                 0                 0                      0\n",
       "184504                 0                 0                      0\n",
       "184505                 0                 0                      0\n",
       "\n",
       "[184506 rows x 3 columns]"
      ]
     },
     "execution_count": 72,
     "metadata": {},
     "output_type": "execute_result"
    }
   ],
   "source": [
    "df_2=pd.get_dummies(df['FONDKAPREMONT_MODE'],drop_first=True)\n",
    "df_2"
   ]
  },
  {
   "cell_type": "code",
   "execution_count": 73,
   "id": "d9c197cd",
   "metadata": {},
   "outputs": [],
   "source": [
    "df=pd.concat([df,df_2],axis=1)\n",
    "df.drop('FONDKAPREMONT_MODE',axis=1,inplace=True)\n",
    "\n",
    "## we were not sure about this data so we performed one hot encoding"
   ]
  },
  {
   "cell_type": "code",
   "execution_count": 74,
   "id": "c43c3c62",
   "metadata": {},
   "outputs": [
    {
     "data": {
      "text/plain": [
       "(184506, 202)"
      ]
     },
     "execution_count": 74,
     "metadata": {},
     "output_type": "execute_result"
    }
   ],
   "source": [
    "df.shape"
   ]
  },
  {
   "cell_type": "markdown",
   "id": "d52165d4",
   "metadata": {},
   "source": [
    "## Handling categorical feature HOUSETYPE_MODE"
   ]
  },
  {
   "cell_type": "code",
   "execution_count": 75,
   "id": "13700e50",
   "metadata": {},
   "outputs": [
    {
     "data": {
      "text/plain": [
       "<AxesSubplot:>"
      ]
     },
     "execution_count": 75,
     "metadata": {},
     "output_type": "execute_result"
    },
    {
     "data": {
      "image/png": "[encoded data removed]",
      "text/plain": [
       "<Figure size 640x480 with 1 Axes>"
      ]
     },
     "metadata": {},
     "output_type": "display_data"
    }
   ],
   "source": [
    "df['HOUSETYPE_MODE'].value_counts().plot(kind='bar')"
   ]
  },
  {
   "cell_type": "markdown",
   "id": "b51174c1",
   "metadata": {},
   "source": [
    "## we can observe that most of the clients own block of flats and very less own specific housing or terraced house, also this data can be of use in case of loan."
   ]
  },
  {
   "cell_type": "code",
   "execution_count": 76,
   "id": "203d95d2",
   "metadata": {},
   "outputs": [
    {
     "data": {
      "text/plain": [
       "92482"
      ]
     },
     "execution_count": 76,
     "metadata": {},
     "output_type": "execute_result"
    }
   ],
   "source": [
    "df['HOUSETYPE_MODE'].isna().sum()\n",
    "## we can observe that this column contains about 1.5 lakhs of null values"
   ]
  },
  {
   "cell_type": "code",
   "execution_count": 77,
   "id": "da785f5a",
   "metadata": {},
   "outputs": [],
   "source": [
    "df_2=pd.get_dummies(df['HOUSETYPE_MODE'],drop_first=True)\n",
    "df=pd.concat([df,df_2],axis=1)\n",
    "df.drop('HOUSETYPE_MODE',axis=1,inplace=True)\n",
    "\n",
    "## we performed one hot encoding on this data"
   ]
  },
  {
   "cell_type": "code",
   "execution_count": 78,
   "id": "d1c9099c",
   "metadata": {},
   "outputs": [
    {
     "data": {
      "text/plain": [
       "(184506, 203)"
      ]
     },
     "execution_count": 78,
     "metadata": {},
     "output_type": "execute_result"
    }
   ],
   "source": [
    "df.shape"
   ]
  },
  {
   "cell_type": "markdown",
   "id": "1566a807",
   "metadata": {},
   "source": [
    "## Handling categorical feature WALLSMATERIAL_MODE"
   ]
  },
  {
   "cell_type": "code",
   "execution_count": 79,
   "id": "9363bc40",
   "metadata": {},
   "outputs": [
    {
     "data": {
      "text/plain": [
       "<AxesSubplot:>"
      ]
     },
     "execution_count": 79,
     "metadata": {},
     "output_type": "execute_result"
    },
    {
     "data": {
      "image/png": "[encoded data removed]",
      "text/plain": [
       "<Figure size 640x480 with 1 Axes>"
      ]
     },
     "metadata": {},
     "output_type": "display_data"
    }
   ],
   "source": [
    "df['WALLSMATERIAL_MODE'].value_counts().plot(kind='bar')"
   ]
  },
  {
   "cell_type": "markdown",
   "id": "9f4025c1",
   "metadata": {},
   "source": [
    "## It seems like this is a way too irrelevant data , like why will there be a need for walls material for loan!"
   ]
  },
  {
   "cell_type": "code",
   "execution_count": 80,
   "id": "47e37830",
   "metadata": {},
   "outputs": [],
   "source": [
    "df.drop('WALLSMATERIAL_MODE',axis=1,inplace=True)\n",
    "## we decided to drop this column"
   ]
  },
  {
   "cell_type": "code",
   "execution_count": 81,
   "id": "37e6da94",
   "metadata": {},
   "outputs": [
    {
     "data": {
      "text/plain": [
       "(184506, 202)"
      ]
     },
     "execution_count": 81,
     "metadata": {},
     "output_type": "execute_result"
    }
   ],
   "source": [
    "df.shape"
   ]
  },
  {
   "cell_type": "markdown",
   "id": "5360cc51",
   "metadata": {},
   "source": [
    "## Handling categorical feature EMERGENCYSTATE_MODE"
   ]
  },
  {
   "cell_type": "code",
   "execution_count": 82,
   "id": "97af850a",
   "metadata": {},
   "outputs": [
    {
     "data": {
      "text/plain": [
       "<AxesSubplot:>"
      ]
     },
     "execution_count": 82,
     "metadata": {},
     "output_type": "execute_result"
    },
    {
     "data": {
      "image/png": "[encoded data removed]",
      "text/plain": [
       "<Figure size 640x480 with 1 Axes>"
      ]
     },
     "metadata": {},
     "output_type": "display_data"
    }
   ],
   "source": [
    "df['EMERGENCYSTATE_MODE'].value_counts().plot(kind='bar')"
   ]
  },
  {
   "cell_type": "code",
   "execution_count": 83,
   "id": "2c9e5887",
   "metadata": {},
   "outputs": [
    {
     "data": {
      "text/plain": [
       "87336"
      ]
     },
     "execution_count": 83,
     "metadata": {},
     "output_type": "execute_result"
    }
   ],
   "source": [
    "## checking for null values\n",
    "\n",
    "df['EMERGENCYSTATE_MODE'].isna().sum()\n",
    "\n",
    "## there are around 1.45 lakhs null values in this column"
   ]
  },
  {
   "cell_type": "markdown",
   "id": "3cc574d9",
   "metadata": {},
   "source": [
    "## dropping this column won't affect much on our model so we drop this column"
   ]
  },
  {
   "cell_type": "code",
   "execution_count": 84,
   "id": "caf91883",
   "metadata": {},
   "outputs": [],
   "source": [
    "df.drop('EMERGENCYSTATE_MODE',axis=1,inplace=True)"
   ]
  },
  {
   "cell_type": "code",
   "execution_count": 85,
   "id": "85af6436",
   "metadata": {},
   "outputs": [
    {
     "data": {
      "text/plain": [
       "(184506, 201)"
      ]
     },
     "execution_count": 85,
     "metadata": {},
     "output_type": "execute_result"
    }
   ],
   "source": [
    "df.shape"
   ]
  },
  {
   "cell_type": "markdown",
   "id": "a21f7a33",
   "metadata": {},
   "source": [
    "## All the categorical features are taken care of\n"
   ]
  },
  {
   "cell_type": "code",
   "execution_count": 86,
   "id": "cc79a2ed",
   "metadata": {},
   "outputs": [
    {
     "data": {
      "text/html": [
       "<div>\n",
       "<style scoped>\n",
       "    .dataframe tbody tr th:only-of-type {\n",
       "        vertical-align: middle;\n",
       "    }\n",
       "\n",
       "    .dataframe tbody tr th {\n",
       "        vertical-align: top;\n",
       "    }\n",
       "\n",
       "    .dataframe thead th {\n",
       "        text-align: right;\n",
       "    }\n",
       "</style>\n",
       "<table border=\"1\" class=\"dataframe\">\n",
       "  <thead>\n",
       "    <tr style=\"text-align: right;\">\n",
       "      <th></th>\n",
       "      <th>SK_ID_CURR</th>\n",
       "      <th>CODE_GENDER</th>\n",
       "      <th>FLAG_OWN_CAR</th>\n",
       "      <th>FLAG_OWN_REALTY</th>\n",
       "      <th>CNT_CHILDREN</th>\n",
       "      <th>AMT_INCOME_TOTAL</th>\n",
       "      <th>AMT_CREDIT</th>\n",
       "      <th>AMT_ANNUITY</th>\n",
       "      <th>AMT_GOODS_PRICE</th>\n",
       "      <th>REGION_POPULATION_RELATIVE</th>\n",
       "      <th>...</th>\n",
       "      <th>Transport: type 2</th>\n",
       "      <th>Transport: type 3</th>\n",
       "      <th>Transport: type 4</th>\n",
       "      <th>University</th>\n",
       "      <th>XNA</th>\n",
       "      <th>org spec account</th>\n",
       "      <th>reg oper account</th>\n",
       "      <th>reg oper spec account</th>\n",
       "      <th>specific housing</th>\n",
       "      <th>terraced house</th>\n",
       "    </tr>\n",
       "  </thead>\n",
       "  <tbody>\n",
       "    <tr>\n",
       "      <th>0</th>\n",
       "      <td>450407</td>\n",
       "      <td>0</td>\n",
       "      <td>0</td>\n",
       "      <td>1</td>\n",
       "      <td>1</td>\n",
       "      <td>67500.0</td>\n",
       "      <td>227520.0</td>\n",
       "      <td>11065.5</td>\n",
       "      <td>180000.0</td>\n",
       "      <td>0.018634</td>\n",
       "      <td>...</td>\n",
       "      <td>0</td>\n",
       "      <td>0</td>\n",
       "      <td>0</td>\n",
       "      <td>0</td>\n",
       "      <td>0</td>\n",
       "      <td>0</td>\n",
       "      <td>0</td>\n",
       "      <td>0</td>\n",
       "      <td>0</td>\n",
       "      <td>0</td>\n",
       "    </tr>\n",
       "    <tr>\n",
       "      <th>1</th>\n",
       "      <td>271298</td>\n",
       "      <td>1</td>\n",
       "      <td>1</td>\n",
       "      <td>1</td>\n",
       "      <td>1</td>\n",
       "      <td>247500.0</td>\n",
       "      <td>1882372.5</td>\n",
       "      <td>65560.5</td>\n",
       "      <td>1719000.0</td>\n",
       "      <td>0.018850</td>\n",
       "      <td>...</td>\n",
       "      <td>0</td>\n",
       "      <td>0</td>\n",
       "      <td>0</td>\n",
       "      <td>0</td>\n",
       "      <td>0</td>\n",
       "      <td>0</td>\n",
       "      <td>0</td>\n",
       "      <td>0</td>\n",
       "      <td>0</td>\n",
       "      <td>0</td>\n",
       "    </tr>\n",
       "    <tr>\n",
       "      <th>2</th>\n",
       "      <td>122238</td>\n",
       "      <td>1</td>\n",
       "      <td>1</td>\n",
       "      <td>1</td>\n",
       "      <td>1</td>\n",
       "      <td>180000.0</td>\n",
       "      <td>101880.0</td>\n",
       "      <td>10827.0</td>\n",
       "      <td>90000.0</td>\n",
       "      <td>0.022625</td>\n",
       "      <td>...</td>\n",
       "      <td>0</td>\n",
       "      <td>0</td>\n",
       "      <td>1</td>\n",
       "      <td>0</td>\n",
       "      <td>0</td>\n",
       "      <td>0</td>\n",
       "      <td>1</td>\n",
       "      <td>0</td>\n",
       "      <td>0</td>\n",
       "      <td>0</td>\n",
       "    </tr>\n",
       "    <tr>\n",
       "      <th>3</th>\n",
       "      <td>305311</td>\n",
       "      <td>1</td>\n",
       "      <td>0</td>\n",
       "      <td>0</td>\n",
       "      <td>0</td>\n",
       "      <td>81000.0</td>\n",
       "      <td>405000.0</td>\n",
       "      <td>20677.5</td>\n",
       "      <td>405000.0</td>\n",
       "      <td>0.035792</td>\n",
       "      <td>...</td>\n",
       "      <td>0</td>\n",
       "      <td>0</td>\n",
       "      <td>0</td>\n",
       "      <td>0</td>\n",
       "      <td>0</td>\n",
       "      <td>0</td>\n",
       "      <td>0</td>\n",
       "      <td>0</td>\n",
       "      <td>0</td>\n",
       "      <td>0</td>\n",
       "    </tr>\n",
       "    <tr>\n",
       "      <th>4</th>\n",
       "      <td>414121</td>\n",
       "      <td>0</td>\n",
       "      <td>0</td>\n",
       "      <td>1</td>\n",
       "      <td>0</td>\n",
       "      <td>157500.0</td>\n",
       "      <td>888840.0</td>\n",
       "      <td>29506.5</td>\n",
       "      <td>675000.0</td>\n",
       "      <td>0.018801</td>\n",
       "      <td>...</td>\n",
       "      <td>0</td>\n",
       "      <td>0</td>\n",
       "      <td>0</td>\n",
       "      <td>0</td>\n",
       "      <td>0</td>\n",
       "      <td>0</td>\n",
       "      <td>0</td>\n",
       "      <td>0</td>\n",
       "      <td>0</td>\n",
       "      <td>0</td>\n",
       "    </tr>\n",
       "  </tbody>\n",
       "</table>\n",
       "<p>5 rows × 201 columns</p>\n",
       "</div>"
      ],
      "text/plain": [
       "   SK_ID_CURR  CODE_GENDER  FLAG_OWN_CAR  FLAG_OWN_REALTY  CNT_CHILDREN  \\\n",
       "0      450407            0             0                1             1   \n",
       "1      271298            1             1                1             1   \n",
       "2      122238            1             1                1             1   \n",
       "3      305311            1             0                0             0   \n",
       "4      414121            0             0                1             0   \n",
       "\n",
       "   AMT_INCOME_TOTAL  AMT_CREDIT  AMT_ANNUITY  AMT_GOODS_PRICE  \\\n",
       "0           67500.0    227520.0      11065.5         180000.0   \n",
       "1          247500.0   1882372.5      65560.5        1719000.0   \n",
       "2          180000.0    101880.0      10827.0          90000.0   \n",
       "3           81000.0    405000.0      20677.5         405000.0   \n",
       "4          157500.0    888840.0      29506.5         675000.0   \n",
       "\n",
       "   REGION_POPULATION_RELATIVE  ...  Transport: type 2  Transport: type 3  \\\n",
       "0                    0.018634  ...                  0                  0   \n",
       "1                    0.018850  ...                  0                  0   \n",
       "2                    0.022625  ...                  0                  0   \n",
       "3                    0.035792  ...                  0                  0   \n",
       "4                    0.018801  ...                  0                  0   \n",
       "\n",
       "   Transport: type 4  University  XNA  org spec account  reg oper account  \\\n",
       "0                  0           0    0                 0                 0   \n",
       "1                  0           0    0                 0                 0   \n",
       "2                  1           0    0                 0                 1   \n",
       "3                  0           0    0                 0                 0   \n",
       "4                  0           0    0                 0                 0   \n",
       "\n",
       "   reg oper spec account  specific housing  terraced house  \n",
       "0                      0                 0               0  \n",
       "1                      0                 0               0  \n",
       "2                      0                 0               0  \n",
       "3                      0                 0               0  \n",
       "4                      0                 0               0  \n",
       "\n",
       "[5 rows x 201 columns]"
      ]
     },
     "execution_count": 86,
     "metadata": {},
     "output_type": "execute_result"
    }
   ],
   "source": [
    "df.head()"
   ]
  },
  {
   "cell_type": "markdown",
   "id": "11ffa64c",
   "metadata": {},
   "source": [
    "## If we drop the column SK_ID_CURR it won't affect out model"
   ]
  },
  {
   "cell_type": "code",
   "execution_count": 87,
   "id": "519589df",
   "metadata": {},
   "outputs": [],
   "source": [
    "df.drop('SK_ID_CURR',axis=1,inplace=True)"
   ]
  },
  {
   "cell_type": "code",
   "execution_count": 88,
   "id": "80b29298",
   "metadata": {},
   "outputs": [
    {
     "name": "stdout",
     "output_type": "stream",
     "text": [
      "OWN_CAR_AGE\n",
      "EXT_SOURCE_1\n",
      "APARTMENTS_AVG\n",
      "BASEMENTAREA_AVG\n",
      "YEARS_BUILD_AVG\n",
      "COMMONAREA_AVG\n",
      "ELEVATORS_AVG\n",
      "ENTRANCES_AVG\n",
      "FLOORSMAX_AVG\n",
      "FLOORSMIN_AVG\n",
      "LANDAREA_AVG\n",
      "LIVINGAPARTMENTS_AVG\n",
      "LIVINGAREA_AVG\n",
      "NONLIVINGAPARTMENTS_AVG\n",
      "NONLIVINGAREA_AVG\n",
      "APARTMENTS_MODE\n",
      "BASEMENTAREA_MODE\n",
      "YEARS_BUILD_MODE\n",
      "COMMONAREA_MODE\n",
      "ELEVATORS_MODE\n",
      "ENTRANCES_MODE\n",
      "FLOORSMAX_MODE\n",
      "FLOORSMIN_MODE\n",
      "LANDAREA_MODE\n",
      "LIVINGAPARTMENTS_MODE\n",
      "LIVINGAREA_MODE\n",
      "NONLIVINGAPARTMENTS_MODE\n",
      "NONLIVINGAREA_MODE\n",
      "APARTMENTS_MEDI\n",
      "BASEMENTAREA_MEDI\n",
      "YEARS_BUILD_MEDI\n",
      "COMMONAREA_MEDI\n",
      "ELEVATORS_MEDI\n",
      "ENTRANCES_MEDI\n",
      "FLOORSMAX_MEDI\n",
      "FLOORSMIN_MEDI\n",
      "LANDAREA_MEDI\n",
      "LIVINGAPARTMENTS_MEDI\n",
      "LIVINGAREA_MEDI\n",
      "NONLIVINGAPARTMENTS_MEDI\n",
      "NONLIVINGAREA_MEDI\n"
     ]
    }
   ],
   "source": [
    "for col in df:\n",
    "    if(df[col].isna().sum()>90000):\n",
    "        print(col)\n",
    "\n",
    "## We observe that there are 9 columns having missing value percent > 70, so we can drop these columns"
   ]
  },
  {
   "cell_type": "code",
   "execution_count": 89,
   "id": "2044b21b",
   "metadata": {},
   "outputs": [],
   "source": [
    "for col in df:\n",
    "    if(df[col].isna().sum()>90000):\n",
    "        df.drop(col,axis=1,inplace=True)\n",
    "\n"
   ]
  },
  {
   "cell_type": "code",
   "execution_count": 90,
   "id": "f3609216",
   "metadata": {},
   "outputs": [
    {
     "data": {
      "text/plain": [
       "(184506, 159)"
      ]
     },
     "execution_count": 90,
     "metadata": {},
     "output_type": "execute_result"
    }
   ],
   "source": [
    "df.shape"
   ]
  },
  {
   "cell_type": "markdown",
   "id": "5a0292d5",
   "metadata": {},
   "source": [
    "## Dealing with NULL values"
   ]
  },
  {
   "cell_type": "code",
   "execution_count": 91,
   "id": "9ace0c61",
   "metadata": {},
   "outputs": [
    {
     "name": "stdout",
     "output_type": "stream",
     "text": [
      "AMT_ANNUITY\n",
      "AMT_GOODS_PRICE\n",
      "CNT_FAM_MEMBERS\n",
      "EXT_SOURCE_2\n",
      "EXT_SOURCE_3\n",
      "YEARS_BEGINEXPLUATATION_AVG\n",
      "YEARS_BEGINEXPLUATATION_MODE\n",
      "YEARS_BEGINEXPLUATATION_MEDI\n",
      "TOTALAREA_MODE\n",
      "OBS_30_CNT_SOCIAL_CIRCLE\n",
      "DEF_30_CNT_SOCIAL_CIRCLE\n",
      "OBS_60_CNT_SOCIAL_CIRCLE\n",
      "DEF_60_CNT_SOCIAL_CIRCLE\n",
      "DAYS_LAST_PHONE_CHANGE\n",
      "AMT_REQ_CREDIT_BUREAU_HOUR\n",
      "AMT_REQ_CREDIT_BUREAU_DAY\n",
      "AMT_REQ_CREDIT_BUREAU_WEEK\n",
      "AMT_REQ_CREDIT_BUREAU_MON\n",
      "AMT_REQ_CREDIT_BUREAU_QRT\n",
      "AMT_REQ_CREDIT_BUREAU_YEAR\n",
      "20\n"
     ]
    }
   ],
   "source": [
    "## finding columns with null values\n",
    "count=0\n",
    "for col in df:\n",
    "    if(df[col].isna().sum()>0):\n",
    "        print(col)\n",
    "        count+=1\n",
    "print(count)"
   ]
  },
  {
   "cell_type": "markdown",
   "id": "e154a732",
   "metadata": {},
   "source": [
    "## We observe that there are 53 columns including the TARGET having null values, so we have 3 choices to fill the null values for these columns.\n",
    "## What we think is to fill the null values of those columns having only two unique values with mode and remaining with mean or median."
   ]
  },
  {
   "cell_type": "markdown",
   "id": "796ed2f0",
   "metadata": {},
   "source": [
    "## 1) Filling the null value of columns having two or three unique values with mode"
   ]
  },
  {
   "cell_type": "code",
   "execution_count": 92,
   "id": "775fe77d",
   "metadata": {},
   "outputs": [],
   "source": [
    "for col in df:\n",
    "    if(df[col].isna().sum()==2 or df[col].isna().sum()==3):\n",
    "        df.fillna(df[col].mode()[0],inplace=True)\n",
    "        \n",
    "## we have filled those columns null value with mode which had 2 or 3 null values"
   ]
  },
  {
   "cell_type": "markdown",
   "id": "25b9243b",
   "metadata": {},
   "source": [
    "## 2) Filling the remaining columns null values with median inorder to handle outliers"
   ]
  },
  {
   "cell_type": "code",
   "execution_count": 93,
   "id": "f35bde02",
   "metadata": {},
   "outputs": [],
   "source": [
    "for col in df:\n",
    "    if(df[col].isna().sum()>0):\n",
    "        df.fillna(df[col].median(),inplace=True)\n",
    "        \n",
    "## we have filled the remaining columns null value with their median"
   ]
  },
  {
   "cell_type": "code",
   "execution_count": 94,
   "id": "bd2e9c17",
   "metadata": {},
   "outputs": [
    {
     "name": "stdout",
     "output_type": "stream",
     "text": [
      "0\n"
     ]
    }
   ],
   "source": [
    "count=0\n",
    "for col in df:\n",
    "    if(df[col].isna().sum()>0):\n",
    "        count+=1\n",
    "        \n",
    "print(count)"
   ]
  },
  {
   "cell_type": "markdown",
   "id": "9680ee02",
   "metadata": {},
   "source": [
    "## There are no null values in our data now."
   ]
  },
  {
   "cell_type": "markdown",
   "id": "38c5aeb7",
   "metadata": {},
   "source": [
    "# Dealing with outliers"
   ]
  },
  {
   "cell_type": "code",
   "execution_count": 95,
   "id": "2ba9868a",
   "metadata": {},
   "outputs": [
    {
     "data": {
      "text/plain": [
       "count    1.845060e+05\n",
       "mean     1.689985e+05\n",
       "std      2.942453e+05\n",
       "min      2.610000e+04\n",
       "25%      1.125000e+05\n",
       "50%      1.485000e+05\n",
       "75%      2.025000e+05\n",
       "max      1.170000e+08\n",
       "Name: AMT_INCOME_TOTAL, dtype: float64"
      ]
     },
     "execution_count": 95,
     "metadata": {},
     "output_type": "execute_result"
    }
   ],
   "source": [
    "df['AMT_INCOME_TOTAL'].describe()"
   ]
  },
  {
   "cell_type": "code",
   "execution_count": 96,
   "id": "bfc48d29",
   "metadata": {},
   "outputs": [
    {
     "name": "stderr",
     "output_type": "stream",
     "text": [
      "/home/nitin/anaconda3/lib/python3.9/site-packages/seaborn/_decorators.py:36: FutureWarning: Pass the following variable as a keyword arg: x. From version 0.12, the only valid positional argument will be `data`, and passing other arguments without an explicit keyword will result in an error or misinterpretation.\n",
      "  warnings.warn(\n"
     ]
    },
    {
     "data": {
      "text/plain": [
       "<AxesSubplot:xlabel='AMT_INCOME_TOTAL'>"
      ]
     },
     "execution_count": 96,
     "metadata": {},
     "output_type": "execute_result"
    },
    {
     "data": {
      "image/png": "[encoded data removed]",
      "text/plain": [
       "<Figure size 640x480 with 1 Axes>"
      ]
     },
     "metadata": {},
     "output_type": "display_data"
    }
   ],
   "source": [
    "sns.boxplot(df['AMT_INCOME_TOTAL'])"
   ]
  },
  {
   "cell_type": "markdown",
   "id": "07193914",
   "metadata": {},
   "source": [
    "## we observe that there are a lot of outliers in this column"
   ]
  },
  {
   "cell_type": "code",
   "execution_count": 97,
   "id": "1bd600d9",
   "metadata": {},
   "outputs": [
    {
     "name": "stderr",
     "output_type": "stream",
     "text": [
      "/home/nitin/anaconda3/lib/python3.9/site-packages/seaborn/distributions.py:2619: FutureWarning: `distplot` is a deprecated function and will be removed in a future version. Please adapt your code to use either `displot` (a figure-level function with similar flexibility) or `histplot` (an axes-level function for histograms).\n",
      "  warnings.warn(msg, FutureWarning)\n"
     ]
    },
    {
     "data": {
      "text/plain": [
       "<AxesSubplot:xlabel='AMT_INCOME_TOTAL', ylabel='Density'>"
      ]
     },
     "execution_count": 97,
     "metadata": {},
     "output_type": "execute_result"
    },
    {
     "data": {
      "image/png": "[encoded data removed]",
      "text/plain": [
       "<Figure size 640x480 with 1 Axes>"
      ]
     },
     "metadata": {},
     "output_type": "display_data"
    }
   ],
   "source": [
    "sns.distplot(df['AMT_INCOME_TOTAL'])"
   ]
  },
  {
   "cell_type": "code",
   "execution_count": 98,
   "id": "d2e20f48",
   "metadata": {},
   "outputs": [],
   "source": [
    "## the data is highly skewed and also we can see in the box plot there are outliers after the max value range \n",
    "## we deal with those outliers using the percentile method"
   ]
  },
  {
   "cell_type": "code",
   "execution_count": 99,
   "id": "9a5fa0d1",
   "metadata": {},
   "outputs": [
    {
     "name": "stdout",
     "output_type": "stream",
     "text": [
      "45000.0\n",
      "337500.0\n"
     ]
    },
    {
     "data": {
      "text/plain": [
       "117000000.0"
      ]
     },
     "execution_count": 99,
     "metadata": {},
     "output_type": "execute_result"
    }
   ],
   "source": [
    "lower_limit=df['AMT_INCOME_TOTAL'].quantile(0.01)\n",
    "upper_limit=df['AMT_INCOME_TOTAL'].quantile(0.95)\n",
    "\n",
    "# percentile25=df['AMT_INCOME_TOTAL'].quantile(0.25)\n",
    "# percentile75=df['AMT_INCOME_TOTAL'].quantile(0.75)\n",
    "\n",
    "# iqr=percentile75-percentile25\n",
    "\n",
    "# lower_limit=percentile75+1.5*iqr\n",
    "# upper_limit=percentile25-1.5*iqr\n",
    "print(lower_limit)\n",
    "print(upper_limit)\n",
    "df['AMT_INCOME_TOTAL'].max()"
   ]
  },
  {
   "cell_type": "code",
   "execution_count": 100,
   "id": "ccbb0d28",
   "metadata": {},
   "outputs": [],
   "source": [
    "df['AMT_INCOME_TOTAL']=np.where(df['AMT_INCOME_TOTAL']>=upper_limit,upper_limit,\n",
    "                               np.where(df['AMT_INCOME_TOTAL']<=lower_limit,lower_limit,df['AMT_INCOME_TOTAL']))"
   ]
  },
  {
   "cell_type": "code",
   "execution_count": 101,
   "id": "1519f4ff",
   "metadata": {},
   "outputs": [
    {
     "name": "stderr",
     "output_type": "stream",
     "text": [
      "/home/nitin/anaconda3/lib/python3.9/site-packages/seaborn/_decorators.py:36: FutureWarning: Pass the following variable as a keyword arg: x. From version 0.12, the only valid positional argument will be `data`, and passing other arguments without an explicit keyword will result in an error or misinterpretation.\n",
      "  warnings.warn(\n"
     ]
    },
    {
     "data": {
      "text/plain": [
       "<AxesSubplot:xlabel='AMT_INCOME_TOTAL'>"
      ]
     },
     "execution_count": 101,
     "metadata": {},
     "output_type": "execute_result"
    },
    {
     "data": {
      "image/png": "[encoded data removed]",
      "text/plain": [
       "<Figure size 640x480 with 1 Axes>"
      ]
     },
     "metadata": {},
     "output_type": "display_data"
    }
   ],
   "source": [
    "sns.boxplot(df['AMT_INCOME_TOTAL'])"
   ]
  },
  {
   "cell_type": "markdown",
   "id": "84484aa3",
   "metadata": {},
   "source": [
    "\n",
    "\n",
    "## We  observe that outliers are removed from the 'AMT_INCOME_TOTAL' column"
   ]
  },
  {
   "cell_type": "code",
   "execution_count": 102,
   "id": "9787f1e0",
   "metadata": {},
   "outputs": [
    {
     "name": "stderr",
     "output_type": "stream",
     "text": [
      "/home/nitin/anaconda3/lib/python3.9/site-packages/seaborn/distributions.py:2619: FutureWarning: `distplot` is a deprecated function and will be removed in a future version. Please adapt your code to use either `displot` (a figure-level function with similar flexibility) or `histplot` (an axes-level function for histograms).\n",
      "  warnings.warn(msg, FutureWarning)\n"
     ]
    },
    {
     "data": {
      "text/plain": [
       "<AxesSubplot:xlabel='AMT_INCOME_TOTAL', ylabel='Density'>"
      ]
     },
     "execution_count": 102,
     "metadata": {},
     "output_type": "execute_result"
    },
    {
     "data": {
      "image/png": "[encoded data removed]",
      "text/plain": [
       "<Figure size 640x480 with 1 Axes>"
      ]
     },
     "metadata": {},
     "output_type": "display_data"
    }
   ],
   "source": [
    "sns.distplot(df['AMT_INCOME_TOTAL'])"
   ]
  },
  {
   "cell_type": "code",
   "execution_count": 103,
   "id": "e9fec493",
   "metadata": {},
   "outputs": [
    {
     "data": {
      "text/plain": [
       "count    184506.000000\n",
       "mean     162668.815005\n",
       "std       73157.827152\n",
       "min       45000.000000\n",
       "25%      112500.000000\n",
       "50%      148500.000000\n",
       "75%      202500.000000\n",
       "max      337500.000000\n",
       "Name: AMT_INCOME_TOTAL, dtype: float64"
      ]
     },
     "execution_count": 103,
     "metadata": {},
     "output_type": "execute_result"
    }
   ],
   "source": [
    "df['AMT_INCOME_TOTAL'].describe()"
   ]
  },
  {
   "cell_type": "markdown",
   "id": "816eb432",
   "metadata": {},
   "source": [
    "## In the similar way we remove outliers for remaining columns."
   ]
  },
  {
   "cell_type": "code",
   "execution_count": 104,
   "id": "ce16ab3e",
   "metadata": {},
   "outputs": [],
   "source": [
    "## Applying the percentile method for every column to manage the outliers\n",
    "\n",
    "for col in df:\n",
    "    if(col!='AMT_INCOME_TOTAL'):\n",
    "        lower_limit=df[col].quantile(0.01)\n",
    "        upper_limit=df[col].quantile(0.95)\n",
    "        \n",
    "        df[col]=np.where(df[col]>=upper_limit,upper_limit,\n",
    "                        np.where(df[col]<=lower_limit,lower_limit,df[col]))\n",
    "        \n",
    "      "
   ]
  },
  {
   "cell_type": "markdown",
   "id": "26ead3ab",
   "metadata": {},
   "source": [
    "## Outliers are removed "
   ]
  },
  {
   "cell_type": "code",
   "execution_count": 105,
   "id": "9254ddf5",
   "metadata": {},
   "outputs": [
    {
     "data": {
      "text/html": [
       "<div>\n",
       "<style scoped>\n",
       "    .dataframe tbody tr th:only-of-type {\n",
       "        vertical-align: middle;\n",
       "    }\n",
       "\n",
       "    .dataframe tbody tr th {\n",
       "        vertical-align: top;\n",
       "    }\n",
       "\n",
       "    .dataframe thead th {\n",
       "        text-align: right;\n",
       "    }\n",
       "</style>\n",
       "<table border=\"1\" class=\"dataframe\">\n",
       "  <thead>\n",
       "    <tr style=\"text-align: right;\">\n",
       "      <th></th>\n",
       "      <th>CODE_GENDER</th>\n",
       "      <th>FLAG_OWN_CAR</th>\n",
       "      <th>FLAG_OWN_REALTY</th>\n",
       "      <th>CNT_CHILDREN</th>\n",
       "      <th>AMT_INCOME_TOTAL</th>\n",
       "      <th>AMT_CREDIT</th>\n",
       "      <th>AMT_ANNUITY</th>\n",
       "      <th>AMT_GOODS_PRICE</th>\n",
       "      <th>REGION_POPULATION_RELATIVE</th>\n",
       "      <th>DAYS_BIRTH</th>\n",
       "      <th>...</th>\n",
       "      <th>Transport: type 2</th>\n",
       "      <th>Transport: type 3</th>\n",
       "      <th>Transport: type 4</th>\n",
       "      <th>University</th>\n",
       "      <th>XNA</th>\n",
       "      <th>org spec account</th>\n",
       "      <th>reg oper account</th>\n",
       "      <th>reg oper spec account</th>\n",
       "      <th>specific housing</th>\n",
       "      <th>terraced house</th>\n",
       "    </tr>\n",
       "  </thead>\n",
       "  <tbody>\n",
       "    <tr>\n",
       "      <th>0</th>\n",
       "      <td>0.0</td>\n",
       "      <td>0.0</td>\n",
       "      <td>1.0</td>\n",
       "      <td>1.0</td>\n",
       "      <td>67500.0</td>\n",
       "      <td>227520.0</td>\n",
       "      <td>11065.5</td>\n",
       "      <td>180000.0</td>\n",
       "      <td>0.018634</td>\n",
       "      <td>-17210.0</td>\n",
       "      <td>...</td>\n",
       "      <td>0.0</td>\n",
       "      <td>0.0</td>\n",
       "      <td>0.0</td>\n",
       "      <td>0.0</td>\n",
       "      <td>0.0</td>\n",
       "      <td>0.0</td>\n",
       "      <td>0.0</td>\n",
       "      <td>0.0</td>\n",
       "      <td>0.0</td>\n",
       "      <td>0.0</td>\n",
       "    </tr>\n",
       "    <tr>\n",
       "      <th>1</th>\n",
       "      <td>1.0</td>\n",
       "      <td>1.0</td>\n",
       "      <td>1.0</td>\n",
       "      <td>1.0</td>\n",
       "      <td>247500.0</td>\n",
       "      <td>1350000.0</td>\n",
       "      <td>53253.0</td>\n",
       "      <td>1305000.0</td>\n",
       "      <td>0.018850</td>\n",
       "      <td>-18640.0</td>\n",
       "      <td>...</td>\n",
       "      <td>0.0</td>\n",
       "      <td>0.0</td>\n",
       "      <td>0.0</td>\n",
       "      <td>0.0</td>\n",
       "      <td>0.0</td>\n",
       "      <td>0.0</td>\n",
       "      <td>0.0</td>\n",
       "      <td>0.0</td>\n",
       "      <td>0.0</td>\n",
       "      <td>0.0</td>\n",
       "    </tr>\n",
       "    <tr>\n",
       "      <th>2</th>\n",
       "      <td>1.0</td>\n",
       "      <td>1.0</td>\n",
       "      <td>1.0</td>\n",
       "      <td>1.0</td>\n",
       "      <td>180000.0</td>\n",
       "      <td>101880.0</td>\n",
       "      <td>10827.0</td>\n",
       "      <td>90000.0</td>\n",
       "      <td>0.022625</td>\n",
       "      <td>-14649.0</td>\n",
       "      <td>...</td>\n",
       "      <td>0.0</td>\n",
       "      <td>0.0</td>\n",
       "      <td>0.0</td>\n",
       "      <td>0.0</td>\n",
       "      <td>0.0</td>\n",
       "      <td>0.0</td>\n",
       "      <td>1.0</td>\n",
       "      <td>0.0</td>\n",
       "      <td>0.0</td>\n",
       "      <td>0.0</td>\n",
       "    </tr>\n",
       "    <tr>\n",
       "      <th>3</th>\n",
       "      <td>1.0</td>\n",
       "      <td>0.0</td>\n",
       "      <td>0.0</td>\n",
       "      <td>0.0</td>\n",
       "      <td>81000.0</td>\n",
       "      <td>405000.0</td>\n",
       "      <td>20677.5</td>\n",
       "      <td>405000.0</td>\n",
       "      <td>0.035792</td>\n",
       "      <td>-12762.0</td>\n",
       "      <td>...</td>\n",
       "      <td>0.0</td>\n",
       "      <td>0.0</td>\n",
       "      <td>0.0</td>\n",
       "      <td>0.0</td>\n",
       "      <td>0.0</td>\n",
       "      <td>0.0</td>\n",
       "      <td>0.0</td>\n",
       "      <td>0.0</td>\n",
       "      <td>0.0</td>\n",
       "      <td>0.0</td>\n",
       "    </tr>\n",
       "    <tr>\n",
       "      <th>4</th>\n",
       "      <td>0.0</td>\n",
       "      <td>0.0</td>\n",
       "      <td>1.0</td>\n",
       "      <td>0.0</td>\n",
       "      <td>157500.0</td>\n",
       "      <td>888840.0</td>\n",
       "      <td>29506.5</td>\n",
       "      <td>675000.0</td>\n",
       "      <td>0.018801</td>\n",
       "      <td>-16329.0</td>\n",
       "      <td>...</td>\n",
       "      <td>0.0</td>\n",
       "      <td>0.0</td>\n",
       "      <td>0.0</td>\n",
       "      <td>0.0</td>\n",
       "      <td>0.0</td>\n",
       "      <td>0.0</td>\n",
       "      <td>0.0</td>\n",
       "      <td>0.0</td>\n",
       "      <td>0.0</td>\n",
       "      <td>0.0</td>\n",
       "    </tr>\n",
       "  </tbody>\n",
       "</table>\n",
       "<p>5 rows × 159 columns</p>\n",
       "</div>"
      ],
      "text/plain": [
       "   CODE_GENDER  FLAG_OWN_CAR  FLAG_OWN_REALTY  CNT_CHILDREN  AMT_INCOME_TOTAL  \\\n",
       "0          0.0           0.0              1.0           1.0           67500.0   \n",
       "1          1.0           1.0              1.0           1.0          247500.0   \n",
       "2          1.0           1.0              1.0           1.0          180000.0   \n",
       "3          1.0           0.0              0.0           0.0           81000.0   \n",
       "4          0.0           0.0              1.0           0.0          157500.0   \n",
       "\n",
       "   AMT_CREDIT  AMT_ANNUITY  AMT_GOODS_PRICE  REGION_POPULATION_RELATIVE  \\\n",
       "0    227520.0      11065.5         180000.0                    0.018634   \n",
       "1   1350000.0      53253.0        1305000.0                    0.018850   \n",
       "2    101880.0      10827.0          90000.0                    0.022625   \n",
       "3    405000.0      20677.5         405000.0                    0.035792   \n",
       "4    888840.0      29506.5         675000.0                    0.018801   \n",
       "\n",
       "   DAYS_BIRTH  ...  Transport: type 2  Transport: type 3  Transport: type 4  \\\n",
       "0    -17210.0  ...                0.0                0.0                0.0   \n",
       "1    -18640.0  ...                0.0                0.0                0.0   \n",
       "2    -14649.0  ...                0.0                0.0                0.0   \n",
       "3    -12762.0  ...                0.0                0.0                0.0   \n",
       "4    -16329.0  ...                0.0                0.0                0.0   \n",
       "\n",
       "   University  XNA  org spec account  reg oper account  reg oper spec account  \\\n",
       "0         0.0  0.0               0.0               0.0                    0.0   \n",
       "1         0.0  0.0               0.0               0.0                    0.0   \n",
       "2         0.0  0.0               0.0               1.0                    0.0   \n",
       "3         0.0  0.0               0.0               0.0                    0.0   \n",
       "4         0.0  0.0               0.0               0.0                    0.0   \n",
       "\n",
       "   specific housing  terraced house  \n",
       "0               0.0             0.0  \n",
       "1               0.0             0.0  \n",
       "2               0.0             0.0  \n",
       "3               0.0             0.0  \n",
       "4               0.0             0.0  \n",
       "\n",
       "[5 rows x 159 columns]"
      ]
     },
     "execution_count": 105,
     "metadata": {},
     "output_type": "execute_result"
    }
   ],
   "source": [
    "df.head(5)"
   ]
  },
  {
   "cell_type": "code",
   "execution_count": 106,
   "id": "bca86e6b",
   "metadata": {},
   "outputs": [
    {
     "name": "stderr",
     "output_type": "stream",
     "text": [
      "/home/nitin/anaconda3/lib/python3.9/site-packages/seaborn/_decorators.py:36: FutureWarning: Pass the following variable as a keyword arg: x. From version 0.12, the only valid positional argument will be `data`, and passing other arguments without an explicit keyword will result in an error or misinterpretation.\n",
      "  warnings.warn(\n"
     ]
    },
    {
     "data": {
      "text/plain": [
       "<AxesSubplot:xlabel='AMT_CREDIT'>"
      ]
     },
     "execution_count": 106,
     "metadata": {},
     "output_type": "execute_result"
    },
    {
     "data": {
      "image/png": "[encoded data removed]",
      "text/plain": [
       "<Figure size 640x480 with 1 Axes>"
      ]
     },
     "metadata": {},
     "output_type": "display_data"
    }
   ],
   "source": [
    "sns.boxplot(df['AMT_CREDIT'])\n",
    "## AMT_CREDIT column is free from outliers"
   ]
  },
  {
   "cell_type": "code",
   "execution_count": 107,
   "id": "db9180d9",
   "metadata": {},
   "outputs": [
    {
     "data": {
      "text/plain": [
       "0"
      ]
     },
     "execution_count": 107,
     "metadata": {},
     "output_type": "execute_result"
    }
   ],
   "source": [
    "df['TARGET'].isna().sum()"
   ]
  },
  {
   "cell_type": "code",
   "execution_count": 108,
   "id": "778c0294",
   "metadata": {},
   "outputs": [
    {
     "data": {
      "text/plain": [
       "(184506, 159)"
      ]
     },
     "execution_count": 108,
     "metadata": {},
     "output_type": "execute_result"
    }
   ],
   "source": [
    "df.shape"
   ]
  },
  {
   "cell_type": "markdown",
   "id": "375b2ea5",
   "metadata": {},
   "source": [
    "## Importing RandomForest for feature selection. \n",
    "### WE thought it would be good , if we select important feature , so that our model won't overfit."
   ]
  },
  {
   "cell_type": "code",
   "execution_count": 109,
   "id": "6c6c4a79",
   "metadata": {},
   "outputs": [],
   "source": [
    "from sklearn.ensemble import RandomForestClassifier"
   ]
  },
  {
   "cell_type": "code",
   "execution_count": 110,
   "id": "d677a281",
   "metadata": {},
   "outputs": [
    {
     "name": "stdout",
     "output_type": "stream",
     "text": [
      "(184506,)\n"
     ]
    }
   ],
   "source": [
    "y_train=df['TARGET']\n",
    "print(y_train.shape)\n",
    "x_train=df.drop('TARGET',axis=1)"
   ]
  },
  {
   "cell_type": "code",
   "execution_count": 111,
   "id": "25445706",
   "metadata": {},
   "outputs": [
    {
     "data": {
      "text/plain": [
       "(184506, 159)"
      ]
     },
     "execution_count": 111,
     "metadata": {},
     "output_type": "execute_result"
    }
   ],
   "source": [
    "df.shape"
   ]
  },
  {
   "cell_type": "code",
   "execution_count": 112,
   "id": "f9df275f",
   "metadata": {},
   "outputs": [
    {
     "data": {
      "text/plain": [
       "(184506, 158)"
      ]
     },
     "execution_count": 112,
     "metadata": {},
     "output_type": "execute_result"
    }
   ],
   "source": [
    "x_train.shape"
   ]
  },
  {
   "cell_type": "markdown",
   "id": "d95a90aa",
   "metadata": {},
   "source": [
    "## Here we are selecting the feature in the function"
   ]
  },
  {
   "cell_type": "code",
   "execution_count": 113,
   "id": "54a8167a",
   "metadata": {},
   "outputs": [],
   "source": [
    "def selection_feature(x_train,y_train):\n",
    "    clf=RandomForestClassifier(n_estimators=1000,random_state=0,n_jobs=-1)\n",
    "    clf.fit(x_train,y_train)\n",
    "    return clf"
   ]
  },
  {
   "cell_type": "code",
   "execution_count": 114,
   "id": "8ffd93af",
   "metadata": {},
   "outputs": [],
   "source": [
    "clf=selection_feature(x_train,y_train)"
   ]
  },
  {
   "cell_type": "code",
   "execution_count": 115,
   "id": "03d71e35",
   "metadata": {},
   "outputs": [],
   "source": [
    "column_name=x_train.columns"
   ]
  },
  {
   "cell_type": "code",
   "execution_count": null,
   "id": "1e409b1d",
   "metadata": {},
   "outputs": [],
   "source": [
    "\n"
   ]
  },
  {
   "cell_type": "markdown",
   "id": "fef5f20f",
   "metadata": {},
   "source": [
    "## We are keeping track of all the columns that we dropped and keeping"
   ]
  },
  {
   "cell_type": "code",
   "execution_count": 116,
   "id": "2364e42d",
   "metadata": {},
   "outputs": [
    {
     "name": "stdout",
     "output_type": "stream",
     "text": [
      "0\n"
     ]
    }
   ],
   "source": [
    "lst_drop=[]\n",
    "lst_keep=[]\n",
    "count=0\n",
    "for feature in zip(column_name, clf.feature_importances_):\n",
    "    if(feature[1]==0):\n",
    "        lst_drop.append(feature[0])\n",
    "    else:\n",
    "        lst_keep.append(feature[0])\n",
    "print(count)"
   ]
  },
  {
   "cell_type": "code",
   "execution_count": 117,
   "id": "e4555fd1",
   "metadata": {},
   "outputs": [
    {
     "name": "stdout",
     "output_type": "stream",
     "text": [
      "97\n"
     ]
    }
   ],
   "source": [
    "print(len(lst_drop))"
   ]
  },
  {
   "cell_type": "code",
   "execution_count": 118,
   "id": "9429426d",
   "metadata": {},
   "outputs": [],
   "source": [
    "x_train.drop(lst_drop,axis=1,inplace=True)"
   ]
  },
  {
   "cell_type": "code",
   "execution_count": 119,
   "id": "a9622b5d",
   "metadata": {},
   "outputs": [
    {
     "data": {
      "text/plain": [
       "(184506, 61)"
      ]
     },
     "execution_count": 119,
     "metadata": {},
     "output_type": "execute_result"
    }
   ],
   "source": [
    "x_train.shape"
   ]
  },
  {
   "cell_type": "markdown",
   "id": "6ef7321c",
   "metadata": {},
   "source": [
    "## Standardizing our columns"
   ]
  },
  {
   "cell_type": "code",
   "execution_count": 120,
   "id": "1777a564",
   "metadata": {},
   "outputs": [],
   "source": [
    "# from sklearn.preprocessing import StandardScaler"
   ]
  },
  {
   "cell_type": "code",
   "execution_count": 121,
   "id": "10215e06",
   "metadata": {},
   "outputs": [],
   "source": [
    "# def standardization(x_train):\n",
    "#     scaler=StandardScaler()\n",
    "#     temp=scaler.fit_transform(x_train)\n",
    "#     return temp"
   ]
  },
  {
   "cell_type": "code",
   "execution_count": 122,
   "id": "e3fdb103",
   "metadata": {},
   "outputs": [],
   "source": [
    "# x_train=standardization(x_train)"
   ]
  },
  {
   "cell_type": "code",
   "execution_count": 123,
   "id": "a9a10786",
   "metadata": {},
   "outputs": [],
   "source": [
    "# x_train=pd.DataFrame(x_train,columns=lst_keep)"
   ]
  },
  {
   "cell_type": "code",
   "execution_count": 124,
   "id": "4fd72be9",
   "metadata": {},
   "outputs": [],
   "source": [
    "# x_train.describe()"
   ]
  },
  {
   "cell_type": "code",
   "execution_count": 125,
   "id": "eb58f1f8",
   "metadata": {},
   "outputs": [],
   "source": [
    "from imblearn.over_sampling import RandomOverSampler"
   ]
  },
  {
   "cell_type": "code",
   "execution_count": 126,
   "id": "d21f706c",
   "metadata": {},
   "outputs": [],
   "source": [
    "from imblearn.under_sampling import RandomUnderSampler\n",
    "rus=RandomOverSampler(random_state=42)\n",
    "x_rus,y_rus=rus.fit_resample(x_train,y_train)\n"
   ]
  },
  {
   "cell_type": "code",
   "execution_count": 127,
   "id": "32d2c2fb",
   "metadata": {},
   "outputs": [],
   "source": [
    "from sklearn.linear_model import LogisticRegression\n",
    "from sklearn.model_selection import StratifiedKFold\n",
    "from sklearn.svm import SVC\n",
    "from sklearn.neighbors import KNeighborsClassifier\n",
    "from sklearn.metrics import roc_auc_score\n",
    "from sklearn.ensemble import GradientBoostingClassifier"
   ]
  },
  {
   "cell_type": "code",
   "execution_count": 128,
   "id": "1acc7b61",
   "metadata": {},
   "outputs": [],
   "source": [
    "skf=StratifiedKFold(n_splits=10,shuffle=True,random_state=1)\n",
    "lst_skf=[]\n",
    "lr=LogisticRegression()\n",
    "svc=SVC()\n",
    "neigh = KNeighborsClassifier(n_neighbors=5)"
   ]
  },
  {
   "cell_type": "code",
   "execution_count": 129,
   "id": "c5733ea7",
   "metadata": {},
   "outputs": [],
   "source": [
    "# def training_model(fold):\n",
    "#     for train_index, test_index in skf.split(x_train, y_train):\n",
    "#         x_train_fold, x_test_fold = x_train.iloc[train_index,:], x_train.iloc[test_index,:]\n",
    "#         y_train_fold, y_test_fold = y_train[train_index], y_train[test_index]\n",
    "#         lr.fit(x_train_fold, y_train_fold)\n",
    "# #         print(lr.score(x_test_fold, y_test_fold))\n",
    "#         fold+=1"
   ]
  },
  {
   "cell_type": "code",
   "execution_count": 130,
   "id": "f47937fc",
   "metadata": {},
   "outputs": [],
   "source": [
    "from sklearn.model_selection import train_test_split"
   ]
  },
  {
   "cell_type": "code",
   "execution_count": 131,
   "id": "623c5acc",
   "metadata": {},
   "outputs": [
    {
     "data": {
      "text/plain": [
       "(84806, 61)"
      ]
     },
     "execution_count": 131,
     "metadata": {},
     "output_type": "execute_result"
    }
   ],
   "source": [
    "x_train,x_test,y_train,y_test=train_test_split(x_rus,y_rus,random_state=0,shuffle=True)\n",
    "x_train.shape\n",
    "x_test.shape"
   ]
  },
  {
   "cell_type": "code",
   "execution_count": 132,
   "id": "46cc55d7",
   "metadata": {},
   "outputs": [
    {
     "name": "stderr",
     "output_type": "stream",
     "text": [
      "/home/nitin/anaconda3/lib/python3.9/site-packages/xgboost/compat.py:36: FutureWarning: pandas.Int64Index is deprecated and will be removed from pandas in a future version. Use pandas.Index with the appropriate dtype instead.\n",
      "  from pandas import MultiIndex, Int64Index\n"
     ]
    }
   ],
   "source": [
    "from xgboost import XGBClassifier as xgb"
   ]
  },
  {
   "cell_type": "code",
   "execution_count": 133,
   "id": "baf3b146",
   "metadata": {},
   "outputs": [
    {
     "name": "stderr",
     "output_type": "stream",
     "text": [
      "/home/nitin/anaconda3/lib/python3.9/site-packages/xgboost/sklearn.py:1224: UserWarning: The use of label encoder in XGBClassifier is deprecated and will be removed in a future release. To remove this warning, do the following: 1) Pass option use_label_encoder=False when constructing XGBClassifier object; and 2) Encode your labels (y) as integers starting with 0, i.e. 0, 1, 2, ..., [num_class - 1].\n",
      "  warnings.warn(label_encoder_deprecation_msg, UserWarning)\n",
      "/home/nitin/anaconda3/lib/python3.9/site-packages/xgboost/data.py:250: FutureWarning: pandas.Int64Index is deprecated and will be removed from pandas in a future version. Use pandas.Index with the appropriate dtype instead.\n",
      "  elif isinstance(data.columns, (pd.Int64Index, pd.RangeIndex)):\n"
     ]
    },
    {
     "name": "stdout",
     "output_type": "stream",
     "text": [
      "[14:54:54] WARNING: /tmp/abs_40obctay9q/croots/recipe/xgboost-split_1659548945886/work/src/learner.cc:1115: Starting in XGBoost 1.3.0, the default evaluation metric used with the objective 'binary:logistic' was changed from 'error' to 'logloss'. Explicitly set eval_metric if you'd like to restore the old behavior.\n"
     ]
    },
    {
     "data": {
      "text/plain": [
       "XGBClassifier(base_score=0.5, booster='gbtree', colsample_bylevel=1,\n",
       "              colsample_bynode=1, colsample_bytree=1, enable_categorical=False,\n",
       "              gamma=0, gpu_id=-1, importance_type=None,\n",
       "              interaction_constraints='', learning_rate=0.300000012,\n",
       "              max_delta_step=0, max_depth=6, min_child_weight=1, missing=nan,\n",
       "              monotone_constraints='()', n_estimators=100, n_jobs=12,\n",
       "              num_parallel_tree=1, predictor='auto', random_state=42,\n",
       "              reg_alpha=0, reg_lambda=1, scale_pos_weight=1, subsample=1,\n",
       "              tree_method='exact', validate_parameters=1, verbosity=None)"
      ]
     },
     "execution_count": 133,
     "metadata": {},
     "output_type": "execute_result"
    }
   ],
   "source": [
    "xgb_model=xgb(objective='binary:logistic',random_state=42)\n",
    "xgb_model.fit(x_train,y_train)"
   ]
  },
  {
   "cell_type": "code",
   "execution_count": 134,
   "id": "0b7c543b",
   "metadata": {},
   "outputs": [],
   "source": [
    "y_pre=xgb_model.predict(x_test)\n"
   ]
  },
  {
   "cell_type": "code",
   "execution_count": 135,
   "id": "09db8e85",
   "metadata": {},
   "outputs": [],
   "source": [
    "from sklearn.metrics import confusion_matrix\n",
    "from sklearn.metrics import accuracy_score"
   ]
  },
  {
   "cell_type": "code",
   "execution_count": 136,
   "id": "8000a438",
   "metadata": {},
   "outputs": [
    {
     "name": "stdout",
     "output_type": "stream",
     "text": [
      "[[32688  7472]\n",
      " [ 9871 34775]]\n",
      "0.7954979600499965\n"
     ]
    }
   ],
   "source": [
    "print(confusion_matrix(y_pre,y_test))\n",
    "print(accuracy_score(y_pre,y_test))"
   ]
  },
  {
   "cell_type": "code",
   "execution_count": 137,
   "id": "a2a4571c",
   "metadata": {},
   "outputs": [
    {
     "data": {
      "text/plain": [
       "0.7964246940919743"
      ]
     },
     "execution_count": 137,
     "metadata": {},
     "output_type": "execute_result"
    }
   ],
   "source": [
    "roc_auc_score(y_pre,y_test)"
   ]
  },
  {
   "cell_type": "code",
   "execution_count": null,
   "id": "d92f52e7",
   "metadata": {},
   "outputs": [],
   "source": [
    "roc_auc_score(y_pre,y_test)"
   ]
  },
  {
   "cell_type": "code",
   "execution_count": null,
   "id": "02f35e21",
   "metadata": {},
   "outputs": [],
   "source": [
    "test_df=pd.read_csv('test_preprocesseddata.csv')"
   ]
  },
  {
   "cell_type": "code",
   "execution_count": null,
   "id": "0fe8061e",
   "metadata": {},
   "outputs": [],
   "source": [
    "test_df.shape"
   ]
  },
  {
   "cell_type": "code",
   "execution_count": null,
   "id": "91aedf4a",
   "metadata": {},
   "outputs": [],
   "source": [
    "test_df.head()"
   ]
  },
  {
   "cell_type": "code",
   "execution_count": null,
   "id": "efba29d6",
   "metadata": {},
   "outputs": [],
   "source": [
    "test_df.drop('SK_ID_CURR',axis=1,inplace=True)"
   ]
  },
  {
   "cell_type": "code",
   "execution_count": null,
   "id": "21d0cbe4",
   "metadata": {},
   "outputs": [],
   "source": [
    "test_df.drop(lst_drop,axis=1,inplace=True)"
   ]
  },
  {
   "cell_type": "code",
   "execution_count": null,
   "id": "98eeebfc",
   "metadata": {},
   "outputs": [],
   "source": [
    "test_df.shape"
   ]
  },
  {
   "cell_type": "code",
   "execution_count": null,
   "id": "aa4d8605",
   "metadata": {},
   "outputs": [],
   "source": [
    "for col in test_df:\n",
    "    print(col)\n",
    "    if col not in lst_keep:\n",
    "        test_df.drop(col,axis=1,inplace=True)"
   ]
  },
  {
   "cell_type": "code",
   "execution_count": null,
   "id": "ecd4577d",
   "metadata": {},
   "outputs": [],
   "source": [
    "test=pd.read_csv('test_data.csv')\n",
    "SK_ID=test['SK_ID_CURR']"
   ]
  },
  {
   "cell_type": "code",
   "execution_count": null,
   "id": "ed04a910",
   "metadata": {},
   "outputs": [],
   "source": [
    "test_df.shape"
   ]
  },
  {
   "cell_type": "code",
   "execution_count": null,
   "id": "4d07c591",
   "metadata": {},
   "outputs": [],
   "source": [
    "y_pred=xgb_model.predict(test_df)"
   ]
  },
  {
   "cell_type": "code",
   "execution_count": null,
   "id": "f1365109",
   "metadata": {},
   "outputs": [],
   "source": [
    "type(y_pred)"
   ]
  },
  {
   "cell_type": "code",
   "execution_count": null,
   "id": "d1000ffd",
   "metadata": {},
   "outputs": [],
   "source": [
    "y_pred"
   ]
  },
  {
   "cell_type": "code",
   "execution_count": null,
   "id": "084233b9",
   "metadata": {},
   "outputs": [],
   "source": [
    "y_pred_gbc"
   ]
  },
  {
   "cell_type": "code",
   "execution_count": null,
   "id": "66a7a2cb",
   "metadata": {},
   "outputs": [],
   "source": [
    "y_pred=y_pred.astype(int)"
   ]
  },
  {
   "cell_type": "code",
   "execution_count": null,
   "id": "5372002f",
   "metadata": {},
   "outputs": [],
   "source": [
    "y_pred_gbc=y_pred_gbc.astype(int)"
   ]
  },
  {
   "cell_type": "code",
   "execution_count": null,
   "id": "08340f10",
   "metadata": {},
   "outputs": [],
   "source": [
    "y_pred"
   ]
  },
  {
   "cell_type": "code",
   "execution_count": null,
   "id": "1101f901",
   "metadata": {},
   "outputs": [],
   "source": [
    "y_pred_gbc"
   ]
  },
  {
   "cell_type": "code",
   "execution_count": null,
   "id": "a79118ae",
   "metadata": {},
   "outputs": [],
   "source": [
    "\n",
    "y_pred=pd.DataFrame(y_pred,columns=['TARGET'])"
   ]
  },
  {
   "cell_type": "code",
   "execution_count": null,
   "id": "4a9f336e",
   "metadata": {},
   "outputs": [],
   "source": [
    "y_pred_gbc=pd.DataFrame(y_pred_gbc,columns=['TARGET'])"
   ]
  },
  {
   "cell_type": "code",
   "execution_count": null,
   "id": "faeeae31",
   "metadata": {},
   "outputs": [],
   "source": [
    "df['TARGET'].dtype\n"
   ]
  },
  {
   "cell_type": "code",
   "execution_count": null,
   "id": "78410c93",
   "metadata": {},
   "outputs": [],
   "source": [
    "y_pred_gbc['TARGET']"
   ]
  },
  {
   "cell_type": "code",
   "execution_count": null,
   "id": "8623a16b",
   "metadata": {},
   "outputs": [],
   "source": [
    "y_pred"
   ]
  },
  {
   "cell_type": "code",
   "execution_count": null,
   "id": "2b9f3832",
   "metadata": {},
   "outputs": [],
   "source": [
    "SK_ID_CURR=pd.DataFrame(SK_ID,columns=['SK_ID_CURR'])"
   ]
  },
  {
   "cell_type": "code",
   "execution_count": null,
   "id": "f148433e",
   "metadata": {},
   "outputs": [],
   "source": [
    "y_pred.insert(0,'SK_ID_CURR',SK_ID)"
   ]
  },
  {
   "cell_type": "code",
   "execution_count": null,
   "id": "d28b5f1c",
   "metadata": {},
   "outputs": [],
   "source": [
    "y_pred_gbc.insert(0,'SK_ID_CURR',SK_ID)"
   ]
  },
  {
   "cell_type": "code",
   "execution_count": null,
   "id": "d158452b",
   "metadata": {},
   "outputs": [],
   "source": [
    "y_pred.head()"
   ]
  },
  {
   "cell_type": "code",
   "execution_count": null,
   "id": "2c293431",
   "metadata": {},
   "outputs": [],
   "source": [
    "y_pred_gbc.head()"
   ]
  },
  {
   "cell_type": "code",
   "execution_count": null,
   "id": "50868aa1",
   "metadata": {},
   "outputs": [],
   "source": [
    "y_pred.to_csv('y_pred.csv',index=False)"
   ]
  },
  {
   "cell_type": "code",
   "execution_count": null,
   "id": "38c95670",
   "metadata": {},
   "outputs": [],
   "source": [
    "y_pred_gbc.to_csv('y_pred_gbc.csv',index=False)"
   ]
  },
  {
   "cell_type": "code",
   "execution_count": null,
   "id": "2883e162",
   "metadata": {},
   "outputs": [],
   "source": [
    "y_pred.shape"
   ]
  },
  {
   "cell_type": "code",
   "execution_count": null,
   "id": "91594d16",
   "metadata": {},
   "outputs": [],
   "source": [
    "label=pd.read_csv('y_pred.csv')"
   ]
  },
  {
   "cell_type": "code",
   "execution_count": null,
   "id": "6bf65e7c",
   "metadata": {},
   "outputs": [],
   "source": [
    "label.head()"
   ]
  },
  {
   "cell_type": "code",
   "execution_count": null,
   "id": "ccef9211",
   "metadata": {},
   "outputs": [],
   "source": [
    "label['TARGET'].nunique()"
   ]
  },
  {
   "cell_type": "code",
   "execution_count": null,
   "id": "e37cf722",
   "metadata": {},
   "outputs": [],
   "source": [
    "label.shape"
   ]
  },
  {
   "cell_type": "code",
   "execution_count": null,
   "id": "3fa57230",
   "metadata": {},
   "outputs": [],
   "source": [
    "sample=pd.read_csv('sample_solutions.csv')"
   ]
  },
  {
   "cell_type": "code",
   "execution_count": null,
   "id": "e6a45b2a",
   "metadata": {},
   "outputs": [],
   "source": [
    "sample.shape"
   ]
  },
  {
   "cell_type": "code",
   "execution_count": null,
   "id": "50f19554",
   "metadata": {},
   "outputs": [],
   "source": [
    "sample.head()"
   ]
  },
  {
   "cell_type": "code",
   "execution_count": null,
   "id": "0f35eb6b",
   "metadata": {},
   "outputs": [],
   "source": [
    "from sklearn.metrics import auc"
   ]
  },
  {
   "cell_type": "code",
   "execution_count": null,
   "id": "a3f157ca",
   "metadata": {},
   "outputs": [],
   "source": []
  },
  {
   "cell_type": "code",
   "execution_count": null,
   "id": "6962d569",
   "metadata": {},
   "outputs": [],
   "source": []
  },
  {
   "cell_type": "code",
   "execution_count": null,
   "id": "ec577758",
   "metadata": {},
   "outputs": [],
   "source": []
  },
  {
   "cell_type": "code",
   "execution_count": null,
   "id": "dbd28b2a",
   "metadata": {},
   "outputs": [],
   "source": []
  }
 ],
 "metadata": {
  "kernelspec": {
   "display_name": "Python 3 (ipykernel)",
   "language": "python",
   "name": "python3"
  },
  "language_info": {
   "codemirror_mode": {
    "name": "ipython",
    "version": 3
   },
   "file_extension": ".py",
   "mimetype": "text/x-python",
   "name": "python",
   "nbconvert_exporter": "python",
   "pygments_lexer": "ipython3",
   "version": "3.9.13"
  }
 },
 "nbformat": 4,
 "nbformat_minor": 5
}
