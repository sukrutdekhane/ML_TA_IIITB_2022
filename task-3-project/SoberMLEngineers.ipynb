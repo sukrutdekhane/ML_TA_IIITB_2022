{
 "cells": [
  {
   "cell_type": "markdown",
   "metadata": {},
   "source": [
    "# ML Project\n",
    "Sober ML Engineers\n",
    "1. Shashank Shekar \n",
    "2. Chinthan Chandra"
   ]
  },
  {
   "cell_type": "markdown",
   "metadata": {},
   "source": [
    "## Importing Libraries and Reading Data"
   ]
  },
  {
   "cell_type": "code",
   "execution_count": 1,
   "metadata": {},
   "outputs": [],
   "source": [
    "import pandas as pd\n",
    "import numpy as np\n",
    "import matplotlib.pyplot as plt\n",
    "import seaborn as sns\n",
    "from sklearn.metrics import f1_score,accuracy_score"
   ]
  },
  {
   "cell_type": "code",
   "execution_count": 2,
   "metadata": {},
   "outputs": [],
   "source": [
    "columns_description=pd.read_csv(\"columns_description.csv\")"
   ]
  },
  {
   "cell_type": "code",
   "execution_count": 3,
   "metadata": {},
   "outputs": [
    {
     "data": {
      "text/html": [
       "<div>\n",
       "<style scoped>\n",
       "    .dataframe tbody tr th:only-of-type {\n",
       "        vertical-align: middle;\n",
       "    }\n",
       "\n",
       "    .dataframe tbody tr th {\n",
       "        vertical-align: top;\n",
       "    }\n",
       "\n",
       "    .dataframe thead th {\n",
       "        text-align: right;\n",
       "    }\n",
       "</style>\n",
       "<table border=\"1\" class=\"dataframe\">\n",
       "  <thead>\n",
       "    <tr style=\"text-align: right;\">\n",
       "      <th></th>\n",
       "      <th>Row</th>\n",
       "      <th>Description</th>\n",
       "      <th>Special</th>\n",
       "    </tr>\n",
       "  </thead>\n",
       "  <tbody>\n",
       "    <tr>\n",
       "      <th>0</th>\n",
       "      <td>SK_ID_CURR</td>\n",
       "      <td>ID of loan in our sample</td>\n",
       "      <td>NaN</td>\n",
       "    </tr>\n",
       "    <tr>\n",
       "      <th>1</th>\n",
       "      <td>TARGET</td>\n",
       "      <td>Target variable (1 - client with payment diffi...</td>\n",
       "      <td>NaN</td>\n",
       "    </tr>\n",
       "    <tr>\n",
       "      <th>2</th>\n",
       "      <td>NAME_CONTRACT_TYPE</td>\n",
       "      <td>Identification if loan is cash or revolving</td>\n",
       "      <td>NaN</td>\n",
       "    </tr>\n",
       "    <tr>\n",
       "      <th>3</th>\n",
       "      <td>CODE_GENDER</td>\n",
       "      <td>Gender of the client</td>\n",
       "      <td>NaN</td>\n",
       "    </tr>\n",
       "    <tr>\n",
       "      <th>4</th>\n",
       "      <td>FLAG_OWN_CAR</td>\n",
       "      <td>Flag if the client owns a car</td>\n",
       "      <td>NaN</td>\n",
       "    </tr>\n",
       "    <tr>\n",
       "      <th>...</th>\n",
       "      <td>...</td>\n",
       "      <td>...</td>\n",
       "      <td>...</td>\n",
       "    </tr>\n",
       "    <tr>\n",
       "      <th>117</th>\n",
       "      <td>AMT_REQ_CREDIT_BUREAU_DAY</td>\n",
       "      <td>Number of enquiries to Credit Bureau about the...</td>\n",
       "      <td>NaN</td>\n",
       "    </tr>\n",
       "    <tr>\n",
       "      <th>118</th>\n",
       "      <td>AMT_REQ_CREDIT_BUREAU_WEEK</td>\n",
       "      <td>Number of enquiries to Credit Bureau about the...</td>\n",
       "      <td>NaN</td>\n",
       "    </tr>\n",
       "    <tr>\n",
       "      <th>119</th>\n",
       "      <td>AMT_REQ_CREDIT_BUREAU_MON</td>\n",
       "      <td>Number of enquiries to Credit Bureau about the...</td>\n",
       "      <td>NaN</td>\n",
       "    </tr>\n",
       "    <tr>\n",
       "      <th>120</th>\n",
       "      <td>AMT_REQ_CREDIT_BUREAU_QRT</td>\n",
       "      <td>Number of enquiries to Credit Bureau about the...</td>\n",
       "      <td>NaN</td>\n",
       "    </tr>\n",
       "    <tr>\n",
       "      <th>121</th>\n",
       "      <td>AMT_REQ_CREDIT_BUREAU_YEAR</td>\n",
       "      <td>Number of enquiries to Credit Bureau about the...</td>\n",
       "      <td>NaN</td>\n",
       "    </tr>\n",
       "  </tbody>\n",
       "</table>\n",
       "<p>122 rows × 3 columns</p>\n",
       "</div>"
      ],
      "text/plain": [
       "                            Row  \\\n",
       "0                    SK_ID_CURR   \n",
       "1                        TARGET   \n",
       "2            NAME_CONTRACT_TYPE   \n",
       "3                   CODE_GENDER   \n",
       "4                  FLAG_OWN_CAR   \n",
       "..                          ...   \n",
       "117   AMT_REQ_CREDIT_BUREAU_DAY   \n",
       "118  AMT_REQ_CREDIT_BUREAU_WEEK   \n",
       "119   AMT_REQ_CREDIT_BUREAU_MON   \n",
       "120   AMT_REQ_CREDIT_BUREAU_QRT   \n",
       "121  AMT_REQ_CREDIT_BUREAU_YEAR   \n",
       "\n",
       "                                           Description Special  \n",
       "0                             ID of loan in our sample     NaN  \n",
       "1    Target variable (1 - client with payment diffi...     NaN  \n",
       "2          Identification if loan is cash or revolving     NaN  \n",
       "3                                 Gender of the client     NaN  \n",
       "4                        Flag if the client owns a car     NaN  \n",
       "..                                                 ...     ...  \n",
       "117  Number of enquiries to Credit Bureau about the...     NaN  \n",
       "118  Number of enquiries to Credit Bureau about the...     NaN  \n",
       "119  Number of enquiries to Credit Bureau about the...     NaN  \n",
       "120  Number of enquiries to Credit Bureau about the...     NaN  \n",
       "121  Number of enquiries to Credit Bureau about the...     NaN  \n",
       "\n",
       "[122 rows x 3 columns]"
      ]
     },
     "execution_count": 3,
     "metadata": {},
     "output_type": "execute_result"
    }
   ],
   "source": [
    "columns_description"
   ]
  },
  {
   "cell_type": "code",
   "execution_count": 4,
   "metadata": {},
   "outputs": [],
   "source": [
    "train_data=pd.read_csv(\"train_data.csv\")"
   ]
  },
  {
   "cell_type": "code",
   "execution_count": 5,
   "metadata": {},
   "outputs": [
    {
     "name": "stderr",
     "output_type": "stream",
     "text": [
      "/opt/anaconda3/lib/python3.9/site-packages/seaborn/_decorators.py:36: FutureWarning: Pass the following variable as a keyword arg: x. From version 0.12, the only valid positional argument will be `data`, and passing other arguments without an explicit keyword will result in an error or misinterpretation.\n",
      "  warnings.warn(\n"
     ]
    },
    {
     "data": {
      "text/plain": [
       "<AxesSubplot:xlabel='TARGET', ylabel='count'>"
      ]
     },
     "execution_count": 5,
     "metadata": {},
     "output_type": "execute_result"
    },
    {
     "data": {
      "image/png": "[encoded data removed]",
      "text/plain": [
       "<Figure size 432x288 with 1 Axes>"
      ]
     },
     "metadata": {
      "needs_background": "light"
     },
     "output_type": "display_data"
    }
   ],
   "source": [
    "sns.countplot(train_data[\"TARGET\"])"
   ]
  },
  {
   "cell_type": "code",
   "execution_count": 6,
   "metadata": {},
   "outputs": [
    {
     "data": {
      "text/plain": [
       "0.9192709180189262"
      ]
     },
     "execution_count": 6,
     "metadata": {},
     "output_type": "execute_result"
    }
   ],
   "source": [
    "((train_data[\"TARGET\"]==0).sum())/train_data[\"TARGET\"].shape[0]"
   ]
  },
  {
   "cell_type": "code",
   "execution_count": 7,
   "metadata": {},
   "outputs": [],
   "source": [
    "test_data=pd.read_csv(\"test_data.csv\")"
   ]
  },
  {
   "cell_type": "code",
   "execution_count": 8,
   "metadata": {},
   "outputs": [],
   "source": [
    "submission=pd.read_csv(\"./sample_solutions.csv\")"
   ]
  },
  {
   "cell_type": "markdown",
   "metadata": {},
   "source": [
    "## Preprocessing"
   ]
  },
  {
   "cell_type": "markdown",
   "metadata": {},
   "source": [
    "### Checking for duplicates"
   ]
  },
  {
   "cell_type": "code",
   "execution_count": 9,
   "metadata": {},
   "outputs": [
    {
     "data": {
      "text/plain": [
       "(184506, 122)"
      ]
     },
     "execution_count": 9,
     "metadata": {},
     "output_type": "execute_result"
    }
   ],
   "source": [
    "train_data.shape"
   ]
  },
  {
   "cell_type": "code",
   "execution_count": 10,
   "metadata": {},
   "outputs": [
    {
     "data": {
      "text/plain": [
       "(123005, 121)"
      ]
     },
     "execution_count": 10,
     "metadata": {},
     "output_type": "execute_result"
    }
   ],
   "source": [
    "test_data.shape"
   ]
  },
  {
   "cell_type": "code",
   "execution_count": 11,
   "metadata": {},
   "outputs": [],
   "source": [
    "train_data.drop_duplicates(inplace=True)"
   ]
  },
  {
   "cell_type": "code",
   "execution_count": 12,
   "metadata": {},
   "outputs": [],
   "source": [
    "test_data.drop_duplicates(inplace=True)"
   ]
  },
  {
   "cell_type": "code",
   "execution_count": 13,
   "metadata": {},
   "outputs": [
    {
     "data": {
      "text/plain": [
       "(184506, 122)"
      ]
     },
     "execution_count": 13,
     "metadata": {},
     "output_type": "execute_result"
    }
   ],
   "source": [
    "train_data.shape"
   ]
  },
  {
   "cell_type": "code",
   "execution_count": 14,
   "metadata": {},
   "outputs": [
    {
     "data": {
      "text/plain": [
       "(123005, 121)"
      ]
     },
     "execution_count": 14,
     "metadata": {},
     "output_type": "execute_result"
    }
   ],
   "source": [
    "test_data.shape"
   ]
  },
  {
   "cell_type": "markdown",
   "metadata": {},
   "source": [
    "No duplicates"
   ]
  },
  {
   "cell_type": "markdown",
   "metadata": {},
   "source": [
    "## Removing Null Values"
   ]
  },
  {
   "cell_type": "markdown",
   "metadata": {},
   "source": [
    "Checking for the percentage of null values in each column."
   ]
  },
  {
   "cell_type": "code",
   "execution_count": 15,
   "metadata": {},
   "outputs": [
    {
     "name": "stdout",
     "output_type": "stream",
     "text": [
      "SK_ID_CURR                     0.000000\n",
      "NAME_CONTRACT_TYPE             0.000000\n",
      "CODE_GENDER                    0.000000\n",
      "FLAG_OWN_CAR                   0.000000\n",
      "FLAG_OWN_REALTY                0.000000\n",
      "                                ...    \n",
      "AMT_REQ_CREDIT_BUREAU_WEEK    13.548611\n",
      "AMT_REQ_CREDIT_BUREAU_MON     13.548611\n",
      "AMT_REQ_CREDIT_BUREAU_QRT     13.548611\n",
      "AMT_REQ_CREDIT_BUREAU_YEAR    13.548611\n",
      "TARGET                         0.000000\n",
      "Length: 122, dtype: float64\n"
     ]
    }
   ],
   "source": [
    "Nan_percentage_in_train_data=(train_data.isna().sum()/train_data.shape[0])*100\n",
    "print(Nan_percentage_in_train_data)"
   ]
  },
  {
   "cell_type": "code",
   "execution_count": 16,
   "metadata": {},
   "outputs": [
    {
     "name": "stdout",
     "output_type": "stream",
     "text": [
      "SK_ID_CURR                     0.000000\n",
      "NAME_CONTRACT_TYPE             0.000000\n",
      "CODE_GENDER                    0.000000\n",
      "FLAG_OWN_CAR                   0.000000\n",
      "FLAG_OWN_REALTY                0.000000\n",
      "                                ...    \n",
      "AMT_REQ_CREDIT_BUREAU_DAY     13.431161\n",
      "AMT_REQ_CREDIT_BUREAU_WEEK    13.431161\n",
      "AMT_REQ_CREDIT_BUREAU_MON     13.431161\n",
      "AMT_REQ_CREDIT_BUREAU_QRT     13.431161\n",
      "AMT_REQ_CREDIT_BUREAU_YEAR    13.431161\n",
      "Length: 121, dtype: float64\n"
     ]
    }
   ],
   "source": [
    "Nan_percentage_in_test_data=(test_data.isna().sum()/test_data.shape[0])*100\n",
    "print(Nan_percentage_in_test_data)"
   ]
  },
  {
   "cell_type": "markdown",
   "metadata": {},
   "source": [
    "Dropping the columns which have more than 40% of the data as Nan values."
   ]
  },
  {
   "cell_type": "code",
   "execution_count": 17,
   "metadata": {},
   "outputs": [],
   "source": [
    "for column in train_data:\n",
    "\tif(Nan_percentage_in_train_data[column]>40):\n",
    "\t\ttrain_data.drop(axis=\"columns\",labels=column,inplace=True)\n",
    "\t\ttest_data.drop(axis=\"columns\",labels=column,inplace=True)"
   ]
  },
  {
   "cell_type": "code",
   "execution_count": 18,
   "metadata": {},
   "outputs": [],
   "source": [
    "nunu=train_data.nunique()"
   ]
  },
  {
   "cell_type": "code",
   "execution_count": 19,
   "metadata": {},
   "outputs": [
    {
     "data": {
      "text/plain": [
       "(184506, 73)"
      ]
     },
     "execution_count": 19,
     "metadata": {},
     "output_type": "execute_result"
    }
   ],
   "source": [
    "train_data.shape"
   ]
  },
  {
   "cell_type": "code",
   "execution_count": 20,
   "metadata": {},
   "outputs": [
    {
     "data": {
      "text/plain": [
       "(123005, 72)"
      ]
     },
     "execution_count": 20,
     "metadata": {},
     "output_type": "execute_result"
    }
   ],
   "source": [
    "test_data.shape"
   ]
  },
  {
   "cell_type": "markdown",
   "metadata": {},
   "source": [
    "### Columns with minute null values"
   ]
  },
  {
   "cell_type": "markdown",
   "metadata": {},
   "source": [
    "Dropping the rows for the columns with very minute null values."
   ]
  },
  {
   "cell_type": "code",
   "execution_count": 21,
   "metadata": {},
   "outputs": [],
   "source": [
    "train_data.drop(axis=\"rows\",labels=train_data.index[train_data[\"AMT_ANNUITY\"].isna()],inplace=True) \n",
    "train_data.drop(axis=\"rows\",labels=train_data.index[train_data[\"CNT_FAM_MEMBERS\"].isna()],inplace=True)\n",
    "train_data.drop(axis=\"rows\",labels=train_data.index[train_data[\"DAYS_LAST_PHONE_CHANGE\"].isna()],inplace=True)"
   ]
  },
  {
   "cell_type": "markdown",
   "metadata": {},
   "source": [
    "For the test data since we can't drop the rows, we impute some value in these minute null value columns. "
   ]
  },
  {
   "cell_type": "code",
   "execution_count": 22,
   "metadata": {},
   "outputs": [
    {
     "data": {
      "text/plain": [
       "1"
      ]
     },
     "execution_count": 22,
     "metadata": {},
     "output_type": "execute_result"
    }
   ],
   "source": [
    "test_data[\"CNT_FAM_MEMBERS\"].isna().sum()"
   ]
  },
  {
   "cell_type": "code",
   "execution_count": 23,
   "metadata": {},
   "outputs": [
    {
     "data": {
      "text/plain": [
       "2.0     63184\n",
       "1.0     27354\n",
       "3.0     20781\n",
       "4.0     10038\n",
       "5.0      1411\n",
       "6.0       187\n",
       "7.0        36\n",
       "8.0         8\n",
       "9.0         1\n",
       "12.0        1\n",
       "13.0        1\n",
       "20.0        1\n",
       "15.0        1\n",
       "Name: CNT_FAM_MEMBERS, dtype: int64"
      ]
     },
     "execution_count": 23,
     "metadata": {},
     "output_type": "execute_result"
    }
   ],
   "source": [
    "test_data[\"CNT_FAM_MEMBERS\"].value_counts()"
   ]
  },
  {
   "cell_type": "markdown",
   "metadata": {},
   "source": [
    "Imputing 2 as it is the majority."
   ]
  },
  {
   "cell_type": "code",
   "execution_count": 24,
   "metadata": {},
   "outputs": [],
   "source": [
    "test_data[\"CNT_FAM_MEMBERS\"].fillna(2,inplace=True)"
   ]
  },
  {
   "cell_type": "code",
   "execution_count": 25,
   "metadata": {},
   "outputs": [
    {
     "data": {
      "text/plain": [
       "6"
      ]
     },
     "execution_count": 25,
     "metadata": {},
     "output_type": "execute_result"
    }
   ],
   "source": [
    "test_data[\"AMT_ANNUITY\"].isna().sum()"
   ]
  },
  {
   "cell_type": "code",
   "execution_count": 26,
   "metadata": {},
   "outputs": [
    {
     "data": {
      "text/plain": [
       "count    122999.000000\n",
       "mean      27099.750994\n",
       "std       14531.338692\n",
       "min        1980.000000\n",
       "25%       16501.500000\n",
       "50%       24853.500000\n",
       "75%       34596.000000\n",
       "max      230161.500000\n",
       "Name: AMT_ANNUITY, dtype: float64"
      ]
     },
     "execution_count": 26,
     "metadata": {},
     "output_type": "execute_result"
    }
   ],
   "source": [
    "test_data[\"AMT_ANNUITY\"].describe()"
   ]
  },
  {
   "cell_type": "code",
   "execution_count": 27,
   "metadata": {},
   "outputs": [],
   "source": [
    "test_data[\"AMT_ANNUITY\"].fillna(test_data[\"AMT_ANNUITY\"].median(),inplace=True)"
   ]
  },
  {
   "cell_type": "markdown",
   "metadata": {},
   "source": [
    "### Other Columns"
   ]
  },
  {
   "cell_type": "markdown",
   "metadata": {},
   "source": [
    "We impute some value to the null values."
   ]
  },
  {
   "cell_type": "markdown",
   "metadata": {},
   "source": [
    "#### AMT_REQ_CREDIT_BUREAU_DAY"
   ]
  },
  {
   "cell_type": "code",
   "execution_count": 28,
   "metadata": {},
   "outputs": [
    {
     "data": {
      "text/plain": [
       "0.0    158582\n",
       "NaN     24995\n",
       "1.0       790\n",
       "2.0        69\n",
       "3.0        30\n",
       "4.0        20\n",
       "6.0         5\n",
       "5.0         5\n",
       "8.0         1\n",
       "9.0         1\n",
       "Name: AMT_REQ_CREDIT_BUREAU_DAY, dtype: int64"
      ]
     },
     "execution_count": 28,
     "metadata": {},
     "output_type": "execute_result"
    }
   ],
   "source": [
    "train_data[\"AMT_REQ_CREDIT_BUREAU_DAY\"].value_counts(dropna=False)"
   ]
  },
  {
   "cell_type": "code",
   "execution_count": 29,
   "metadata": {},
   "outputs": [],
   "source": [
    "train_data[\"AMT_REQ_CREDIT_BUREAU_DAY\"].fillna(0,inplace=True)"
   ]
  },
  {
   "cell_type": "code",
   "execution_count": 30,
   "metadata": {},
   "outputs": [
    {
     "data": {
      "text/plain": [
       "0.0    183577\n",
       "1.0       790\n",
       "2.0        69\n",
       "3.0        30\n",
       "4.0        20\n",
       "6.0         5\n",
       "5.0         5\n",
       "8.0         1\n",
       "9.0         1\n",
       "Name: AMT_REQ_CREDIT_BUREAU_DAY, dtype: int64"
      ]
     },
     "execution_count": 30,
     "metadata": {},
     "output_type": "execute_result"
    }
   ],
   "source": [
    "train_data[\"AMT_REQ_CREDIT_BUREAU_DAY\"].value_counts(dropna=False)"
   ]
  },
  {
   "cell_type": "code",
   "execution_count": 31,
   "metadata": {},
   "outputs": [
    {
     "data": {
      "text/plain": [
       "0.0    105916\n",
       "NaN     16521\n",
       "1.0       502\n",
       "2.0        37\n",
       "3.0        15\n",
       "4.0         6\n",
       "5.0         4\n",
       "6.0         3\n",
       "9.0         1\n",
       "Name: AMT_REQ_CREDIT_BUREAU_DAY, dtype: int64"
      ]
     },
     "execution_count": 31,
     "metadata": {},
     "output_type": "execute_result"
    }
   ],
   "source": [
    "test_data[\"AMT_REQ_CREDIT_BUREAU_DAY\"].value_counts(dropna=False)"
   ]
  },
  {
   "cell_type": "code",
   "execution_count": 32,
   "metadata": {},
   "outputs": [],
   "source": [
    "test_data[\"AMT_REQ_CREDIT_BUREAU_DAY\"].fillna(0,inplace=True)"
   ]
  },
  {
   "cell_type": "code",
   "execution_count": 33,
   "metadata": {},
   "outputs": [
    {
     "data": {
      "text/plain": [
       "0.0    122437\n",
       "1.0       502\n",
       "2.0        37\n",
       "3.0        15\n",
       "4.0         6\n",
       "5.0         4\n",
       "6.0         3\n",
       "9.0         1\n",
       "Name: AMT_REQ_CREDIT_BUREAU_DAY, dtype: int64"
      ]
     },
     "execution_count": 33,
     "metadata": {},
     "output_type": "execute_result"
    }
   ],
   "source": [
    "test_data[\"AMT_REQ_CREDIT_BUREAU_DAY\"].value_counts(dropna=False)"
   ]
  },
  {
   "cell_type": "markdown",
   "metadata": {},
   "source": [
    "#### AMT_REQ_CREDIT_BUREAU_HOUR"
   ]
  },
  {
   "cell_type": "code",
   "execution_count": 34,
   "metadata": {},
   "outputs": [
    {
     "data": {
      "text/plain": [
       "0.0    158540\n",
       "NaN     24995\n",
       "1.0       923\n",
       "2.0        33\n",
       "3.0         6\n",
       "4.0         1\n",
       "Name: AMT_REQ_CREDIT_BUREAU_HOUR, dtype: int64"
      ]
     },
     "execution_count": 34,
     "metadata": {},
     "output_type": "execute_result"
    }
   ],
   "source": [
    "train_data['AMT_REQ_CREDIT_BUREAU_HOUR'].value_counts(dropna=False)"
   ]
  },
  {
   "cell_type": "code",
   "execution_count": 35,
   "metadata": {},
   "outputs": [],
   "source": [
    "train_data['AMT_REQ_CREDIT_BUREAU_HOUR'].fillna(0,inplace=True)"
   ]
  },
  {
   "cell_type": "code",
   "execution_count": 36,
   "metadata": {},
   "outputs": [
    {
     "data": {
      "text/plain": [
       "0.0    183535\n",
       "1.0       923\n",
       "2.0        33\n",
       "3.0         6\n",
       "4.0         1\n",
       "Name: AMT_REQ_CREDIT_BUREAU_HOUR, dtype: int64"
      ]
     },
     "execution_count": 36,
     "metadata": {},
     "output_type": "execute_result"
    }
   ],
   "source": [
    "train_data['AMT_REQ_CREDIT_BUREAU_HOUR'].value_counts(dropna=False)"
   ]
  },
  {
   "cell_type": "code",
   "execution_count": 37,
   "metadata": {},
   "outputs": [
    {
     "data": {
      "text/plain": [
       "0.0    105821\n",
       "NaN     16521\n",
       "1.0       637\n",
       "2.0        23\n",
       "3.0         3\n",
       "Name: AMT_REQ_CREDIT_BUREAU_HOUR, dtype: int64"
      ]
     },
     "execution_count": 37,
     "metadata": {},
     "output_type": "execute_result"
    }
   ],
   "source": [
    "test_data['AMT_REQ_CREDIT_BUREAU_HOUR'].value_counts(dropna=False)"
   ]
  },
  {
   "cell_type": "code",
   "execution_count": 38,
   "metadata": {},
   "outputs": [],
   "source": [
    "test_data['AMT_REQ_CREDIT_BUREAU_HOUR'].fillna(0,inplace=True)"
   ]
  },
  {
   "cell_type": "code",
   "execution_count": 39,
   "metadata": {},
   "outputs": [
    {
     "data": {
      "text/plain": [
       "0.0    122342\n",
       "1.0       637\n",
       "2.0        23\n",
       "3.0         3\n",
       "Name: AMT_REQ_CREDIT_BUREAU_HOUR, dtype: int64"
      ]
     },
     "execution_count": 39,
     "metadata": {},
     "output_type": "execute_result"
    }
   ],
   "source": [
    "test_data['AMT_REQ_CREDIT_BUREAU_HOUR'].value_counts(dropna=False)"
   ]
  },
  {
   "cell_type": "markdown",
   "metadata": {},
   "source": [
    "#### AMT_REQ_CREDIT_BUREAU_WEEK"
   ]
  },
  {
   "cell_type": "code",
   "execution_count": 40,
   "metadata": {},
   "outputs": [
    {
     "data": {
      "text/plain": [
       "0.0    154390\n",
       "NaN     24995\n",
       "1.0      4902\n",
       "2.0       131\n",
       "3.0        38\n",
       "4.0        19\n",
       "6.0        13\n",
       "5.0         8\n",
       "7.0         2\n",
       "Name: AMT_REQ_CREDIT_BUREAU_WEEK, dtype: int64"
      ]
     },
     "execution_count": 40,
     "metadata": {},
     "output_type": "execute_result"
    }
   ],
   "source": [
    "train_data['AMT_REQ_CREDIT_BUREAU_WEEK'].value_counts(dropna=False)"
   ]
  },
  {
   "cell_type": "code",
   "execution_count": 41,
   "metadata": {},
   "outputs": [],
   "source": [
    "train_data['AMT_REQ_CREDIT_BUREAU_WEEK'].fillna(0,inplace=True)"
   ]
  },
  {
   "cell_type": "code",
   "execution_count": 42,
   "metadata": {},
   "outputs": [
    {
     "data": {
      "text/plain": [
       "0.0    179385\n",
       "1.0      4902\n",
       "2.0       131\n",
       "3.0        38\n",
       "4.0        19\n",
       "6.0        13\n",
       "5.0         8\n",
       "7.0         2\n",
       "Name: AMT_REQ_CREDIT_BUREAU_WEEK, dtype: int64"
      ]
     },
     "execution_count": 42,
     "metadata": {},
     "output_type": "execute_result"
    }
   ],
   "source": [
    "train_data['AMT_REQ_CREDIT_BUREAU_WEEK'].value_counts(dropna=False)"
   ]
  },
  {
   "cell_type": "code",
   "execution_count": 43,
   "metadata": {},
   "outputs": [
    {
     "data": {
      "text/plain": [
       "0.0    103062\n",
       "NaN     16521\n",
       "1.0      3305\n",
       "2.0        68\n",
       "3.0        20\n",
       "4.0        15\n",
       "6.0         7\n",
       "8.0         5\n",
       "5.0         2\n",
       "Name: AMT_REQ_CREDIT_BUREAU_WEEK, dtype: int64"
      ]
     },
     "execution_count": 43,
     "metadata": {},
     "output_type": "execute_result"
    }
   ],
   "source": [
    "test_data['AMT_REQ_CREDIT_BUREAU_WEEK'].value_counts(dropna=False)"
   ]
  },
  {
   "cell_type": "code",
   "execution_count": 44,
   "metadata": {},
   "outputs": [],
   "source": [
    "test_data['AMT_REQ_CREDIT_BUREAU_WEEK'].fillna(0,inplace=True)"
   ]
  },
  {
   "cell_type": "code",
   "execution_count": 45,
   "metadata": {},
   "outputs": [
    {
     "data": {
      "text/plain": [
       "0.0    119583\n",
       "1.0      3305\n",
       "2.0        68\n",
       "3.0        20\n",
       "4.0        15\n",
       "6.0         7\n",
       "8.0         5\n",
       "5.0         2\n",
       "Name: AMT_REQ_CREDIT_BUREAU_WEEK, dtype: int64"
      ]
     },
     "execution_count": 45,
     "metadata": {},
     "output_type": "execute_result"
    }
   ],
   "source": [
    "test_data['AMT_REQ_CREDIT_BUREAU_WEEK'].value_counts(dropna=False)"
   ]
  },
  {
   "cell_type": "markdown",
   "metadata": {},
   "source": [
    "#### AMT_REQ_CREDIT_BUREAU_MON"
   ]
  },
  {
   "cell_type": "code",
   "execution_count": 46,
   "metadata": {},
   "outputs": [
    {
     "data": {
      "text/plain": [
       "0.0     133397\n",
       "NaN      24995\n",
       "1.0      19751\n",
       "2.0       3188\n",
       "3.0       1207\n",
       "4.0        647\n",
       "5.0        371\n",
       "6.0        216\n",
       "7.0        166\n",
       "9.0        132\n",
       "8.0        110\n",
       "10.0        75\n",
       "11.0        74\n",
       "13.0        48\n",
       "12.0        44\n",
       "14.0        27\n",
       "15.0        21\n",
       "16.0        14\n",
       "17.0         7\n",
       "18.0         4\n",
       "19.0         2\n",
       "22.0         1\n",
       "24.0         1\n",
       "Name: AMT_REQ_CREDIT_BUREAU_MON, dtype: int64"
      ]
     },
     "execution_count": 46,
     "metadata": {},
     "output_type": "execute_result"
    }
   ],
   "source": [
    "train_data['AMT_REQ_CREDIT_BUREAU_MON'].value_counts(dropna=False)"
   ]
  },
  {
   "cell_type": "code",
   "execution_count": 47,
   "metadata": {},
   "outputs": [],
   "source": [
    "train_data['AMT_REQ_CREDIT_BUREAU_MON'].fillna(0,inplace=True)"
   ]
  },
  {
   "cell_type": "code",
   "execution_count": 48,
   "metadata": {},
   "outputs": [
    {
     "data": {
      "text/plain": [
       "0.0     158392\n",
       "1.0      19751\n",
       "2.0       3188\n",
       "3.0       1207\n",
       "4.0        647\n",
       "5.0        371\n",
       "6.0        216\n",
       "7.0        166\n",
       "9.0        132\n",
       "8.0        110\n",
       "10.0        75\n",
       "11.0        74\n",
       "13.0        48\n",
       "12.0        44\n",
       "14.0        27\n",
       "15.0        21\n",
       "16.0        14\n",
       "17.0         7\n",
       "18.0         4\n",
       "19.0         2\n",
       "22.0         1\n",
       "24.0         1\n",
       "Name: AMT_REQ_CREDIT_BUREAU_MON, dtype: int64"
      ]
     },
     "execution_count": 48,
     "metadata": {},
     "output_type": "execute_result"
    }
   ],
   "source": [
    "train_data['AMT_REQ_CREDIT_BUREAU_MON'].value_counts(dropna=False)"
   ]
  },
  {
   "cell_type": "code",
   "execution_count": 49,
   "metadata": {},
   "outputs": [
    {
     "data": {
      "text/plain": [
       "0.0     88834\n",
       "NaN     16521\n",
       "1.0     13393\n",
       "2.0      2198\n",
       "3.0       784\n",
       "4.0       429\n",
       "5.0       231\n",
       "7.0       132\n",
       "6.0       127\n",
       "8.0        75\n",
       "9.0        74\n",
       "10.0       57\n",
       "11.0       45\n",
       "12.0       33\n",
       "13.0       24\n",
       "15.0       14\n",
       "14.0       13\n",
       "16.0        9\n",
       "17.0        7\n",
       "18.0        2\n",
       "27.0        1\n",
       "23.0        1\n",
       "19.0        1\n",
       "Name: AMT_REQ_CREDIT_BUREAU_MON, dtype: int64"
      ]
     },
     "execution_count": 49,
     "metadata": {},
     "output_type": "execute_result"
    }
   ],
   "source": [
    "test_data['AMT_REQ_CREDIT_BUREAU_MON'].value_counts(dropna=False)"
   ]
  },
  {
   "cell_type": "code",
   "execution_count": 50,
   "metadata": {},
   "outputs": [],
   "source": [
    "test_data['AMT_REQ_CREDIT_BUREAU_MON'].fillna(0,inplace=True)"
   ]
  },
  {
   "cell_type": "code",
   "execution_count": 51,
   "metadata": {},
   "outputs": [
    {
     "data": {
      "text/plain": [
       "0.0     105355\n",
       "1.0      13393\n",
       "2.0       2198\n",
       "3.0        784\n",
       "4.0        429\n",
       "5.0        231\n",
       "7.0        132\n",
       "6.0        127\n",
       "8.0         75\n",
       "9.0         74\n",
       "10.0        57\n",
       "11.0        45\n",
       "12.0        33\n",
       "13.0        24\n",
       "15.0        14\n",
       "14.0        13\n",
       "16.0         9\n",
       "17.0         7\n",
       "18.0         2\n",
       "27.0         1\n",
       "23.0         1\n",
       "19.0         1\n",
       "Name: AMT_REQ_CREDIT_BUREAU_MON, dtype: int64"
      ]
     },
     "execution_count": 51,
     "metadata": {},
     "output_type": "execute_result"
    }
   ],
   "source": [
    "test_data['AMT_REQ_CREDIT_BUREAU_MON'].value_counts(dropna=False)"
   ]
  },
  {
   "cell_type": "markdown",
   "metadata": {},
   "source": [
    "#### AMT_REQ_CREDIT_BUREAU_QRT"
   ]
  },
  {
   "cell_type": "code",
   "execution_count": 52,
   "metadata": {},
   "outputs": [
    {
     "data": {
      "text/plain": [
       "0.0      128997\n",
       "NaN       24995\n",
       "1.0       20522\n",
       "2.0        8626\n",
       "3.0        1022\n",
       "4.0         271\n",
       "5.0          40\n",
       "6.0          18\n",
       "8.0           4\n",
       "7.0           1\n",
       "261.0         1\n",
       "19.0          1\n",
       "Name: AMT_REQ_CREDIT_BUREAU_QRT, dtype: int64"
      ]
     },
     "execution_count": 52,
     "metadata": {},
     "output_type": "execute_result"
    }
   ],
   "source": [
    "train_data['AMT_REQ_CREDIT_BUREAU_QRT'].value_counts(dropna=False)"
   ]
  },
  {
   "cell_type": "code",
   "execution_count": 53,
   "metadata": {},
   "outputs": [],
   "source": [
    "train_data['AMT_REQ_CREDIT_BUREAU_QRT'].fillna(0,inplace=True)"
   ]
  },
  {
   "cell_type": "code",
   "execution_count": 54,
   "metadata": {},
   "outputs": [
    {
     "data": {
      "text/plain": [
       "0.0      153992\n",
       "1.0       20522\n",
       "2.0        8626\n",
       "3.0        1022\n",
       "4.0         271\n",
       "5.0          40\n",
       "6.0          18\n",
       "8.0           4\n",
       "7.0           1\n",
       "261.0         1\n",
       "19.0          1\n",
       "Name: AMT_REQ_CREDIT_BUREAU_QRT, dtype: int64"
      ]
     },
     "execution_count": 54,
     "metadata": {},
     "output_type": "execute_result"
    }
   ],
   "source": [
    "train_data['AMT_REQ_CREDIT_BUREAU_QRT'].value_counts(dropna=False)"
   ]
  },
  {
   "cell_type": "code",
   "execution_count": 55,
   "metadata": {},
   "outputs": [
    {
     "data": {
      "text/plain": [
       "0.0    86416\n",
       "NaN    16521\n",
       "1.0    13339\n",
       "2.0     5786\n",
       "3.0      695\n",
       "4.0      205\n",
       "5.0       24\n",
       "6.0       10\n",
       "7.0        6\n",
       "8.0        3\n",
       "Name: AMT_REQ_CREDIT_BUREAU_QRT, dtype: int64"
      ]
     },
     "execution_count": 55,
     "metadata": {},
     "output_type": "execute_result"
    }
   ],
   "source": [
    "test_data['AMT_REQ_CREDIT_BUREAU_QRT'].value_counts(dropna=False)"
   ]
  },
  {
   "cell_type": "code",
   "execution_count": 56,
   "metadata": {},
   "outputs": [],
   "source": [
    "test_data['AMT_REQ_CREDIT_BUREAU_QRT'].fillna(0,inplace=True)"
   ]
  },
  {
   "cell_type": "code",
   "execution_count": 57,
   "metadata": {},
   "outputs": [
    {
     "data": {
      "text/plain": [
       "0.0    102937\n",
       "1.0     13339\n",
       "2.0      5786\n",
       "3.0       695\n",
       "4.0       205\n",
       "5.0        24\n",
       "6.0        10\n",
       "7.0         6\n",
       "8.0         3\n",
       "Name: AMT_REQ_CREDIT_BUREAU_QRT, dtype: int64"
      ]
     },
     "execution_count": 57,
     "metadata": {},
     "output_type": "execute_result"
    }
   ],
   "source": [
    "test_data['AMT_REQ_CREDIT_BUREAU_QRT'].value_counts(dropna=False)"
   ]
  },
  {
   "cell_type": "markdown",
   "metadata": {},
   "source": [
    "#### AMT_REQ_CREDIT_BUREAU_YEAR"
   ]
  },
  {
   "cell_type": "code",
   "execution_count": 58,
   "metadata": {},
   "outputs": [
    {
     "data": {
      "text/plain": [
       "0.0     43204\n",
       "1.0     37825\n",
       "2.0     30085\n",
       "NaN     24995\n",
       "3.0     20299\n",
       "4.0     12432\n",
       "5.0      7196\n",
       "6.0      4142\n",
       "7.0      2344\n",
       "8.0      1263\n",
       "9.0       645\n",
       "11.0       18\n",
       "12.0       16\n",
       "13.0       10\n",
       "10.0        9\n",
       "17.0        3\n",
       "19.0        3\n",
       "15.0        3\n",
       "14.0        2\n",
       "25.0        1\n",
       "16.0        1\n",
       "23.0        1\n",
       "20.0        1\n",
       "Name: AMT_REQ_CREDIT_BUREAU_YEAR, dtype: int64"
      ]
     },
     "execution_count": 58,
     "metadata": {},
     "output_type": "execute_result"
    }
   ],
   "source": [
    "train_data['AMT_REQ_CREDIT_BUREAU_YEAR'].value_counts(dropna=False)"
   ]
  },
  {
   "cell_type": "code",
   "execution_count": 59,
   "metadata": {},
   "outputs": [
    {
     "data": {
      "text/plain": [
       "<AxesSubplot:xlabel='AMT_REQ_CREDIT_BUREAU_YEAR', ylabel='Count'>"
      ]
     },
     "execution_count": 59,
     "metadata": {},
     "output_type": "execute_result"
    },
    {
     "data": {
      "image/png": "[encoded data removed]",
      "text/plain": [
       "<Figure size 432x288 with 1 Axes>"
      ]
     },
     "metadata": {
      "needs_background": "light"
     },
     "output_type": "display_data"
    }
   ],
   "source": [
    "sns.histplot(train_data[\"AMT_REQ_CREDIT_BUREAU_YEAR\"])"
   ]
  },
  {
   "cell_type": "markdown",
   "metadata": {},
   "source": [
    "Clearly making the null values causes the value 0 to become marginally higher than 1. So we impute this with one of the central tendencies."
   ]
  },
  {
   "cell_type": "code",
   "execution_count": 60,
   "metadata": {},
   "outputs": [
    {
     "data": {
      "text/plain": [
       "count    159503.000000\n",
       "mean          1.897419\n",
       "std           1.864304\n",
       "min           0.000000\n",
       "25%           0.000000\n",
       "50%           1.000000\n",
       "75%           3.000000\n",
       "max          25.000000\n",
       "Name: AMT_REQ_CREDIT_BUREAU_YEAR, dtype: float64"
      ]
     },
     "execution_count": 60,
     "metadata": {},
     "output_type": "execute_result"
    }
   ],
   "source": [
    "train_data[\"AMT_REQ_CREDIT_BUREAU_YEAR\"].describe()"
   ]
  },
  {
   "cell_type": "markdown",
   "metadata": {},
   "source": [
    "The mode and median are both 0, so we will use the mean to replace the null values."
   ]
  },
  {
   "cell_type": "code",
   "execution_count": 61,
   "metadata": {},
   "outputs": [],
   "source": [
    "train_data['AMT_REQ_CREDIT_BUREAU_YEAR'].fillna(train_data['AMT_REQ_CREDIT_BUREAU_YEAR'].mean(),inplace=True)"
   ]
  },
  {
   "cell_type": "code",
   "execution_count": 62,
   "metadata": {},
   "outputs": [
    {
     "data": {
      "text/plain": [
       "0.000000     43204\n",
       "1.000000     37825\n",
       "2.000000     30085\n",
       "1.897419     24995\n",
       "3.000000     20299\n",
       "4.000000     12432\n",
       "5.000000      7196\n",
       "6.000000      4142\n",
       "7.000000      2344\n",
       "8.000000      1263\n",
       "9.000000       645\n",
       "11.000000       18\n",
       "12.000000       16\n",
       "13.000000       10\n",
       "10.000000        9\n",
       "17.000000        3\n",
       "19.000000        3\n",
       "15.000000        3\n",
       "14.000000        2\n",
       "25.000000        1\n",
       "16.000000        1\n",
       "23.000000        1\n",
       "20.000000        1\n",
       "Name: AMT_REQ_CREDIT_BUREAU_YEAR, dtype: int64"
      ]
     },
     "execution_count": 62,
     "metadata": {},
     "output_type": "execute_result"
    }
   ],
   "source": [
    "train_data['AMT_REQ_CREDIT_BUREAU_YEAR'].value_counts(dropna=False)"
   ]
  },
  {
   "cell_type": "markdown",
   "metadata": {},
   "source": [
    "We do the same thing for test data."
   ]
  },
  {
   "cell_type": "code",
   "execution_count": 63,
   "metadata": {},
   "outputs": [
    {
     "data": {
      "text/plain": [
       "0.0     28597\n",
       "1.0     25579\n",
       "2.0     20106\n",
       "NaN     16521\n",
       "3.0     13329\n",
       "4.0      8281\n",
       "5.0      4855\n",
       "6.0      2825\n",
       "7.0      1525\n",
       "8.0       864\n",
       "9.0       451\n",
       "12.0       14\n",
       "10.0       13\n",
       "11.0       12\n",
       "13.0        9\n",
       "14.0        8\n",
       "18.0        4\n",
       "17.0        4\n",
       "15.0        3\n",
       "16.0        2\n",
       "21.0        1\n",
       "22.0        1\n",
       "19.0        1\n",
       "Name: AMT_REQ_CREDIT_BUREAU_YEAR, dtype: int64"
      ]
     },
     "execution_count": 63,
     "metadata": {},
     "output_type": "execute_result"
    }
   ],
   "source": [
    "test_data['AMT_REQ_CREDIT_BUREAU_YEAR'].value_counts(dropna=False)"
   ]
  },
  {
   "cell_type": "code",
   "execution_count": 64,
   "metadata": {},
   "outputs": [],
   "source": [
    "test_data['AMT_REQ_CREDIT_BUREAU_YEAR'].fillna(test_data['AMT_REQ_CREDIT_BUREAU_YEAR'].mean(),inplace=True)"
   ]
  },
  {
   "cell_type": "code",
   "execution_count": 65,
   "metadata": {},
   "outputs": [
    {
     "data": {
      "text/plain": [
       "0.000000     28597\n",
       "1.000000     25579\n",
       "2.000000     20106\n",
       "1.903676     16521\n",
       "3.000000     13329\n",
       "4.000000      8281\n",
       "5.000000      4855\n",
       "6.000000      2825\n",
       "7.000000      1525\n",
       "8.000000       864\n",
       "9.000000       451\n",
       "12.000000       14\n",
       "10.000000       13\n",
       "11.000000       12\n",
       "13.000000        9\n",
       "14.000000        8\n",
       "18.000000        4\n",
       "17.000000        4\n",
       "15.000000        3\n",
       "16.000000        2\n",
       "21.000000        1\n",
       "22.000000        1\n",
       "19.000000        1\n",
       "Name: AMT_REQ_CREDIT_BUREAU_YEAR, dtype: int64"
      ]
     },
     "execution_count": 65,
     "metadata": {},
     "output_type": "execute_result"
    }
   ],
   "source": [
    "test_data['AMT_REQ_CREDIT_BUREAU_YEAR'].value_counts(dropna=False)"
   ]
  },
  {
   "cell_type": "markdown",
   "metadata": {},
   "source": [
    "#### OCCUPATION_TYPE"
   ]
  },
  {
   "cell_type": "code",
   "execution_count": 66,
   "metadata": {},
   "outputs": [
    {
     "data": {
      "text/plain": [
       "NaN                      57866\n",
       "Laborers                 32967\n",
       "Sales staff              19351\n",
       "Core staff               16491\n",
       "Managers                 12779\n",
       "Drivers                  11237\n",
       "High skill tech staff     6859\n",
       "Accountants               5896\n",
       "Medicine staff            5130\n",
       "Security staff            4073\n",
       "Cooking staff             3621\n",
       "Cleaning staff            2766\n",
       "Private service staff     1565\n",
       "Low-skill Laborers        1223\n",
       "Waiters/barmen staff       819\n",
       "Secretaries                786\n",
       "Realty agents              434\n",
       "HR staff                   321\n",
       "IT staff                   314\n",
       "Name: OCCUPATION_TYPE, dtype: int64"
      ]
     },
     "execution_count": 66,
     "metadata": {},
     "output_type": "execute_result"
    }
   ],
   "source": [
    "train_data[\"OCCUPATION_TYPE\"].value_counts(dropna=False)"
   ]
  },
  {
   "cell_type": "code",
   "execution_count": 67,
   "metadata": {},
   "outputs": [
    {
     "data": {
      "text/plain": [
       "<AxesSubplot:xlabel='OCCUPATION_TYPE', ylabel='Count'>"
      ]
     },
     "execution_count": 67,
     "metadata": {},
     "output_type": "execute_result"
    },
    {
     "data": {
      "image/png": "[encoded data removed]",
      "text/plain": [
       "<Figure size 1152x1152 with 1 Axes>"
      ]
     },
     "metadata": {
      "needs_background": "light"
     },
     "output_type": "display_data"
    }
   ],
   "source": [
    "plt.figure(figsize=(16,16))\n",
    "sns.histplot(train_data[\"OCCUPATION_TYPE\"])"
   ]
  },
  {
   "cell_type": "markdown",
   "metadata": {},
   "source": [
    "The data is categorical we will just consider the null values as another category. If we have to change the null values to another category this will cause the column to be biased towards one category."
   ]
  },
  {
   "cell_type": "code",
   "execution_count": 68,
   "metadata": {},
   "outputs": [],
   "source": [
    "train_data[\"OCCUPATION_TYPE\"].fillna(\"Unemployed\",inplace=True)"
   ]
  },
  {
   "cell_type": "code",
   "execution_count": 69,
   "metadata": {},
   "outputs": [
    {
     "data": {
      "text/plain": [
       "Unemployed               57866\n",
       "Laborers                 32967\n",
       "Sales staff              19351\n",
       "Core staff               16491\n",
       "Managers                 12779\n",
       "Drivers                  11237\n",
       "High skill tech staff     6859\n",
       "Accountants               5896\n",
       "Medicine staff            5130\n",
       "Security staff            4073\n",
       "Cooking staff             3621\n",
       "Cleaning staff            2766\n",
       "Private service staff     1565\n",
       "Low-skill Laborers        1223\n",
       "Waiters/barmen staff       819\n",
       "Secretaries                786\n",
       "Realty agents              434\n",
       "HR staff                   321\n",
       "IT staff                   314\n",
       "Name: OCCUPATION_TYPE, dtype: int64"
      ]
     },
     "execution_count": 69,
     "metadata": {},
     "output_type": "execute_result"
    }
   ],
   "source": [
    "train_data[\"OCCUPATION_TYPE\"].value_counts()"
   ]
  },
  {
   "cell_type": "code",
   "execution_count": 70,
   "metadata": {},
   "outputs": [
    {
     "data": {
      "text/plain": [
       "NaN                      38524\n",
       "Laborers                 22218\n",
       "Sales staff              12751\n",
       "Core staff               11078\n",
       "Managers                  8591\n",
       "Drivers                   7365\n",
       "High skill tech staff     4521\n",
       "Accountants               3916\n",
       "Medicine staff            3407\n",
       "Security staff            2647\n",
       "Cooking staff             2325\n",
       "Cleaning staff            1887\n",
       "Private service staff     1087\n",
       "Low-skill Laborers         870\n",
       "Waiters/barmen staff       529\n",
       "Secretaries                518\n",
       "Realty agents              317\n",
       "HR staff                   242\n",
       "IT staff                   212\n",
       "Name: OCCUPATION_TYPE, dtype: int64"
      ]
     },
     "execution_count": 70,
     "metadata": {},
     "output_type": "execute_result"
    }
   ],
   "source": [
    "test_data[\"OCCUPATION_TYPE\"].value_counts(dropna=False)"
   ]
  },
  {
   "cell_type": "code",
   "execution_count": 71,
   "metadata": {},
   "outputs": [],
   "source": [
    "test_data[\"OCCUPATION_TYPE\"].fillna(\"Unemployed\",inplace=True)"
   ]
  },
  {
   "cell_type": "code",
   "execution_count": 72,
   "metadata": {},
   "outputs": [
    {
     "data": {
      "text/plain": [
       "Unemployed               38524\n",
       "Laborers                 22218\n",
       "Sales staff              12751\n",
       "Core staff               11078\n",
       "Managers                  8591\n",
       "Drivers                   7365\n",
       "High skill tech staff     4521\n",
       "Accountants               3916\n",
       "Medicine staff            3407\n",
       "Security staff            2647\n",
       "Cooking staff             2325\n",
       "Cleaning staff            1887\n",
       "Private service staff     1087\n",
       "Low-skill Laborers         870\n",
       "Waiters/barmen staff       529\n",
       "Secretaries                518\n",
       "Realty agents              317\n",
       "HR staff                   242\n",
       "IT staff                   212\n",
       "Name: OCCUPATION_TYPE, dtype: int64"
      ]
     },
     "execution_count": 72,
     "metadata": {},
     "output_type": "execute_result"
    }
   ],
   "source": [
    "test_data[\"OCCUPATION_TYPE\"].value_counts(dropna=False)"
   ]
  },
  {
   "cell_type": "markdown",
   "metadata": {},
   "source": [
    "#### OBS_30CNT_SOCIAL_CIRCLE"
   ]
  },
  {
   "cell_type": "code",
   "execution_count": 73,
   "metadata": {},
   "outputs": [
    {
     "data": {
      "text/plain": [
       "0.0      98233\n",
       "1.0      29319\n",
       "2.0      17861\n",
       "3.0      12096\n",
       "4.0       8516\n",
       "5.0       5730\n",
       "6.0       3971\n",
       "7.0       2660\n",
       "8.0       1782\n",
       "9.0       1205\n",
       "10.0       814\n",
       "NaN        639\n",
       "11.0       507\n",
       "12.0       412\n",
       "13.0       234\n",
       "14.0       161\n",
       "15.0       104\n",
       "16.0        69\n",
       "17.0        48\n",
       "18.0        29\n",
       "19.0        27\n",
       "20.0        18\n",
       "21.0        15\n",
       "22.0        14\n",
       "23.0        11\n",
       "25.0         8\n",
       "24.0         7\n",
       "27.0         3\n",
       "30.0         2\n",
       "29.0         1\n",
       "348.0        1\n",
       "26.0         1\n",
       "Name: OBS_30_CNT_SOCIAL_CIRCLE, dtype: int64"
      ]
     },
     "execution_count": 73,
     "metadata": {},
     "output_type": "execute_result"
    }
   ],
   "source": [
    "train_data[\"OBS_30_CNT_SOCIAL_CIRCLE\"].value_counts(dropna=False)"
   ]
  },
  {
   "cell_type": "code",
   "execution_count": 74,
   "metadata": {},
   "outputs": [],
   "source": [
    "train_data[\"OBS_30_CNT_SOCIAL_CIRCLE\"].fillna(0,inplace=True)"
   ]
  },
  {
   "cell_type": "code",
   "execution_count": 75,
   "metadata": {},
   "outputs": [
    {
     "data": {
      "text/plain": [
       "0.0      98872\n",
       "1.0      29319\n",
       "2.0      17861\n",
       "3.0      12096\n",
       "4.0       8516\n",
       "5.0       5730\n",
       "6.0       3971\n",
       "7.0       2660\n",
       "8.0       1782\n",
       "9.0       1205\n",
       "10.0       814\n",
       "11.0       507\n",
       "12.0       412\n",
       "13.0       234\n",
       "14.0       161\n",
       "15.0       104\n",
       "16.0        69\n",
       "17.0        48\n",
       "18.0        29\n",
       "19.0        27\n",
       "20.0        18\n",
       "21.0        15\n",
       "22.0        14\n",
       "23.0        11\n",
       "25.0         8\n",
       "24.0         7\n",
       "27.0         3\n",
       "30.0         2\n",
       "29.0         1\n",
       "348.0        1\n",
       "26.0         1\n",
       "Name: OBS_30_CNT_SOCIAL_CIRCLE, dtype: int64"
      ]
     },
     "execution_count": 75,
     "metadata": {},
     "output_type": "execute_result"
    }
   ],
   "source": [
    "train_data[\"OBS_30_CNT_SOCIAL_CIRCLE\"].value_counts(dropna=False)"
   ]
  },
  {
   "cell_type": "code",
   "execution_count": 76,
   "metadata": {},
   "outputs": [
    {
     "data": {
      "text/plain": [
       "0.0     65670\n",
       "1.0     19464\n",
       "2.0     11947\n",
       "3.0      8225\n",
       "4.0      5627\n",
       "5.0      3823\n",
       "6.0      2482\n",
       "7.0      1730\n",
       "8.0      1185\n",
       "9.0       798\n",
       "10.0      562\n",
       "NaN       382\n",
       "11.0      345\n",
       "12.0      240\n",
       "13.0      177\n",
       "14.0       97\n",
       "16.0       64\n",
       "15.0       62\n",
       "17.0       40\n",
       "19.0       17\n",
       "18.0       17\n",
       "21.0       14\n",
       "20.0       12\n",
       "22.0        8\n",
       "23.0        4\n",
       "24.0        4\n",
       "25.0        3\n",
       "26.0        2\n",
       "27.0        2\n",
       "47.0        1\n",
       "28.0        1\n",
       "Name: OBS_30_CNT_SOCIAL_CIRCLE, dtype: int64"
      ]
     },
     "execution_count": 76,
     "metadata": {},
     "output_type": "execute_result"
    }
   ],
   "source": [
    "test_data[\"OBS_30_CNT_SOCIAL_CIRCLE\"].value_counts(dropna=False)"
   ]
  },
  {
   "cell_type": "code",
   "execution_count": 77,
   "metadata": {},
   "outputs": [],
   "source": [
    "test_data[\"OBS_30_CNT_SOCIAL_CIRCLE\"].fillna(0,inplace=True)"
   ]
  },
  {
   "cell_type": "code",
   "execution_count": 78,
   "metadata": {},
   "outputs": [
    {
     "data": {
      "text/plain": [
       "0.0      98872\n",
       "1.0      29319\n",
       "2.0      17861\n",
       "3.0      12096\n",
       "4.0       8516\n",
       "5.0       5730\n",
       "6.0       3971\n",
       "7.0       2660\n",
       "8.0       1782\n",
       "9.0       1205\n",
       "10.0       814\n",
       "11.0       507\n",
       "12.0       412\n",
       "13.0       234\n",
       "14.0       161\n",
       "15.0       104\n",
       "16.0        69\n",
       "17.0        48\n",
       "18.0        29\n",
       "19.0        27\n",
       "20.0        18\n",
       "21.0        15\n",
       "22.0        14\n",
       "23.0        11\n",
       "25.0         8\n",
       "24.0         7\n",
       "27.0         3\n",
       "30.0         2\n",
       "29.0         1\n",
       "348.0        1\n",
       "26.0         1\n",
       "Name: OBS_30_CNT_SOCIAL_CIRCLE, dtype: int64"
      ]
     },
     "execution_count": 78,
     "metadata": {},
     "output_type": "execute_result"
    }
   ],
   "source": [
    "train_data[\"OBS_30_CNT_SOCIAL_CIRCLE\"].value_counts(dropna=False)"
   ]
  },
  {
   "cell_type": "markdown",
   "metadata": {},
   "source": [
    "#### OBS_60_CNT_SOCIAL_CIRCLE"
   ]
  },
  {
   "cell_type": "code",
   "execution_count": 79,
   "metadata": {},
   "outputs": [
    {
     "data": {
      "text/plain": [
       "0.0      98693\n",
       "1.0      29358\n",
       "2.0      17846\n",
       "3.0      12037\n",
       "4.0       8387\n",
       "5.0       5676\n",
       "6.0       3898\n",
       "7.0       2642\n",
       "8.0       1733\n",
       "9.0       1182\n",
       "10.0       788\n",
       "NaN        639\n",
       "11.0       497\n",
       "12.0       392\n",
       "13.0       231\n",
       "14.0       149\n",
       "15.0       104\n",
       "16.0        70\n",
       "17.0        39\n",
       "18.0        35\n",
       "19.0        24\n",
       "20.0        20\n",
       "22.0        13\n",
       "21.0        13\n",
       "23.0        10\n",
       "24.0         8\n",
       "25.0         7\n",
       "27.0         3\n",
       "29.0         2\n",
       "344.0        1\n",
       "30.0         1\n",
       "Name: OBS_60_CNT_SOCIAL_CIRCLE, dtype: int64"
      ]
     },
     "execution_count": 79,
     "metadata": {},
     "output_type": "execute_result"
    }
   ],
   "source": [
    "train_data[\"OBS_60_CNT_SOCIAL_CIRCLE\"].value_counts(dropna=False)"
   ]
  },
  {
   "cell_type": "code",
   "execution_count": 80,
   "metadata": {},
   "outputs": [],
   "source": [
    "train_data[\"OBS_60_CNT_SOCIAL_CIRCLE\"].fillna(0,inplace=True)"
   ]
  },
  {
   "cell_type": "code",
   "execution_count": 81,
   "metadata": {},
   "outputs": [
    {
     "data": {
      "text/plain": [
       "0.0      99332\n",
       "1.0      29358\n",
       "2.0      17846\n",
       "3.0      12037\n",
       "4.0       8387\n",
       "5.0       5676\n",
       "6.0       3898\n",
       "7.0       2642\n",
       "8.0       1733\n",
       "9.0       1182\n",
       "10.0       788\n",
       "11.0       497\n",
       "12.0       392\n",
       "13.0       231\n",
       "14.0       149\n",
       "15.0       104\n",
       "16.0        70\n",
       "17.0        39\n",
       "18.0        35\n",
       "19.0        24\n",
       "20.0        20\n",
       "22.0        13\n",
       "21.0        13\n",
       "23.0        10\n",
       "24.0         8\n",
       "25.0         7\n",
       "27.0         3\n",
       "29.0         2\n",
       "344.0        1\n",
       "30.0         1\n",
       "Name: OBS_60_CNT_SOCIAL_CIRCLE, dtype: int64"
      ]
     },
     "execution_count": 81,
     "metadata": {},
     "output_type": "execute_result"
    }
   ],
   "source": [
    "train_data[\"OBS_60_CNT_SOCIAL_CIRCLE\"].value_counts(dropna=False)"
   ]
  },
  {
   "cell_type": "code",
   "execution_count": 82,
   "metadata": {},
   "outputs": [
    {
     "data": {
      "text/plain": [
       "0.0     65966\n",
       "1.0     19512\n",
       "2.0     11920\n",
       "3.0      8177\n",
       "4.0      5559\n",
       "5.0      3787\n",
       "6.0      2451\n",
       "7.0      1702\n",
       "8.0      1153\n",
       "9.0       777\n",
       "10.0      547\n",
       "NaN       382\n",
       "11.0      340\n",
       "12.0      228\n",
       "13.0      170\n",
       "14.0       89\n",
       "16.0       67\n",
       "15.0       62\n",
       "17.0       34\n",
       "19.0       20\n",
       "21.0       15\n",
       "18.0       14\n",
       "20.0       10\n",
       "22.0        7\n",
       "25.0        4\n",
       "24.0        4\n",
       "23.0        3\n",
       "27.0        2\n",
       "47.0        1\n",
       "28.0        1\n",
       "26.0        1\n",
       "Name: OBS_60_CNT_SOCIAL_CIRCLE, dtype: int64"
      ]
     },
     "execution_count": 82,
     "metadata": {},
     "output_type": "execute_result"
    }
   ],
   "source": [
    "test_data[\"OBS_60_CNT_SOCIAL_CIRCLE\"].value_counts(dropna=False)"
   ]
  },
  {
   "cell_type": "code",
   "execution_count": 83,
   "metadata": {},
   "outputs": [],
   "source": [
    "test_data[\"OBS_60_CNT_SOCIAL_CIRCLE\"].fillna(0,inplace=True)"
   ]
  },
  {
   "cell_type": "code",
   "execution_count": 84,
   "metadata": {},
   "outputs": [
    {
     "data": {
      "text/plain": [
       "0.0      99332\n",
       "1.0      29358\n",
       "2.0      17846\n",
       "3.0      12037\n",
       "4.0       8387\n",
       "5.0       5676\n",
       "6.0       3898\n",
       "7.0       2642\n",
       "8.0       1733\n",
       "9.0       1182\n",
       "10.0       788\n",
       "11.0       497\n",
       "12.0       392\n",
       "13.0       231\n",
       "14.0       149\n",
       "15.0       104\n",
       "16.0        70\n",
       "17.0        39\n",
       "18.0        35\n",
       "19.0        24\n",
       "20.0        20\n",
       "22.0        13\n",
       "21.0        13\n",
       "23.0        10\n",
       "24.0         8\n",
       "25.0         7\n",
       "27.0         3\n",
       "29.0         2\n",
       "344.0        1\n",
       "30.0         1\n",
       "Name: OBS_60_CNT_SOCIAL_CIRCLE, dtype: int64"
      ]
     },
     "execution_count": 84,
     "metadata": {},
     "output_type": "execute_result"
    }
   ],
   "source": [
    "train_data[\"OBS_60_CNT_SOCIAL_CIRCLE\"].value_counts(dropna=False)"
   ]
  },
  {
   "cell_type": "markdown",
   "metadata": {},
   "source": [
    "#### DEF_30_CNT_SOCIAL_CIRCLE\""
   ]
  },
  {
   "cell_type": "code",
   "execution_count": 85,
   "metadata": {},
   "outputs": [
    {
     "data": {
      "text/plain": [
       "0.0     162685\n",
       "1.0      17062\n",
       "2.0       3162\n",
       "3.0        745\n",
       "NaN        639\n",
       "4.0        155\n",
       "5.0         38\n",
       "6.0          9\n",
       "8.0          1\n",
       "34.0         1\n",
       "7.0          1\n",
       "Name: DEF_30_CNT_SOCIAL_CIRCLE, dtype: int64"
      ]
     },
     "execution_count": 85,
     "metadata": {},
     "output_type": "execute_result"
    }
   ],
   "source": [
    "train_data[\"DEF_30_CNT_SOCIAL_CIRCLE\"].value_counts(dropna=False)"
   ]
  },
  {
   "cell_type": "code",
   "execution_count": 86,
   "metadata": {},
   "outputs": [],
   "source": [
    "train_data[\"DEF_30_CNT_SOCIAL_CIRCLE\"].fillna(0,inplace=True)"
   ]
  },
  {
   "cell_type": "code",
   "execution_count": 87,
   "metadata": {},
   "outputs": [
    {
     "data": {
      "text/plain": [
       "0.0     163324\n",
       "1.0      17062\n",
       "2.0       3162\n",
       "3.0        745\n",
       "4.0        155\n",
       "5.0         38\n",
       "6.0          9\n",
       "8.0          1\n",
       "34.0         1\n",
       "7.0          1\n",
       "Name: DEF_30_CNT_SOCIAL_CIRCLE, dtype: int64"
      ]
     },
     "execution_count": 87,
     "metadata": {},
     "output_type": "execute_result"
    }
   ],
   "source": [
    "train_data[\"DEF_30_CNT_SOCIAL_CIRCLE\"].value_counts(dropna=False)"
   ]
  },
  {
   "cell_type": "code",
   "execution_count": 88,
   "metadata": {},
   "outputs": [
    {
     "data": {
      "text/plain": [
       "0.0    108631\n",
       "1.0     11266\n",
       "2.0      2161\n",
       "3.0       447\n",
       "NaN       382\n",
       "4.0        98\n",
       "5.0        18\n",
       "6.0         2\n",
       "Name: DEF_30_CNT_SOCIAL_CIRCLE, dtype: int64"
      ]
     },
     "execution_count": 88,
     "metadata": {},
     "output_type": "execute_result"
    }
   ],
   "source": [
    "test_data[\"DEF_30_CNT_SOCIAL_CIRCLE\"].value_counts(dropna=False)"
   ]
  },
  {
   "cell_type": "code",
   "execution_count": 89,
   "metadata": {},
   "outputs": [],
   "source": [
    "test_data[\"DEF_30_CNT_SOCIAL_CIRCLE\"].fillna(0,inplace=True)"
   ]
  },
  {
   "cell_type": "code",
   "execution_count": 90,
   "metadata": {},
   "outputs": [
    {
     "data": {
      "text/plain": [
       "0.0     163324\n",
       "1.0      17062\n",
       "2.0       3162\n",
       "3.0        745\n",
       "4.0        155\n",
       "5.0         38\n",
       "6.0          9\n",
       "8.0          1\n",
       "34.0         1\n",
       "7.0          1\n",
       "Name: DEF_30_CNT_SOCIAL_CIRCLE, dtype: int64"
      ]
     },
     "execution_count": 90,
     "metadata": {},
     "output_type": "execute_result"
    }
   ],
   "source": [
    "train_data[\"DEF_30_CNT_SOCIAL_CIRCLE\"].value_counts(dropna=False)"
   ]
  },
  {
   "cell_type": "markdown",
   "metadata": {},
   "source": [
    "#### DEF_60_CNT_SOCIAL_CIRCLE"
   ]
  },
  {
   "cell_type": "code",
   "execution_count": 91,
   "metadata": {},
   "outputs": [
    {
     "data": {
      "text/plain": [
       "0.0     168340\n",
       "1.0      13167\n",
       "2.0       1871\n",
       "NaN        639\n",
       "3.0        378\n",
       "4.0         84\n",
       "5.0         14\n",
       "6.0          3\n",
       "24.0         1\n",
       "7.0          1\n",
       "Name: DEF_60_CNT_SOCIAL_CIRCLE, dtype: int64"
      ]
     },
     "execution_count": 91,
     "metadata": {},
     "output_type": "execute_result"
    }
   ],
   "source": [
    "train_data[\"DEF_60_CNT_SOCIAL_CIRCLE\"].value_counts(dropna=False)"
   ]
  },
  {
   "cell_type": "code",
   "execution_count": 92,
   "metadata": {},
   "outputs": [],
   "source": [
    "train_data[\"DEF_60_CNT_SOCIAL_CIRCLE\"].fillna(0,inplace=True)"
   ]
  },
  {
   "cell_type": "code",
   "execution_count": 93,
   "metadata": {},
   "outputs": [
    {
     "data": {
      "text/plain": [
       "0.0     168979\n",
       "1.0      13167\n",
       "2.0       1871\n",
       "3.0        378\n",
       "4.0         84\n",
       "5.0         14\n",
       "6.0          3\n",
       "24.0         1\n",
       "7.0          1\n",
       "Name: DEF_60_CNT_SOCIAL_CIRCLE, dtype: int64"
      ]
     },
     "execution_count": 93,
     "metadata": {},
     "output_type": "execute_result"
    }
   ],
   "source": [
    "train_data[\"DEF_60_CNT_SOCIAL_CIRCLE\"].value_counts(dropna=False)"
   ]
  },
  {
   "cell_type": "code",
   "execution_count": 94,
   "metadata": {},
   "outputs": [
    {
     "data": {
      "text/plain": [
       "0.0    112373\n",
       "1.0      8674\n",
       "2.0      1299\n",
       "NaN       382\n",
       "3.0       220\n",
       "4.0        51\n",
       "5.0         6\n",
       "Name: DEF_60_CNT_SOCIAL_CIRCLE, dtype: int64"
      ]
     },
     "execution_count": 94,
     "metadata": {},
     "output_type": "execute_result"
    }
   ],
   "source": [
    "test_data[\"DEF_60_CNT_SOCIAL_CIRCLE\"].value_counts(dropna=False)"
   ]
  },
  {
   "cell_type": "code",
   "execution_count": 95,
   "metadata": {},
   "outputs": [],
   "source": [
    "test_data[\"DEF_60_CNT_SOCIAL_CIRCLE\"].fillna(0,inplace=True)"
   ]
  },
  {
   "cell_type": "code",
   "execution_count": 96,
   "metadata": {},
   "outputs": [
    {
     "data": {
      "text/plain": [
       "0.0     168979\n",
       "1.0      13167\n",
       "2.0       1871\n",
       "3.0        378\n",
       "4.0         84\n",
       "5.0         14\n",
       "6.0          3\n",
       "24.0         1\n",
       "7.0          1\n",
       "Name: DEF_60_CNT_SOCIAL_CIRCLE, dtype: int64"
      ]
     },
     "execution_count": 96,
     "metadata": {},
     "output_type": "execute_result"
    }
   ],
   "source": [
    "train_data[\"DEF_60_CNT_SOCIAL_CIRCLE\"].value_counts(dropna=False)"
   ]
  },
  {
   "cell_type": "markdown",
   "metadata": {},
   "source": [
    "#### AMT_GOODS_PRICE"
   ]
  },
  {
   "cell_type": "code",
   "execution_count": 97,
   "metadata": {},
   "outputs": [
    {
     "data": {
      "text/plain": [
       "450000.0     15756\n",
       "225000.0     15142\n",
       "675000.0     14779\n",
       "900000.0      9258\n",
       "270000.0      6757\n",
       "             ...  \n",
       "234342.0         1\n",
       "660244.5         1\n",
       "1180273.5        1\n",
       "225243.0         1\n",
       "744988.5         1\n",
       "Name: AMT_GOODS_PRICE, Length: 793, dtype: int64"
      ]
     },
     "execution_count": 97,
     "metadata": {},
     "output_type": "execute_result"
    }
   ],
   "source": [
    "train_data[\"AMT_GOODS_PRICE\"].value_counts()"
   ]
  },
  {
   "cell_type": "code",
   "execution_count": 98,
   "metadata": {},
   "outputs": [
    {
     "data": {
      "text/plain": [
       "166"
      ]
     },
     "execution_count": 98,
     "metadata": {},
     "output_type": "execute_result"
    }
   ],
   "source": [
    "train_data[\"AMT_GOODS_PRICE\"].isna().sum()"
   ]
  },
  {
   "cell_type": "code",
   "execution_count": 99,
   "metadata": {},
   "outputs": [
    {
     "data": {
      "text/plain": [
       "count    1.843320e+05\n",
       "mean     5.386932e+05\n",
       "std      3.692258e+05\n",
       "min      4.050000e+04\n",
       "25%      2.385000e+05\n",
       "50%      4.500000e+05\n",
       "75%      6.795000e+05\n",
       "max      4.050000e+06\n",
       "Name: AMT_GOODS_PRICE, dtype: float64"
      ]
     },
     "execution_count": 99,
     "metadata": {},
     "output_type": "execute_result"
    }
   ],
   "source": [
    "train_data[\"AMT_GOODS_PRICE\"].describe()"
   ]
  },
  {
   "cell_type": "code",
   "execution_count": 100,
   "metadata": {},
   "outputs": [
    {
     "name": "stderr",
     "output_type": "stream",
     "text": [
      "/opt/anaconda3/lib/python3.9/site-packages/seaborn/distributions.py:2619: FutureWarning: `distplot` is a deprecated function and will be removed in a future version. Please adapt your code to use either `displot` (a figure-level function with similar flexibility) or `histplot` (an axes-level function for histograms).\n",
      "  warnings.warn(msg, FutureWarning)\n"
     ]
    },
    {
     "data": {
      "text/plain": [
       "<AxesSubplot:xlabel='AMT_GOODS_PRICE', ylabel='Density'>"
      ]
     },
     "execution_count": 100,
     "metadata": {},
     "output_type": "execute_result"
    },
    {
     "data": {
      "image/png": "[encoded data removed]",
      "text/plain": [
       "<Figure size 432x288 with 1 Axes>"
      ]
     },
     "metadata": {
      "needs_background": "light"
     },
     "output_type": "display_data"
    }
   ],
   "source": [
    "sns.distplot(train_data[\"AMT_GOODS_PRICE\"])"
   ]
  },
  {
   "cell_type": "markdown",
   "metadata": {},
   "source": [
    "Since there are only 166 null values, we replace them with the mean."
   ]
  },
  {
   "cell_type": "code",
   "execution_count": 101,
   "metadata": {},
   "outputs": [],
   "source": [
    "train_data[\"AMT_GOODS_PRICE\"].fillna(train_data[\"AMT_GOODS_PRICE\"].mean(),inplace=True)"
   ]
  },
  {
   "cell_type": "code",
   "execution_count": 102,
   "metadata": {},
   "outputs": [
    {
     "data": {
      "text/plain": [
       "0"
      ]
     },
     "execution_count": 102,
     "metadata": {},
     "output_type": "execute_result"
    }
   ],
   "source": [
    "train_data[\"AMT_GOODS_PRICE\"].isna().sum()"
   ]
  },
  {
   "cell_type": "code",
   "execution_count": 103,
   "metadata": {},
   "outputs": [
    {
     "data": {
      "text/plain": [
       "count    1.228940e+05\n",
       "mean     5.379516e+05\n",
       "std      3.697775e+05\n",
       "min      4.500000e+04\n",
       "25%      2.385000e+05\n",
       "50%      4.500000e+05\n",
       "75%      6.795000e+05\n",
       "max      4.050000e+06\n",
       "Name: AMT_GOODS_PRICE, dtype: float64"
      ]
     },
     "execution_count": 103,
     "metadata": {},
     "output_type": "execute_result"
    }
   ],
   "source": [
    "test_data[\"AMT_GOODS_PRICE\"].describe()"
   ]
  },
  {
   "cell_type": "code",
   "execution_count": 104,
   "metadata": {},
   "outputs": [
    {
     "data": {
      "text/plain": [
       "111"
      ]
     },
     "execution_count": 104,
     "metadata": {},
     "output_type": "execute_result"
    }
   ],
   "source": [
    "test_data[\"AMT_GOODS_PRICE\"].isna().sum()"
   ]
  },
  {
   "cell_type": "code",
   "execution_count": 105,
   "metadata": {},
   "outputs": [],
   "source": [
    "test_data[\"AMT_GOODS_PRICE\"].fillna(test_data[\"AMT_GOODS_PRICE\"].mean(),inplace=True)"
   ]
  },
  {
   "cell_type": "code",
   "execution_count": 106,
   "metadata": {},
   "outputs": [
    {
     "data": {
      "text/plain": [
       "count    1.230050e+05\n",
       "mean     5.379516e+05\n",
       "std      3.696106e+05\n",
       "min      4.500000e+04\n",
       "25%      2.385000e+05\n",
       "50%      4.500000e+05\n",
       "75%      6.795000e+05\n",
       "max      4.050000e+06\n",
       "Name: AMT_GOODS_PRICE, dtype: float64"
      ]
     },
     "execution_count": 106,
     "metadata": {},
     "output_type": "execute_result"
    }
   ],
   "source": [
    "test_data[\"AMT_GOODS_PRICE\"].describe()"
   ]
  },
  {
   "cell_type": "code",
   "execution_count": 107,
   "metadata": {},
   "outputs": [
    {
     "data": {
      "text/plain": [
       "0"
      ]
     },
     "execution_count": 107,
     "metadata": {},
     "output_type": "execute_result"
    }
   ],
   "source": [
    "test_data[\"AMT_GOODS_PRICE\"].isna().sum()"
   ]
  },
  {
   "cell_type": "markdown",
   "metadata": {},
   "source": [
    "#### NAME_TYPE_SUITE"
   ]
  },
  {
   "cell_type": "code",
   "execution_count": 108,
   "metadata": {},
   "outputs": [
    {
     "data": {
      "text/plain": [
       "Unaccompanied      149052\n",
       "Family              24044\n",
       "Spouse, partner      6869\n",
       "Children             1982\n",
       "Other_B              1081\n",
       "NaN                   769\n",
       "Other_A               528\n",
       "Group of people       173\n",
       "Name: NAME_TYPE_SUITE, dtype: int64"
      ]
     },
     "execution_count": 108,
     "metadata": {},
     "output_type": "execute_result"
    }
   ],
   "source": [
    "train_data[\"NAME_TYPE_SUITE\"].value_counts(dropna=False)"
   ]
  },
  {
   "cell_type": "code",
   "execution_count": 109,
   "metadata": {},
   "outputs": [],
   "source": [
    "train_data[\"NAME_TYPE_SUITE\"].fillna(\"Unaccompanied\",inplace=True)"
   ]
  },
  {
   "cell_type": "code",
   "execution_count": 110,
   "metadata": {},
   "outputs": [
    {
     "data": {
      "text/plain": [
       "Unaccompanied      149821\n",
       "Family              24044\n",
       "Spouse, partner      6869\n",
       "Children             1982\n",
       "Other_B              1081\n",
       "Other_A               528\n",
       "Group of people       173\n",
       "Name: NAME_TYPE_SUITE, dtype: int64"
      ]
     },
     "execution_count": 110,
     "metadata": {},
     "output_type": "execute_result"
    }
   ],
   "source": [
    "train_data[\"NAME_TYPE_SUITE\"].value_counts()"
   ]
  },
  {
   "cell_type": "code",
   "execution_count": 111,
   "metadata": {},
   "outputs": [
    {
     "data": {
      "text/plain": [
       "Unaccompanied      99467\n",
       "Family             16105\n",
       "Spouse, partner     4501\n",
       "Children            1285\n",
       "Other_B              689\n",
       "NaN                  522\n",
       "Other_A              338\n",
       "Group of people       98\n",
       "Name: NAME_TYPE_SUITE, dtype: int64"
      ]
     },
     "execution_count": 111,
     "metadata": {},
     "output_type": "execute_result"
    }
   ],
   "source": [
    "test_data[\"NAME_TYPE_SUITE\"].value_counts(dropna=False)"
   ]
  },
  {
   "cell_type": "code",
   "execution_count": 112,
   "metadata": {},
   "outputs": [],
   "source": [
    "test_data[\"NAME_TYPE_SUITE\"].fillna(\"Unaccompanied\",inplace=True)"
   ]
  },
  {
   "cell_type": "code",
   "execution_count": 113,
   "metadata": {},
   "outputs": [
    {
     "data": {
      "text/plain": [
       "Unaccompanied      99989\n",
       "Family             16105\n",
       "Spouse, partner     4501\n",
       "Children            1285\n",
       "Other_B              689\n",
       "Other_A              338\n",
       "Group of people       98\n",
       "Name: NAME_TYPE_SUITE, dtype: int64"
      ]
     },
     "execution_count": 113,
     "metadata": {},
     "output_type": "execute_result"
    }
   ],
   "source": [
    "test_data[\"NAME_TYPE_SUITE\"].value_counts()"
   ]
  },
  {
   "cell_type": "markdown",
   "metadata": {},
   "source": [
    "#### EXT_SOURCE_3"
   ]
  },
  {
   "cell_type": "code",
   "execution_count": 114,
   "metadata": {},
   "outputs": [
    {
     "data": {
      "text/plain": [
       "count    147845.000000\n",
       "mean          0.510898\n",
       "std           0.194895\n",
       "min           0.000527\n",
       "25%           0.370650\n",
       "50%           0.535276\n",
       "75%           0.669057\n",
       "max           0.893976\n",
       "Name: EXT_SOURCE_3, dtype: float64"
      ]
     },
     "execution_count": 114,
     "metadata": {},
     "output_type": "execute_result"
    }
   ],
   "source": [
    "train_data[\"EXT_SOURCE_3\"].describe()"
   ]
  },
  {
   "cell_type": "code",
   "execution_count": 115,
   "metadata": {},
   "outputs": [
    {
     "name": "stderr",
     "output_type": "stream",
     "text": [
      "/opt/anaconda3/lib/python3.9/site-packages/seaborn/distributions.py:2619: FutureWarning: `distplot` is a deprecated function and will be removed in a future version. Please adapt your code to use either `displot` (a figure-level function with similar flexibility) or `histplot` (an axes-level function for histograms).\n",
      "  warnings.warn(msg, FutureWarning)\n"
     ]
    },
    {
     "data": {
      "text/plain": [
       "<AxesSubplot:xlabel='EXT_SOURCE_3', ylabel='Density'>"
      ]
     },
     "execution_count": 115,
     "metadata": {},
     "output_type": "execute_result"
    },
    {
     "data": {
      "image/png": "[encoded data removed]",
      "text/plain": [
       "<Figure size 432x288 with 1 Axes>"
      ]
     },
     "metadata": {
      "needs_background": "light"
     },
     "output_type": "display_data"
    }
   ],
   "source": [
    "sns.distplot(train_data[\"EXT_SOURCE_3\"])"
   ]
  },
  {
   "cell_type": "code",
   "execution_count": 116,
   "metadata": {},
   "outputs": [
    {
     "data": {
      "text/plain": [
       "36653"
      ]
     },
     "execution_count": 116,
     "metadata": {},
     "output_type": "execute_result"
    }
   ],
   "source": [
    "train_data[\"EXT_SOURCE_3\"].isna().sum()"
   ]
  },
  {
   "cell_type": "code",
   "execution_count": 117,
   "metadata": {},
   "outputs": [],
   "source": [
    "train_data[\"EXT_SOURCE_3\"].fillna(train_data[\"EXT_SOURCE_3\"].median(),inplace=True)"
   ]
  },
  {
   "cell_type": "code",
   "execution_count": 118,
   "metadata": {},
   "outputs": [
    {
     "data": {
      "text/plain": [
       "0"
      ]
     },
     "execution_count": 118,
     "metadata": {},
     "output_type": "execute_result"
    }
   ],
   "source": [
    "train_data[\"EXT_SOURCE_3\"].isna().sum()"
   ]
  },
  {
   "cell_type": "code",
   "execution_count": 119,
   "metadata": {},
   "outputs": [
    {
     "data": {
      "text/plain": [
       "count    184498.000000\n",
       "mean          0.515741\n",
       "std           0.174736\n",
       "min           0.000527\n",
       "25%           0.417100\n",
       "50%           0.535276\n",
       "75%           0.636376\n",
       "max           0.893976\n",
       "Name: EXT_SOURCE_3, dtype: float64"
      ]
     },
     "execution_count": 119,
     "metadata": {},
     "output_type": "execute_result"
    }
   ],
   "source": [
    "train_data[\"EXT_SOURCE_3\"].describe()"
   ]
  },
  {
   "cell_type": "code",
   "execution_count": 120,
   "metadata": {},
   "outputs": [
    {
     "data": {
      "text/plain": [
       "count    98696.000000\n",
       "mean         0.510791\n",
       "std          0.194771\n",
       "min          0.000527\n",
       "25%          0.370650\n",
       "50%          0.535276\n",
       "75%          0.669057\n",
       "max          0.896010\n",
       "Name: EXT_SOURCE_3, dtype: float64"
      ]
     },
     "execution_count": 120,
     "metadata": {},
     "output_type": "execute_result"
    }
   ],
   "source": [
    "test_data[\"EXT_SOURCE_3\"].describe()"
   ]
  },
  {
   "cell_type": "code",
   "execution_count": 121,
   "metadata": {},
   "outputs": [
    {
     "data": {
      "text/plain": [
       "24309"
      ]
     },
     "execution_count": 121,
     "metadata": {},
     "output_type": "execute_result"
    }
   ],
   "source": [
    "test_data[\"EXT_SOURCE_3\"].isna().sum()"
   ]
  },
  {
   "cell_type": "code",
   "execution_count": 122,
   "metadata": {},
   "outputs": [],
   "source": [
    "test_data[\"EXT_SOURCE_3\"].fillna(test_data[\"EXT_SOURCE_3\"].mean(),inplace=True)"
   ]
  },
  {
   "cell_type": "code",
   "execution_count": 123,
   "metadata": {},
   "outputs": [
    {
     "data": {
      "text/plain": [
       "0"
      ]
     },
     "execution_count": 123,
     "metadata": {},
     "output_type": "execute_result"
    }
   ],
   "source": [
    "test_data[\"EXT_SOURCE_3\"].isna().sum()"
   ]
  },
  {
   "cell_type": "markdown",
   "metadata": {},
   "source": [
    "#### EXT_SOURCE_2"
   ]
  },
  {
   "cell_type": "code",
   "execution_count": 124,
   "metadata": {},
   "outputs": [
    {
     "data": {
      "text/plain": [
       "count    184086.000000\n",
       "mean          0.514613\n",
       "std           0.190880\n",
       "min           0.000001\n",
       "25%           0.392422\n",
       "50%           0.565996\n",
       "75%           0.663798\n",
       "max           0.855000\n",
       "Name: EXT_SOURCE_2, dtype: float64"
      ]
     },
     "execution_count": 124,
     "metadata": {},
     "output_type": "execute_result"
    }
   ],
   "source": [
    "train_data[\"EXT_SOURCE_2\"].describe()"
   ]
  },
  {
   "cell_type": "code",
   "execution_count": 125,
   "metadata": {},
   "outputs": [
    {
     "name": "stderr",
     "output_type": "stream",
     "text": [
      "/opt/anaconda3/lib/python3.9/site-packages/seaborn/distributions.py:2619: FutureWarning: `distplot` is a deprecated function and will be removed in a future version. Please adapt your code to use either `displot` (a figure-level function with similar flexibility) or `histplot` (an axes-level function for histograms).\n",
      "  warnings.warn(msg, FutureWarning)\n"
     ]
    },
    {
     "data": {
      "text/plain": [
       "<AxesSubplot:xlabel='EXT_SOURCE_2', ylabel='Density'>"
      ]
     },
     "execution_count": 125,
     "metadata": {},
     "output_type": "execute_result"
    },
    {
     "data": {
      "image/png": "[encoded data removed]",
      "text/plain": [
       "<Figure size 432x288 with 1 Axes>"
      ]
     },
     "metadata": {
      "needs_background": "light"
     },
     "output_type": "display_data"
    }
   ],
   "source": [
    "sns.distplot(train_data[\"EXT_SOURCE_2\"])"
   ]
  },
  {
   "cell_type": "code",
   "execution_count": 126,
   "metadata": {},
   "outputs": [],
   "source": [
    "train_data[\"EXT_SOURCE_2\"].fillna(train_data[\"EXT_SOURCE_2\"].median(),inplace=True)"
   ]
  },
  {
   "cell_type": "code",
   "execution_count": 127,
   "metadata": {},
   "outputs": [
    {
     "data": {
      "text/plain": [
       "0"
      ]
     },
     "execution_count": 127,
     "metadata": {},
     "output_type": "execute_result"
    }
   ],
   "source": [
    "train_data[\"EXT_SOURCE_2\"].isna().sum()"
   ]
  },
  {
   "cell_type": "code",
   "execution_count": 128,
   "metadata": {},
   "outputs": [
    {
     "data": {
      "text/plain": [
       "count    1.227580e+05\n",
       "mean     5.140578e-01\n",
       "std      1.913316e-01\n",
       "min      8.173617e-08\n",
       "25%      3.924913e-01\n",
       "50%      5.658298e-01\n",
       "75%      6.632936e-01\n",
       "max      8.549997e-01\n",
       "Name: EXT_SOURCE_2, dtype: float64"
      ]
     },
     "execution_count": 128,
     "metadata": {},
     "output_type": "execute_result"
    }
   ],
   "source": [
    "test_data[\"EXT_SOURCE_2\"].describe()"
   ]
  },
  {
   "cell_type": "code",
   "execution_count": 129,
   "metadata": {},
   "outputs": [
    {
     "data": {
      "text/plain": [
       "247"
      ]
     },
     "execution_count": 129,
     "metadata": {},
     "output_type": "execute_result"
    }
   ],
   "source": [
    "test_data[\"EXT_SOURCE_2\"].isna().sum()"
   ]
  },
  {
   "cell_type": "code",
   "execution_count": 130,
   "metadata": {},
   "outputs": [],
   "source": [
    "test_data[\"EXT_SOURCE_2\"].fillna(test_data[\"EXT_SOURCE_2\"].median(),inplace=True)"
   ]
  },
  {
   "cell_type": "code",
   "execution_count": 131,
   "metadata": {},
   "outputs": [
    {
     "data": {
      "text/plain": [
       "0"
      ]
     },
     "execution_count": 131,
     "metadata": {},
     "output_type": "execute_result"
    }
   ],
   "source": [
    "test_data[\"EXT_SOURCE_2\"].isna().sum()"
   ]
  },
  {
   "cell_type": "markdown",
   "metadata": {},
   "source": [
    "Now we have no null values in our dataset and we can proceed to do further preprocessing."
   ]
  },
  {
   "cell_type": "code",
   "execution_count": 132,
   "metadata": {},
   "outputs": [
    {
     "data": {
      "text/plain": [
       "0"
      ]
     },
     "execution_count": 132,
     "metadata": {},
     "output_type": "execute_result"
    }
   ],
   "source": [
    "train_data.isna().sum().sum()"
   ]
  },
  {
   "cell_type": "code",
   "execution_count": 133,
   "metadata": {},
   "outputs": [
    {
     "data": {
      "text/plain": [
       "0"
      ]
     },
     "execution_count": 133,
     "metadata": {},
     "output_type": "execute_result"
    }
   ],
   "source": [
    "test_data.isna().sum().sum()"
   ]
  },
  {
   "attachments": {},
   "cell_type": "markdown",
   "metadata": {},
   "source": [
    "## Outlier removal"
   ]
  },
  {
   "cell_type": "code",
   "execution_count": 134,
   "metadata": {},
   "outputs": [],
   "source": [
    "train_data_target=train_data[\"TARGET\"]\n",
    "train_data.drop(axis=1,columns=\"TARGET\",inplace=True)"
   ]
  },
  {
   "cell_type": "code",
   "execution_count": 135,
   "metadata": {},
   "outputs": [],
   "source": [
    "combined_data=pd.concat([train_data,test_data],axis=0)"
   ]
  },
  {
   "cell_type": "code",
   "execution_count": 136,
   "metadata": {},
   "outputs": [
    {
     "data": {
      "text/html": [
       "<div>\n",
       "<style scoped>\n",
       "    .dataframe tbody tr th:only-of-type {\n",
       "        vertical-align: middle;\n",
       "    }\n",
       "\n",
       "    .dataframe tbody tr th {\n",
       "        vertical-align: top;\n",
       "    }\n",
       "\n",
       "    .dataframe thead th {\n",
       "        text-align: right;\n",
       "    }\n",
       "</style>\n",
       "<table border=\"1\" class=\"dataframe\">\n",
       "  <thead>\n",
       "    <tr style=\"text-align: right;\">\n",
       "      <th></th>\n",
       "      <th>SK_ID_CURR</th>\n",
       "      <th>NAME_CONTRACT_TYPE</th>\n",
       "      <th>CODE_GENDER</th>\n",
       "      <th>FLAG_OWN_CAR</th>\n",
       "      <th>FLAG_OWN_REALTY</th>\n",
       "      <th>CNT_CHILDREN</th>\n",
       "      <th>AMT_INCOME_TOTAL</th>\n",
       "      <th>AMT_CREDIT</th>\n",
       "      <th>AMT_ANNUITY</th>\n",
       "      <th>AMT_GOODS_PRICE</th>\n",
       "      <th>...</th>\n",
       "      <th>FLAG_DOCUMENT_18</th>\n",
       "      <th>FLAG_DOCUMENT_19</th>\n",
       "      <th>FLAG_DOCUMENT_20</th>\n",
       "      <th>FLAG_DOCUMENT_21</th>\n",
       "      <th>AMT_REQ_CREDIT_BUREAU_HOUR</th>\n",
       "      <th>AMT_REQ_CREDIT_BUREAU_DAY</th>\n",
       "      <th>AMT_REQ_CREDIT_BUREAU_WEEK</th>\n",
       "      <th>AMT_REQ_CREDIT_BUREAU_MON</th>\n",
       "      <th>AMT_REQ_CREDIT_BUREAU_QRT</th>\n",
       "      <th>AMT_REQ_CREDIT_BUREAU_YEAR</th>\n",
       "    </tr>\n",
       "  </thead>\n",
       "  <tbody>\n",
       "    <tr>\n",
       "      <th>0</th>\n",
       "      <td>450407</td>\n",
       "      <td>Cash loans</td>\n",
       "      <td>F</td>\n",
       "      <td>N</td>\n",
       "      <td>Y</td>\n",
       "      <td>1</td>\n",
       "      <td>67500.0</td>\n",
       "      <td>227520.0</td>\n",
       "      <td>11065.5</td>\n",
       "      <td>180000.0</td>\n",
       "      <td>...</td>\n",
       "      <td>0</td>\n",
       "      <td>0</td>\n",
       "      <td>0</td>\n",
       "      <td>0</td>\n",
       "      <td>0.0</td>\n",
       "      <td>0.0</td>\n",
       "      <td>0.0</td>\n",
       "      <td>1.0</td>\n",
       "      <td>0.0</td>\n",
       "      <td>2.000000</td>\n",
       "    </tr>\n",
       "    <tr>\n",
       "      <th>1</th>\n",
       "      <td>271298</td>\n",
       "      <td>Cash loans</td>\n",
       "      <td>M</td>\n",
       "      <td>Y</td>\n",
       "      <td>Y</td>\n",
       "      <td>1</td>\n",
       "      <td>247500.0</td>\n",
       "      <td>1882372.5</td>\n",
       "      <td>65560.5</td>\n",
       "      <td>1719000.0</td>\n",
       "      <td>...</td>\n",
       "      <td>0</td>\n",
       "      <td>0</td>\n",
       "      <td>0</td>\n",
       "      <td>0</td>\n",
       "      <td>0.0</td>\n",
       "      <td>0.0</td>\n",
       "      <td>0.0</td>\n",
       "      <td>0.0</td>\n",
       "      <td>1.0</td>\n",
       "      <td>3.000000</td>\n",
       "    </tr>\n",
       "    <tr>\n",
       "      <th>2</th>\n",
       "      <td>122238</td>\n",
       "      <td>Cash loans</td>\n",
       "      <td>M</td>\n",
       "      <td>Y</td>\n",
       "      <td>Y</td>\n",
       "      <td>1</td>\n",
       "      <td>180000.0</td>\n",
       "      <td>101880.0</td>\n",
       "      <td>10827.0</td>\n",
       "      <td>90000.0</td>\n",
       "      <td>...</td>\n",
       "      <td>0</td>\n",
       "      <td>0</td>\n",
       "      <td>0</td>\n",
       "      <td>0</td>\n",
       "      <td>0.0</td>\n",
       "      <td>0.0</td>\n",
       "      <td>0.0</td>\n",
       "      <td>2.0</td>\n",
       "      <td>0.0</td>\n",
       "      <td>1.000000</td>\n",
       "    </tr>\n",
       "    <tr>\n",
       "      <th>3</th>\n",
       "      <td>305311</td>\n",
       "      <td>Cash loans</td>\n",
       "      <td>M</td>\n",
       "      <td>N</td>\n",
       "      <td>N</td>\n",
       "      <td>0</td>\n",
       "      <td>81000.0</td>\n",
       "      <td>405000.0</td>\n",
       "      <td>20677.5</td>\n",
       "      <td>405000.0</td>\n",
       "      <td>...</td>\n",
       "      <td>0</td>\n",
       "      <td>0</td>\n",
       "      <td>0</td>\n",
       "      <td>0</td>\n",
       "      <td>0.0</td>\n",
       "      <td>0.0</td>\n",
       "      <td>0.0</td>\n",
       "      <td>0.0</td>\n",
       "      <td>0.0</td>\n",
       "      <td>2.000000</td>\n",
       "    </tr>\n",
       "    <tr>\n",
       "      <th>4</th>\n",
       "      <td>414121</td>\n",
       "      <td>Cash loans</td>\n",
       "      <td>F</td>\n",
       "      <td>N</td>\n",
       "      <td>Y</td>\n",
       "      <td>0</td>\n",
       "      <td>157500.0</td>\n",
       "      <td>888840.0</td>\n",
       "      <td>29506.5</td>\n",
       "      <td>675000.0</td>\n",
       "      <td>...</td>\n",
       "      <td>0</td>\n",
       "      <td>0</td>\n",
       "      <td>0</td>\n",
       "      <td>0</td>\n",
       "      <td>0.0</td>\n",
       "      <td>0.0</td>\n",
       "      <td>0.0</td>\n",
       "      <td>0.0</td>\n",
       "      <td>0.0</td>\n",
       "      <td>2.000000</td>\n",
       "    </tr>\n",
       "    <tr>\n",
       "      <th>...</th>\n",
       "      <td>...</td>\n",
       "      <td>...</td>\n",
       "      <td>...</td>\n",
       "      <td>...</td>\n",
       "      <td>...</td>\n",
       "      <td>...</td>\n",
       "      <td>...</td>\n",
       "      <td>...</td>\n",
       "      <td>...</td>\n",
       "      <td>...</td>\n",
       "      <td>...</td>\n",
       "      <td>...</td>\n",
       "      <td>...</td>\n",
       "      <td>...</td>\n",
       "      <td>...</td>\n",
       "      <td>...</td>\n",
       "      <td>...</td>\n",
       "      <td>...</td>\n",
       "      <td>...</td>\n",
       "      <td>...</td>\n",
       "      <td>...</td>\n",
       "    </tr>\n",
       "    <tr>\n",
       "      <th>123000</th>\n",
       "      <td>128638</td>\n",
       "      <td>Cash loans</td>\n",
       "      <td>F</td>\n",
       "      <td>Y</td>\n",
       "      <td>Y</td>\n",
       "      <td>1</td>\n",
       "      <td>117000.0</td>\n",
       "      <td>675000.0</td>\n",
       "      <td>32602.5</td>\n",
       "      <td>675000.0</td>\n",
       "      <td>...</td>\n",
       "      <td>0</td>\n",
       "      <td>0</td>\n",
       "      <td>0</td>\n",
       "      <td>0</td>\n",
       "      <td>0.0</td>\n",
       "      <td>0.0</td>\n",
       "      <td>0.0</td>\n",
       "      <td>0.0</td>\n",
       "      <td>3.0</td>\n",
       "      <td>1.000000</td>\n",
       "    </tr>\n",
       "    <tr>\n",
       "      <th>123001</th>\n",
       "      <td>169821</td>\n",
       "      <td>Cash loans</td>\n",
       "      <td>F</td>\n",
       "      <td>N</td>\n",
       "      <td>Y</td>\n",
       "      <td>0</td>\n",
       "      <td>225000.0</td>\n",
       "      <td>1006920.0</td>\n",
       "      <td>42790.5</td>\n",
       "      <td>900000.0</td>\n",
       "      <td>...</td>\n",
       "      <td>0</td>\n",
       "      <td>0</td>\n",
       "      <td>0</td>\n",
       "      <td>0</td>\n",
       "      <td>0.0</td>\n",
       "      <td>0.0</td>\n",
       "      <td>0.0</td>\n",
       "      <td>0.0</td>\n",
       "      <td>2.0</td>\n",
       "      <td>0.000000</td>\n",
       "    </tr>\n",
       "    <tr>\n",
       "      <th>123002</th>\n",
       "      <td>442166</td>\n",
       "      <td>Cash loans</td>\n",
       "      <td>F</td>\n",
       "      <td>N</td>\n",
       "      <td>Y</td>\n",
       "      <td>0</td>\n",
       "      <td>153000.0</td>\n",
       "      <td>625536.0</td>\n",
       "      <td>26851.5</td>\n",
       "      <td>540000.0</td>\n",
       "      <td>...</td>\n",
       "      <td>0</td>\n",
       "      <td>0</td>\n",
       "      <td>0</td>\n",
       "      <td>0</td>\n",
       "      <td>0.0</td>\n",
       "      <td>0.0</td>\n",
       "      <td>0.0</td>\n",
       "      <td>0.0</td>\n",
       "      <td>0.0</td>\n",
       "      <td>1.903676</td>\n",
       "    </tr>\n",
       "    <tr>\n",
       "      <th>123003</th>\n",
       "      <td>301605</td>\n",
       "      <td>Cash loans</td>\n",
       "      <td>M</td>\n",
       "      <td>N</td>\n",
       "      <td>Y</td>\n",
       "      <td>0</td>\n",
       "      <td>180000.0</td>\n",
       "      <td>1089000.0</td>\n",
       "      <td>31972.5</td>\n",
       "      <td>1089000.0</td>\n",
       "      <td>...</td>\n",
       "      <td>0</td>\n",
       "      <td>0</td>\n",
       "      <td>0</td>\n",
       "      <td>0</td>\n",
       "      <td>0.0</td>\n",
       "      <td>0.0</td>\n",
       "      <td>0.0</td>\n",
       "      <td>0.0</td>\n",
       "      <td>1.0</td>\n",
       "      <td>2.000000</td>\n",
       "    </tr>\n",
       "    <tr>\n",
       "      <th>123004</th>\n",
       "      <td>176833</td>\n",
       "      <td>Cash loans</td>\n",
       "      <td>M</td>\n",
       "      <td>Y</td>\n",
       "      <td>Y</td>\n",
       "      <td>0</td>\n",
       "      <td>135000.0</td>\n",
       "      <td>495882.0</td>\n",
       "      <td>36211.5</td>\n",
       "      <td>405000.0</td>\n",
       "      <td>...</td>\n",
       "      <td>0</td>\n",
       "      <td>0</td>\n",
       "      <td>0</td>\n",
       "      <td>0</td>\n",
       "      <td>0.0</td>\n",
       "      <td>0.0</td>\n",
       "      <td>0.0</td>\n",
       "      <td>0.0</td>\n",
       "      <td>0.0</td>\n",
       "      <td>4.000000</td>\n",
       "    </tr>\n",
       "  </tbody>\n",
       "</table>\n",
       "<p>307503 rows × 72 columns</p>\n",
       "</div>"
      ],
      "text/plain": [
       "        SK_ID_CURR NAME_CONTRACT_TYPE CODE_GENDER FLAG_OWN_CAR  \\\n",
       "0           450407         Cash loans           F            N   \n",
       "1           271298         Cash loans           M            Y   \n",
       "2           122238         Cash loans           M            Y   \n",
       "3           305311         Cash loans           M            N   \n",
       "4           414121         Cash loans           F            N   \n",
       "...            ...                ...         ...          ...   \n",
       "123000      128638         Cash loans           F            Y   \n",
       "123001      169821         Cash loans           F            N   \n",
       "123002      442166         Cash loans           F            N   \n",
       "123003      301605         Cash loans           M            N   \n",
       "123004      176833         Cash loans           M            Y   \n",
       "\n",
       "       FLAG_OWN_REALTY  CNT_CHILDREN  AMT_INCOME_TOTAL  AMT_CREDIT  \\\n",
       "0                    Y             1           67500.0    227520.0   \n",
       "1                    Y             1          247500.0   1882372.5   \n",
       "2                    Y             1          180000.0    101880.0   \n",
       "3                    N             0           81000.0    405000.0   \n",
       "4                    Y             0          157500.0    888840.0   \n",
       "...                ...           ...               ...         ...   \n",
       "123000               Y             1          117000.0    675000.0   \n",
       "123001               Y             0          225000.0   1006920.0   \n",
       "123002               Y             0          153000.0    625536.0   \n",
       "123003               Y             0          180000.0   1089000.0   \n",
       "123004               Y             0          135000.0    495882.0   \n",
       "\n",
       "        AMT_ANNUITY  AMT_GOODS_PRICE  ... FLAG_DOCUMENT_18 FLAG_DOCUMENT_19  \\\n",
       "0           11065.5         180000.0  ...                0                0   \n",
       "1           65560.5        1719000.0  ...                0                0   \n",
       "2           10827.0          90000.0  ...                0                0   \n",
       "3           20677.5         405000.0  ...                0                0   \n",
       "4           29506.5         675000.0  ...                0                0   \n",
       "...             ...              ...  ...              ...              ...   \n",
       "123000      32602.5         675000.0  ...                0                0   \n",
       "123001      42790.5         900000.0  ...                0                0   \n",
       "123002      26851.5         540000.0  ...                0                0   \n",
       "123003      31972.5        1089000.0  ...                0                0   \n",
       "123004      36211.5         405000.0  ...                0                0   \n",
       "\n",
       "       FLAG_DOCUMENT_20 FLAG_DOCUMENT_21 AMT_REQ_CREDIT_BUREAU_HOUR  \\\n",
       "0                     0                0                        0.0   \n",
       "1                     0                0                        0.0   \n",
       "2                     0                0                        0.0   \n",
       "3                     0                0                        0.0   \n",
       "4                     0                0                        0.0   \n",
       "...                 ...              ...                        ...   \n",
       "123000                0                0                        0.0   \n",
       "123001                0                0                        0.0   \n",
       "123002                0                0                        0.0   \n",
       "123003                0                0                        0.0   \n",
       "123004                0                0                        0.0   \n",
       "\n",
       "        AMT_REQ_CREDIT_BUREAU_DAY  AMT_REQ_CREDIT_BUREAU_WEEK  \\\n",
       "0                             0.0                         0.0   \n",
       "1                             0.0                         0.0   \n",
       "2                             0.0                         0.0   \n",
       "3                             0.0                         0.0   \n",
       "4                             0.0                         0.0   \n",
       "...                           ...                         ...   \n",
       "123000                        0.0                         0.0   \n",
       "123001                        0.0                         0.0   \n",
       "123002                        0.0                         0.0   \n",
       "123003                        0.0                         0.0   \n",
       "123004                        0.0                         0.0   \n",
       "\n",
       "        AMT_REQ_CREDIT_BUREAU_MON  AMT_REQ_CREDIT_BUREAU_QRT  \\\n",
       "0                             1.0                        0.0   \n",
       "1                             0.0                        1.0   \n",
       "2                             2.0                        0.0   \n",
       "3                             0.0                        0.0   \n",
       "4                             0.0                        0.0   \n",
       "...                           ...                        ...   \n",
       "123000                        0.0                        3.0   \n",
       "123001                        0.0                        2.0   \n",
       "123002                        0.0                        0.0   \n",
       "123003                        0.0                        1.0   \n",
       "123004                        0.0                        0.0   \n",
       "\n",
       "        AMT_REQ_CREDIT_BUREAU_YEAR  \n",
       "0                         2.000000  \n",
       "1                         3.000000  \n",
       "2                         1.000000  \n",
       "3                         2.000000  \n",
       "4                         2.000000  \n",
       "...                            ...  \n",
       "123000                    1.000000  \n",
       "123001                    0.000000  \n",
       "123002                    1.903676  \n",
       "123003                    2.000000  \n",
       "123004                    4.000000  \n",
       "\n",
       "[307503 rows x 72 columns]"
      ]
     },
     "execution_count": 136,
     "metadata": {},
     "output_type": "execute_result"
    }
   ],
   "source": [
    "combined_data"
   ]
  },
  {
   "cell_type": "code",
   "execution_count": 137,
   "metadata": {},
   "outputs": [],
   "source": [
    "columns_with_numerical_data=list(combined_data.select_dtypes(['int64','float64']).columns)"
   ]
  },
  {
   "cell_type": "code",
   "execution_count": 138,
   "metadata": {},
   "outputs": [],
   "source": [
    "# for col in columns_with_numerical_data:\n",
    "# \tquart1=combined_data[col].quantile(0.25)\n",
    "# \tquart3=combined_data[col].quantile(0.75)\n",
    "# \tiqr=quart3-quart1\n",
    "# \tupper_whisker=quart3+iqr*1.5\n",
    "# \tlower_whisker=quart1-iqr*1.5\n",
    "# \tcombined_data.loc[combined_data[col]>upper_whisker,col]=upper_whisker\n",
    "# \tcombined_data.loc[combined_data[col]<lower_whisker,col]=lower_whisker"
   ]
  },
  {
   "cell_type": "code",
   "execution_count": 139,
   "metadata": {},
   "outputs": [
    {
     "data": {
      "text/html": [
       "<div>\n",
       "<style scoped>\n",
       "    .dataframe tbody tr th:only-of-type {\n",
       "        vertical-align: middle;\n",
       "    }\n",
       "\n",
       "    .dataframe tbody tr th {\n",
       "        vertical-align: top;\n",
       "    }\n",
       "\n",
       "    .dataframe thead th {\n",
       "        text-align: right;\n",
       "    }\n",
       "</style>\n",
       "<table border=\"1\" class=\"dataframe\">\n",
       "  <thead>\n",
       "    <tr style=\"text-align: right;\">\n",
       "      <th></th>\n",
       "      <th>SK_ID_CURR</th>\n",
       "      <th>CNT_CHILDREN</th>\n",
       "      <th>AMT_INCOME_TOTAL</th>\n",
       "      <th>AMT_CREDIT</th>\n",
       "      <th>AMT_ANNUITY</th>\n",
       "      <th>AMT_GOODS_PRICE</th>\n",
       "      <th>REGION_POPULATION_RELATIVE</th>\n",
       "      <th>DAYS_BIRTH</th>\n",
       "      <th>DAYS_EMPLOYED</th>\n",
       "      <th>DAYS_REGISTRATION</th>\n",
       "      <th>...</th>\n",
       "      <th>FLAG_DOCUMENT_18</th>\n",
       "      <th>FLAG_DOCUMENT_19</th>\n",
       "      <th>FLAG_DOCUMENT_20</th>\n",
       "      <th>FLAG_DOCUMENT_21</th>\n",
       "      <th>AMT_REQ_CREDIT_BUREAU_HOUR</th>\n",
       "      <th>AMT_REQ_CREDIT_BUREAU_DAY</th>\n",
       "      <th>AMT_REQ_CREDIT_BUREAU_WEEK</th>\n",
       "      <th>AMT_REQ_CREDIT_BUREAU_MON</th>\n",
       "      <th>AMT_REQ_CREDIT_BUREAU_QRT</th>\n",
       "      <th>AMT_REQ_CREDIT_BUREAU_YEAR</th>\n",
       "    </tr>\n",
       "  </thead>\n",
       "  <tbody>\n",
       "    <tr>\n",
       "      <th>count</th>\n",
       "      <td>307503.000000</td>\n",
       "      <td>307503.000000</td>\n",
       "      <td>3.075030e+05</td>\n",
       "      <td>3.075030e+05</td>\n",
       "      <td>307503.000000</td>\n",
       "      <td>3.075030e+05</td>\n",
       "      <td>307503.000000</td>\n",
       "      <td>307503.000000</td>\n",
       "      <td>307503.000000</td>\n",
       "      <td>307503.000000</td>\n",
       "      <td>...</td>\n",
       "      <td>307503.000000</td>\n",
       "      <td>307503.000000</td>\n",
       "      <td>307503.000000</td>\n",
       "      <td>307503.000000</td>\n",
       "      <td>307503.000000</td>\n",
       "      <td>307503.000000</td>\n",
       "      <td>307503.000000</td>\n",
       "      <td>307503.000000</td>\n",
       "      <td>307503.000000</td>\n",
       "      <td>307503.000000</td>\n",
       "    </tr>\n",
       "    <tr>\n",
       "      <th>mean</th>\n",
       "      <td>278182.095986</td>\n",
       "      <td>0.417063</td>\n",
       "      <td>1.687969e+05</td>\n",
       "      <td>5.990259e+05</td>\n",
       "      <td>27108.512205</td>\n",
       "      <td>5.383966e+05</td>\n",
       "      <td>0.020868</td>\n",
       "      <td>-16037.082916</td>\n",
       "      <td>63816.743118</td>\n",
       "      <td>-4986.141000</td>\n",
       "      <td>...</td>\n",
       "      <td>0.008127</td>\n",
       "      <td>0.000595</td>\n",
       "      <td>0.000507</td>\n",
       "      <td>0.000335</td>\n",
       "      <td>0.005538</td>\n",
       "      <td>0.006055</td>\n",
       "      <td>0.029720</td>\n",
       "      <td>0.231289</td>\n",
       "      <td>0.229634</td>\n",
       "      <td>1.899922</td>\n",
       "    </tr>\n",
       "    <tr>\n",
       "      <th>std</th>\n",
       "      <td>102790.034460</td>\n",
       "      <td>0.722128</td>\n",
       "      <td>2.371255e+05</td>\n",
       "      <td>4.024909e+05</td>\n",
       "      <td>14493.641361</td>\n",
       "      <td>3.692797e+05</td>\n",
       "      <td>0.013831</td>\n",
       "      <td>4363.969621</td>\n",
       "      <td>141277.212245</td>\n",
       "      <td>3522.894235</td>\n",
       "      <td>...</td>\n",
       "      <td>0.089782</td>\n",
       "      <td>0.024388</td>\n",
       "      <td>0.022518</td>\n",
       "      <td>0.018299</td>\n",
       "      <td>0.078015</td>\n",
       "      <td>0.103038</td>\n",
       "      <td>0.190722</td>\n",
       "      <td>0.856817</td>\n",
       "      <td>0.744067</td>\n",
       "      <td>1.738460</td>\n",
       "    </tr>\n",
       "    <tr>\n",
       "      <th>min</th>\n",
       "      <td>100002.000000</td>\n",
       "      <td>0.000000</td>\n",
       "      <td>2.565000e+04</td>\n",
       "      <td>4.500000e+04</td>\n",
       "      <td>1615.500000</td>\n",
       "      <td>4.050000e+04</td>\n",
       "      <td>0.000290</td>\n",
       "      <td>-25229.000000</td>\n",
       "      <td>-17912.000000</td>\n",
       "      <td>-24672.000000</td>\n",
       "      <td>...</td>\n",
       "      <td>0.000000</td>\n",
       "      <td>0.000000</td>\n",
       "      <td>0.000000</td>\n",
       "      <td>0.000000</td>\n",
       "      <td>0.000000</td>\n",
       "      <td>0.000000</td>\n",
       "      <td>0.000000</td>\n",
       "      <td>0.000000</td>\n",
       "      <td>0.000000</td>\n",
       "      <td>0.000000</td>\n",
       "    </tr>\n",
       "    <tr>\n",
       "      <th>25%</th>\n",
       "      <td>189149.500000</td>\n",
       "      <td>0.000000</td>\n",
       "      <td>1.125000e+05</td>\n",
       "      <td>2.700000e+05</td>\n",
       "      <td>16524.000000</td>\n",
       "      <td>2.385000e+05</td>\n",
       "      <td>0.010006</td>\n",
       "      <td>-19682.000000</td>\n",
       "      <td>-2760.000000</td>\n",
       "      <td>-7479.500000</td>\n",
       "      <td>...</td>\n",
       "      <td>0.000000</td>\n",
       "      <td>0.000000</td>\n",
       "      <td>0.000000</td>\n",
       "      <td>0.000000</td>\n",
       "      <td>0.000000</td>\n",
       "      <td>0.000000</td>\n",
       "      <td>0.000000</td>\n",
       "      <td>0.000000</td>\n",
       "      <td>0.000000</td>\n",
       "      <td>1.000000</td>\n",
       "    </tr>\n",
       "    <tr>\n",
       "      <th>50%</th>\n",
       "      <td>278204.000000</td>\n",
       "      <td>0.000000</td>\n",
       "      <td>1.471500e+05</td>\n",
       "      <td>5.135310e+05</td>\n",
       "      <td>24903.000000</td>\n",
       "      <td>4.500000e+05</td>\n",
       "      <td>0.018850</td>\n",
       "      <td>-15750.000000</td>\n",
       "      <td>-1213.000000</td>\n",
       "      <td>-4504.000000</td>\n",
       "      <td>...</td>\n",
       "      <td>0.000000</td>\n",
       "      <td>0.000000</td>\n",
       "      <td>0.000000</td>\n",
       "      <td>0.000000</td>\n",
       "      <td>0.000000</td>\n",
       "      <td>0.000000</td>\n",
       "      <td>0.000000</td>\n",
       "      <td>0.000000</td>\n",
       "      <td>0.000000</td>\n",
       "      <td>1.897419</td>\n",
       "    </tr>\n",
       "    <tr>\n",
       "      <th>75%</th>\n",
       "      <td>367143.500000</td>\n",
       "      <td>1.000000</td>\n",
       "      <td>2.025000e+05</td>\n",
       "      <td>8.086500e+05</td>\n",
       "      <td>34596.000000</td>\n",
       "      <td>6.795000e+05</td>\n",
       "      <td>0.028663</td>\n",
       "      <td>-12413.000000</td>\n",
       "      <td>-289.000000</td>\n",
       "      <td>-2010.000000</td>\n",
       "      <td>...</td>\n",
       "      <td>0.000000</td>\n",
       "      <td>0.000000</td>\n",
       "      <td>0.000000</td>\n",
       "      <td>0.000000</td>\n",
       "      <td>0.000000</td>\n",
       "      <td>0.000000</td>\n",
       "      <td>0.000000</td>\n",
       "      <td>0.000000</td>\n",
       "      <td>0.000000</td>\n",
       "      <td>3.000000</td>\n",
       "    </tr>\n",
       "    <tr>\n",
       "      <th>max</th>\n",
       "      <td>456255.000000</td>\n",
       "      <td>19.000000</td>\n",
       "      <td>1.170000e+08</td>\n",
       "      <td>4.050000e+06</td>\n",
       "      <td>258025.500000</td>\n",
       "      <td>4.050000e+06</td>\n",
       "      <td>0.072508</td>\n",
       "      <td>-7489.000000</td>\n",
       "      <td>365243.000000</td>\n",
       "      <td>0.000000</td>\n",
       "      <td>...</td>\n",
       "      <td>1.000000</td>\n",
       "      <td>1.000000</td>\n",
       "      <td>1.000000</td>\n",
       "      <td>1.000000</td>\n",
       "      <td>4.000000</td>\n",
       "      <td>9.000000</td>\n",
       "      <td>8.000000</td>\n",
       "      <td>27.000000</td>\n",
       "      <td>261.000000</td>\n",
       "      <td>25.000000</td>\n",
       "    </tr>\n",
       "  </tbody>\n",
       "</table>\n",
       "<p>8 rows × 60 columns</p>\n",
       "</div>"
      ],
      "text/plain": [
       "          SK_ID_CURR   CNT_CHILDREN  AMT_INCOME_TOTAL    AMT_CREDIT  \\\n",
       "count  307503.000000  307503.000000      3.075030e+05  3.075030e+05   \n",
       "mean   278182.095986       0.417063      1.687969e+05  5.990259e+05   \n",
       "std    102790.034460       0.722128      2.371255e+05  4.024909e+05   \n",
       "min    100002.000000       0.000000      2.565000e+04  4.500000e+04   \n",
       "25%    189149.500000       0.000000      1.125000e+05  2.700000e+05   \n",
       "50%    278204.000000       0.000000      1.471500e+05  5.135310e+05   \n",
       "75%    367143.500000       1.000000      2.025000e+05  8.086500e+05   \n",
       "max    456255.000000      19.000000      1.170000e+08  4.050000e+06   \n",
       "\n",
       "         AMT_ANNUITY  AMT_GOODS_PRICE  REGION_POPULATION_RELATIVE  \\\n",
       "count  307503.000000     3.075030e+05               307503.000000   \n",
       "mean    27108.512205     5.383966e+05                    0.020868   \n",
       "std     14493.641361     3.692797e+05                    0.013831   \n",
       "min      1615.500000     4.050000e+04                    0.000290   \n",
       "25%     16524.000000     2.385000e+05                    0.010006   \n",
       "50%     24903.000000     4.500000e+05                    0.018850   \n",
       "75%     34596.000000     6.795000e+05                    0.028663   \n",
       "max    258025.500000     4.050000e+06                    0.072508   \n",
       "\n",
       "          DAYS_BIRTH  DAYS_EMPLOYED  DAYS_REGISTRATION  ...  FLAG_DOCUMENT_18  \\\n",
       "count  307503.000000  307503.000000      307503.000000  ...     307503.000000   \n",
       "mean   -16037.082916   63816.743118       -4986.141000  ...          0.008127   \n",
       "std      4363.969621  141277.212245        3522.894235  ...          0.089782   \n",
       "min    -25229.000000  -17912.000000      -24672.000000  ...          0.000000   \n",
       "25%    -19682.000000   -2760.000000       -7479.500000  ...          0.000000   \n",
       "50%    -15750.000000   -1213.000000       -4504.000000  ...          0.000000   \n",
       "75%    -12413.000000    -289.000000       -2010.000000  ...          0.000000   \n",
       "max     -7489.000000  365243.000000           0.000000  ...          1.000000   \n",
       "\n",
       "       FLAG_DOCUMENT_19  FLAG_DOCUMENT_20  FLAG_DOCUMENT_21  \\\n",
       "count     307503.000000     307503.000000     307503.000000   \n",
       "mean           0.000595          0.000507          0.000335   \n",
       "std            0.024388          0.022518          0.018299   \n",
       "min            0.000000          0.000000          0.000000   \n",
       "25%            0.000000          0.000000          0.000000   \n",
       "50%            0.000000          0.000000          0.000000   \n",
       "75%            0.000000          0.000000          0.000000   \n",
       "max            1.000000          1.000000          1.000000   \n",
       "\n",
       "       AMT_REQ_CREDIT_BUREAU_HOUR  AMT_REQ_CREDIT_BUREAU_DAY  \\\n",
       "count               307503.000000              307503.000000   \n",
       "mean                     0.005538                   0.006055   \n",
       "std                      0.078015                   0.103038   \n",
       "min                      0.000000                   0.000000   \n",
       "25%                      0.000000                   0.000000   \n",
       "50%                      0.000000                   0.000000   \n",
       "75%                      0.000000                   0.000000   \n",
       "max                      4.000000                   9.000000   \n",
       "\n",
       "       AMT_REQ_CREDIT_BUREAU_WEEK  AMT_REQ_CREDIT_BUREAU_MON  \\\n",
       "count               307503.000000              307503.000000   \n",
       "mean                     0.029720                   0.231289   \n",
       "std                      0.190722                   0.856817   \n",
       "min                      0.000000                   0.000000   \n",
       "25%                      0.000000                   0.000000   \n",
       "50%                      0.000000                   0.000000   \n",
       "75%                      0.000000                   0.000000   \n",
       "max                      8.000000                  27.000000   \n",
       "\n",
       "       AMT_REQ_CREDIT_BUREAU_QRT  AMT_REQ_CREDIT_BUREAU_YEAR  \n",
       "count              307503.000000               307503.000000  \n",
       "mean                    0.229634                    1.899922  \n",
       "std                     0.744067                    1.738460  \n",
       "min                     0.000000                    0.000000  \n",
       "25%                     0.000000                    1.000000  \n",
       "50%                     0.000000                    1.897419  \n",
       "75%                     0.000000                    3.000000  \n",
       "max                   261.000000                   25.000000  \n",
       "\n",
       "[8 rows x 60 columns]"
      ]
     },
     "execution_count": 139,
     "metadata": {},
     "output_type": "execute_result"
    }
   ],
   "source": [
    "combined_data.describe()"
   ]
  },
  {
   "cell_type": "markdown",
   "metadata": {},
   "source": [
    "## Encoding"
   ]
  },
  {
   "cell_type": "markdown",
   "metadata": {},
   "source": [
    "Columns with categorical values have to be encoded."
   ]
  },
  {
   "cell_type": "code",
   "execution_count": 140,
   "metadata": {},
   "outputs": [],
   "source": [
    "columns_to_encode=list(train_data.select_dtypes(include=['object']).columns)"
   ]
  },
  {
   "cell_type": "markdown",
   "metadata": {},
   "source": [
    "The test data has a column in the columns to be encoded whose value is indifferent from the train data column. So we combine and split with randomising."
   ]
  },
  {
   "cell_type": "code",
   "execution_count": 141,
   "metadata": {},
   "outputs": [],
   "source": [
    "combined_data_encoded=pd.get_dummies(combined_data,columns=columns_to_encode)"
   ]
  },
  {
   "cell_type": "code",
   "execution_count": 142,
   "metadata": {},
   "outputs": [],
   "source": [
    "train_data_encoded=combined_data_encoded.iloc[:train_data.shape[0],:]\n",
    "test_data_encoded=combined_data_encoded.iloc[train_data.shape[0]:,:]"
   ]
  },
  {
   "cell_type": "code",
   "execution_count": 143,
   "metadata": {},
   "outputs": [
    {
     "data": {
      "text/plain": [
       "(184498, 185)"
      ]
     },
     "execution_count": 143,
     "metadata": {},
     "output_type": "execute_result"
    }
   ],
   "source": [
    "train_data_encoded.shape"
   ]
  },
  {
   "cell_type": "code",
   "execution_count": 144,
   "metadata": {},
   "outputs": [],
   "source": [
    "train_data_encoded=pd.concat([train_data_encoded,train_data_target],axis=1)"
   ]
  },
  {
   "cell_type": "code",
   "execution_count": 145,
   "metadata": {},
   "outputs": [
    {
     "data": {
      "text/html": [
       "<div>\n",
       "<style scoped>\n",
       "    .dataframe tbody tr th:only-of-type {\n",
       "        vertical-align: middle;\n",
       "    }\n",
       "\n",
       "    .dataframe tbody tr th {\n",
       "        vertical-align: top;\n",
       "    }\n",
       "\n",
       "    .dataframe thead th {\n",
       "        text-align: right;\n",
       "    }\n",
       "</style>\n",
       "<table border=\"1\" class=\"dataframe\">\n",
       "  <thead>\n",
       "    <tr style=\"text-align: right;\">\n",
       "      <th></th>\n",
       "      <th>SK_ID_CURR</th>\n",
       "      <th>CNT_CHILDREN</th>\n",
       "      <th>AMT_INCOME_TOTAL</th>\n",
       "      <th>AMT_CREDIT</th>\n",
       "      <th>AMT_ANNUITY</th>\n",
       "      <th>AMT_GOODS_PRICE</th>\n",
       "      <th>REGION_POPULATION_RELATIVE</th>\n",
       "      <th>DAYS_BIRTH</th>\n",
       "      <th>DAYS_EMPLOYED</th>\n",
       "      <th>DAYS_REGISTRATION</th>\n",
       "      <th>...</th>\n",
       "      <th>ORGANIZATION_TYPE_Trade: type 5</th>\n",
       "      <th>ORGANIZATION_TYPE_Trade: type 6</th>\n",
       "      <th>ORGANIZATION_TYPE_Trade: type 7</th>\n",
       "      <th>ORGANIZATION_TYPE_Transport: type 1</th>\n",
       "      <th>ORGANIZATION_TYPE_Transport: type 2</th>\n",
       "      <th>ORGANIZATION_TYPE_Transport: type 3</th>\n",
       "      <th>ORGANIZATION_TYPE_Transport: type 4</th>\n",
       "      <th>ORGANIZATION_TYPE_University</th>\n",
       "      <th>ORGANIZATION_TYPE_XNA</th>\n",
       "      <th>TARGET</th>\n",
       "    </tr>\n",
       "  </thead>\n",
       "  <tbody>\n",
       "    <tr>\n",
       "      <th>0</th>\n",
       "      <td>450407</td>\n",
       "      <td>1</td>\n",
       "      <td>67500.0</td>\n",
       "      <td>227520.0</td>\n",
       "      <td>11065.5</td>\n",
       "      <td>180000.0</td>\n",
       "      <td>0.018634</td>\n",
       "      <td>-17210</td>\n",
       "      <td>-774</td>\n",
       "      <td>-5580.0</td>\n",
       "      <td>...</td>\n",
       "      <td>0</td>\n",
       "      <td>0</td>\n",
       "      <td>0</td>\n",
       "      <td>0</td>\n",
       "      <td>0</td>\n",
       "      <td>0</td>\n",
       "      <td>0</td>\n",
       "      <td>0</td>\n",
       "      <td>0</td>\n",
       "      <td>0</td>\n",
       "    </tr>\n",
       "    <tr>\n",
       "      <th>1</th>\n",
       "      <td>271298</td>\n",
       "      <td>1</td>\n",
       "      <td>247500.0</td>\n",
       "      <td>1882372.5</td>\n",
       "      <td>65560.5</td>\n",
       "      <td>1719000.0</td>\n",
       "      <td>0.018850</td>\n",
       "      <td>-18640</td>\n",
       "      <td>-96</td>\n",
       "      <td>-5711.0</td>\n",
       "      <td>...</td>\n",
       "      <td>0</td>\n",
       "      <td>0</td>\n",
       "      <td>0</td>\n",
       "      <td>0</td>\n",
       "      <td>0</td>\n",
       "      <td>0</td>\n",
       "      <td>0</td>\n",
       "      <td>0</td>\n",
       "      <td>0</td>\n",
       "      <td>0</td>\n",
       "    </tr>\n",
       "    <tr>\n",
       "      <th>2</th>\n",
       "      <td>122238</td>\n",
       "      <td>1</td>\n",
       "      <td>180000.0</td>\n",
       "      <td>101880.0</td>\n",
       "      <td>10827.0</td>\n",
       "      <td>90000.0</td>\n",
       "      <td>0.022625</td>\n",
       "      <td>-14649</td>\n",
       "      <td>-6130</td>\n",
       "      <td>-1776.0</td>\n",
       "      <td>...</td>\n",
       "      <td>0</td>\n",
       "      <td>0</td>\n",
       "      <td>0</td>\n",
       "      <td>0</td>\n",
       "      <td>0</td>\n",
       "      <td>0</td>\n",
       "      <td>1</td>\n",
       "      <td>0</td>\n",
       "      <td>0</td>\n",
       "      <td>0</td>\n",
       "    </tr>\n",
       "    <tr>\n",
       "      <th>3</th>\n",
       "      <td>305311</td>\n",
       "      <td>0</td>\n",
       "      <td>81000.0</td>\n",
       "      <td>405000.0</td>\n",
       "      <td>20677.5</td>\n",
       "      <td>405000.0</td>\n",
       "      <td>0.035792</td>\n",
       "      <td>-12762</td>\n",
       "      <td>-5891</td>\n",
       "      <td>-6430.0</td>\n",
       "      <td>...</td>\n",
       "      <td>0</td>\n",
       "      <td>0</td>\n",
       "      <td>0</td>\n",
       "      <td>0</td>\n",
       "      <td>0</td>\n",
       "      <td>0</td>\n",
       "      <td>0</td>\n",
       "      <td>0</td>\n",
       "      <td>0</td>\n",
       "      <td>0</td>\n",
       "    </tr>\n",
       "    <tr>\n",
       "      <th>4</th>\n",
       "      <td>414121</td>\n",
       "      <td>0</td>\n",
       "      <td>157500.0</td>\n",
       "      <td>888840.0</td>\n",
       "      <td>29506.5</td>\n",
       "      <td>675000.0</td>\n",
       "      <td>0.018801</td>\n",
       "      <td>-16329</td>\n",
       "      <td>-345</td>\n",
       "      <td>-1413.0</td>\n",
       "      <td>...</td>\n",
       "      <td>0</td>\n",
       "      <td>0</td>\n",
       "      <td>0</td>\n",
       "      <td>0</td>\n",
       "      <td>0</td>\n",
       "      <td>0</td>\n",
       "      <td>0</td>\n",
       "      <td>0</td>\n",
       "      <td>0</td>\n",
       "      <td>0</td>\n",
       "    </tr>\n",
       "    <tr>\n",
       "      <th>...</th>\n",
       "      <td>...</td>\n",
       "      <td>...</td>\n",
       "      <td>...</td>\n",
       "      <td>...</td>\n",
       "      <td>...</td>\n",
       "      <td>...</td>\n",
       "      <td>...</td>\n",
       "      <td>...</td>\n",
       "      <td>...</td>\n",
       "      <td>...</td>\n",
       "      <td>...</td>\n",
       "      <td>...</td>\n",
       "      <td>...</td>\n",
       "      <td>...</td>\n",
       "      <td>...</td>\n",
       "      <td>...</td>\n",
       "      <td>...</td>\n",
       "      <td>...</td>\n",
       "      <td>...</td>\n",
       "      <td>...</td>\n",
       "      <td>...</td>\n",
       "    </tr>\n",
       "    <tr>\n",
       "      <th>184501</th>\n",
       "      <td>439663</td>\n",
       "      <td>1</td>\n",
       "      <td>135000.0</td>\n",
       "      <td>143910.0</td>\n",
       "      <td>15498.0</td>\n",
       "      <td>135000.0</td>\n",
       "      <td>0.016612</td>\n",
       "      <td>-12139</td>\n",
       "      <td>-1442</td>\n",
       "      <td>-3888.0</td>\n",
       "      <td>...</td>\n",
       "      <td>0</td>\n",
       "      <td>0</td>\n",
       "      <td>0</td>\n",
       "      <td>0</td>\n",
       "      <td>0</td>\n",
       "      <td>0</td>\n",
       "      <td>0</td>\n",
       "      <td>0</td>\n",
       "      <td>0</td>\n",
       "      <td>0</td>\n",
       "    </tr>\n",
       "    <tr>\n",
       "      <th>184502</th>\n",
       "      <td>385689</td>\n",
       "      <td>0</td>\n",
       "      <td>202500.0</td>\n",
       "      <td>360000.0</td>\n",
       "      <td>18000.0</td>\n",
       "      <td>360000.0</td>\n",
       "      <td>0.010032</td>\n",
       "      <td>-22472</td>\n",
       "      <td>365243</td>\n",
       "      <td>-12171.0</td>\n",
       "      <td>...</td>\n",
       "      <td>0</td>\n",
       "      <td>0</td>\n",
       "      <td>0</td>\n",
       "      <td>0</td>\n",
       "      <td>0</td>\n",
       "      <td>0</td>\n",
       "      <td>0</td>\n",
       "      <td>0</td>\n",
       "      <td>1</td>\n",
       "      <td>0</td>\n",
       "    </tr>\n",
       "    <tr>\n",
       "      <th>184503</th>\n",
       "      <td>153567</td>\n",
       "      <td>0</td>\n",
       "      <td>135000.0</td>\n",
       "      <td>900000.0</td>\n",
       "      <td>45954.0</td>\n",
       "      <td>900000.0</td>\n",
       "      <td>0.014464</td>\n",
       "      <td>-15037</td>\n",
       "      <td>-88</td>\n",
       "      <td>-5025.0</td>\n",
       "      <td>...</td>\n",
       "      <td>0</td>\n",
       "      <td>0</td>\n",
       "      <td>0</td>\n",
       "      <td>0</td>\n",
       "      <td>0</td>\n",
       "      <td>0</td>\n",
       "      <td>0</td>\n",
       "      <td>0</td>\n",
       "      <td>0</td>\n",
       "      <td>0</td>\n",
       "    </tr>\n",
       "    <tr>\n",
       "      <th>184504</th>\n",
       "      <td>365526</td>\n",
       "      <td>0</td>\n",
       "      <td>123300.0</td>\n",
       "      <td>744988.5</td>\n",
       "      <td>20484.0</td>\n",
       "      <td>744988.5</td>\n",
       "      <td>0.026392</td>\n",
       "      <td>-20586</td>\n",
       "      <td>365243</td>\n",
       "      <td>-6310.0</td>\n",
       "      <td>...</td>\n",
       "      <td>0</td>\n",
       "      <td>0</td>\n",
       "      <td>0</td>\n",
       "      <td>0</td>\n",
       "      <td>0</td>\n",
       "      <td>0</td>\n",
       "      <td>0</td>\n",
       "      <td>0</td>\n",
       "      <td>1</td>\n",
       "      <td>0</td>\n",
       "    </tr>\n",
       "    <tr>\n",
       "      <th>184505</th>\n",
       "      <td>125605</td>\n",
       "      <td>0</td>\n",
       "      <td>81000.0</td>\n",
       "      <td>167895.0</td>\n",
       "      <td>17757.0</td>\n",
       "      <td>157500.0</td>\n",
       "      <td>0.018850</td>\n",
       "      <td>-16397</td>\n",
       "      <td>-3009</td>\n",
       "      <td>-708.0</td>\n",
       "      <td>...</td>\n",
       "      <td>0</td>\n",
       "      <td>0</td>\n",
       "      <td>0</td>\n",
       "      <td>0</td>\n",
       "      <td>0</td>\n",
       "      <td>0</td>\n",
       "      <td>0</td>\n",
       "      <td>0</td>\n",
       "      <td>0</td>\n",
       "      <td>0</td>\n",
       "    </tr>\n",
       "  </tbody>\n",
       "</table>\n",
       "<p>184498 rows × 186 columns</p>\n",
       "</div>"
      ],
      "text/plain": [
       "        SK_ID_CURR  CNT_CHILDREN  AMT_INCOME_TOTAL  AMT_CREDIT  AMT_ANNUITY  \\\n",
       "0           450407             1           67500.0    227520.0      11065.5   \n",
       "1           271298             1          247500.0   1882372.5      65560.5   \n",
       "2           122238             1          180000.0    101880.0      10827.0   \n",
       "3           305311             0           81000.0    405000.0      20677.5   \n",
       "4           414121             0          157500.0    888840.0      29506.5   \n",
       "...            ...           ...               ...         ...          ...   \n",
       "184501      439663             1          135000.0    143910.0      15498.0   \n",
       "184502      385689             0          202500.0    360000.0      18000.0   \n",
       "184503      153567             0          135000.0    900000.0      45954.0   \n",
       "184504      365526             0          123300.0    744988.5      20484.0   \n",
       "184505      125605             0           81000.0    167895.0      17757.0   \n",
       "\n",
       "        AMT_GOODS_PRICE  REGION_POPULATION_RELATIVE  DAYS_BIRTH  \\\n",
       "0              180000.0                    0.018634      -17210   \n",
       "1             1719000.0                    0.018850      -18640   \n",
       "2               90000.0                    0.022625      -14649   \n",
       "3              405000.0                    0.035792      -12762   \n",
       "4              675000.0                    0.018801      -16329   \n",
       "...                 ...                         ...         ...   \n",
       "184501         135000.0                    0.016612      -12139   \n",
       "184502         360000.0                    0.010032      -22472   \n",
       "184503         900000.0                    0.014464      -15037   \n",
       "184504         744988.5                    0.026392      -20586   \n",
       "184505         157500.0                    0.018850      -16397   \n",
       "\n",
       "        DAYS_EMPLOYED  DAYS_REGISTRATION  ...  \\\n",
       "0                -774            -5580.0  ...   \n",
       "1                 -96            -5711.0  ...   \n",
       "2               -6130            -1776.0  ...   \n",
       "3               -5891            -6430.0  ...   \n",
       "4                -345            -1413.0  ...   \n",
       "...               ...                ...  ...   \n",
       "184501          -1442            -3888.0  ...   \n",
       "184502         365243           -12171.0  ...   \n",
       "184503            -88            -5025.0  ...   \n",
       "184504         365243            -6310.0  ...   \n",
       "184505          -3009             -708.0  ...   \n",
       "\n",
       "        ORGANIZATION_TYPE_Trade: type 5  ORGANIZATION_TYPE_Trade: type 6  \\\n",
       "0                                     0                                0   \n",
       "1                                     0                                0   \n",
       "2                                     0                                0   \n",
       "3                                     0                                0   \n",
       "4                                     0                                0   \n",
       "...                                 ...                              ...   \n",
       "184501                                0                                0   \n",
       "184502                                0                                0   \n",
       "184503                                0                                0   \n",
       "184504                                0                                0   \n",
       "184505                                0                                0   \n",
       "\n",
       "        ORGANIZATION_TYPE_Trade: type 7  ORGANIZATION_TYPE_Transport: type 1  \\\n",
       "0                                     0                                    0   \n",
       "1                                     0                                    0   \n",
       "2                                     0                                    0   \n",
       "3                                     0                                    0   \n",
       "4                                     0                                    0   \n",
       "...                                 ...                                  ...   \n",
       "184501                                0                                    0   \n",
       "184502                                0                                    0   \n",
       "184503                                0                                    0   \n",
       "184504                                0                                    0   \n",
       "184505                                0                                    0   \n",
       "\n",
       "        ORGANIZATION_TYPE_Transport: type 2  \\\n",
       "0                                         0   \n",
       "1                                         0   \n",
       "2                                         0   \n",
       "3                                         0   \n",
       "4                                         0   \n",
       "...                                     ...   \n",
       "184501                                    0   \n",
       "184502                                    0   \n",
       "184503                                    0   \n",
       "184504                                    0   \n",
       "184505                                    0   \n",
       "\n",
       "        ORGANIZATION_TYPE_Transport: type 3  \\\n",
       "0                                         0   \n",
       "1                                         0   \n",
       "2                                         0   \n",
       "3                                         0   \n",
       "4                                         0   \n",
       "...                                     ...   \n",
       "184501                                    0   \n",
       "184502                                    0   \n",
       "184503                                    0   \n",
       "184504                                    0   \n",
       "184505                                    0   \n",
       "\n",
       "        ORGANIZATION_TYPE_Transport: type 4  ORGANIZATION_TYPE_University  \\\n",
       "0                                         0                             0   \n",
       "1                                         0                             0   \n",
       "2                                         1                             0   \n",
       "3                                         0                             0   \n",
       "4                                         0                             0   \n",
       "...                                     ...                           ...   \n",
       "184501                                    0                             0   \n",
       "184502                                    0                             0   \n",
       "184503                                    0                             0   \n",
       "184504                                    0                             0   \n",
       "184505                                    0                             0   \n",
       "\n",
       "        ORGANIZATION_TYPE_XNA  TARGET  \n",
       "0                           0       0  \n",
       "1                           0       0  \n",
       "2                           0       0  \n",
       "3                           0       0  \n",
       "4                           0       0  \n",
       "...                       ...     ...  \n",
       "184501                      0       0  \n",
       "184502                      1       0  \n",
       "184503                      0       0  \n",
       "184504                      1       0  \n",
       "184505                      0       0  \n",
       "\n",
       "[184498 rows x 186 columns]"
      ]
     },
     "execution_count": 145,
     "metadata": {},
     "output_type": "execute_result"
    }
   ],
   "source": [
    "train_data_encoded"
   ]
  },
  {
   "cell_type": "code",
   "execution_count": 146,
   "metadata": {},
   "outputs": [
    {
     "data": {
      "text/plain": [
       "(123005, 185)"
      ]
     },
     "execution_count": 146,
     "metadata": {},
     "output_type": "execute_result"
    }
   ],
   "source": [
    "test_data_encoded.shape"
   ]
  },
  {
   "cell_type": "markdown",
   "metadata": {},
   "source": [
    "## Check for duplicates after dropping columns"
   ]
  },
  {
   "cell_type": "code",
   "execution_count": 147,
   "metadata": {},
   "outputs": [
    {
     "data": {
      "text/plain": [
       "0"
      ]
     },
     "execution_count": 147,
     "metadata": {},
     "output_type": "execute_result"
    }
   ],
   "source": [
    "train_data_encoded.duplicated().sum()"
   ]
  },
  {
   "cell_type": "markdown",
   "metadata": {},
   "source": [
    "No duplicates found."
   ]
  },
  {
   "cell_type": "markdown",
   "metadata": {},
   "source": [
    "## EDA"
   ]
  },
  {
   "cell_type": "markdown",
   "metadata": {},
   "source": [
    "Now we do further analysis."
   ]
  },
  {
   "cell_type": "code",
   "execution_count": 148,
   "metadata": {},
   "outputs": [],
   "source": [
    "columns_with_number_uniques=train_data_encoded.nunique()"
   ]
  },
  {
   "cell_type": "markdown",
   "metadata": {},
   "source": [
    "We have to check for skews first. Most of our columns are categorical or has less number of unique values. So we have only few columns to check skews for."
   ]
  },
  {
   "cell_type": "code",
   "execution_count": 149,
   "metadata": {},
   "outputs": [
    {
     "name": "stderr",
     "output_type": "stream",
     "text": [
      "/opt/anaconda3/lib/python3.9/site-packages/seaborn/_decorators.py:36: FutureWarning: Pass the following variable as a keyword arg: x. From version 0.12, the only valid positional argument will be `data`, and passing other arguments without an explicit keyword will result in an error or misinterpretation.\n",
      "  warnings.warn(\n"
     ]
    },
    {
     "data": {
      "text/plain": [
       "<AxesSubplot:xlabel='AMT_INCOME_TOTAL'>"
      ]
     },
     "execution_count": 149,
     "metadata": {},
     "output_type": "execute_result"
    },
    {
     "data": {
      "image/png": "[encoded data removed]",
      "text/plain": [
       "<Figure size 432x288 with 1 Axes>"
      ]
     },
     "metadata": {
      "needs_background": "light"
     },
     "output_type": "display_data"
    }
   ],
   "source": [
    "sns.boxplot(train_data_encoded[\"AMT_INCOME_TOTAL\"])"
   ]
  },
  {
   "cell_type": "code",
   "execution_count": 150,
   "metadata": {},
   "outputs": [],
   "source": [
    "# train_data_encoded=train_data_encoded[train_data_encoded[\"AMT_INCOME_TOTAL\"]<=1e6]"
   ]
  },
  {
   "cell_type": "code",
   "execution_count": 151,
   "metadata": {},
   "outputs": [
    {
     "name": "stderr",
     "output_type": "stream",
     "text": [
      "/opt/anaconda3/lib/python3.9/site-packages/seaborn/_decorators.py:36: FutureWarning: Pass the following variable as a keyword arg: x. From version 0.12, the only valid positional argument will be `data`, and passing other arguments without an explicit keyword will result in an error or misinterpretation.\n",
      "  warnings.warn(\n"
     ]
    },
    {
     "data": {
      "text/plain": [
       "<AxesSubplot:xlabel='AMT_INCOME_TOTAL'>"
      ]
     },
     "execution_count": 151,
     "metadata": {},
     "output_type": "execute_result"
    },
    {
     "data": {
      "image/png": "[encoded data removed]",
      "text/plain": [
       "<Figure size 432x288 with 1 Axes>"
      ]
     },
     "metadata": {
      "needs_background": "light"
     },
     "output_type": "display_data"
    }
   ],
   "source": [
    "sns.boxplot(train_data_encoded[\"AMT_INCOME_TOTAL\"])"
   ]
  },
  {
   "cell_type": "code",
   "execution_count": 152,
   "metadata": {},
   "outputs": [
    {
     "name": "stderr",
     "output_type": "stream",
     "text": [
      "/opt/anaconda3/lib/python3.9/site-packages/seaborn/_decorators.py:36: FutureWarning: Pass the following variable as a keyword arg: x. From version 0.12, the only valid positional argument will be `data`, and passing other arguments without an explicit keyword will result in an error or misinterpretation.\n",
      "  warnings.warn(\n"
     ]
    },
    {
     "data": {
      "text/plain": [
       "<AxesSubplot:xlabel='AMT_CREDIT'>"
      ]
     },
     "execution_count": 152,
     "metadata": {},
     "output_type": "execute_result"
    },
    {
     "data": {
      "image/png": "[encoded data removed]",
      "text/plain": [
       "<Figure size 432x288 with 1 Axes>"
      ]
     },
     "metadata": {
      "needs_background": "light"
     },
     "output_type": "display_data"
    }
   ],
   "source": [
    "sns.boxplot(train_data_encoded[\"AMT_CREDIT\"])"
   ]
  },
  {
   "cell_type": "code",
   "execution_count": 153,
   "metadata": {},
   "outputs": [],
   "source": [
    "# train_data_encoded[train_data_encoded[\"AMT_CREDIT\"]>3e6]"
   ]
  },
  {
   "cell_type": "code",
   "execution_count": 154,
   "metadata": {},
   "outputs": [],
   "source": [
    "# train_data_encoded=train_data_encoded[train_data_encoded[\"AMT_CREDIT\"]<=3e6]"
   ]
  },
  {
   "cell_type": "code",
   "execution_count": 155,
   "metadata": {},
   "outputs": [
    {
     "name": "stderr",
     "output_type": "stream",
     "text": [
      "/opt/anaconda3/lib/python3.9/site-packages/seaborn/distributions.py:2619: FutureWarning: `distplot` is a deprecated function and will be removed in a future version. Please adapt your code to use either `displot` (a figure-level function with similar flexibility) or `histplot` (an axes-level function for histograms).\n",
      "  warnings.warn(msg, FutureWarning)\n"
     ]
    },
    {
     "data": {
      "text/plain": [
       "<AxesSubplot:xlabel='AMT_CREDIT', ylabel='Density'>"
      ]
     },
     "execution_count": 155,
     "metadata": {},
     "output_type": "execute_result"
    },
    {
     "data": {
      "image/png": "[encoded data removed]",
      "text/plain": [
       "<Figure size 432x288 with 1 Axes>"
      ]
     },
     "metadata": {
      "needs_background": "light"
     },
     "output_type": "display_data"
    }
   ],
   "source": [
    "sns.distplot(train_data_encoded[\"AMT_CREDIT\"])"
   ]
  },
  {
   "cell_type": "code",
   "execution_count": 156,
   "metadata": {},
   "outputs": [
    {
     "name": "stderr",
     "output_type": "stream",
     "text": [
      "/opt/anaconda3/lib/python3.9/site-packages/seaborn/distributions.py:2619: FutureWarning: `distplot` is a deprecated function and will be removed in a future version. Please adapt your code to use either `displot` (a figure-level function with similar flexibility) or `histplot` (an axes-level function for histograms).\n",
      "  warnings.warn(msg, FutureWarning)\n"
     ]
    },
    {
     "data": {
      "text/plain": [
       "<AxesSubplot:xlabel='AMT_ANNUITY', ylabel='Density'>"
      ]
     },
     "execution_count": 156,
     "metadata": {},
     "output_type": "execute_result"
    },
    {
     "data": {
      "image/png": "[encoded data removed]",
      "text/plain": [
       "<Figure size 432x288 with 1 Axes>"
      ]
     },
     "metadata": {
      "needs_background": "light"
     },
     "output_type": "display_data"
    }
   ],
   "source": [
    "sns.distplot(train_data_encoded[\"AMT_ANNUITY\"])"
   ]
  },
  {
   "cell_type": "code",
   "execution_count": 157,
   "metadata": {},
   "outputs": [
    {
     "name": "stderr",
     "output_type": "stream",
     "text": [
      "/opt/anaconda3/lib/python3.9/site-packages/seaborn/distributions.py:2619: FutureWarning: `distplot` is a deprecated function and will be removed in a future version. Please adapt your code to use either `displot` (a figure-level function with similar flexibility) or `histplot` (an axes-level function for histograms).\n",
      "  warnings.warn(msg, FutureWarning)\n"
     ]
    },
    {
     "data": {
      "text/plain": [
       "<AxesSubplot:xlabel='AMT_GOODS_PRICE', ylabel='Density'>"
      ]
     },
     "execution_count": 157,
     "metadata": {},
     "output_type": "execute_result"
    },
    {
     "data": {
      "image/png": "[encoded data removed]",
      "text/plain": [
       "<Figure size 432x288 with 1 Axes>"
      ]
     },
     "metadata": {
      "needs_background": "light"
     },
     "output_type": "display_data"
    }
   ],
   "source": [
    "sns.distplot(train_data_encoded[\"AMT_GOODS_PRICE\"])"
   ]
  },
  {
   "cell_type": "code",
   "execution_count": 158,
   "metadata": {},
   "outputs": [
    {
     "name": "stderr",
     "output_type": "stream",
     "text": [
      "/opt/anaconda3/lib/python3.9/site-packages/seaborn/_decorators.py:36: FutureWarning: Pass the following variable as a keyword arg: x. From version 0.12, the only valid positional argument will be `data`, and passing other arguments without an explicit keyword will result in an error or misinterpretation.\n",
      "  warnings.warn(\n"
     ]
    },
    {
     "data": {
      "text/plain": [
       "<AxesSubplot:xlabel='AMT_GOODS_PRICE'>"
      ]
     },
     "execution_count": 158,
     "metadata": {},
     "output_type": "execute_result"
    },
    {
     "data": {
      "image/png": "[encoded data removed]",
      "text/plain": [
       "<Figure size 432x288 with 1 Axes>"
      ]
     },
     "metadata": {
      "needs_background": "light"
     },
     "output_type": "display_data"
    }
   ],
   "source": [
    "sns.boxplot(train_data_encoded[\"AMT_GOODS_PRICE\"])"
   ]
  },
  {
   "cell_type": "code",
   "execution_count": 159,
   "metadata": {},
   "outputs": [],
   "source": [
    "# train_data_encoded[train_data_encoded[\"AMT_GOODS_PRICE\"]>3e6]"
   ]
  },
  {
   "cell_type": "code",
   "execution_count": 160,
   "metadata": {},
   "outputs": [],
   "source": [
    "# train_data_encoded=train_data_encoded[train_data_encoded[\"AMT_GOODS_PRICE\"]<=3e6]"
   ]
  },
  {
   "cell_type": "code",
   "execution_count": 161,
   "metadata": {},
   "outputs": [
    {
     "name": "stderr",
     "output_type": "stream",
     "text": [
      "/opt/anaconda3/lib/python3.9/site-packages/seaborn/distributions.py:2619: FutureWarning: `distplot` is a deprecated function and will be removed in a future version. Please adapt your code to use either `displot` (a figure-level function with similar flexibility) or `histplot` (an axes-level function for histograms).\n",
      "  warnings.warn(msg, FutureWarning)\n"
     ]
    },
    {
     "data": {
      "text/plain": [
       "<AxesSubplot:xlabel='DAYS_BIRTH', ylabel='Density'>"
      ]
     },
     "execution_count": 161,
     "metadata": {},
     "output_type": "execute_result"
    },
    {
     "data": {
      "image/png": "[encoded data removed]",
      "text/plain": [
       "<Figure size 432x288 with 1 Axes>"
      ]
     },
     "metadata": {
      "needs_background": "light"
     },
     "output_type": "display_data"
    }
   ],
   "source": [
    "sns.distplot(train_data_encoded[\"DAYS_BIRTH\"])"
   ]
  },
  {
   "cell_type": "code",
   "execution_count": 162,
   "metadata": {},
   "outputs": [
    {
     "name": "stderr",
     "output_type": "stream",
     "text": [
      "/opt/anaconda3/lib/python3.9/site-packages/seaborn/_decorators.py:36: FutureWarning: Pass the following variable as a keyword arg: x. From version 0.12, the only valid positional argument will be `data`, and passing other arguments without an explicit keyword will result in an error or misinterpretation.\n",
      "  warnings.warn(\n"
     ]
    },
    {
     "data": {
      "text/plain": [
       "<AxesSubplot:xlabel='DAYS_BIRTH'>"
      ]
     },
     "execution_count": 162,
     "metadata": {},
     "output_type": "execute_result"
    },
    {
     "data": {
      "image/png": "[encoded data removed]",
      "text/plain": [
       "<Figure size 432x288 with 1 Axes>"
      ]
     },
     "metadata": {
      "needs_background": "light"
     },
     "output_type": "display_data"
    }
   ],
   "source": [
    "sns.boxplot(train_data_encoded[\"DAYS_BIRTH\"])"
   ]
  },
  {
   "cell_type": "code",
   "execution_count": 163,
   "metadata": {},
   "outputs": [
    {
     "name": "stderr",
     "output_type": "stream",
     "text": [
      "/opt/anaconda3/lib/python3.9/site-packages/seaborn/_decorators.py:36: FutureWarning: Pass the following variable as a keyword arg: x. From version 0.12, the only valid positional argument will be `data`, and passing other arguments without an explicit keyword will result in an error or misinterpretation.\n",
      "  warnings.warn(\n"
     ]
    },
    {
     "data": {
      "text/plain": [
       "<AxesSubplot:xlabel='DAYS_ID_PUBLISH'>"
      ]
     },
     "execution_count": 163,
     "metadata": {},
     "output_type": "execute_result"
    },
    {
     "data": {
      "image/png": "[encoded data removed]",
      "text/plain": [
       "<Figure size 432x288 with 1 Axes>"
      ]
     },
     "metadata": {
      "needs_background": "light"
     },
     "output_type": "display_data"
    }
   ],
   "source": [
    "sns.boxplot(train_data_encoded[\"DAYS_ID_PUBLISH\"])"
   ]
  },
  {
   "cell_type": "code",
   "execution_count": 164,
   "metadata": {},
   "outputs": [
    {
     "name": "stderr",
     "output_type": "stream",
     "text": [
      "/opt/anaconda3/lib/python3.9/site-packages/seaborn/_decorators.py:36: FutureWarning: Pass the following variable as a keyword arg: x. From version 0.12, the only valid positional argument will be `data`, and passing other arguments without an explicit keyword will result in an error or misinterpretation.\n",
      "  warnings.warn(\n"
     ]
    },
    {
     "data": {
      "text/plain": [
       "<AxesSubplot:xlabel='DAYS_REGISTRATION'>"
      ]
     },
     "execution_count": 164,
     "metadata": {},
     "output_type": "execute_result"
    },
    {
     "data": {
      "image/png": "[encoded data removed]",
      "text/plain": [
       "<Figure size 432x288 with 1 Axes>"
      ]
     },
     "metadata": {
      "needs_background": "light"
     },
     "output_type": "display_data"
    }
   ],
   "source": [
    "sns.boxplot(train_data_encoded[\"DAYS_REGISTRATION\"])"
   ]
  },
  {
   "cell_type": "code",
   "execution_count": 165,
   "metadata": {},
   "outputs": [
    {
     "name": "stderr",
     "output_type": "stream",
     "text": [
      "/opt/anaconda3/lib/python3.9/site-packages/seaborn/_decorators.py:36: FutureWarning: Pass the following variable as a keyword arg: x. From version 0.12, the only valid positional argument will be `data`, and passing other arguments without an explicit keyword will result in an error or misinterpretation.\n",
      "  warnings.warn(\n"
     ]
    },
    {
     "data": {
      "text/plain": [
       "<AxesSubplot:xlabel='EXT_SOURCE_2'>"
      ]
     },
     "execution_count": 165,
     "metadata": {},
     "output_type": "execute_result"
    },
    {
     "data": {
      "image/png": "[encoded data removed]",
      "text/plain": [
       "<Figure size 432x288 with 1 Axes>"
      ]
     },
     "metadata": {
      "needs_background": "light"
     },
     "output_type": "display_data"
    }
   ],
   "source": [
    "sns.boxplot(train_data_encoded[\"EXT_SOURCE_2\"])"
   ]
  },
  {
   "cell_type": "code",
   "execution_count": 166,
   "metadata": {},
   "outputs": [
    {
     "name": "stderr",
     "output_type": "stream",
     "text": [
      "/opt/anaconda3/lib/python3.9/site-packages/seaborn/_decorators.py:36: FutureWarning: Pass the following variable as a keyword arg: x. From version 0.12, the only valid positional argument will be `data`, and passing other arguments without an explicit keyword will result in an error or misinterpretation.\n",
      "  warnings.warn(\n"
     ]
    },
    {
     "data": {
      "text/plain": [
       "<AxesSubplot:xlabel='AMT_GOODS_PRICE'>"
      ]
     },
     "execution_count": 166,
     "metadata": {},
     "output_type": "execute_result"
    },
    {
     "data": {
      "image/png": "[encoded data removed]",
      "text/plain": [
       "<Figure size 432x288 with 1 Axes>"
      ]
     },
     "metadata": {
      "needs_background": "light"
     },
     "output_type": "display_data"
    }
   ],
   "source": [
    "sns.boxplot(train_data_encoded[\"AMT_GOODS_PRICE\"])"
   ]
  },
  {
   "cell_type": "code",
   "execution_count": 167,
   "metadata": {},
   "outputs": [
    {
     "name": "stderr",
     "output_type": "stream",
     "text": [
      "/opt/anaconda3/lib/python3.9/site-packages/seaborn/_decorators.py:36: FutureWarning: Pass the following variable as a keyword arg: x. From version 0.12, the only valid positional argument will be `data`, and passing other arguments without an explicit keyword will result in an error or misinterpretation.\n",
      "  warnings.warn(\n"
     ]
    },
    {
     "data": {
      "text/plain": [
       "<AxesSubplot:xlabel='DAYS_LAST_PHONE_CHANGE'>"
      ]
     },
     "execution_count": 167,
     "metadata": {},
     "output_type": "execute_result"
    },
    {
     "data": {
      "image/png": "[encoded data removed]",
      "text/plain": [
       "<Figure size 432x288 with 1 Axes>"
      ]
     },
     "metadata": {
      "needs_background": "light"
     },
     "output_type": "display_data"
    }
   ],
   "source": [
    "sns.boxplot(train_data_encoded[\"DAYS_LAST_PHONE_CHANGE\"])"
   ]
  },
  {
   "cell_type": "code",
   "execution_count": 168,
   "metadata": {},
   "outputs": [
    {
     "name": "stderr",
     "output_type": "stream",
     "text": [
      "/opt/anaconda3/lib/python3.9/site-packages/seaborn/_decorators.py:36: FutureWarning: Pass the following variable as a keyword arg: x. From version 0.12, the only valid positional argument will be `data`, and passing other arguments without an explicit keyword will result in an error or misinterpretation.\n",
      "  warnings.warn(\n"
     ]
    },
    {
     "data": {
      "text/plain": [
       "<AxesSubplot:xlabel='DAYS_EMPLOYED'>"
      ]
     },
     "execution_count": 168,
     "metadata": {},
     "output_type": "execute_result"
    },
    {
     "data": {
      "image/png": "[encoded data removed]",
      "text/plain": [
       "<Figure size 432x288 with 1 Axes>"
      ]
     },
     "metadata": {
      "needs_background": "light"
     },
     "output_type": "display_data"
    }
   ],
   "source": [
    "sns.boxplot(train_data_encoded[\"DAYS_EMPLOYED\"])"
   ]
  },
  {
   "cell_type": "code",
   "execution_count": 169,
   "metadata": {},
   "outputs": [],
   "source": [
    "# sns.heatmap(data=train_data_encoded.corr())"
   ]
  },
  {
   "cell_type": "code",
   "execution_count": 170,
   "metadata": {},
   "outputs": [
    {
     "data": {
      "text/plain": [
       "11404"
      ]
     },
     "execution_count": 170,
     "metadata": {},
     "output_type": "execute_result"
    }
   ],
   "source": [
    "train_data_encoded[\"DAYS_EMPLOYED\"].nunique()"
   ]
  },
  {
   "cell_type": "code",
   "execution_count": 171,
   "metadata": {},
   "outputs": [],
   "source": [
    "train_data_target=train_data_encoded[\"TARGET\"]\n",
    "train_data_encoded.drop(axis=1,columns=\"TARGET\",inplace=True)"
   ]
  },
  {
   "attachments": {},
   "cell_type": "markdown",
   "metadata": {},
   "source": [
    "# Scaling\n"
   ]
  },
  {
   "cell_type": "code",
   "execution_count": 172,
   "metadata": {},
   "outputs": [],
   "source": [
    "from sklearn.preprocessing import StandardScaler\n",
    "instance_of_standard_scaler=StandardScaler()\n",
    "train_data_standardized=instance_of_standard_scaler.fit_transform(train_data_encoded) \n",
    "test_data_standardized=instance_of_standard_scaler.transform(test_data_encoded)"
   ]
  },
  {
   "attachments": {},
   "cell_type": "markdown",
   "metadata": {},
   "source": [
    "# Sampling (Commented)"
   ]
  },
  {
   "cell_type": "code",
   "execution_count": 173,
   "metadata": {},
   "outputs": [],
   "source": [
    "# from imblearn.over_sampling import SMOTE\n",
    "# from imblearn.under_sampling import CondensedNearestNeighbour"
   ]
  },
  {
   "cell_type": "code",
   "execution_count": 174,
   "metadata": {},
   "outputs": [],
   "source": [
    "# smote=SMOTE(random_state=42,sampling_strategy=0.3,n_jobs=-1)"
   ]
  },
  {
   "cell_type": "code",
   "execution_count": 175,
   "metadata": {},
   "outputs": [],
   "source": [
    "# train_data_target.value_counts()"
   ]
  },
  {
   "cell_type": "code",
   "execution_count": 176,
   "metadata": {},
   "outputs": [],
   "source": [
    "# train_data_stand_resampled,train_data_target_resampled=smote.fit_resample(train_data_standardized,train_data_target)"
   ]
  },
  {
   "cell_type": "code",
   "execution_count": 177,
   "metadata": {},
   "outputs": [],
   "source": [
    "# train_data_target_resampled.value_counts()"
   ]
  },
  {
   "cell_type": "code",
   "execution_count": 178,
   "metadata": {},
   "outputs": [],
   "source": [
    "# cnn=CondensedNearestNeighbour(n_jobs=-1,random_state=42)"
   ]
  },
  {
   "cell_type": "code",
   "execution_count": 179,
   "metadata": {},
   "outputs": [],
   "source": [
    "# train_data_target_resampled.value_counts()"
   ]
  },
  {
   "cell_type": "code",
   "execution_count": 180,
   "metadata": {},
   "outputs": [],
   "source": [
    "# train_data_stand_resampled,train_data_target_resampled=cnn.fit_resample(train_data_stand_resampled,train_data_target_resampled)"
   ]
  },
  {
   "cell_type": "code",
   "execution_count": 181,
   "metadata": {},
   "outputs": [],
   "source": [
    "# train_data_target_resampled.value_counts()"
   ]
  },
  {
   "attachments": {},
   "cell_type": "markdown",
   "metadata": {},
   "source": [
    "# Train Test Split"
   ]
  },
  {
   "cell_type": "code",
   "execution_count": 182,
   "metadata": {},
   "outputs": [],
   "source": [
    "from sklearn.model_selection import train_test_split\n",
    "train_data_split,train_data_split_test,train_data_split_y,train_data_split_test_y=train_test_split(\n",
    "\ttrain_data_standardized,\n",
    "\ttrain_data_target,\n",
    "\t# train_data_stand_resampled,\n",
    "\t# train_data_target_resampled,\n",
    "\ttest_size=0.2,random_state=42)"
   ]
  },
  {
   "cell_type": "markdown",
   "metadata": {},
   "source": [
    "# LightGBM"
   ]
  },
  {
   "cell_type": "code",
   "execution_count": 183,
   "metadata": {
    "id": "dzZrGuwU_srH"
   },
   "outputs": [],
   "source": [
    "import lightgbm as lgb\n",
    "from lightgbm import LGBMClassifier"
   ]
  },
  {
   "cell_type": "code",
   "execution_count": 184,
   "metadata": {
    "id": "X9eFCMBD_9aD"
   },
   "outputs": [],
   "source": [
    "instance_of_lgbm=LGBMClassifier(verbosity = -1,\n",
    "         feature_pre_filter = False,\n",
    "         objective_type=\"cross-entropy\",\n",
    "         lambda_l1= 0.0007099817067951657,\n",
    "         lambda_l2= 2.2721620492879536e-07,\n",
    "         num_leaves=800,\n",
    "         feature_fraction=0.4,\n",
    "         bagging_fraction= 0.9938087600649544,\n",
    "         bagging_freq=1,\n",
    "         min_child_samples=20,\n",
    "         learning_rate= 0.005,\n",
    "         n_estimators=1300,\n",
    "         class_weight= 'balanced'\n",
    "         )"
   ]
  },
  {
   "cell_type": "code",
   "execution_count": 185,
   "metadata": {
    "colab": {
     "base_uri": "https://localhost:8080/"
    },
    "id": "63kwlkABBHTy",
    "outputId": "936d7834-eb65-4752-b723-5ab89964e224"
   },
   "outputs": [
    {
     "name": "stdout",
     "output_type": "stream",
     "text": [
      "[LightGBM] [Warning] feature_fraction is set=0.4, colsample_bytree=1.0 will be ignored. Current value: feature_fraction=0.4\n",
      "[LightGBM] [Warning] lambda_l1 is set=0.0007099817067951657, reg_alpha=0.0 will be ignored. Current value: lambda_l1=0.0007099817067951657\n",
      "[LightGBM] [Warning] bagging_fraction is set=0.9938087600649544, subsample=1.0 will be ignored. Current value: bagging_fraction=0.9938087600649544\n",
      "[LightGBM] [Warning] lambda_l2 is set=2.2721620492879536e-07, reg_lambda=0.0 will be ignored. Current value: lambda_l2=2.2721620492879536e-07\n",
      "[LightGBM] [Warning] bagging_freq is set=1, subsample_freq=0 will be ignored. Current value: bagging_freq=1\n"
     ]
    },
    {
     "data": {
      "text/html": [
       "<style>#sk-container-id-1 {color: black;background-color: white;}#sk-container-id-1 pre{padding: 0;}#sk-container-id-1 div.sk-toggleable {background-color: white;}#sk-container-id-1 label.sk-toggleable__label {cursor: pointer;display: block;width: 100%;margin-bottom: 0;padding: 0.3em;box-sizing: border-box;text-align: center;}#sk-container-id-1 label.sk-toggleable__label-arrow:before {content: \"▸\";float: left;margin-right: 0.25em;color: #696969;}#sk-container-id-1 label.sk-toggleable__label-arrow:hover:before {color: black;}#sk-container-id-1 div.sk-estimator:hover label.sk-toggleable__label-arrow:before {color: black;}#sk-container-id-1 div.sk-toggleable__content {max-height: 0;max-width: 0;overflow: hidden;text-align: left;background-color: #f0f8ff;}#sk-container-id-1 div.sk-toggleable__content pre {margin: 0.2em;color: black;border-radius: 0.25em;background-color: #f0f8ff;}#sk-container-id-1 input.sk-toggleable__control:checked~div.sk-toggleable__content {max-height: 200px;max-width: 100%;overflow: auto;}#sk-container-id-1 input.sk-toggleable__control:checked~label.sk-toggleable__label-arrow:before {content: \"▾\";}#sk-container-id-1 div.sk-estimator input.sk-toggleable__control:checked~label.sk-toggleable__label {background-color: #d4ebff;}#sk-container-id-1 div.sk-label input.sk-toggleable__control:checked~label.sk-toggleable__label {background-color: #d4ebff;}#sk-container-id-1 input.sk-hidden--visually {border: 0;clip: rect(1px 1px 1px 1px);clip: rect(1px, 1px, 1px, 1px);height: 1px;margin: -1px;overflow: hidden;padding: 0;position: absolute;width: 1px;}#sk-container-id-1 div.sk-estimator {font-family: monospace;background-color: #f0f8ff;border: 1px dotted black;border-radius: 0.25em;box-sizing: border-box;margin-bottom: 0.5em;}#sk-container-id-1 div.sk-estimator:hover {background-color: #d4ebff;}#sk-container-id-1 div.sk-parallel-item::after {content: \"\";width: 100%;border-bottom: 1px solid gray;flex-grow: 1;}#sk-container-id-1 div.sk-label:hover label.sk-toggleable__label {background-color: #d4ebff;}#sk-container-id-1 div.sk-serial::before {content: \"\";position: absolute;border-left: 1px solid gray;box-sizing: border-box;top: 0;bottom: 0;left: 50%;z-index: 0;}#sk-container-id-1 div.sk-serial {display: flex;flex-direction: column;align-items: center;background-color: white;padding-right: 0.2em;padding-left: 0.2em;position: relative;}#sk-container-id-1 div.sk-item {position: relative;z-index: 1;}#sk-container-id-1 div.sk-parallel {display: flex;align-items: stretch;justify-content: center;background-color: white;position: relative;}#sk-container-id-1 div.sk-item::before, #sk-container-id-1 div.sk-parallel-item::before {content: \"\";position: absolute;border-left: 1px solid gray;box-sizing: border-box;top: 0;bottom: 0;left: 50%;z-index: -1;}#sk-container-id-1 div.sk-parallel-item {display: flex;flex-direction: column;z-index: 1;position: relative;background-color: white;}#sk-container-id-1 div.sk-parallel-item:first-child::after {align-self: flex-end;width: 50%;}#sk-container-id-1 div.sk-parallel-item:last-child::after {align-self: flex-start;width: 50%;}#sk-container-id-1 div.sk-parallel-item:only-child::after {width: 0;}#sk-container-id-1 div.sk-dashed-wrapped {border: 1px dashed gray;margin: 0 0.4em 0.5em 0.4em;box-sizing: border-box;padding-bottom: 0.4em;background-color: white;}#sk-container-id-1 div.sk-label label {font-family: monospace;font-weight: bold;display: inline-block;line-height: 1.2em;}#sk-container-id-1 div.sk-label-container {text-align: center;}#sk-container-id-1 div.sk-container {/* jupyter's `normalize.less` sets `[hidden] { display: none; }` but bootstrap.min.css set `[hidden] { display: none !important; }` so we also need the `!important` here to be able to override the default hidden behavior on the sphinx rendered scikit-learn.org. See: https://github.com/scikit-learn/scikit-learn/issues/21755 */display: inline-block !important;position: relative;}#sk-container-id-1 div.sk-text-repr-fallback {display: none;}</style><div id=\"sk-container-id-1\" class=\"sk-top-container\"><div class=\"sk-text-repr-fallback\"><pre>LGBMClassifier(bagging_fraction=0.9938087600649544, bagging_freq=1,\n",
       "               class_weight=&#x27;balanced&#x27;, feature_fraction=0.4,\n",
       "               feature_pre_filter=False, lambda_l1=0.0007099817067951657,\n",
       "               lambda_l2=2.2721620492879536e-07, learning_rate=0.005,\n",
       "               n_estimators=1300, num_leaves=800,\n",
       "               objective_type=&#x27;cross-entropy&#x27;, verbosity=-1)</pre><b>In a Jupyter environment, please rerun this cell to show the HTML representation or trust the notebook. <br />On GitHub, the HTML representation is unable to render, please try loading this page with nbviewer.org.</b></div><div class=\"sk-container\" hidden><div class=\"sk-item\"><div class=\"sk-estimator sk-toggleable\"><input class=\"sk-toggleable__control sk-hidden--visually\" id=\"sk-estimator-id-1\" type=\"checkbox\" checked><label for=\"sk-estimator-id-1\" class=\"sk-toggleable__label sk-toggleable__label-arrow\">LGBMClassifier</label><div class=\"sk-toggleable__content\"><pre>LGBMClassifier(bagging_fraction=0.9938087600649544, bagging_freq=1,\n",
       "               class_weight=&#x27;balanced&#x27;, feature_fraction=0.4,\n",
       "               feature_pre_filter=False, lambda_l1=0.0007099817067951657,\n",
       "               lambda_l2=2.2721620492879536e-07, learning_rate=0.005,\n",
       "               n_estimators=1300, num_leaves=800,\n",
       "               objective_type=&#x27;cross-entropy&#x27;, verbosity=-1)</pre></div></div></div></div></div>"
      ],
      "text/plain": [
       "LGBMClassifier(bagging_fraction=0.9938087600649544, bagging_freq=1,\n",
       "               class_weight='balanced', feature_fraction=0.4,\n",
       "               feature_pre_filter=False, lambda_l1=0.0007099817067951657,\n",
       "               lambda_l2=2.2721620492879536e-07, learning_rate=0.005,\n",
       "               n_estimators=1300, num_leaves=800,\n",
       "               objective_type='cross-entropy', verbosity=-1)"
      ]
     },
     "execution_count": 185,
     "metadata": {},
     "output_type": "execute_result"
    }
   ],
   "source": [
    "instance_of_lgbm.fit(train_data_split,train_data_split_y)"
   ]
  },
  {
   "cell_type": "code",
   "execution_count": 186,
   "metadata": {
    "executionInfo": {
     "elapsed": 2788,
     "status": "ok",
     "timestamp": 1668521926263,
     "user": {
      "displayName": "Shashank Shekhar",
      "userId": "16017809737637556764"
     },
     "user_tz": -330
    },
    "id": "QgSYl-rxgz5S"
   },
   "outputs": [],
   "source": [
    "predicted_target_for_train_data_in_lgb=instance_of_lgbm.predict(train_data_split_test)"
   ]
  },
  {
   "cell_type": "code",
   "execution_count": 187,
   "metadata": {
    "colab": {
     "base_uri": "https://localhost:8080/"
    },
    "executionInfo": {
     "elapsed": 604,
     "status": "ok",
     "timestamp": 1668521930335,
     "user": {
      "displayName": "Shashank Shekhar",
      "userId": "16017809737637556764"
     },
     "user_tz": -330
    },
    "id": "fQTmMXXEimoq",
    "outputId": "53270b0e-1dd3-445d-d6e7-df29b6090839"
   },
   "outputs": [
    {
     "name": "stdout",
     "output_type": "stream",
     "text": [
      "Accuracy for the train(test) data for lgb is: 0.8736585365853659\n",
      "f1 score for the train(test) data for lgb is: 0.6144469073221698\n"
     ]
    }
   ],
   "source": [
    "print(\"Accuracy for the train(test) data for lgb is:\",accuracy_score(train_data_split_test_y,predicted_target_for_train_data_in_lgb))\n",
    "print(\"f1 score for the train(test) data for lgb is:\",f1_score(train_data_split_test_y,predicted_target_for_train_data_in_lgb,average=\"macro\"))"
   ]
  },
  {
   "cell_type": "code",
   "execution_count": 188,
   "metadata": {},
   "outputs": [],
   "source": [
    "trainpred=instance_of_lgbm.predict(train_data_split)"
   ]
  },
  {
   "cell_type": "code",
   "execution_count": 189,
   "metadata": {},
   "outputs": [
    {
     "name": "stdout",
     "output_type": "stream",
     "text": [
      "Accuracy for the train(train) data for lgb is: 0.9565576769332917\n",
      "f1 score for the train(train) data for lgb is: 0.8821092300367452\n"
     ]
    }
   ],
   "source": [
    "print(\"Accuracy for the train(train) data for lgb is:\",accuracy_score(train_data_split_y,trainpred))\n",
    "print(\"f1 score for the train(train) data for lgb is:\",f1_score(train_data_split_y,trainpred,average=\"macro\"))"
   ]
  },
  {
   "cell_type": "code",
   "execution_count": 190,
   "metadata": {},
   "outputs": [],
   "source": [
    "instance_for_submission_lgb=LGBMClassifier(verbosity = -1,\n",
    "         feature_pre_filter = False,\n",
    "         objective_type=\"cross-entropy\",\n",
    "         lambda_l1= 0.0007099817067951657,\n",
    "         lambda_l2= 2.2721620492879536e-07,\n",
    "         num_leaves=800,\n",
    "         feature_fraction=0.4,\n",
    "         bagging_fraction= 0.9938087600649544,\n",
    "         bagging_freq=1,\n",
    "         min_child_samples=20,\n",
    "         learning_rate= 0.005,\n",
    "         n_estimators=1300,\n",
    "         class_weight= 'balanced'\n",
    "         )"
   ]
  },
  {
   "attachments": {},
   "cell_type": "markdown",
   "metadata": {},
   "source": [
    "Fitting the full data"
   ]
  },
  {
   "cell_type": "code",
   "execution_count": 191,
   "metadata": {},
   "outputs": [
    {
     "name": "stdout",
     "output_type": "stream",
     "text": [
      "[LightGBM] [Warning] feature_fraction is set=0.4, colsample_bytree=1.0 will be ignored. Current value: feature_fraction=0.4\n",
      "[LightGBM] [Warning] lambda_l1 is set=0.0007099817067951657, reg_alpha=0.0 will be ignored. Current value: lambda_l1=0.0007099817067951657\n",
      "[LightGBM] [Warning] bagging_fraction is set=0.9938087600649544, subsample=1.0 will be ignored. Current value: bagging_fraction=0.9938087600649544\n",
      "[LightGBM] [Warning] lambda_l2 is set=2.2721620492879536e-07, reg_lambda=0.0 will be ignored. Current value: lambda_l2=2.2721620492879536e-07\n",
      "[LightGBM] [Warning] bagging_freq is set=1, subsample_freq=0 will be ignored. Current value: bagging_freq=1\n"
     ]
    },
    {
     "data": {
      "text/html": [
       "<style>#sk-container-id-2 {color: black;background-color: white;}#sk-container-id-2 pre{padding: 0;}#sk-container-id-2 div.sk-toggleable {background-color: white;}#sk-container-id-2 label.sk-toggleable__label {cursor: pointer;display: block;width: 100%;margin-bottom: 0;padding: 0.3em;box-sizing: border-box;text-align: center;}#sk-container-id-2 label.sk-toggleable__label-arrow:before {content: \"▸\";float: left;margin-right: 0.25em;color: #696969;}#sk-container-id-2 label.sk-toggleable__label-arrow:hover:before {color: black;}#sk-container-id-2 div.sk-estimator:hover label.sk-toggleable__label-arrow:before {color: black;}#sk-container-id-2 div.sk-toggleable__content {max-height: 0;max-width: 0;overflow: hidden;text-align: left;background-color: #f0f8ff;}#sk-container-id-2 div.sk-toggleable__content pre {margin: 0.2em;color: black;border-radius: 0.25em;background-color: #f0f8ff;}#sk-container-id-2 input.sk-toggleable__control:checked~div.sk-toggleable__content {max-height: 200px;max-width: 100%;overflow: auto;}#sk-container-id-2 input.sk-toggleable__control:checked~label.sk-toggleable__label-arrow:before {content: \"▾\";}#sk-container-id-2 div.sk-estimator input.sk-toggleable__control:checked~label.sk-toggleable__label {background-color: #d4ebff;}#sk-container-id-2 div.sk-label input.sk-toggleable__control:checked~label.sk-toggleable__label {background-color: #d4ebff;}#sk-container-id-2 input.sk-hidden--visually {border: 0;clip: rect(1px 1px 1px 1px);clip: rect(1px, 1px, 1px, 1px);height: 1px;margin: -1px;overflow: hidden;padding: 0;position: absolute;width: 1px;}#sk-container-id-2 div.sk-estimator {font-family: monospace;background-color: #f0f8ff;border: 1px dotted black;border-radius: 0.25em;box-sizing: border-box;margin-bottom: 0.5em;}#sk-container-id-2 div.sk-estimator:hover {background-color: #d4ebff;}#sk-container-id-2 div.sk-parallel-item::after {content: \"\";width: 100%;border-bottom: 1px solid gray;flex-grow: 1;}#sk-container-id-2 div.sk-label:hover label.sk-toggleable__label {background-color: #d4ebff;}#sk-container-id-2 div.sk-serial::before {content: \"\";position: absolute;border-left: 1px solid gray;box-sizing: border-box;top: 0;bottom: 0;left: 50%;z-index: 0;}#sk-container-id-2 div.sk-serial {display: flex;flex-direction: column;align-items: center;background-color: white;padding-right: 0.2em;padding-left: 0.2em;position: relative;}#sk-container-id-2 div.sk-item {position: relative;z-index: 1;}#sk-container-id-2 div.sk-parallel {display: flex;align-items: stretch;justify-content: center;background-color: white;position: relative;}#sk-container-id-2 div.sk-item::before, #sk-container-id-2 div.sk-parallel-item::before {content: \"\";position: absolute;border-left: 1px solid gray;box-sizing: border-box;top: 0;bottom: 0;left: 50%;z-index: -1;}#sk-container-id-2 div.sk-parallel-item {display: flex;flex-direction: column;z-index: 1;position: relative;background-color: white;}#sk-container-id-2 div.sk-parallel-item:first-child::after {align-self: flex-end;width: 50%;}#sk-container-id-2 div.sk-parallel-item:last-child::after {align-self: flex-start;width: 50%;}#sk-container-id-2 div.sk-parallel-item:only-child::after {width: 0;}#sk-container-id-2 div.sk-dashed-wrapped {border: 1px dashed gray;margin: 0 0.4em 0.5em 0.4em;box-sizing: border-box;padding-bottom: 0.4em;background-color: white;}#sk-container-id-2 div.sk-label label {font-family: monospace;font-weight: bold;display: inline-block;line-height: 1.2em;}#sk-container-id-2 div.sk-label-container {text-align: center;}#sk-container-id-2 div.sk-container {/* jupyter's `normalize.less` sets `[hidden] { display: none; }` but bootstrap.min.css set `[hidden] { display: none !important; }` so we also need the `!important` here to be able to override the default hidden behavior on the sphinx rendered scikit-learn.org. See: https://github.com/scikit-learn/scikit-learn/issues/21755 */display: inline-block !important;position: relative;}#sk-container-id-2 div.sk-text-repr-fallback {display: none;}</style><div id=\"sk-container-id-2\" class=\"sk-top-container\"><div class=\"sk-text-repr-fallback\"><pre>LGBMClassifier(bagging_fraction=0.9938087600649544, bagging_freq=1,\n",
       "               class_weight=&#x27;balanced&#x27;, feature_fraction=0.4,\n",
       "               feature_pre_filter=False, lambda_l1=0.0007099817067951657,\n",
       "               lambda_l2=2.2721620492879536e-07, learning_rate=0.005,\n",
       "               n_estimators=1300, num_leaves=800,\n",
       "               objective_type=&#x27;cross-entropy&#x27;, verbosity=-1)</pre><b>In a Jupyter environment, please rerun this cell to show the HTML representation or trust the notebook. <br />On GitHub, the HTML representation is unable to render, please try loading this page with nbviewer.org.</b></div><div class=\"sk-container\" hidden><div class=\"sk-item\"><div class=\"sk-estimator sk-toggleable\"><input class=\"sk-toggleable__control sk-hidden--visually\" id=\"sk-estimator-id-2\" type=\"checkbox\" checked><label for=\"sk-estimator-id-2\" class=\"sk-toggleable__label sk-toggleable__label-arrow\">LGBMClassifier</label><div class=\"sk-toggleable__content\"><pre>LGBMClassifier(bagging_fraction=0.9938087600649544, bagging_freq=1,\n",
       "               class_weight=&#x27;balanced&#x27;, feature_fraction=0.4,\n",
       "               feature_pre_filter=False, lambda_l1=0.0007099817067951657,\n",
       "               lambda_l2=2.2721620492879536e-07, learning_rate=0.005,\n",
       "               n_estimators=1300, num_leaves=800,\n",
       "               objective_type=&#x27;cross-entropy&#x27;, verbosity=-1)</pre></div></div></div></div></div>"
      ],
      "text/plain": [
       "LGBMClassifier(bagging_fraction=0.9938087600649544, bagging_freq=1,\n",
       "               class_weight='balanced', feature_fraction=0.4,\n",
       "               feature_pre_filter=False, lambda_l1=0.0007099817067951657,\n",
       "               lambda_l2=2.2721620492879536e-07, learning_rate=0.005,\n",
       "               n_estimators=1300, num_leaves=800,\n",
       "               objective_type='cross-entropy', verbosity=-1)"
      ]
     },
     "execution_count": 191,
     "metadata": {},
     "output_type": "execute_result"
    }
   ],
   "source": [
    "instance_for_submission_lgb.fit(\n",
    "\t# train_data_stand_resampled,train_data_target_resampled\n",
    "\ttrain_data_standardized,\n",
    "\ttrain_data_target\n",
    "\t)"
   ]
  },
  {
   "attachments": {},
   "cell_type": "markdown",
   "metadata": {},
   "source": [
    "Seeing important features"
   ]
  },
  {
   "cell_type": "code",
   "execution_count": 192,
   "metadata": {},
   "outputs": [],
   "source": [
    "features_important=pd.DataFrame([train_data_encoded.columns,instance_for_submission_lgb.feature_importances_])"
   ]
  },
  {
   "cell_type": "code",
   "execution_count": 193,
   "metadata": {},
   "outputs": [
    {
     "data": {
      "text/html": [
       "<div>\n",
       "<style scoped>\n",
       "    .dataframe tbody tr th:only-of-type {\n",
       "        vertical-align: middle;\n",
       "    }\n",
       "\n",
       "    .dataframe tbody tr th {\n",
       "        vertical-align: top;\n",
       "    }\n",
       "\n",
       "    .dataframe thead th {\n",
       "        text-align: right;\n",
       "    }\n",
       "</style>\n",
       "<table border=\"1\" class=\"dataframe\">\n",
       "  <thead>\n",
       "    <tr style=\"text-align: right;\">\n",
       "      <th></th>\n",
       "      <th>0</th>\n",
       "      <th>1</th>\n",
       "    </tr>\n",
       "  </thead>\n",
       "  <tbody>\n",
       "    <tr>\n",
       "      <th>9</th>\n",
       "      <td>DAYS_REGISTRATION</td>\n",
       "      <td>65077</td>\n",
       "    </tr>\n",
       "    <tr>\n",
       "      <th>0</th>\n",
       "      <td>SK_ID_CURR</td>\n",
       "      <td>63770</td>\n",
       "    </tr>\n",
       "    <tr>\n",
       "      <th>10</th>\n",
       "      <td>DAYS_ID_PUBLISH</td>\n",
       "      <td>62880</td>\n",
       "    </tr>\n",
       "    <tr>\n",
       "      <th>33</th>\n",
       "      <td>DAYS_LAST_PHONE_CHANGE</td>\n",
       "      <td>59209</td>\n",
       "    </tr>\n",
       "    <tr>\n",
       "      <th>7</th>\n",
       "      <td>DAYS_BIRTH</td>\n",
       "      <td>58951</td>\n",
       "    </tr>\n",
       "    <tr>\n",
       "      <th>4</th>\n",
       "      <td>AMT_ANNUITY</td>\n",
       "      <td>57100</td>\n",
       "    </tr>\n",
       "    <tr>\n",
       "      <th>3</th>\n",
       "      <td>AMT_CREDIT</td>\n",
       "      <td>53778</td>\n",
       "    </tr>\n",
       "    <tr>\n",
       "      <th>27</th>\n",
       "      <td>EXT_SOURCE_2</td>\n",
       "      <td>50255</td>\n",
       "    </tr>\n",
       "    <tr>\n",
       "      <th>8</th>\n",
       "      <td>DAYS_EMPLOYED</td>\n",
       "      <td>50233</td>\n",
       "    </tr>\n",
       "    <tr>\n",
       "      <th>28</th>\n",
       "      <td>EXT_SOURCE_3</td>\n",
       "      <td>46841</td>\n",
       "    </tr>\n",
       "    <tr>\n",
       "      <th>6</th>\n",
       "      <td>REGION_POPULATION_RELATIVE</td>\n",
       "      <td>44244</td>\n",
       "    </tr>\n",
       "    <tr>\n",
       "      <th>2</th>\n",
       "      <td>AMT_INCOME_TOTAL</td>\n",
       "      <td>40873</td>\n",
       "    </tr>\n",
       "    <tr>\n",
       "      <th>5</th>\n",
       "      <td>AMT_GOODS_PRICE</td>\n",
       "      <td>40414</td>\n",
       "    </tr>\n",
       "    <tr>\n",
       "      <th>20</th>\n",
       "      <td>HOUR_APPR_PROCESS_START</td>\n",
       "      <td>30420</td>\n",
       "    </tr>\n",
       "    <tr>\n",
       "      <th>59</th>\n",
       "      <td>AMT_REQ_CREDIT_BUREAU_YEAR</td>\n",
       "      <td>21068</td>\n",
       "    </tr>\n",
       "    <tr>\n",
       "      <th>29</th>\n",
       "      <td>OBS_30_CNT_SOCIAL_CIRCLE</td>\n",
       "      <td>17212</td>\n",
       "    </tr>\n",
       "    <tr>\n",
       "      <th>31</th>\n",
       "      <td>OBS_60_CNT_SOCIAL_CIRCLE</td>\n",
       "      <td>12754</td>\n",
       "    </tr>\n",
       "    <tr>\n",
       "      <th>17</th>\n",
       "      <td>CNT_FAM_MEMBERS</td>\n",
       "      <td>10959</td>\n",
       "    </tr>\n",
       "    <tr>\n",
       "      <th>1</th>\n",
       "      <td>CNT_CHILDREN</td>\n",
       "      <td>7129</td>\n",
       "    </tr>\n",
       "    <tr>\n",
       "      <th>58</th>\n",
       "      <td>AMT_REQ_CREDIT_BUREAU_QRT</td>\n",
       "      <td>6964</td>\n",
       "    </tr>\n",
       "  </tbody>\n",
       "</table>\n",
       "</div>"
      ],
      "text/plain": [
       "                             0      1\n",
       "9            DAYS_REGISTRATION  65077\n",
       "0                   SK_ID_CURR  63770\n",
       "10             DAYS_ID_PUBLISH  62880\n",
       "33      DAYS_LAST_PHONE_CHANGE  59209\n",
       "7                   DAYS_BIRTH  58951\n",
       "4                  AMT_ANNUITY  57100\n",
       "3                   AMT_CREDIT  53778\n",
       "27                EXT_SOURCE_2  50255\n",
       "8                DAYS_EMPLOYED  50233\n",
       "28                EXT_SOURCE_3  46841\n",
       "6   REGION_POPULATION_RELATIVE  44244\n",
       "2             AMT_INCOME_TOTAL  40873\n",
       "5              AMT_GOODS_PRICE  40414\n",
       "20     HOUR_APPR_PROCESS_START  30420\n",
       "59  AMT_REQ_CREDIT_BUREAU_YEAR  21068\n",
       "29    OBS_30_CNT_SOCIAL_CIRCLE  17212\n",
       "31    OBS_60_CNT_SOCIAL_CIRCLE  12754\n",
       "17             CNT_FAM_MEMBERS  10959\n",
       "1                 CNT_CHILDREN   7129\n",
       "58   AMT_REQ_CREDIT_BUREAU_QRT   6964"
      ]
     },
     "execution_count": 193,
     "metadata": {},
     "output_type": "execute_result"
    }
   ],
   "source": [
    "sorted_features_importance=features_important.T.sort_values(by=1,ascending=False)\n",
    "sorted_features_importance.head(20)"
   ]
  },
  {
   "cell_type": "code",
   "execution_count": 194,
   "metadata": {},
   "outputs": [],
   "source": [
    "complete_train_data_pred=instance_for_submission_lgb.predict(train_data_standardized)"
   ]
  },
  {
   "cell_type": "code",
   "execution_count": 195,
   "metadata": {},
   "outputs": [
    {
     "name": "stdout",
     "output_type": "stream",
     "text": [
      "Accuracy for the train(total) data for lgb is: 0.9364166549230886\n",
      "f1 score for the train(total) data for lgb is: 0.8408228435960925\n"
     ]
    }
   ],
   "source": [
    "print(\"Accuracy for the train(total) data for lgb is:\",accuracy_score(train_data_target,complete_train_data_pred))\n",
    "print(\"f1 score for the train(total) data for lgb is:\",f1_score(train_data_target,complete_train_data_pred,average=\"macro\"))"
   ]
  },
  {
   "attachments": {},
   "cell_type": "markdown",
   "metadata": {},
   "source": [
    "### Best submission "
   ]
  },
  {
   "cell_type": "code",
   "execution_count": 196,
   "metadata": {
    "id": "yYkDF4zWBjTn"
   },
   "outputs": [],
   "source": [
    "predicted_target_for_test_data_in_lgbm=instance_for_submission_lgb.predict(test_data_standardized)"
   ]
  },
  {
   "cell_type": "code",
   "execution_count": 197,
   "metadata": {
    "colab": {
     "base_uri": "https://localhost:8080/"
    },
    "id": "yiX0-3TUBuke",
    "outputId": "99992793-f98c-4e9a-8a4d-d4493f068f7e"
   },
   "outputs": [
    {
     "data": {
      "text/plain": [
       "108937"
      ]
     },
     "execution_count": 197,
     "metadata": {},
     "output_type": "execute_result"
    }
   ],
   "source": [
    "count_of_0_in_lgbm=(predicted_target_for_test_data_in_lgbm==0).sum()\n",
    "count_of_0_in_lgbm"
   ]
  },
  {
   "cell_type": "code",
   "execution_count": 198,
   "metadata": {
    "colab": {
     "base_uri": "https://localhost:8080/"
    },
    "id": "nczMTSgsB4Df",
    "outputId": "6f7654da-d56d-43ac-8ead-66967a5c658a"
   },
   "outputs": [
    {
     "data": {
      "text/plain": [
       "14068"
      ]
     },
     "execution_count": 198,
     "metadata": {},
     "output_type": "execute_result"
    }
   ],
   "source": [
    "count_of_1_in_lgbm=(predicted_target_for_test_data_in_lgbm==1).sum()\n",
    "count_of_1_in_lgbm"
   ]
  },
  {
   "cell_type": "code",
   "execution_count": 199,
   "metadata": {
    "id": "qQr1D-65B-AO"
   },
   "outputs": [],
   "source": [
    "submission[\"TARGET\"]=predicted_target_for_test_data_in_lgbm"
   ]
  },
  {
   "cell_type": "code",
   "execution_count": 200,
   "metadata": {
    "id": "rp14m4TACLl9"
   },
   "outputs": [],
   "source": [
    "submission.to_csv(\"./my_submission_lgbm_final.csv\",index=False)"
   ]
  },
  {
   "attachments": {},
   "cell_type": "markdown",
   "metadata": {},
   "source": [
    "instance_for_submission_lgb=LGBMClassifier(verbosity = -1,\n",
    "         feature_pre_filter = False,\n",
    "         objective_type=\"cross-entropy\",\n",
    "         lambda_l1= 0.0007099817067951657,\n",
    "         lambda_l2= 2.2721620492879536e-07,\n",
    "         num_leaves=800,\n",
    "         feature_fraction=0.4,\n",
    "         bagging_fraction= 0.9938087600649544,\n",
    "         bagging_freq=1,\n",
    "         min_child_samples=20,\n",
    "         learning_rate= 0.005,\n",
    "         n_estimators=1300,\n",
    "         class_weight= 'balanced'\n",
    "         )\n",
    "\n",
    "Accuracy for the train(total) data for lgb is: 0.9364166549230886\n",
    "\n",
    "f1 score for the train(total) data for lgb is: 0.8408228435960925 \n",
    "\n",
    "kaggle: 0.60775\n"
   ]
  },
  {
   "attachments": {},
   "cell_type": "markdown",
   "metadata": {},
   "source": [
    "### Hit and try parameters tried without resampling and outlier removal"
   ]
  },
  {
   "cell_type": "markdown",
   "metadata": {},
   "source": [
    "LGBMClassifier(verbosity = -1,\n",
    "         feature_pre_filter = False,\n",
    "         objective_type=\"cross-entropy\",\n",
    "         lambda_l1= 0.0007099817067951657,\n",
    "         lambda_l2= 2.2721620492879536e-07,\n",
    "         num_leaves=800,\n",
    "         feature_fraction=0.4,\n",
    "         bagging_fraction= 0.9938087600649544,\n",
    "         bagging_freq=1,\n",
    "         min_child_samples=30,\n",
    "         learning_rate= 0.005,\n",
    "         n_estimators=1300,\n",
    "         class_weight= 'balanced'\n",
    "         )\n",
    "\n",
    "Accuracy for the train(total) data for lgb is: 0.9341152345975035\n",
    "\n",
    "f1 score for the train(total) data for lgb is: 0.8365326318172227\n",
    "\n",
    "kaggle score: 0.60612"
   ]
  },
  {
   "cell_type": "markdown",
   "metadata": {},
   "source": [
    "LGBMClassifier(verbosity = -1,\n",
    "        #  feature_pre_filter = False,\n",
    "         objective_type=\"cross-entropy\",\n",
    "        #  num_iterations = 10000,\n",
    "         lambda_l1= 0.0007099817067951657,\n",
    "         lambda_l2= 2.2721620492879536e-07,\n",
    "         num_leaves=800,\n",
    "         feature_fraction=0.4,\n",
    "         bagging_fraction= 0.9938087600649544,\n",
    "         bagging_freq=1,\n",
    "         min_child_samples=50,\n",
    "         learning_rate= 0.005,\n",
    "         n_estimators=1500,\n",
    "         class_weight= 'balanced'\n",
    "         )\n",
    "\n",
    "\n",
    "Accuracy for the train(total) data for lgb is: 0.9427732902238835\n",
    "\n",
    "f1 score for the train(total) data for lgb is: 0.8531109845800675\n",
    "\n",
    "kaggle score: 0.60516"
   ]
  },
  {
   "attachments": {},
   "cell_type": "markdown",
   "metadata": {},
   "source": [
    "### Few results on hit and try parameters with resampling and outlier correction data."
   ]
  },
  {
   "attachments": {},
   "cell_type": "markdown",
   "metadata": {},
   "source": [
    "\n",
    "\n",
    "\n",
    "LGBMClassifier(\n",
    "       verbosity = -1,\n",
    "         feature_pre_filter = False,\n",
    "         objective_type=\"cross-entropy\",\n",
    "         feature_fraction=0.2,\n",
    "         bagging_fraction= 0.2,\n",
    "         bagging_freq=1,\n",
    "         min_child_samples=300,\n",
    "         class_weight= 'balanced'\n",
    "         )\n",
    "\n",
    "Accuracy for the train(total) data for lgb is: 0.8984739905716161\n",
    "\n",
    "f1 score for the train(total) data for lgb is: 0.6056715012686482\n",
    "\n",
    "kaggle score: 0.58979"
   ]
  },
  {
   "attachments": {},
   "cell_type": "markdown",
   "metadata": {},
   "source": [
    "LGBMClassifier(\n",
    "       verbosity = -1,\n",
    "         feature_pre_filter = False,\n",
    "         objective_type=\"cross-entropy\",\n",
    "         feature_fraction=0.2,\n",
    "         bagging_fraction= 0.2,\n",
    "         bagging_freq=1,\n",
    "         n_estimators=1000,\n",
    "         min_child_samples=300,\n",
    "         class_weight= 'balanced'\n",
    "         )\n",
    "\n",
    "Accuracy for the train(total) data for lgb is: 0.910386954328214\n",
    "\n",
    "f1 score for the train(total) data for lgb is: 0.6828407863874724"
   ]
  },
  {
   "attachments": {},
   "cell_type": "markdown",
   "metadata": {},
   "source": [
    "LGBMClassifier(\n",
    "       verbosity = -1,\n",
    "         feature_pre_filter = False,\n",
    "         objective_type=\"cross-entropy\",\n",
    "         feature_fraction=0.2,\n",
    "         bagging_fraction= 0.2,\n",
    "         bagging_freq=1,\n",
    "         n_estimators=2000,\n",
    "         min_child_samples=250,\n",
    "         class_weight= 'balanced'\n",
    "         )\n",
    "\n",
    "Accuracy for the train(total) data for lgb is: 0.9248550209670332\n",
    "\n",
    "f1 score for the train(total) data for lgb is: 0.7483159081222445\n",
    "\n",
    "kaggle score: 0.58211"
   ]
  },
  {
   "attachments": {},
   "cell_type": "markdown",
   "metadata": {},
   "source": [
    "LGBMClassifier(\n",
    "        verbosity = -1,\n",
    "         feature_pre_filter = False,\n",
    "         objective_type=\"cross-entropy\",\n",
    "        # # #  num_iterations = 10000,\n",
    "        # #  lambda_l1= 0.0007099817067951657,\n",
    "        # #  lambda_l2= 2.2721620492879536e-07,\n",
    "        #  num_leaves=512,\n",
    "         feature_fraction=0.2,\n",
    "         bagging_fraction= 0.2,\n",
    "         n_estimators=1500,\n",
    "         class_weight= 'balanced'\n",
    "         )\n",
    "\t\t\t\t \n",
    "Accuracy for the train(total) data for lgb is: 0.9049621074445173\n",
    "\n",
    "f1 score for the train(total) data for lgb is: 0.6089854136365465\n",
    "\n",
    "kaggle score=0.5812"
   ]
  },
  {
   "attachments": {},
   "cell_type": "markdown",
   "metadata": {},
   "source": [
    "instance_for_submission_lgb=LGBMClassifier(\n",
    "       verbosity = -1,\n",
    "         feature_pre_filter = False,\n",
    "         objective_type=\"cross-entropy\",\n",
    "         feature_fraction=0.2,\n",
    "         bagging_fraction= 0.2,\n",
    "         n_estimators=1500,\n",
    "         min_child_samples=200,\n",
    "         class_weight= 'balanced'\n",
    "         )\n",
    "\n",
    "Accuracy for the train(total) data for lgb is: 0.9411404113118907\n",
    "\n",
    "f1 score for the train(total) data for lgb is: 0.7793209512201487\n",
    "\n",
    "kaggle score=0.57633"
   ]
  },
  {
   "attachments": {},
   "cell_type": "markdown",
   "metadata": {},
   "source": [
    "LGBMClassifier(\n",
    "        verbosity = -1,\n",
    "         feature_pre_filter = False,\n",
    "         objective_type=\"cross-entropy\",\n",
    "         feature_fraction=0.2,\n",
    "         bagging_fraction= 0.2,\n",
    "         n_estimators=1000,\n",
    "         class_weight= 'balanced'\n",
    "         )\n",
    "\n",
    "Accuracy for the train(total) data for lgb is: 0.9305565350417985\n",
    "\n",
    "f1 score for the train(total) data for lgb is: 0.7326667787846357"
   ]
  },
  {
   "attachments": {},
   "cell_type": "markdown",
   "metadata": {},
   "source": [
    "# Other models tried"
   ]
  },
  {
   "attachments": {},
   "cell_type": "markdown",
   "metadata": {},
   "source": [
    "## Logistic Regression"
   ]
  },
  {
   "cell_type": "code",
   "execution_count": 201,
   "metadata": {},
   "outputs": [],
   "source": [
    "# from sklearn.linear_model import LogisticRegression\n",
    "# from sklearn.metrics import accuracy_score,f1_score\n",
    "# instance_of_LogisticRegression=LogisticRegression(solver=\"lbfgs\",max_iter=10000,C=100)#,penalty=\"elasticnet\")\n",
    "# instance_of_LogisticRegression.fit(train_data_split,train_data_split_y)"
   ]
  },
  {
   "cell_type": "code",
   "execution_count": 202,
   "metadata": {},
   "outputs": [],
   "source": [
    "# train_data_split_test_ypred=instance_of_LogisticRegression.predict(train_data_split_test)"
   ]
  },
  {
   "cell_type": "code",
   "execution_count": 203,
   "metadata": {
    "colab": {
     "base_uri": "https://localhost:8080/"
    },
    "executionInfo": {
     "elapsed": 31,
     "status": "ok",
     "timestamp": 1668520405838,
     "user": {
      "displayName": "Shashank Shekhar",
      "userId": "16017809737637556764"
     },
     "user_tz": -330
    },
    "id": "d6y_DFqNkxuU",
    "outputId": "499060f3-f42b-46a5-c40b-de447a2a1abc"
   },
   "outputs": [],
   "source": [
    "# print(\"Accuracy for the train(test) data for logistic regression is:\",accuracy_score(train_data_split_test_y,train_data_split_test_ypred))\n",
    "# print(\"f1 score for the train(test) data for logistic regression is:\",f1_score(train_data_split_test_y,train_data_split_test_ypred,average=\"macro\"))"
   ]
  },
  {
   "cell_type": "code",
   "execution_count": 204,
   "metadata": {},
   "outputs": [],
   "source": [
    "# train_data_pred=instance_of_LogisticRegression.predict(train_data_standardized)"
   ]
  },
  {
   "cell_type": "code",
   "execution_count": 205,
   "metadata": {},
   "outputs": [],
   "source": [
    "# print(\"Accuracy for the train(total) data for logistic regression is:\",accuracy_score(train_data_target,train_data_pred))\n",
    "# print(\"f1 score for the train(total) data for logistic regression is:\",f1_score(train_data_target,train_data_pred,average=\"macro\"))"
   ]
  },
  {
   "cell_type": "code",
   "execution_count": 206,
   "metadata": {
    "executionInfo": {
     "elapsed": 18,
     "status": "ok",
     "timestamp": 1668520405838,
     "user": {
      "displayName": "Shashank Shekhar",
      "userId": "16017809737637556764"
     },
     "user_tz": -330
    },
    "id": "I4Wa7iIzlyzx"
   },
   "outputs": [],
   "source": [
    "# predicted_target_for_test_data_in_logistic_regression=instance_of_LogisticRegression.predict(test_data_standardized)"
   ]
  },
  {
   "cell_type": "code",
   "execution_count": 207,
   "metadata": {
    "colab": {
     "base_uri": "https://localhost:8080/"
    },
    "executionInfo": {
     "elapsed": 17,
     "status": "ok",
     "timestamp": 1668520405838,
     "user": {
      "displayName": "Shashank Shekhar",
      "userId": "16017809737637556764"
     },
     "user_tz": -330
    },
    "id": "mqUP637olhDT",
    "outputId": "dfdb6b3f-836d-4a47-9730-9633c1935620"
   },
   "outputs": [],
   "source": [
    "# count_of_0_in_logistic_regression=(predicted_target_for_test_data_in_logistic_regression==0).sum()\n",
    "# count_of_0_in_logistic_regression"
   ]
  },
  {
   "cell_type": "code",
   "execution_count": 208,
   "metadata": {
    "colab": {
     "base_uri": "https://localhost:8080/"
    },
    "executionInfo": {
     "elapsed": 12,
     "status": "ok",
     "timestamp": 1668520405839,
     "user": {
      "displayName": "Shashank Shekhar",
      "userId": "16017809737637556764"
     },
     "user_tz": -330
    },
    "id": "O5uK8Ibnl4OE",
    "outputId": "3f4e696a-9de7-46c2-92a7-3a34f53c5c1d"
   },
   "outputs": [],
   "source": [
    "# count_of_1_in_logistic_regression=(predicted_target_for_test_data_in_logistic_regression==1).sum()\n",
    "# count_of_1_in_logistic_regression"
   ]
  },
  {
   "cell_type": "code",
   "execution_count": 209,
   "metadata": {
    "executionInfo": {
     "elapsed": 7,
     "status": "ok",
     "timestamp": 1668520405839,
     "user": {
      "displayName": "Shashank Shekhar",
      "userId": "16017809737637556764"
     },
     "user_tz": -330
    },
    "id": "i_di2JDqoRyE"
   },
   "outputs": [],
   "source": [
    "# submission[\"TARGET\"]=predicted_target_for_test_data_in_logistic_regression"
   ]
  },
  {
   "cell_type": "code",
   "execution_count": 210,
   "metadata": {
    "executionInfo": {
     "elapsed": 1558,
     "status": "ok",
     "timestamp": 1668520407390,
     "user": {
      "displayName": "Shashank Shekhar",
      "userId": "16017809737637556764"
     },
     "user_tz": -330
    },
    "id": "sy6wJt82oZpw"
   },
   "outputs": [],
   "source": [
    "# submission.to_csv(\"./my_submission_logistic_regression_sampled.csv\",index=False)"
   ]
  },
  {
   "attachments": {},
   "cell_type": "markdown",
   "metadata": {},
   "source": [
    "## Naive Bayes"
   ]
  },
  {
   "cell_type": "code",
   "execution_count": 211,
   "metadata": {},
   "outputs": [],
   "source": [
    "# from sklearn.naive_bayes import GaussianNB\n",
    "# instance_of_gnb=GaussianNB()\n",
    "# instance_of_gnb.fit(train_data_standardized,train_data_target)"
   ]
  },
  {
   "cell_type": "code",
   "execution_count": 212,
   "metadata": {},
   "outputs": [],
   "source": [
    "# train_data_split_test_ypred=instance_of_gnb.predict(train_data_split_test)"
   ]
  },
  {
   "cell_type": "code",
   "execution_count": 213,
   "metadata": {
    "colab": {
     "base_uri": "https://localhost:8080/"
    },
    "executionInfo": {
     "elapsed": 34,
     "status": "ok",
     "timestamp": 1668520408186,
     "user": {
      "displayName": "Shashank Shekhar",
      "userId": "16017809737637556764"
     },
     "user_tz": -330
    },
    "id": "SkkvdQcKlB2Z",
    "outputId": "fd899cb4-c906-4ec2-bbfd-159f304b63e0"
   },
   "outputs": [],
   "source": [
    "# print(\"Accuracy for the train data for naive bayes is:\",accuracy_score(train_data_split_test_y,train_data_split_test_ypred))\n",
    "# print(\"f1 score for the train data for naive bayes is:\",f1_score(train_data_split_test_y,train_data_split_test_ypred,average=\"micro\"))"
   ]
  },
  {
   "cell_type": "code",
   "execution_count": 214,
   "metadata": {
    "executionInfo": {
     "elapsed": 29,
     "status": "ok",
     "timestamp": 1668520408187,
     "user": {
      "displayName": "Shashank Shekhar",
      "userId": "16017809737637556764"
     },
     "user_tz": -330
    },
    "id": "rRU-fe0NmHyE"
   },
   "outputs": [],
   "source": [
    "# predicted_target_for_test_data_in_naive_bayes=instance_of_gnb.predict(test_data_standardized)"
   ]
  },
  {
   "cell_type": "code",
   "execution_count": 215,
   "metadata": {
    "colab": {
     "base_uri": "https://localhost:8080/"
    },
    "executionInfo": {
     "elapsed": 28,
     "status": "ok",
     "timestamp": 1668520408187,
     "user": {
      "displayName": "Shashank Shekhar",
      "userId": "16017809737637556764"
     },
     "user_tz": -330
    },
    "id": "3FiAOnCsmVwC",
    "outputId": "c4f58d78-e0ad-4bf2-e87e-054e8c313b09"
   },
   "outputs": [],
   "source": [
    "# count_of_0_in_naive_bayes=(predicted_target_for_test_data_in_naive_bayes==0).sum()\n",
    "# count_of_0_in_naive_bayes"
   ]
  },
  {
   "cell_type": "code",
   "execution_count": 216,
   "metadata": {
    "colab": {
     "base_uri": "https://localhost:8080/"
    },
    "executionInfo": {
     "elapsed": 19,
     "status": "ok",
     "timestamp": 1668520408188,
     "user": {
      "displayName": "Shashank Shekhar",
      "userId": "16017809737637556764"
     },
     "user_tz": -330
    },
    "id": "Yv_BxWIkmdJ5",
    "outputId": "b5e693ce-d232-4b03-f2c6-5face78d3b2a"
   },
   "outputs": [],
   "source": [
    "# count_of_1_in_naive_bayes=(predicted_target_for_test_data_in_naive_bayes==1).sum()\n",
    "# count_of_1_in_naive_bayes"
   ]
  },
  {
   "cell_type": "code",
   "execution_count": 217,
   "metadata": {
    "executionInfo": {
     "elapsed": 10,
     "status": "ok",
     "timestamp": 1668520408188,
     "user": {
      "displayName": "Shashank Shekhar",
      "userId": "16017809737637556764"
     },
     "user_tz": -330
    },
    "id": "bUf1c71zohVA"
   },
   "outputs": [],
   "source": [
    "# submission[\"TARGET\"]=predicted_target_for_test_data_in_naive_bayes"
   ]
  },
  {
   "cell_type": "code",
   "execution_count": 218,
   "metadata": {
    "executionInfo": {
     "elapsed": 9,
     "status": "ok",
     "timestamp": 1668520408188,
     "user": {
      "displayName": "Shashank Shekhar",
      "userId": "16017809737637556764"
     },
     "user_tz": -330
    },
    "id": "7Hsvw1pTokAG"
   },
   "outputs": [],
   "source": [
    "# submission.to_csv(\"./my_submission_naive_bayes.csv\",index=False)"
   ]
  },
  {
   "attachments": {},
   "cell_type": "markdown",
   "metadata": {
    "id": "x3wlheFRpUA0"
   },
   "source": [
    "## Decision tree "
   ]
  },
  {
   "cell_type": "code",
   "execution_count": 219,
   "metadata": {
    "colab": {
     "base_uri": "https://localhost:8080/"
    },
    "executionInfo": {
     "elapsed": 17073,
     "status": "ok",
     "timestamp": 1668520425253,
     "user": {
      "displayName": "Shashank Shekhar",
      "userId": "16017809737637556764"
     },
     "user_tz": -330
    },
    "id": "VP5-crx6pcTF",
    "outputId": "3a43af95-f53e-40e3-b54c-63c781fb428d"
   },
   "outputs": [],
   "source": [
    "# from sklearn.tree import DecisionTreeClassifier\n",
    "# instance_of_tree_classifier=DecisionTreeClassifier(random_state=42,max_features=\"auto\",max_depth=24,criterion=\"entropy\")\n",
    "# instance_of_tree_classifier.fit(train_data_split,train_data_split_y)"
   ]
  },
  {
   "cell_type": "code",
   "execution_count": 220,
   "metadata": {
    "executionInfo": {
     "elapsed": 44,
     "status": "ok",
     "timestamp": 1668520425253,
     "user": {
      "displayName": "Shashank Shekhar",
      "userId": "16017809737637556764"
     },
     "user_tz": -330
    },
    "id": "ZSaQOILjqYNh"
   },
   "outputs": [],
   "source": [
    "# predicted_target_for_train_data_in_decision_trees=instance_of_tree_classifier.predict(train_data_split_test)"
   ]
  },
  {
   "cell_type": "code",
   "execution_count": 221,
   "metadata": {
    "colab": {
     "base_uri": "https://localhost:8080/"
    },
    "executionInfo": {
     "elapsed": 41,
     "status": "ok",
     "timestamp": 1668520425254,
     "user": {
      "displayName": "Shashank Shekhar",
      "userId": "16017809737637556764"
     },
     "user_tz": -330
    },
    "id": "asF17MArqoVo",
    "outputId": "4f48d217-4510-4bc2-b23e-dbf9caf2808d"
   },
   "outputs": [],
   "source": [
    "# print(\"Accuracy for the train data for deision trees is:\",accuracy_score(train_data_split_test_y,predicted_target_for_train_data_in_decision_trees))\n",
    "# print(\"f1 score for the train data for decision trees is:\",f1_score(train_data_split_test_y,predicted_target_for_train_data_in_decision_trees,average=\"macro\"))"
   ]
  },
  {
   "cell_type": "code",
   "execution_count": 222,
   "metadata": {},
   "outputs": [],
   "source": [
    "# trainpredy=instance_of_tree_classifier.predict(train_data_standardized)"
   ]
  },
  {
   "cell_type": "code",
   "execution_count": 223,
   "metadata": {},
   "outputs": [],
   "source": [
    "# print(\"Accuracy for the train data for deision trees is:\",accuracy_score(train_data_target,trainpredy))\n",
    "# print(\"f1 score for the train data for decision trees is:\",f1_score(train_data_target,trainpredy,average=\"macro\"))"
   ]
  },
  {
   "cell_type": "code",
   "execution_count": 224,
   "metadata": {
    "executionInfo": {
     "elapsed": 940,
     "status": "ok",
     "timestamp": 1668520426168,
     "user": {
      "displayName": "Shashank Shekhar",
      "userId": "16017809737637556764"
     },
     "user_tz": -330
    },
    "id": "o04UrxtgrNCr"
   },
   "outputs": [],
   "source": [
    "# predicted_target_for_test_data_in_decision_trees=instance_of_tree_classifier.predict(test_data_standardized)"
   ]
  },
  {
   "cell_type": "code",
   "execution_count": 225,
   "metadata": {
    "colab": {
     "base_uri": "https://localhost:8080/"
    },
    "executionInfo": {
     "elapsed": 41,
     "status": "ok",
     "timestamp": 1668520426168,
     "user": {
      "displayName": "Shashank Shekhar",
      "userId": "16017809737637556764"
     },
     "user_tz": -330
    },
    "id": "kdjg7I_Fraxx",
    "outputId": "e4c6bbf9-14c0-4d21-8785-05ee95aaf350"
   },
   "outputs": [],
   "source": [
    "# count_of_0_in_decision_trees=(predicted_target_for_test_data_in_decision_trees==0).sum()\n",
    "# count_of_0_in_decision_trees"
   ]
  },
  {
   "cell_type": "code",
   "execution_count": 226,
   "metadata": {
    "colab": {
     "base_uri": "https://localhost:8080/"
    },
    "executionInfo": {
     "elapsed": 36,
     "status": "ok",
     "timestamp": 1668520426169,
     "user": {
      "displayName": "Shashank Shekhar",
      "userId": "16017809737637556764"
     },
     "user_tz": -330
    },
    "id": "XFeg8Jlgrlgg",
    "outputId": "deb25935-4025-4966-855b-f965d8115f0a"
   },
   "outputs": [],
   "source": [
    "# count_of_1_in_decision_trees=(predicted_target_for_test_data_in_decision_trees==1).sum()\n",
    "# count_of_1_in_decision_trees"
   ]
  },
  {
   "cell_type": "code",
   "execution_count": 227,
   "metadata": {
    "executionInfo": {
     "elapsed": 24,
     "status": "ok",
     "timestamp": 1668520426169,
     "user": {
      "displayName": "Shashank Shekhar",
      "userId": "16017809737637556764"
     },
     "user_tz": -330
    },
    "id": "GCQTpRSFrprw"
   },
   "outputs": [],
   "source": [
    "# submission[\"TARGET\"]=predicted_target_for_test_data_in_decision_trees"
   ]
  },
  {
   "cell_type": "code",
   "execution_count": 228,
   "metadata": {
    "executionInfo": {
     "elapsed": 23,
     "status": "ok",
     "timestamp": 1668520426170,
     "user": {
      "displayName": "Shashank Shekhar",
      "userId": "16017809737637556764"
     },
     "user_tz": -330
    },
    "id": "1y19oLLLrt1M"
   },
   "outputs": [],
   "source": [
    "# submission.to_csv(\"./my_submission_decision_trees_resampled2.csv\",index=False)"
   ]
  },
  {
   "cell_type": "code",
   "execution_count": 229,
   "metadata": {},
   "outputs": [],
   "source": [
    "# (pd.read_csv(\"./my_submission_decision_trees_resampled1.csv\")[\"TARGET\"]==1).sum()"
   ]
  },
  {
   "attachments": {},
   "cell_type": "markdown",
   "metadata": {},
   "source": [
    "## SVM"
   ]
  },
  {
   "cell_type": "code",
   "execution_count": 230,
   "metadata": {},
   "outputs": [],
   "source": [
    "# from sklearn.svm import SVC"
   ]
  },
  {
   "cell_type": "code",
   "execution_count": 231,
   "metadata": {},
   "outputs": [],
   "source": [
    "# svm_clf=SVC(C=0.005,kernel=\"rbf\",gamma=\"scale\",random_state=42)"
   ]
  },
  {
   "cell_type": "code",
   "execution_count": 232,
   "metadata": {},
   "outputs": [],
   "source": [
    "# svm_clf.fit(train_data_split,train_data_split_y)"
   ]
  },
  {
   "cell_type": "code",
   "execution_count": 233,
   "metadata": {},
   "outputs": [],
   "source": [
    "# predicted_target_for_train_data_in_svm=svm_clf.predict(train_data_split_test)"
   ]
  },
  {
   "cell_type": "code",
   "execution_count": 234,
   "metadata": {},
   "outputs": [],
   "source": [
    "# from sklearn.metrics import accuracy_score, f1_score"
   ]
  },
  {
   "cell_type": "code",
   "execution_count": 235,
   "metadata": {
    "colab": {
     "base_uri": "https://localhost:8080/"
    },
    "executionInfo": {
     "elapsed": 41,
     "status": "ok",
     "timestamp": 1668520425254,
     "user": {
      "displayName": "Shashank Shekhar",
      "userId": "16017809737637556764"
     },
     "user_tz": -330
    },
    "id": "asF17MArqoVo",
    "outputId": "4f48d217-4510-4bc2-b23e-dbf9caf2808d"
   },
   "outputs": [],
   "source": [
    "# print(\"Accuracy for the train data for svm is:\",accuracy_score(train_data_target,predicted_target_for_train_data_in_svm))\n",
    "# print(\"f1 score for the train data for svm is:\",f1_score(train_data_target,predicted_target_for_train_data_in_svm,average=\"macro\"))"
   ]
  },
  {
   "cell_type": "code",
   "execution_count": 236,
   "metadata": {
    "executionInfo": {
     "elapsed": 940,
     "status": "ok",
     "timestamp": 1668520426168,
     "user": {
      "displayName": "Shashank Shekhar",
      "userId": "16017809737637556764"
     },
     "user_tz": -330
    },
    "id": "o04UrxtgrNCr"
   },
   "outputs": [],
   "source": [
    "# predicted_target_for_test_data_in_svm=svm_clf.predict(test_data_standardized)"
   ]
  },
  {
   "cell_type": "code",
   "execution_count": 237,
   "metadata": {
    "colab": {
     "base_uri": "https://localhost:8080/"
    },
    "executionInfo": {
     "elapsed": 41,
     "status": "ok",
     "timestamp": 1668520426168,
     "user": {
      "displayName": "Shashank Shekhar",
      "userId": "16017809737637556764"
     },
     "user_tz": -330
    },
    "id": "kdjg7I_Fraxx",
    "outputId": "e4c6bbf9-14c0-4d21-8785-05ee95aaf350"
   },
   "outputs": [],
   "source": [
    "# count_of_0_in_svm=(predicted_target_for_test_data_in_svm==0).sum()\n",
    "# count_of_0_in_svm"
   ]
  },
  {
   "cell_type": "code",
   "execution_count": 238,
   "metadata": {
    "colab": {
     "base_uri": "https://localhost:8080/"
    },
    "executionInfo": {
     "elapsed": 36,
     "status": "ok",
     "timestamp": 1668520426169,
     "user": {
      "displayName": "Shashank Shekhar",
      "userId": "16017809737637556764"
     },
     "user_tz": -330
    },
    "id": "XFeg8Jlgrlgg",
    "outputId": "deb25935-4025-4966-855b-f965d8115f0a"
   },
   "outputs": [],
   "source": [
    "# count_of_1_in_svm=(predicted_target_for_test_data_in_svm==1).sum()\n",
    "# count_of_1_in_svm"
   ]
  },
  {
   "cell_type": "code",
   "execution_count": 239,
   "metadata": {
    "executionInfo": {
     "elapsed": 24,
     "status": "ok",
     "timestamp": 1668520426169,
     "user": {
      "displayName": "Shashank Shekhar",
      "userId": "16017809737637556764"
     },
     "user_tz": -330
    },
    "id": "GCQTpRSFrprw"
   },
   "outputs": [],
   "source": [
    "# submission[\"TARGET\"]=predicted_target_for_test_data_in_svm"
   ]
  },
  {
   "cell_type": "code",
   "execution_count": 240,
   "metadata": {
    "executionInfo": {
     "elapsed": 23,
     "status": "ok",
     "timestamp": 1668520426170,
     "user": {
      "displayName": "Shashank Shekhar",
      "userId": "16017809737637556764"
     },
     "user_tz": -330
    },
    "id": "1y19oLLLrt1M"
   },
   "outputs": [],
   "source": [
    "# submission.to_csv(\"./my_submission_svm.csv\",index=False)"
   ]
  },
  {
   "attachments": {},
   "cell_type": "markdown",
   "metadata": {
    "id": "axX5tDqxRHuH"
   },
   "source": [
    "## XGBoost"
   ]
  },
  {
   "cell_type": "code",
   "execution_count": 241,
   "metadata": {
    "executionInfo": {
     "elapsed": 544,
     "status": "ok",
     "timestamp": 1668521214868,
     "user": {
      "displayName": "Shashank Shekhar",
      "userId": "16017809737637556764"
     },
     "user_tz": -330
    },
    "id": "Ujyn6rWIRLJL"
   },
   "outputs": [],
   "source": [
    "# params={\n",
    "#     \"learning_rate\":[0.01,0.02,0.03,0.04,0.05,0.10], \n",
    "#     \"max_depth\":[7,8,9,10,11,12,15],\n",
    "#     \"min_child_weight\":[1,2,3],\n",
    "#     \"gamma\":[0.7,0.9,0.93,0.95,0.97,0.99],\n",
    "#     \"colsample_bytree\":[0.3,0.4,0.5,0.6,0.7]\n",
    "# }"
   ]
  },
  {
   "cell_type": "code",
   "execution_count": 242,
   "metadata": {
    "executionInfo": {
     "elapsed": 567,
     "status": "ok",
     "timestamp": 1668521221812,
     "user": {
      "displayName": "Shashank Shekhar",
      "userId": "16017809737637556764"
     },
     "user_tz": -330
    },
    "id": "qomL7D7sSjYy"
   },
   "outputs": [],
   "source": [
    "# from sklearn.model_selection import RandomizedSearchCV,GridSearchCV\n",
    "# import xgboost"
   ]
  },
  {
   "cell_type": "code",
   "execution_count": 243,
   "metadata": {
    "executionInfo": {
     "elapsed": 5,
     "status": "ok",
     "timestamp": 1668521224179,
     "user": {
      "displayName": "Shashank Shekhar",
      "userId": "16017809737637556764"
     },
     "user_tz": -330
    },
    "id": "pnLRCxiaTSls"
   },
   "outputs": [],
   "source": [
    "# classifier=xgboost.XGBClassifier()"
   ]
  },
  {
   "cell_type": "code",
   "execution_count": 244,
   "metadata": {
    "executionInfo": {
     "elapsed": 615,
     "status": "ok",
     "timestamp": 1668521229988,
     "user": {
      "displayName": "Shashank Shekhar",
      "userId": "16017809737637556764"
     },
     "user_tz": -330
    },
    "id": "tMp5QHONTZm4"
   },
   "outputs": [],
   "source": [
    "# random_search=RandomizedSearchCV(classifier,param_distributions=params,scoring='roc_auc',n_jobs=-1,cv=5,verbose=3)"
   ]
  },
  {
   "cell_type": "code",
   "execution_count": 245,
   "metadata": {
    "colab": {
     "base_uri": "https://localhost:8080/"
    },
    "executionInfo": {
     "elapsed": 522417,
     "status": "ok",
     "timestamp": 1668521755171,
     "user": {
      "displayName": "Shashank Shekhar",
      "userId": "16017809737637556764"
     },
     "user_tz": -330
    },
    "id": "USDDwuHjULkI",
    "outputId": "09f6aaf9-02e2-4413-dc24-517f4c7267f1"
   },
   "outputs": [],
   "source": [
    "# random_search.fit(train_data_standardized,train_data_target)"
   ]
  },
  {
   "cell_type": "code",
   "execution_count": 246,
   "metadata": {
    "colab": {
     "base_uri": "https://localhost:8080/"
    },
    "executionInfo": {
     "elapsed": 595,
     "status": "ok",
     "timestamp": 1668521761978,
     "user": {
      "displayName": "Shashank Shekhar",
      "userId": "16017809737637556764"
     },
     "user_tz": -330
    },
    "id": "qCkE54zteRbt",
    "outputId": "9f8fab8b-51b1-4c42-caa9-0c868f908f89"
   },
   "outputs": [],
   "source": [
    "# random_search.best_estimator_"
   ]
  },
  {
   "cell_type": "code",
   "execution_count": 247,
   "metadata": {
    "colab": {
     "base_uri": "https://localhost:8080/"
    },
    "executionInfo": {
     "elapsed": 601,
     "status": "ok",
     "timestamp": 1668521784091,
     "user": {
      "displayName": "Shashank Shekhar",
      "userId": "16017809737637556764"
     },
     "user_tz": -330
    },
    "id": "yH_S-8Z5edvq",
    "outputId": "203a1bae-0f4a-4ee2-851a-52b781bd2f97"
   },
   "outputs": [],
   "source": [
    "# random_search.best_params_"
   ]
  },
  {
   "cell_type": "code",
   "execution_count": 248,
   "metadata": {
    "executionInfo": {
     "elapsed": 4,
     "status": "ok",
     "timestamp": 1668521810418,
     "user": {
      "displayName": "Shashank Shekhar",
      "userId": "16017809737637556764"
     },
     "user_tz": -330
    },
    "id": "54nm6RGqe4Ai"
   },
   "outputs": [],
   "source": [
    "# classifier=xgboost.XGBClassifier(learning_rate =0.02,\n",
    "# n_estimators=5000,\n",
    "# min_child_weight=1,\n",
    "# objective= 'binary:logistic', \n",
    "# nthread=8,\n",
    "# eval_metric=\"logloss\",\n",
    "# scale_pos_weight=1, \n",
    "# seed=42)"
   ]
  },
  {
   "cell_type": "code",
   "execution_count": 249,
   "metadata": {
    "colab": {
     "base_uri": "https://localhost:8080/"
    },
    "executionInfo": {
     "elapsed": 105358,
     "status": "ok",
     "timestamp": 1668521919482,
     "user": {
      "displayName": "Shashank Shekhar",
      "userId": "16017809737637556764"
     },
     "user_tz": -330
    },
    "id": "BUIV41s2f52X",
    "outputId": "0c1940a1-a537-4e31-a064-2c3a7f4328f9"
   },
   "outputs": [],
   "source": [
    "# classifier.fit(train_data_split,train_data_split_y)"
   ]
  },
  {
   "cell_type": "markdown",
   "metadata": {},
   "source": [
    "classifier=xgboost.XGBClassifier(learning_rate =0.02,\n",
    "n_estimators=10000,\n",
    "objective= 'binary:logistic', \n",
    "nthread=8,\n",
    "eval_metric=\"logloss\",\n",
    "scale_pos_weight=2, \n",
    "seed=42)\n",
    "\n"
   ]
  },
  {
   "cell_type": "markdown",
   "metadata": {},
   "source": [
    "(base_score=0.5, booster='gbtree', colsample_bylevel=1,\n",
    "              colsample_bynode=1, colsample_bytree=0.8,\n",
    "              enable_categorical=False, gamma=0, gpu_id=-1,\n",
    "              importance_type=None, interaction_constraints='',\n",
    "              learning_rate=0.12, max_delta_step=0, max_depth=6,\n",
    "              min_child_weight=2, missing=nan, monotone_constraints='()',\n",
    "              n_estimators=5000, n_jobs=8, nthread=8, num_parallel_tree=1,\n",
    "              predictor='auto', random_state=42, reg_alpha=0, reg_lambda=1,\n",
    "              scale_pos_weight=1.5, seed=42, subsample=0.9192709180189262,\n",
    "              tree_method='exact', validate_parameters=1, verbosity=None)\n",
    "\n",
    "Accuracy for the train data for xgb is: 0.9999186983056727 \n",
    "\n",
    "f1 score for the train data for xgb is: 0.9997260013509839\n",
    "\n",
    "kaggle: 0.52381"
   ]
  },
  {
   "cell_type": "code",
   "execution_count": 250,
   "metadata": {
    "executionInfo": {
     "elapsed": 2788,
     "status": "ok",
     "timestamp": 1668521926263,
     "user": {
      "displayName": "Shashank Shekhar",
      "userId": "16017809737637556764"
     },
     "user_tz": -330
    },
    "id": "QgSYl-rxgz5S"
   },
   "outputs": [],
   "source": [
    "# predicted_target_for_train_data_in_xgb=classifier.predict(train_data_split_test)"
   ]
  },
  {
   "cell_type": "code",
   "execution_count": 251,
   "metadata": {
    "colab": {
     "base_uri": "https://localhost:8080/"
    },
    "executionInfo": {
     "elapsed": 604,
     "status": "ok",
     "timestamp": 1668521930335,
     "user": {
      "displayName": "Shashank Shekhar",
      "userId": "16017809737637556764"
     },
     "user_tz": -330
    },
    "id": "fQTmMXXEimoq",
    "outputId": "53270b0e-1dd3-445d-d6e7-df29b6090839"
   },
   "outputs": [],
   "source": [
    "# print(\"Accuracy for the train data for xgb is:\",accuracy_score(train_data_split_test_y,predicted_target_for_train_data_in_xgb))\n",
    "# print(\"f1 score for the train data for xgb is:\",f1_score(train_data_split_test_y,predicted_target_for_train_data_in_xgb,average=\"macro\"))"
   ]
  },
  {
   "cell_type": "code",
   "execution_count": 252,
   "metadata": {},
   "outputs": [],
   "source": [
    "# trainpred=classifier.predict(train_data_split)"
   ]
  },
  {
   "cell_type": "code",
   "execution_count": 253,
   "metadata": {},
   "outputs": [],
   "source": [
    "# print(\"Accuracy for the train data for xgb is:\",accuracy_score(train_data_split_y,trainpred))\n",
    "# print(\"f1 score for the train data for xgb is:\",f1_score(train_data_split_y,trainpred,average=\"macro\"))"
   ]
  },
  {
   "cell_type": "code",
   "execution_count": 254,
   "metadata": {
    "executionInfo": {
     "elapsed": 1789,
     "status": "ok",
     "timestamp": 1668521935793,
     "user": {
      "displayName": "Shashank Shekhar",
      "userId": "16017809737637556764"
     },
     "user_tz": -330
    },
    "id": "ZsA3T-apiNyn"
   },
   "outputs": [],
   "source": [
    "# predicted_target_for_test_data_in_xgb=classifier.predict(test_data_standardized)"
   ]
  },
  {
   "cell_type": "code",
   "execution_count": 255,
   "metadata": {
    "colab": {
     "base_uri": "https://localhost:8080/"
    },
    "executionInfo": {
     "elapsed": 1091,
     "status": "ok",
     "timestamp": 1668521943486,
     "user": {
      "displayName": "Shashank Shekhar",
      "userId": "16017809737637556764"
     },
     "user_tz": -330
    },
    "id": "HytnRgGbhdlW",
    "outputId": "b90b1f60-ec40-416e-dae4-33825d5df08a"
   },
   "outputs": [],
   "source": [
    "# count_of_0_in_xgb=(predicted_target_for_test_data_in_xgb==0).sum()\n",
    "# count_of_0_in_xgb"
   ]
  },
  {
   "cell_type": "code",
   "execution_count": 256,
   "metadata": {
    "colab": {
     "base_uri": "https://localhost:8080/"
    },
    "executionInfo": {
     "elapsed": 1143,
     "status": "ok",
     "timestamp": 1668521947343,
     "user": {
      "displayName": "Shashank Shekhar",
      "userId": "16017809737637556764"
     },
     "user_tz": -330
    },
    "id": "FtBZkKjFiSr6",
    "outputId": "16e28b2b-17db-492f-8710-e98489c44125"
   },
   "outputs": [],
   "source": [
    "# count_of_1_in_xgb=(predicted_target_for_test_data_in_xgb==1).sum()\n",
    "# count_of_1_in_xgb"
   ]
  },
  {
   "cell_type": "code",
   "execution_count": 257,
   "metadata": {
    "executionInfo": {
     "elapsed": 8,
     "status": "ok",
     "timestamp": 1668521951327,
     "user": {
      "displayName": "Shashank Shekhar",
      "userId": "16017809737637556764"
     },
     "user_tz": -330
    },
    "id": "DbRyVtEIita7"
   },
   "outputs": [],
   "source": [
    "# submission[\"TARGET\"]=predicted_target_for_test_data_in_xgb"
   ]
  },
  {
   "cell_type": "code",
   "execution_count": 258,
   "metadata": {},
   "outputs": [],
   "source": [
    "# submission.to_csv(\"./my_submission_xgb_resampled.csv\",index=False)"
   ]
  },
  {
   "attachments": {},
   "cell_type": "markdown",
   "metadata": {},
   "source": [
    "## Random Forest"
   ]
  },
  {
   "cell_type": "code",
   "execution_count": 259,
   "metadata": {},
   "outputs": [],
   "source": [
    "# from sklearn.ensemble import RandomForestClassifier"
   ]
  },
  {
   "cell_type": "code",
   "execution_count": 260,
   "metadata": {},
   "outputs": [],
   "source": [
    "# n_estimators = [int(x) for x in np.linspace(start=100, stop=1000, num=10)]\n",
    "# max_features = ['auto', 'sqrt']\n",
    "# max_depth = [int(x) for x in np.linspace(10, 110, num=11)]\n",
    "# max_depth.append(None)\n",
    "# min_samples_split = [2, 5, 10]\n",
    "# min_samples_leaf = [1, 2, 4]\n",
    "# bootstrap = [True, False]\n",
    "\n",
    "# random_grid = {'n_estimators': n_estimators, 'max_features': max_features,\n",
    "#                'max_depth': max_depth, 'min_samples_split': min_samples_split,\n",
    "#                'min_samples_leaf': min_samples_leaf, 'bootstrap': bootstrap}\n",
    "\n",
    "# random_forest_clf = RandomForestClassifier(random_state=42)\n",
    "\n",
    "# random_forest_clf_cv = RandomizedSearchCV(estimator=random_forest_clf, scoring='f1_macro',param_distributions=random_grid, n_iter=100, cv=3, verbose=2, random_state=42, n_jobs=-1)"
   ]
  },
  {
   "cell_type": "code",
   "execution_count": 261,
   "metadata": {},
   "outputs": [],
   "source": [
    "# random_forest_clf_cv.fit(train_data_standardized,train_data_target)"
   ]
  },
  {
   "cell_type": "code",
   "execution_count": 262,
   "metadata": {},
   "outputs": [],
   "source": [
    "# random_forest_clf_cv.best_estimator_"
   ]
  },
  {
   "cell_type": "code",
   "execution_count": 263,
   "metadata": {},
   "outputs": [],
   "source": [
    "# random_forest_clf_best=RandomForestClassifier( max_depth=16,max_features='sqrt', n_estimators=2000,random_state=42,n_jobs=-1)"
   ]
  },
  {
   "cell_type": "code",
   "execution_count": 264,
   "metadata": {},
   "outputs": [],
   "source": [
    "# random_forest_clf_best.fit(train_data_standardized,train_data_target)"
   ]
  },
  {
   "cell_type": "code",
   "execution_count": 265,
   "metadata": {},
   "outputs": [],
   "source": [
    "# predicted_target_for_train_data_in_random_forest_best=random_forest_clf_best.predict(train_data_split_test)"
   ]
  },
  {
   "cell_type": "code",
   "execution_count": 266,
   "metadata": {},
   "outputs": [],
   "source": [
    "# print(\"Accuracy for the train(test) data for rfb is:\",accuracy_score(train_data_split_test_y,predicted_target_for_train_data_in_random_forest_best))\n",
    "# print(\"f1 score for the train(test) data for rfb is:\",f1_score(train_data_split_test_y,predicted_target_for_train_data_in_random_forest_best,average=\"macro\"))"
   ]
  },
  {
   "cell_type": "code",
   "execution_count": 267,
   "metadata": {},
   "outputs": [],
   "source": [
    "# trainpred=random_forest_clf_best.predict(train_data_split)"
   ]
  },
  {
   "cell_type": "code",
   "execution_count": 268,
   "metadata": {},
   "outputs": [],
   "source": [
    "# print(\"Accuracy for the train data for rfb is:\",accuracy_score(train_data_split_y,trainpred))\n",
    "# print(\"f1 score for the train data for rfb is:\",f1_score(train_data_split_y,trainpred,average=\"macro\"))"
   ]
  },
  {
   "cell_type": "code",
   "execution_count": 269,
   "metadata": {},
   "outputs": [],
   "source": [
    "# predicted_target_for_train_data_full_in_random_forest_best=random_forest_clf_best.predict(train_data_standardized)"
   ]
  },
  {
   "cell_type": "code",
   "execution_count": 270,
   "metadata": {},
   "outputs": [],
   "source": [
    "# print(\"Accuracy for the train data for rfb is:\",accuracy_score(train_data_target,predicted_target_for_train_data_full_in_random_forest_best))\n",
    "# print(\"f1 score for the train data for rfb is:\",f1_score(train_data_target,predicted_target_for_train_data_full_in_random_forest_best,average=\"macro\"))"
   ]
  },
  {
   "cell_type": "code",
   "execution_count": 271,
   "metadata": {
    "executionInfo": {
     "elapsed": 1789,
     "status": "ok",
     "timestamp": 1668521935793,
     "user": {
      "displayName": "Shashank Shekhar",
      "userId": "16017809737637556764"
     },
     "user_tz": -330
    },
    "id": "ZsA3T-apiNyn"
   },
   "outputs": [],
   "source": [
    "# predicted_target_for_test_data_in_random_forest_best=random_forest_clf_best.predict(test_data_standardized)"
   ]
  },
  {
   "cell_type": "code",
   "execution_count": 272,
   "metadata": {
    "colab": {
     "base_uri": "https://localhost:8080/"
    },
    "executionInfo": {
     "elapsed": 1091,
     "status": "ok",
     "timestamp": 1668521943486,
     "user": {
      "displayName": "Shashank Shekhar",
      "userId": "16017809737637556764"
     },
     "user_tz": -330
    },
    "id": "HytnRgGbhdlW",
    "outputId": "b90b1f60-ec40-416e-dae4-33825d5df08a"
   },
   "outputs": [],
   "source": [
    "# count_of_0_in_xgb=(predicted_target_for_test_data_in_random_forest_best==0).sum()\n",
    "# count_of_0_in_xgb"
   ]
  },
  {
   "cell_type": "code",
   "execution_count": 273,
   "metadata": {
    "colab": {
     "base_uri": "https://localhost:8080/"
    },
    "executionInfo": {
     "elapsed": 1143,
     "status": "ok",
     "timestamp": 1668521947343,
     "user": {
      "displayName": "Shashank Shekhar",
      "userId": "16017809737637556764"
     },
     "user_tz": -330
    },
    "id": "FtBZkKjFiSr6",
    "outputId": "16e28b2b-17db-492f-8710-e98489c44125"
   },
   "outputs": [],
   "source": [
    "# count_of_1_in_xgb=(predicted_target_for_test_data_in_random_forest_best==1).sum()\n",
    "# count_of_1_in_xgb"
   ]
  },
  {
   "cell_type": "code",
   "execution_count": 274,
   "metadata": {
    "executionInfo": {
     "elapsed": 8,
     "status": "ok",
     "timestamp": 1668521951327,
     "user": {
      "displayName": "Shashank Shekhar",
      "userId": "16017809737637556764"
     },
     "user_tz": -330
    },
    "id": "DbRyVtEIita7"
   },
   "outputs": [],
   "source": [
    "# submission[\"TARGET\"]=predicted_target_for_test_data_in_random_forest_best"
   ]
  },
  {
   "cell_type": "code",
   "execution_count": 275,
   "metadata": {},
   "outputs": [],
   "source": [
    "# submission.to_csv(\"./my_submission_random_forest_best_clf.csv\",index=False)"
   ]
  }
 ],
 "metadata": {
  "kernelspec": {
   "display_name": "Python 3.9.12 ('base')",
   "language": "python",
   "name": "python3"
  },
  "language_info": {
   "codemirror_mode": {
    "name": "ipython",
    "version": 3
   },
   "file_extension": ".py",
   "mimetype": "text/x-python",
   "name": "python",
   "nbconvert_exporter": "python",
   "pygments_lexer": "ipython3",
   "version": "3.9.12"
  },
  "orig_nbformat": 4,
  "vscode": {
   "interpreter": {
    "hash": "40d3a090f54c6569ab1632332b64b2c03c39dcf918b08424e98f38b5ae0af88f"
   }
  }
 },
 "nbformat": 4,
 "nbformat_minor": 2
}
