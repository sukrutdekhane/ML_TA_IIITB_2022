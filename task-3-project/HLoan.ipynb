{
  "nbformat": 4,
  "nbformat_minor": 0,
  "metadata": {
    "colab": {
      "provenance": []
    },
    "kernelspec": {
      "name": "python3",
      "display_name": "Python 3"
    },
    "language_info": {
      "name": "python"
    }
  },
  "cells": [
    {
      "cell_type": "code",
      "execution_count": null,
      "metadata": {
        "id": "d7E-uWAEmO2g"
      },
      "outputs": [],
      "source": [
        "import matplotlib.pyplot as plt\n",
        "import numpy as np\n",
        "import pandas as pd\n",
        "from sklearn.model_selection import train_test_split\n",
        "from sklearn.metrics import accuracy_score\n",
        "from sklearn.preprocessing import StandardScaler\n",
        "from google.colab import drive\n",
        "import cufflinks as cf\n",
        "import seaborn as sns\n",
        "from sklearn.preprocessing import LabelEncoder\n",
        "from xgboost import XGBClassifier\n",
        "from sklearn.metrics import f1_score"
      ]
    },
    {
      "cell_type": "markdown",
      "source": [
        "# Working with train data"
      ],
      "metadata": {
        "id": "D54-UnvkmhtN"
      }
    },
    {
      "cell_type": "markdown",
      "source": [
        "## Importing data"
      ],
      "metadata": {
        "id": "_-bF1nsMmk6M"
      }
    },
    {
      "cell_type": "code",
      "source": [
        "drive.mount('/content/drive')"
      ],
      "metadata": {
        "colab": {
          "base_uri": "https://localhost:8080/"
        },
        "id": "xLXvm4zjmgQS",
        "outputId": "0abccf2d-bb09-48ba-a9cb-42651da93a45"
      },
      "execution_count": null,
      "outputs": [
        {
          "output_type": "stream",
          "name": "stdout",
          "text": [
            "Drive already mounted at /content/drive; to attempt to forcibly remount, call drive.mount(\"/content/drive\", force_remount=True).\n"
          ]
        }
      ]
    },
    {
      "cell_type": "code",
      "source": [
        "train_path = \"/content/drive/MyDrive/ml_project_data/train_data.csv\"\n",
        "train = pd.read_csv(train_path)"
      ],
      "metadata": {
        "id": "xwYRj9JQmoFm"
      },
      "execution_count": null,
      "outputs": []
    },
    {
      "cell_type": "code",
      "source": [
        "pd.set_option('display.max_columns', None)\n",
        "pd.set_option('display.max_rows', None)"
      ],
      "metadata": {
        "id": "2FYv8KLVmpeN"
      },
      "execution_count": null,
      "outputs": []
    },
    {
      "cell_type": "code",
      "source": [
        "train.head()"
      ],
      "metadata": {
        "colab": {
          "base_uri": "https://localhost:8080/",
          "height": 322
        },
        "id": "gbHRhUkUmq6A",
        "outputId": "9ebb4dab-48f3-4903-88e2-ee2d4a3a7343"
      },
      "execution_count": null,
      "outputs": [
        {
          "output_type": "execute_result",
          "data": {
            "text/plain": [
              "   SK_ID_CURR NAME_CONTRACT_TYPE CODE_GENDER FLAG_OWN_CAR FLAG_OWN_REALTY  \\\n",
              "0      450407         Cash loans           F            N               Y   \n",
              "1      271298         Cash loans           M            Y               Y   \n",
              "2      122238         Cash loans           M            Y               Y   \n",
              "3      305311         Cash loans           M            N               N   \n",
              "4      414121         Cash loans           F            N               Y   \n",
              "\n",
              "   CNT_CHILDREN  AMT_INCOME_TOTAL  AMT_CREDIT  AMT_ANNUITY  AMT_GOODS_PRICE  \\\n",
              "0             1           67500.0    227520.0      11065.5         180000.0   \n",
              "1             1          247500.0   1882372.5      65560.5        1719000.0   \n",
              "2             1          180000.0    101880.0      10827.0          90000.0   \n",
              "3             0           81000.0    405000.0      20677.5         405000.0   \n",
              "4             0          157500.0    888840.0      29506.5         675000.0   \n",
              "\n",
              "   NAME_TYPE_SUITE      NAME_INCOME_TYPE            NAME_EDUCATION_TYPE  \\\n",
              "0           Family  Commercial associate  Secondary / secondary special   \n",
              "1    Unaccompanied               Working               Higher education   \n",
              "2  Spouse, partner               Working               Higher education   \n",
              "3    Unaccompanied               Working  Secondary / secondary special   \n",
              "4    Unaccompanied               Working  Secondary / secondary special   \n",
              "\n",
              "     NAME_FAMILY_STATUS  NAME_HOUSING_TYPE  REGION_POPULATION_RELATIVE  \\\n",
              "0               Married  House / apartment                    0.018634   \n",
              "1        Civil marriage  House / apartment                    0.018850   \n",
              "2               Married  House / apartment                    0.022625   \n",
              "3  Single / not married       With parents                    0.035792   \n",
              "4        Civil marriage  House / apartment                    0.018801   \n",
              "\n",
              "   DAYS_BIRTH  DAYS_EMPLOYED  DAYS_REGISTRATION  DAYS_ID_PUBLISH  OWN_CAR_AGE  \\\n",
              "0      -17210           -774            -5580.0             -755          NaN   \n",
              "1      -18640            -96            -5711.0            -2175         25.0   \n",
              "2      -14649          -6130            -1776.0            -4568          9.0   \n",
              "3      -12762          -5891            -6430.0            -4618          NaN   \n",
              "4      -16329           -345            -1413.0            -4624          NaN   \n",
              "\n",
              "   FLAG_MOBIL  FLAG_EMP_PHONE  FLAG_WORK_PHONE  FLAG_CONT_MOBILE  FLAG_PHONE  \\\n",
              "0           1               1                1                 1           0   \n",
              "1           1               1                0                 1           0   \n",
              "2           1               1                1                 1           0   \n",
              "3           1               1                1                 1           1   \n",
              "4           1               1                0                 1           0   \n",
              "\n",
              "   FLAG_EMAIL OCCUPATION_TYPE  CNT_FAM_MEMBERS  REGION_RATING_CLIENT  \\\n",
              "0           0     Sales staff              3.0                     2   \n",
              "1           1        Managers              3.0                     2   \n",
              "2           0        Laborers              3.0                     2   \n",
              "3           0             NaN              1.0                     2   \n",
              "4           0     Sales staff              2.0                     2   \n",
              "\n",
              "   REGION_RATING_CLIENT_W_CITY WEEKDAY_APPR_PROCESS_START  \\\n",
              "0                            2                  WEDNESDAY   \n",
              "1                            2                    TUESDAY   \n",
              "2                            2                     MONDAY   \n",
              "3                            2                  WEDNESDAY   \n",
              "4                            2                    TUESDAY   \n",
              "\n",
              "   HOUR_APPR_PROCESS_START  REG_REGION_NOT_LIVE_REGION  \\\n",
              "0                       12                           0   \n",
              "1                       10                           0   \n",
              "2                       14                           0   \n",
              "3                       18                           0   \n",
              "4                        9                           0   \n",
              "\n",
              "   REG_REGION_NOT_WORK_REGION  LIVE_REGION_NOT_WORK_REGION  \\\n",
              "0                           0                            0   \n",
              "1                           0                            0   \n",
              "2                           0                            0   \n",
              "3                           0                            0   \n",
              "4                           0                            0   \n",
              "\n",
              "   REG_CITY_NOT_LIVE_CITY  REG_CITY_NOT_WORK_CITY  LIVE_CITY_NOT_WORK_CITY  \\\n",
              "0                       0                       0                        0   \n",
              "1                       0                       1                        1   \n",
              "2                       0                       0                        0   \n",
              "3                       0                       1                        1   \n",
              "4                       0                       1                        1   \n",
              "\n",
              "        ORGANIZATION_TYPE  EXT_SOURCE_1  EXT_SOURCE_2  EXT_SOURCE_3  \\\n",
              "0  Business Entity Type 3           NaN      0.264354           NaN   \n",
              "1  Business Entity Type 3      0.581064      0.172251      0.686382   \n",
              "2       Transport: type 4           NaN      0.636218      0.540654   \n",
              "3                   Other           NaN      0.599924      0.337673   \n",
              "4  Business Entity Type 3      0.476511      0.312779      0.819318   \n",
              "\n",
              "   APARTMENTS_AVG  BASEMENTAREA_AVG  YEARS_BEGINEXPLUATATION_AVG  \\\n",
              "0          0.0124               NaN                       0.9444   \n",
              "1             NaN               NaN                          NaN   \n",
              "2          0.1979            0.1169                       0.9841   \n",
              "3             NaN               NaN                          NaN   \n",
              "4             NaN               NaN                          NaN   \n",
              "\n",
              "   YEARS_BUILD_AVG  COMMONAREA_AVG  ELEVATORS_AVG  ENTRANCES_AVG  \\\n",
              "0              NaN             NaN           0.00         0.0345   \n",
              "1              NaN             NaN            NaN            NaN   \n",
              "2           0.7824          0.1119           0.16         0.0690   \n",
              "3              NaN             NaN            NaN            NaN   \n",
              "4              NaN             NaN            NaN            NaN   \n",
              "\n",
              "   FLOORSMAX_AVG  FLOORSMIN_AVG  LANDAREA_AVG  LIVINGAPARTMENTS_AVG  \\\n",
              "0         0.0417            NaN           NaN                   NaN   \n",
              "1            NaN            NaN           NaN                   NaN   \n",
              "2         0.4583            0.5        0.1587                0.1614   \n",
              "3            NaN            NaN           NaN                   NaN   \n",
              "4            NaN            NaN           NaN                   NaN   \n",
              "\n",
              "   LIVINGAREA_AVG  NONLIVINGAPARTMENTS_AVG  NONLIVINGAREA_AVG  \\\n",
              "0          0.0095                      NaN              0.000   \n",
              "1             NaN                      NaN                NaN   \n",
              "2          0.1033                      0.0              0.188   \n",
              "3             NaN                      NaN                NaN   \n",
              "4             NaN                      NaN                NaN   \n",
              "\n",
              "   APARTMENTS_MODE  BASEMENTAREA_MODE  YEARS_BEGINEXPLUATATION_MODE  \\\n",
              "0           0.0126                NaN                        0.9444   \n",
              "1              NaN                NaN                           NaN   \n",
              "2           0.2017             0.1213                        0.9841   \n",
              "3              NaN                NaN                           NaN   \n",
              "4              NaN                NaN                           NaN   \n",
              "\n",
              "   YEARS_BUILD_MODE  COMMONAREA_MODE  ELEVATORS_MODE  ENTRANCES_MODE  \\\n",
              "0               NaN              NaN          0.0000          0.0345   \n",
              "1               NaN              NaN             NaN             NaN   \n",
              "2            0.7909            0.113          0.1611          0.0690   \n",
              "3               NaN              NaN             NaN             NaN   \n",
              "4               NaN              NaN             NaN             NaN   \n",
              "\n",
              "   FLOORSMAX_MODE  FLOORSMIN_MODE  LANDAREA_MODE  LIVINGAPARTMENTS_MODE  \\\n",
              "0          0.0417             NaN            NaN                    NaN   \n",
              "1             NaN             NaN            NaN                    NaN   \n",
              "2          0.4583             0.5         0.1623                 0.1763   \n",
              "3             NaN             NaN            NaN                    NaN   \n",
              "4             NaN             NaN            NaN                    NaN   \n",
              "\n",
              "   LIVINGAREA_MODE  NONLIVINGAPARTMENTS_MODE  NONLIVINGAREA_MODE  \\\n",
              "0           0.0099                       NaN               0.000   \n",
              "1              NaN                       NaN                 NaN   \n",
              "2           0.1076                       0.0               0.199   \n",
              "3              NaN                       NaN                 NaN   \n",
              "4              NaN                       NaN                 NaN   \n",
              "\n",
              "   APARTMENTS_MEDI  BASEMENTAREA_MEDI  YEARS_BEGINEXPLUATATION_MEDI  \\\n",
              "0           0.0125                NaN                        0.9444   \n",
              "1              NaN                NaN                           NaN   \n",
              "2           0.1999             0.1169                        0.9841   \n",
              "3              NaN                NaN                           NaN   \n",
              "4              NaN                NaN                           NaN   \n",
              "\n",
              "   YEARS_BUILD_MEDI  COMMONAREA_MEDI  ELEVATORS_MEDI  ENTRANCES_MEDI  \\\n",
              "0               NaN              NaN            0.00          0.0345   \n",
              "1               NaN              NaN             NaN             NaN   \n",
              "2            0.7853           0.1127            0.16          0.0690   \n",
              "3               NaN              NaN             NaN             NaN   \n",
              "4               NaN              NaN             NaN             NaN   \n",
              "\n",
              "   FLOORSMAX_MEDI  FLOORSMIN_MEDI  LANDAREA_MEDI  LIVINGAPARTMENTS_MEDI  \\\n",
              "0          0.0417             NaN            NaN                    NaN   \n",
              "1             NaN             NaN            NaN                    NaN   \n",
              "2          0.4583             0.5         0.1615                 0.1642   \n",
              "3             NaN             NaN            NaN                    NaN   \n",
              "4             NaN             NaN            NaN                    NaN   \n",
              "\n",
              "   LIVINGAREA_MEDI  NONLIVINGAPARTMENTS_MEDI  NONLIVINGAREA_MEDI  \\\n",
              "0           0.0096                       NaN              0.0000   \n",
              "1              NaN                       NaN                 NaN   \n",
              "2           0.1051                       0.0              0.1919   \n",
              "3              NaN                       NaN                 NaN   \n",
              "4              NaN                       NaN                 NaN   \n",
              "\n",
              "  FONDKAPREMONT_MODE  HOUSETYPE_MODE  TOTALAREA_MODE WALLSMATERIAL_MODE  \\\n",
              "0                NaN  block of flats          0.0074              Mixed   \n",
              "1                NaN             NaN             NaN                NaN   \n",
              "2   reg oper account  block of flats          0.1789              Panel   \n",
              "3                NaN             NaN             NaN                NaN   \n",
              "4                NaN             NaN             NaN                NaN   \n",
              "\n",
              "  EMERGENCYSTATE_MODE  OBS_30_CNT_SOCIAL_CIRCLE  DEF_30_CNT_SOCIAL_CIRCLE  \\\n",
              "0                  No                       0.0                       0.0   \n",
              "1                 NaN                       0.0                       0.0   \n",
              "2                  No                       1.0                       0.0   \n",
              "3                 NaN                       7.0                       1.0   \n",
              "4                 NaN                       2.0                       0.0   \n",
              "\n",
              "   OBS_60_CNT_SOCIAL_CIRCLE  DEF_60_CNT_SOCIAL_CIRCLE  DAYS_LAST_PHONE_CHANGE  \\\n",
              "0                       0.0                       0.0                  -150.0   \n",
              "1                       0.0                       0.0                  -444.0   \n",
              "2                       1.0                       0.0                     0.0   \n",
              "3                       7.0                       1.0                 -1671.0   \n",
              "4                       2.0                       0.0                   -28.0   \n",
              "\n",
              "   FLAG_DOCUMENT_2  FLAG_DOCUMENT_3  FLAG_DOCUMENT_4  FLAG_DOCUMENT_5  \\\n",
              "0                0                1                0                0   \n",
              "1                0                1                0                0   \n",
              "2                0                1                0                0   \n",
              "3                0                1                0                0   \n",
              "4                0                1                0                0   \n",
              "\n",
              "   FLAG_DOCUMENT_6  FLAG_DOCUMENT_7  FLAG_DOCUMENT_8  FLAG_DOCUMENT_9  \\\n",
              "0                0                0                0                0   \n",
              "1                0                0                0                0   \n",
              "2                0                0                0                0   \n",
              "3                0                0                0                0   \n",
              "4                0                0                0                0   \n",
              "\n",
              "   FLAG_DOCUMENT_10  FLAG_DOCUMENT_11  FLAG_DOCUMENT_12  FLAG_DOCUMENT_13  \\\n",
              "0                 0                 0                 0                 0   \n",
              "1                 0                 0                 0                 0   \n",
              "2                 0                 0                 0                 0   \n",
              "3                 0                 0                 0                 0   \n",
              "4                 0                 0                 0                 0   \n",
              "\n",
              "   FLAG_DOCUMENT_14  FLAG_DOCUMENT_15  FLAG_DOCUMENT_16  FLAG_DOCUMENT_17  \\\n",
              "0                 0                 0                 0                 0   \n",
              "1                 0                 0                 0                 0   \n",
              "2                 0                 0                 0                 0   \n",
              "3                 0                 0                 0                 0   \n",
              "4                 0                 0                 0                 0   \n",
              "\n",
              "   FLAG_DOCUMENT_18  FLAG_DOCUMENT_19  FLAG_DOCUMENT_20  FLAG_DOCUMENT_21  \\\n",
              "0                 0                 0                 0                 0   \n",
              "1                 0                 0                 0                 0   \n",
              "2                 0                 0                 0                 0   \n",
              "3                 0                 0                 0                 0   \n",
              "4                 0                 0                 0                 0   \n",
              "\n",
              "   AMT_REQ_CREDIT_BUREAU_HOUR  AMT_REQ_CREDIT_BUREAU_DAY  \\\n",
              "0                         0.0                        0.0   \n",
              "1                         0.0                        0.0   \n",
              "2                         0.0                        0.0   \n",
              "3                         0.0                        0.0   \n",
              "4                         0.0                        0.0   \n",
              "\n",
              "   AMT_REQ_CREDIT_BUREAU_WEEK  AMT_REQ_CREDIT_BUREAU_MON  \\\n",
              "0                         0.0                        1.0   \n",
              "1                         0.0                        0.0   \n",
              "2                         0.0                        2.0   \n",
              "3                         0.0                        0.0   \n",
              "4                         0.0                        0.0   \n",
              "\n",
              "   AMT_REQ_CREDIT_BUREAU_QRT  AMT_REQ_CREDIT_BUREAU_YEAR  TARGET  \n",
              "0                        0.0                         2.0       0  \n",
              "1                        1.0                         3.0       0  \n",
              "2                        0.0                         1.0       0  \n",
              "3                        0.0                         2.0       0  \n",
              "4                        0.0                         2.0       0  "
            ],
            "text/html": [
              "\n",
              "  <div id=\"df-18c360a1-2784-41f0-9c96-746023682941\">\n",
              "    <div class=\"colab-df-container\">\n",
              "      <div>\n",
              "<style scoped>\n",
              "    .dataframe tbody tr th:only-of-type {\n",
              "        vertical-align: middle;\n",
              "    }\n",
              "\n",
              "    .dataframe tbody tr th {\n",
              "        vertical-align: top;\n",
              "    }\n",
              "\n",
              "    .dataframe thead th {\n",
              "        text-align: right;\n",
              "    }\n",
              "</style>\n",
              "<table border=\"1\" class=\"dataframe\">\n",
              "  <thead>\n",
              "    <tr style=\"text-align: right;\">\n",
              "      <th></th>\n",
              "      <th>SK_ID_CURR</th>\n",
              "      <th>NAME_CONTRACT_TYPE</th>\n",
              "      <th>CODE_GENDER</th>\n",
              "      <th>FLAG_OWN_CAR</th>\n",
              "      <th>FLAG_OWN_REALTY</th>\n",
              "      <th>CNT_CHILDREN</th>\n",
              "      <th>AMT_INCOME_TOTAL</th>\n",
              "      <th>AMT_CREDIT</th>\n",
              "      <th>AMT_ANNUITY</th>\n",
              "      <th>AMT_GOODS_PRICE</th>\n",
              "      <th>NAME_TYPE_SUITE</th>\n",
              "      <th>NAME_INCOME_TYPE</th>\n",
              "      <th>NAME_EDUCATION_TYPE</th>\n",
              "      <th>NAME_FAMILY_STATUS</th>\n",
              "      <th>NAME_HOUSING_TYPE</th>\n",
              "      <th>REGION_POPULATION_RELATIVE</th>\n",
              "      <th>DAYS_BIRTH</th>\n",
              "      <th>DAYS_EMPLOYED</th>\n",
              "      <th>DAYS_REGISTRATION</th>\n",
              "      <th>DAYS_ID_PUBLISH</th>\n",
              "      <th>OWN_CAR_AGE</th>\n",
              "      <th>FLAG_MOBIL</th>\n",
              "      <th>FLAG_EMP_PHONE</th>\n",
              "      <th>FLAG_WORK_PHONE</th>\n",
              "      <th>FLAG_CONT_MOBILE</th>\n",
              "      <th>FLAG_PHONE</th>\n",
              "      <th>FLAG_EMAIL</th>\n",
              "      <th>OCCUPATION_TYPE</th>\n",
              "      <th>CNT_FAM_MEMBERS</th>\n",
              "      <th>REGION_RATING_CLIENT</th>\n",
              "      <th>REGION_RATING_CLIENT_W_CITY</th>\n",
              "      <th>WEEKDAY_APPR_PROCESS_START</th>\n",
              "      <th>HOUR_APPR_PROCESS_START</th>\n",
              "      <th>REG_REGION_NOT_LIVE_REGION</th>\n",
              "      <th>REG_REGION_NOT_WORK_REGION</th>\n",
              "      <th>LIVE_REGION_NOT_WORK_REGION</th>\n",
              "      <th>REG_CITY_NOT_LIVE_CITY</th>\n",
              "      <th>REG_CITY_NOT_WORK_CITY</th>\n",
              "      <th>LIVE_CITY_NOT_WORK_CITY</th>\n",
              "      <th>ORGANIZATION_TYPE</th>\n",
              "      <th>EXT_SOURCE_1</th>\n",
              "      <th>EXT_SOURCE_2</th>\n",
              "      <th>EXT_SOURCE_3</th>\n",
              "      <th>APARTMENTS_AVG</th>\n",
              "      <th>BASEMENTAREA_AVG</th>\n",
              "      <th>YEARS_BEGINEXPLUATATION_AVG</th>\n",
              "      <th>YEARS_BUILD_AVG</th>\n",
              "      <th>COMMONAREA_AVG</th>\n",
              "      <th>ELEVATORS_AVG</th>\n",
              "      <th>ENTRANCES_AVG</th>\n",
              "      <th>FLOORSMAX_AVG</th>\n",
              "      <th>FLOORSMIN_AVG</th>\n",
              "      <th>LANDAREA_AVG</th>\n",
              "      <th>LIVINGAPARTMENTS_AVG</th>\n",
              "      <th>LIVINGAREA_AVG</th>\n",
              "      <th>NONLIVINGAPARTMENTS_AVG</th>\n",
              "      <th>NONLIVINGAREA_AVG</th>\n",
              "      <th>APARTMENTS_MODE</th>\n",
              "      <th>BASEMENTAREA_MODE</th>\n",
              "      <th>YEARS_BEGINEXPLUATATION_MODE</th>\n",
              "      <th>YEARS_BUILD_MODE</th>\n",
              "      <th>COMMONAREA_MODE</th>\n",
              "      <th>ELEVATORS_MODE</th>\n",
              "      <th>ENTRANCES_MODE</th>\n",
              "      <th>FLOORSMAX_MODE</th>\n",
              "      <th>FLOORSMIN_MODE</th>\n",
              "      <th>LANDAREA_MODE</th>\n",
              "      <th>LIVINGAPARTMENTS_MODE</th>\n",
              "      <th>LIVINGAREA_MODE</th>\n",
              "      <th>NONLIVINGAPARTMENTS_MODE</th>\n",
              "      <th>NONLIVINGAREA_MODE</th>\n",
              "      <th>APARTMENTS_MEDI</th>\n",
              "      <th>BASEMENTAREA_MEDI</th>\n",
              "      <th>YEARS_BEGINEXPLUATATION_MEDI</th>\n",
              "      <th>YEARS_BUILD_MEDI</th>\n",
              "      <th>COMMONAREA_MEDI</th>\n",
              "      <th>ELEVATORS_MEDI</th>\n",
              "      <th>ENTRANCES_MEDI</th>\n",
              "      <th>FLOORSMAX_MEDI</th>\n",
              "      <th>FLOORSMIN_MEDI</th>\n",
              "      <th>LANDAREA_MEDI</th>\n",
              "      <th>LIVINGAPARTMENTS_MEDI</th>\n",
              "      <th>LIVINGAREA_MEDI</th>\n",
              "      <th>NONLIVINGAPARTMENTS_MEDI</th>\n",
              "      <th>NONLIVINGAREA_MEDI</th>\n",
              "      <th>FONDKAPREMONT_MODE</th>\n",
              "      <th>HOUSETYPE_MODE</th>\n",
              "      <th>TOTALAREA_MODE</th>\n",
              "      <th>WALLSMATERIAL_MODE</th>\n",
              "      <th>EMERGENCYSTATE_MODE</th>\n",
              "      <th>OBS_30_CNT_SOCIAL_CIRCLE</th>\n",
              "      <th>DEF_30_CNT_SOCIAL_CIRCLE</th>\n",
              "      <th>OBS_60_CNT_SOCIAL_CIRCLE</th>\n",
              "      <th>DEF_60_CNT_SOCIAL_CIRCLE</th>\n",
              "      <th>DAYS_LAST_PHONE_CHANGE</th>\n",
              "      <th>FLAG_DOCUMENT_2</th>\n",
              "      <th>FLAG_DOCUMENT_3</th>\n",
              "      <th>FLAG_DOCUMENT_4</th>\n",
              "      <th>FLAG_DOCUMENT_5</th>\n",
              "      <th>FLAG_DOCUMENT_6</th>\n",
              "      <th>FLAG_DOCUMENT_7</th>\n",
              "      <th>FLAG_DOCUMENT_8</th>\n",
              "      <th>FLAG_DOCUMENT_9</th>\n",
              "      <th>FLAG_DOCUMENT_10</th>\n",
              "      <th>FLAG_DOCUMENT_11</th>\n",
              "      <th>FLAG_DOCUMENT_12</th>\n",
              "      <th>FLAG_DOCUMENT_13</th>\n",
              "      <th>FLAG_DOCUMENT_14</th>\n",
              "      <th>FLAG_DOCUMENT_15</th>\n",
              "      <th>FLAG_DOCUMENT_16</th>\n",
              "      <th>FLAG_DOCUMENT_17</th>\n",
              "      <th>FLAG_DOCUMENT_18</th>\n",
              "      <th>FLAG_DOCUMENT_19</th>\n",
              "      <th>FLAG_DOCUMENT_20</th>\n",
              "      <th>FLAG_DOCUMENT_21</th>\n",
              "      <th>AMT_REQ_CREDIT_BUREAU_HOUR</th>\n",
              "      <th>AMT_REQ_CREDIT_BUREAU_DAY</th>\n",
              "      <th>AMT_REQ_CREDIT_BUREAU_WEEK</th>\n",
              "      <th>AMT_REQ_CREDIT_BUREAU_MON</th>\n",
              "      <th>AMT_REQ_CREDIT_BUREAU_QRT</th>\n",
              "      <th>AMT_REQ_CREDIT_BUREAU_YEAR</th>\n",
              "      <th>TARGET</th>\n",
              "    </tr>\n",
              "  </thead>\n",
              "  <tbody>\n",
              "    <tr>\n",
              "      <th>0</th>\n",
              "      <td>450407</td>\n",
              "      <td>Cash loans</td>\n",
              "      <td>F</td>\n",
              "      <td>N</td>\n",
              "      <td>Y</td>\n",
              "      <td>1</td>\n",
              "      <td>67500.0</td>\n",
              "      <td>227520.0</td>\n",
              "      <td>11065.5</td>\n",
              "      <td>180000.0</td>\n",
              "      <td>Family</td>\n",
              "      <td>Commercial associate</td>\n",
              "      <td>Secondary / secondary special</td>\n",
              "      <td>Married</td>\n",
              "      <td>House / apartment</td>\n",
              "      <td>0.018634</td>\n",
              "      <td>-17210</td>\n",
              "      <td>-774</td>\n",
              "      <td>-5580.0</td>\n",
              "      <td>-755</td>\n",
              "      <td>NaN</td>\n",
              "      <td>1</td>\n",
              "      <td>1</td>\n",
              "      <td>1</td>\n",
              "      <td>1</td>\n",
              "      <td>0</td>\n",
              "      <td>0</td>\n",
              "      <td>Sales staff</td>\n",
              "      <td>3.0</td>\n",
              "      <td>2</td>\n",
              "      <td>2</td>\n",
              "      <td>WEDNESDAY</td>\n",
              "      <td>12</td>\n",
              "      <td>0</td>\n",
              "      <td>0</td>\n",
              "      <td>0</td>\n",
              "      <td>0</td>\n",
              "      <td>0</td>\n",
              "      <td>0</td>\n",
              "      <td>Business Entity Type 3</td>\n",
              "      <td>NaN</td>\n",
              "      <td>0.264354</td>\n",
              "      <td>NaN</td>\n",
              "      <td>0.0124</td>\n",
              "      <td>NaN</td>\n",
              "      <td>0.9444</td>\n",
              "      <td>NaN</td>\n",
              "      <td>NaN</td>\n",
              "      <td>0.00</td>\n",
              "      <td>0.0345</td>\n",
              "      <td>0.0417</td>\n",
              "      <td>NaN</td>\n",
              "      <td>NaN</td>\n",
              "      <td>NaN</td>\n",
              "      <td>0.0095</td>\n",
              "      <td>NaN</td>\n",
              "      <td>0.000</td>\n",
              "      <td>0.0126</td>\n",
              "      <td>NaN</td>\n",
              "      <td>0.9444</td>\n",
              "      <td>NaN</td>\n",
              "      <td>NaN</td>\n",
              "      <td>0.0000</td>\n",
              "      <td>0.0345</td>\n",
              "      <td>0.0417</td>\n",
              "      <td>NaN</td>\n",
              "      <td>NaN</td>\n",
              "      <td>NaN</td>\n",
              "      <td>0.0099</td>\n",
              "      <td>NaN</td>\n",
              "      <td>0.000</td>\n",
              "      <td>0.0125</td>\n",
              "      <td>NaN</td>\n",
              "      <td>0.9444</td>\n",
              "      <td>NaN</td>\n",
              "      <td>NaN</td>\n",
              "      <td>0.00</td>\n",
              "      <td>0.0345</td>\n",
              "      <td>0.0417</td>\n",
              "      <td>NaN</td>\n",
              "      <td>NaN</td>\n",
              "      <td>NaN</td>\n",
              "      <td>0.0096</td>\n",
              "      <td>NaN</td>\n",
              "      <td>0.0000</td>\n",
              "      <td>NaN</td>\n",
              "      <td>block of flats</td>\n",
              "      <td>0.0074</td>\n",
              "      <td>Mixed</td>\n",
              "      <td>No</td>\n",
              "      <td>0.0</td>\n",
              "      <td>0.0</td>\n",
              "      <td>0.0</td>\n",
              "      <td>0.0</td>\n",
              "      <td>-150.0</td>\n",
              "      <td>0</td>\n",
              "      <td>1</td>\n",
              "      <td>0</td>\n",
              "      <td>0</td>\n",
              "      <td>0</td>\n",
              "      <td>0</td>\n",
              "      <td>0</td>\n",
              "      <td>0</td>\n",
              "      <td>0</td>\n",
              "      <td>0</td>\n",
              "      <td>0</td>\n",
              "      <td>0</td>\n",
              "      <td>0</td>\n",
              "      <td>0</td>\n",
              "      <td>0</td>\n",
              "      <td>0</td>\n",
              "      <td>0</td>\n",
              "      <td>0</td>\n",
              "      <td>0</td>\n",
              "      <td>0</td>\n",
              "      <td>0.0</td>\n",
              "      <td>0.0</td>\n",
              "      <td>0.0</td>\n",
              "      <td>1.0</td>\n",
              "      <td>0.0</td>\n",
              "      <td>2.0</td>\n",
              "      <td>0</td>\n",
              "    </tr>\n",
              "    <tr>\n",
              "      <th>1</th>\n",
              "      <td>271298</td>\n",
              "      <td>Cash loans</td>\n",
              "      <td>M</td>\n",
              "      <td>Y</td>\n",
              "      <td>Y</td>\n",
              "      <td>1</td>\n",
              "      <td>247500.0</td>\n",
              "      <td>1882372.5</td>\n",
              "      <td>65560.5</td>\n",
              "      <td>1719000.0</td>\n",
              "      <td>Unaccompanied</td>\n",
              "      <td>Working</td>\n",
              "      <td>Higher education</td>\n",
              "      <td>Civil marriage</td>\n",
              "      <td>House / apartment</td>\n",
              "      <td>0.018850</td>\n",
              "      <td>-18640</td>\n",
              "      <td>-96</td>\n",
              "      <td>-5711.0</td>\n",
              "      <td>-2175</td>\n",
              "      <td>25.0</td>\n",
              "      <td>1</td>\n",
              "      <td>1</td>\n",
              "      <td>0</td>\n",
              "      <td>1</td>\n",
              "      <td>0</td>\n",
              "      <td>1</td>\n",
              "      <td>Managers</td>\n",
              "      <td>3.0</td>\n",
              "      <td>2</td>\n",
              "      <td>2</td>\n",
              "      <td>TUESDAY</td>\n",
              "      <td>10</td>\n",
              "      <td>0</td>\n",
              "      <td>0</td>\n",
              "      <td>0</td>\n",
              "      <td>0</td>\n",
              "      <td>1</td>\n",
              "      <td>1</td>\n",
              "      <td>Business Entity Type 3</td>\n",
              "      <td>0.581064</td>\n",
              "      <td>0.172251</td>\n",
              "      <td>0.686382</td>\n",
              "      <td>NaN</td>\n",
              "      <td>NaN</td>\n",
              "      <td>NaN</td>\n",
              "      <td>NaN</td>\n",
              "      <td>NaN</td>\n",
              "      <td>NaN</td>\n",
              "      <td>NaN</td>\n",
              "      <td>NaN</td>\n",
              "      <td>NaN</td>\n",
              "      <td>NaN</td>\n",
              "      <td>NaN</td>\n",
              "      <td>NaN</td>\n",
              "      <td>NaN</td>\n",
              "      <td>NaN</td>\n",
              "      <td>NaN</td>\n",
              "      <td>NaN</td>\n",
              "      <td>NaN</td>\n",
              "      <td>NaN</td>\n",
              "      <td>NaN</td>\n",
              "      <td>NaN</td>\n",
              "      <td>NaN</td>\n",
              "      <td>NaN</td>\n",
              "      <td>NaN</td>\n",
              "      <td>NaN</td>\n",
              "      <td>NaN</td>\n",
              "      <td>NaN</td>\n",
              "      <td>NaN</td>\n",
              "      <td>NaN</td>\n",
              "      <td>NaN</td>\n",
              "      <td>NaN</td>\n",
              "      <td>NaN</td>\n",
              "      <td>NaN</td>\n",
              "      <td>NaN</td>\n",
              "      <td>NaN</td>\n",
              "      <td>NaN</td>\n",
              "      <td>NaN</td>\n",
              "      <td>NaN</td>\n",
              "      <td>NaN</td>\n",
              "      <td>NaN</td>\n",
              "      <td>NaN</td>\n",
              "      <td>NaN</td>\n",
              "      <td>NaN</td>\n",
              "      <td>NaN</td>\n",
              "      <td>NaN</td>\n",
              "      <td>NaN</td>\n",
              "      <td>NaN</td>\n",
              "      <td>NaN</td>\n",
              "      <td>0.0</td>\n",
              "      <td>0.0</td>\n",
              "      <td>0.0</td>\n",
              "      <td>0.0</td>\n",
              "      <td>-444.0</td>\n",
              "      <td>0</td>\n",
              "      <td>1</td>\n",
              "      <td>0</td>\n",
              "      <td>0</td>\n",
              "      <td>0</td>\n",
              "      <td>0</td>\n",
              "      <td>0</td>\n",
              "      <td>0</td>\n",
              "      <td>0</td>\n",
              "      <td>0</td>\n",
              "      <td>0</td>\n",
              "      <td>0</td>\n",
              "      <td>0</td>\n",
              "      <td>0</td>\n",
              "      <td>0</td>\n",
              "      <td>0</td>\n",
              "      <td>0</td>\n",
              "      <td>0</td>\n",
              "      <td>0</td>\n",
              "      <td>0</td>\n",
              "      <td>0.0</td>\n",
              "      <td>0.0</td>\n",
              "      <td>0.0</td>\n",
              "      <td>0.0</td>\n",
              "      <td>1.0</td>\n",
              "      <td>3.0</td>\n",
              "      <td>0</td>\n",
              "    </tr>\n",
              "    <tr>\n",
              "      <th>2</th>\n",
              "      <td>122238</td>\n",
              "      <td>Cash loans</td>\n",
              "      <td>M</td>\n",
              "      <td>Y</td>\n",
              "      <td>Y</td>\n",
              "      <td>1</td>\n",
              "      <td>180000.0</td>\n",
              "      <td>101880.0</td>\n",
              "      <td>10827.0</td>\n",
              "      <td>90000.0</td>\n",
              "      <td>Spouse, partner</td>\n",
              "      <td>Working</td>\n",
              "      <td>Higher education</td>\n",
              "      <td>Married</td>\n",
              "      <td>House / apartment</td>\n",
              "      <td>0.022625</td>\n",
              "      <td>-14649</td>\n",
              "      <td>-6130</td>\n",
              "      <td>-1776.0</td>\n",
              "      <td>-4568</td>\n",
              "      <td>9.0</td>\n",
              "      <td>1</td>\n",
              "      <td>1</td>\n",
              "      <td>1</td>\n",
              "      <td>1</td>\n",
              "      <td>0</td>\n",
              "      <td>0</td>\n",
              "      <td>Laborers</td>\n",
              "      <td>3.0</td>\n",
              "      <td>2</td>\n",
              "      <td>2</td>\n",
              "      <td>MONDAY</td>\n",
              "      <td>14</td>\n",
              "      <td>0</td>\n",
              "      <td>0</td>\n",
              "      <td>0</td>\n",
              "      <td>0</td>\n",
              "      <td>0</td>\n",
              "      <td>0</td>\n",
              "      <td>Transport: type 4</td>\n",
              "      <td>NaN</td>\n",
              "      <td>0.636218</td>\n",
              "      <td>0.540654</td>\n",
              "      <td>0.1979</td>\n",
              "      <td>0.1169</td>\n",
              "      <td>0.9841</td>\n",
              "      <td>0.7824</td>\n",
              "      <td>0.1119</td>\n",
              "      <td>0.16</td>\n",
              "      <td>0.0690</td>\n",
              "      <td>0.4583</td>\n",
              "      <td>0.5</td>\n",
              "      <td>0.1587</td>\n",
              "      <td>0.1614</td>\n",
              "      <td>0.1033</td>\n",
              "      <td>0.0</td>\n",
              "      <td>0.188</td>\n",
              "      <td>0.2017</td>\n",
              "      <td>0.1213</td>\n",
              "      <td>0.9841</td>\n",
              "      <td>0.7909</td>\n",
              "      <td>0.113</td>\n",
              "      <td>0.1611</td>\n",
              "      <td>0.0690</td>\n",
              "      <td>0.4583</td>\n",
              "      <td>0.5</td>\n",
              "      <td>0.1623</td>\n",
              "      <td>0.1763</td>\n",
              "      <td>0.1076</td>\n",
              "      <td>0.0</td>\n",
              "      <td>0.199</td>\n",
              "      <td>0.1999</td>\n",
              "      <td>0.1169</td>\n",
              "      <td>0.9841</td>\n",
              "      <td>0.7853</td>\n",
              "      <td>0.1127</td>\n",
              "      <td>0.16</td>\n",
              "      <td>0.0690</td>\n",
              "      <td>0.4583</td>\n",
              "      <td>0.5</td>\n",
              "      <td>0.1615</td>\n",
              "      <td>0.1642</td>\n",
              "      <td>0.1051</td>\n",
              "      <td>0.0</td>\n",
              "      <td>0.1919</td>\n",
              "      <td>reg oper account</td>\n",
              "      <td>block of flats</td>\n",
              "      <td>0.1789</td>\n",
              "      <td>Panel</td>\n",
              "      <td>No</td>\n",
              "      <td>1.0</td>\n",
              "      <td>0.0</td>\n",
              "      <td>1.0</td>\n",
              "      <td>0.0</td>\n",
              "      <td>0.0</td>\n",
              "      <td>0</td>\n",
              "      <td>1</td>\n",
              "      <td>0</td>\n",
              "      <td>0</td>\n",
              "      <td>0</td>\n",
              "      <td>0</td>\n",
              "      <td>0</td>\n",
              "      <td>0</td>\n",
              "      <td>0</td>\n",
              "      <td>0</td>\n",
              "      <td>0</td>\n",
              "      <td>0</td>\n",
              "      <td>0</td>\n",
              "      <td>0</td>\n",
              "      <td>0</td>\n",
              "      <td>0</td>\n",
              "      <td>0</td>\n",
              "      <td>0</td>\n",
              "      <td>0</td>\n",
              "      <td>0</td>\n",
              "      <td>0.0</td>\n",
              "      <td>0.0</td>\n",
              "      <td>0.0</td>\n",
              "      <td>2.0</td>\n",
              "      <td>0.0</td>\n",
              "      <td>1.0</td>\n",
              "      <td>0</td>\n",
              "    </tr>\n",
              "    <tr>\n",
              "      <th>3</th>\n",
              "      <td>305311</td>\n",
              "      <td>Cash loans</td>\n",
              "      <td>M</td>\n",
              "      <td>N</td>\n",
              "      <td>N</td>\n",
              "      <td>0</td>\n",
              "      <td>81000.0</td>\n",
              "      <td>405000.0</td>\n",
              "      <td>20677.5</td>\n",
              "      <td>405000.0</td>\n",
              "      <td>Unaccompanied</td>\n",
              "      <td>Working</td>\n",
              "      <td>Secondary / secondary special</td>\n",
              "      <td>Single / not married</td>\n",
              "      <td>With parents</td>\n",
              "      <td>0.035792</td>\n",
              "      <td>-12762</td>\n",
              "      <td>-5891</td>\n",
              "      <td>-6430.0</td>\n",
              "      <td>-4618</td>\n",
              "      <td>NaN</td>\n",
              "      <td>1</td>\n",
              "      <td>1</td>\n",
              "      <td>1</td>\n",
              "      <td>1</td>\n",
              "      <td>1</td>\n",
              "      <td>0</td>\n",
              "      <td>NaN</td>\n",
              "      <td>1.0</td>\n",
              "      <td>2</td>\n",
              "      <td>2</td>\n",
              "      <td>WEDNESDAY</td>\n",
              "      <td>18</td>\n",
              "      <td>0</td>\n",
              "      <td>0</td>\n",
              "      <td>0</td>\n",
              "      <td>0</td>\n",
              "      <td>1</td>\n",
              "      <td>1</td>\n",
              "      <td>Other</td>\n",
              "      <td>NaN</td>\n",
              "      <td>0.599924</td>\n",
              "      <td>0.337673</td>\n",
              "      <td>NaN</td>\n",
              "      <td>NaN</td>\n",
              "      <td>NaN</td>\n",
              "      <td>NaN</td>\n",
              "      <td>NaN</td>\n",
              "      <td>NaN</td>\n",
              "      <td>NaN</td>\n",
              "      <td>NaN</td>\n",
              "      <td>NaN</td>\n",
              "      <td>NaN</td>\n",
              "      <td>NaN</td>\n",
              "      <td>NaN</td>\n",
              "      <td>NaN</td>\n",
              "      <td>NaN</td>\n",
              "      <td>NaN</td>\n",
              "      <td>NaN</td>\n",
              "      <td>NaN</td>\n",
              "      <td>NaN</td>\n",
              "      <td>NaN</td>\n",
              "      <td>NaN</td>\n",
              "      <td>NaN</td>\n",
              "      <td>NaN</td>\n",
              "      <td>NaN</td>\n",
              "      <td>NaN</td>\n",
              "      <td>NaN</td>\n",
              "      <td>NaN</td>\n",
              "      <td>NaN</td>\n",
              "      <td>NaN</td>\n",
              "      <td>NaN</td>\n",
              "      <td>NaN</td>\n",
              "      <td>NaN</td>\n",
              "      <td>NaN</td>\n",
              "      <td>NaN</td>\n",
              "      <td>NaN</td>\n",
              "      <td>NaN</td>\n",
              "      <td>NaN</td>\n",
              "      <td>NaN</td>\n",
              "      <td>NaN</td>\n",
              "      <td>NaN</td>\n",
              "      <td>NaN</td>\n",
              "      <td>NaN</td>\n",
              "      <td>NaN</td>\n",
              "      <td>NaN</td>\n",
              "      <td>NaN</td>\n",
              "      <td>NaN</td>\n",
              "      <td>NaN</td>\n",
              "      <td>NaN</td>\n",
              "      <td>7.0</td>\n",
              "      <td>1.0</td>\n",
              "      <td>7.0</td>\n",
              "      <td>1.0</td>\n",
              "      <td>-1671.0</td>\n",
              "      <td>0</td>\n",
              "      <td>1</td>\n",
              "      <td>0</td>\n",
              "      <td>0</td>\n",
              "      <td>0</td>\n",
              "      <td>0</td>\n",
              "      <td>0</td>\n",
              "      <td>0</td>\n",
              "      <td>0</td>\n",
              "      <td>0</td>\n",
              "      <td>0</td>\n",
              "      <td>0</td>\n",
              "      <td>0</td>\n",
              "      <td>0</td>\n",
              "      <td>0</td>\n",
              "      <td>0</td>\n",
              "      <td>0</td>\n",
              "      <td>0</td>\n",
              "      <td>0</td>\n",
              "      <td>0</td>\n",
              "      <td>0.0</td>\n",
              "      <td>0.0</td>\n",
              "      <td>0.0</td>\n",
              "      <td>0.0</td>\n",
              "      <td>0.0</td>\n",
              "      <td>2.0</td>\n",
              "      <td>0</td>\n",
              "    </tr>\n",
              "    <tr>\n",
              "      <th>4</th>\n",
              "      <td>414121</td>\n",
              "      <td>Cash loans</td>\n",
              "      <td>F</td>\n",
              "      <td>N</td>\n",
              "      <td>Y</td>\n",
              "      <td>0</td>\n",
              "      <td>157500.0</td>\n",
              "      <td>888840.0</td>\n",
              "      <td>29506.5</td>\n",
              "      <td>675000.0</td>\n",
              "      <td>Unaccompanied</td>\n",
              "      <td>Working</td>\n",
              "      <td>Secondary / secondary special</td>\n",
              "      <td>Civil marriage</td>\n",
              "      <td>House / apartment</td>\n",
              "      <td>0.018801</td>\n",
              "      <td>-16329</td>\n",
              "      <td>-345</td>\n",
              "      <td>-1413.0</td>\n",
              "      <td>-4624</td>\n",
              "      <td>NaN</td>\n",
              "      <td>1</td>\n",
              "      <td>1</td>\n",
              "      <td>0</td>\n",
              "      <td>1</td>\n",
              "      <td>0</td>\n",
              "      <td>0</td>\n",
              "      <td>Sales staff</td>\n",
              "      <td>2.0</td>\n",
              "      <td>2</td>\n",
              "      <td>2</td>\n",
              "      <td>TUESDAY</td>\n",
              "      <td>9</td>\n",
              "      <td>0</td>\n",
              "      <td>0</td>\n",
              "      <td>0</td>\n",
              "      <td>0</td>\n",
              "      <td>1</td>\n",
              "      <td>1</td>\n",
              "      <td>Business Entity Type 3</td>\n",
              "      <td>0.476511</td>\n",
              "      <td>0.312779</td>\n",
              "      <td>0.819318</td>\n",
              "      <td>NaN</td>\n",
              "      <td>NaN</td>\n",
              "      <td>NaN</td>\n",
              "      <td>NaN</td>\n",
              "      <td>NaN</td>\n",
              "      <td>NaN</td>\n",
              "      <td>NaN</td>\n",
              "      <td>NaN</td>\n",
              "      <td>NaN</td>\n",
              "      <td>NaN</td>\n",
              "      <td>NaN</td>\n",
              "      <td>NaN</td>\n",
              "      <td>NaN</td>\n",
              "      <td>NaN</td>\n",
              "      <td>NaN</td>\n",
              "      <td>NaN</td>\n",
              "      <td>NaN</td>\n",
              "      <td>NaN</td>\n",
              "      <td>NaN</td>\n",
              "      <td>NaN</td>\n",
              "      <td>NaN</td>\n",
              "      <td>NaN</td>\n",
              "      <td>NaN</td>\n",
              "      <td>NaN</td>\n",
              "      <td>NaN</td>\n",
              "      <td>NaN</td>\n",
              "      <td>NaN</td>\n",
              "      <td>NaN</td>\n",
              "      <td>NaN</td>\n",
              "      <td>NaN</td>\n",
              "      <td>NaN</td>\n",
              "      <td>NaN</td>\n",
              "      <td>NaN</td>\n",
              "      <td>NaN</td>\n",
              "      <td>NaN</td>\n",
              "      <td>NaN</td>\n",
              "      <td>NaN</td>\n",
              "      <td>NaN</td>\n",
              "      <td>NaN</td>\n",
              "      <td>NaN</td>\n",
              "      <td>NaN</td>\n",
              "      <td>NaN</td>\n",
              "      <td>NaN</td>\n",
              "      <td>NaN</td>\n",
              "      <td>NaN</td>\n",
              "      <td>NaN</td>\n",
              "      <td>NaN</td>\n",
              "      <td>2.0</td>\n",
              "      <td>0.0</td>\n",
              "      <td>2.0</td>\n",
              "      <td>0.0</td>\n",
              "      <td>-28.0</td>\n",
              "      <td>0</td>\n",
              "      <td>1</td>\n",
              "      <td>0</td>\n",
              "      <td>0</td>\n",
              "      <td>0</td>\n",
              "      <td>0</td>\n",
              "      <td>0</td>\n",
              "      <td>0</td>\n",
              "      <td>0</td>\n",
              "      <td>0</td>\n",
              "      <td>0</td>\n",
              "      <td>0</td>\n",
              "      <td>0</td>\n",
              "      <td>0</td>\n",
              "      <td>0</td>\n",
              "      <td>0</td>\n",
              "      <td>0</td>\n",
              "      <td>0</td>\n",
              "      <td>0</td>\n",
              "      <td>0</td>\n",
              "      <td>0.0</td>\n",
              "      <td>0.0</td>\n",
              "      <td>0.0</td>\n",
              "      <td>0.0</td>\n",
              "      <td>0.0</td>\n",
              "      <td>2.0</td>\n",
              "      <td>0</td>\n",
              "    </tr>\n",
              "  </tbody>\n",
              "</table>\n",
              "</div>\n",
              "      <button class=\"colab-df-convert\" onclick=\"convertToInteractive('df-18c360a1-2784-41f0-9c96-746023682941')\"\n",
              "              title=\"Convert this dataframe to an interactive table.\"\n",
              "              style=\"display:none;\">\n",
              "        \n",
              "  <svg xmlns=\"http://www.w3.org/2000/svg\" height=\"24px\"viewBox=\"0 0 24 24\"\n",
              "       width=\"24px\">\n",
              "    <path d=\"M0 0h24v24H0V0z\" fill=\"none\"/>\n",
              "    <path d=\"M18.56 5.44l.94 2.06.94-2.06 2.06-.94-2.06-.94-.94-2.06-.94 2.06-2.06.94zm-11 1L8.5 8.5l.94-2.06 2.06-.94-2.06-.94L8.5 2.5l-.94 2.06-2.06.94zm10 10l.94 2.06.94-2.06 2.06-.94-2.06-.94-.94-2.06-.94 2.06-2.06.94z\"/><path d=\"M17.41 7.96l-1.37-1.37c-.4-.4-.92-.59-1.43-.59-.52 0-1.04.2-1.43.59L10.3 9.45l-7.72 7.72c-.78.78-.78 2.05 0 2.83L4 21.41c.39.39.9.59 1.41.59.51 0 1.02-.2 1.41-.59l7.78-7.78 2.81-2.81c.8-.78.8-2.07 0-2.86zM5.41 20L4 18.59l7.72-7.72 1.47 1.35L5.41 20z\"/>\n",
              "  </svg>\n",
              "      </button>\n",
              "      \n",
              "  <style>\n",
              "    .colab-df-container {\n",
              "      display:flex;\n",
              "      flex-wrap:wrap;\n",
              "      gap: 12px;\n",
              "    }\n",
              "\n",
              "    .colab-df-convert {\n",
              "      background-color: #E8F0FE;\n",
              "      border: none;\n",
              "      border-radius: 50%;\n",
              "      cursor: pointer;\n",
              "      display: none;\n",
              "      fill: #1967D2;\n",
              "      height: 32px;\n",
              "      padding: 0 0 0 0;\n",
              "      width: 32px;\n",
              "    }\n",
              "\n",
              "    .colab-df-convert:hover {\n",
              "      background-color: #E2EBFA;\n",
              "      box-shadow: 0px 1px 2px rgba(60, 64, 67, 0.3), 0px 1px 3px 1px rgba(60, 64, 67, 0.15);\n",
              "      fill: #174EA6;\n",
              "    }\n",
              "\n",
              "    [theme=dark] .colab-df-convert {\n",
              "      background-color: #3B4455;\n",
              "      fill: #D2E3FC;\n",
              "    }\n",
              "\n",
              "    [theme=dark] .colab-df-convert:hover {\n",
              "      background-color: #434B5C;\n",
              "      box-shadow: 0px 1px 3px 1px rgba(0, 0, 0, 0.15);\n",
              "      filter: drop-shadow(0px 1px 2px rgba(0, 0, 0, 0.3));\n",
              "      fill: #FFFFFF;\n",
              "    }\n",
              "  </style>\n",
              "\n",
              "      <script>\n",
              "        const buttonEl =\n",
              "          document.querySelector('#df-18c360a1-2784-41f0-9c96-746023682941 button.colab-df-convert');\n",
              "        buttonEl.style.display =\n",
              "          google.colab.kernel.accessAllowed ? 'block' : 'none';\n",
              "\n",
              "        async function convertToInteractive(key) {\n",
              "          const element = document.querySelector('#df-18c360a1-2784-41f0-9c96-746023682941');\n",
              "          const dataTable =\n",
              "            await google.colab.kernel.invokeFunction('convertToInteractive',\n",
              "                                                     [key], {});\n",
              "          if (!dataTable) return;\n",
              "\n",
              "          const docLinkHtml = 'Like what you see? Visit the ' +\n",
              "            '<a target=\"_blank\" href=https://colab.research.google.com/notebooks/data_table.ipynb>data table notebook</a>'\n",
              "            + ' to learn more about interactive tables.';\n",
              "          element.innerHTML = '';\n",
              "          dataTable['output_type'] = 'display_data';\n",
              "          await google.colab.output.renderOutput(dataTable, element);\n",
              "          const docLink = document.createElement('div');\n",
              "          docLink.innerHTML = docLinkHtml;\n",
              "          element.appendChild(docLink);\n",
              "        }\n",
              "      </script>\n",
              "    </div>\n",
              "  </div>\n",
              "  "
            ]
          },
          "metadata": {},
          "execution_count": 10
        }
      ]
    },
    {
      "cell_type": "code",
      "source": [
        "train.shape"
      ],
      "metadata": {
        "colab": {
          "base_uri": "https://localhost:8080/"
        },
        "id": "5cFfqSuumsg6",
        "outputId": "c1ccce5e-2948-49cf-cbde-8bda22519984"
      },
      "execution_count": null,
      "outputs": [
        {
          "output_type": "execute_result",
          "data": {
            "text/plain": [
              "(184506, 122)"
            ]
          },
          "metadata": {},
          "execution_count": 11
        }
      ]
    },
    {
      "cell_type": "code",
      "source": [
        "train.isna().sum()"
      ],
      "metadata": {
        "colab": {
          "base_uri": "https://localhost:8080/"
        },
        "id": "fmdorGekmvYb",
        "outputId": "7c7959e0-c2df-401e-fb1b-11c6fb16172f"
      },
      "execution_count": null,
      "outputs": [
        {
          "output_type": "execute_result",
          "data": {
            "text/plain": [
              "SK_ID_CURR                           0\n",
              "NAME_CONTRACT_TYPE                   0\n",
              "CODE_GENDER                          0\n",
              "FLAG_OWN_CAR                         0\n",
              "FLAG_OWN_REALTY                      0\n",
              "CNT_CHILDREN                         0\n",
              "AMT_INCOME_TOTAL                     0\n",
              "AMT_CREDIT                           0\n",
              "AMT_ANNUITY                          6\n",
              "AMT_GOODS_PRICE                    167\n",
              "NAME_TYPE_SUITE                    770\n",
              "NAME_INCOME_TYPE                     0\n",
              "NAME_EDUCATION_TYPE                  0\n",
              "NAME_FAMILY_STATUS                   0\n",
              "NAME_HOUSING_TYPE                    0\n",
              "REGION_POPULATION_RELATIVE           0\n",
              "DAYS_BIRTH                           0\n",
              "DAYS_EMPLOYED                        0\n",
              "DAYS_REGISTRATION                    0\n",
              "DAYS_ID_PUBLISH                      0\n",
              "OWN_CAR_AGE                     121633\n",
              "FLAG_MOBIL                           0\n",
              "FLAG_EMP_PHONE                       0\n",
              "FLAG_WORK_PHONE                      0\n",
              "FLAG_CONT_MOBILE                     0\n",
              "FLAG_PHONE                           0\n",
              "FLAG_EMAIL                           0\n",
              "OCCUPATION_TYPE                  57867\n",
              "CNT_FAM_MEMBERS                      1\n",
              "REGION_RATING_CLIENT                 0\n",
              "REGION_RATING_CLIENT_W_CITY          0\n",
              "WEEKDAY_APPR_PROCESS_START           0\n",
              "HOUR_APPR_PROCESS_START              0\n",
              "REG_REGION_NOT_LIVE_REGION           0\n",
              "REG_REGION_NOT_WORK_REGION           0\n",
              "LIVE_REGION_NOT_WORK_REGION          0\n",
              "REG_CITY_NOT_LIVE_CITY               0\n",
              "REG_CITY_NOT_WORK_CITY               0\n",
              "LIVE_CITY_NOT_WORK_CITY              0\n",
              "ORGANIZATION_TYPE                    0\n",
              "EXT_SOURCE_1                    104074\n",
              "EXT_SOURCE_2                       413\n",
              "EXT_SOURCE_3                     36656\n",
              "APARTMENTS_AVG                   93575\n",
              "BASEMENTAREA_AVG                107975\n",
              "YEARS_BEGINEXPLUATATION_AVG      89900\n",
              "YEARS_BUILD_AVG                 122757\n",
              "COMMONAREA_AVG                  128971\n",
              "ELEVATORS_AVG                    98320\n",
              "ENTRANCES_AVG                    92807\n",
              "FLOORSMAX_AVG                    91726\n",
              "FLOORSMIN_AVG                   125244\n",
              "LANDAREA_AVG                    109543\n",
              "LIVINGAPARTMENTS_AVG            126212\n",
              "LIVINGAREA_AVG                   92534\n",
              "NONLIVINGAPARTMENTS_AVG         128146\n",
              "NONLIVINGAREA_AVG               101788\n",
              "APARTMENTS_MODE                  93575\n",
              "BASEMENTAREA_MODE               107975\n",
              "YEARS_BEGINEXPLUATATION_MODE     89900\n",
              "YEARS_BUILD_MODE                122757\n",
              "COMMONAREA_MODE                 128971\n",
              "ELEVATORS_MODE                   98320\n",
              "ENTRANCES_MODE                   92807\n",
              "FLOORSMAX_MODE                   91726\n",
              "FLOORSMIN_MODE                  125244\n",
              "LANDAREA_MODE                   109543\n",
              "LIVINGAPARTMENTS_MODE           126212\n",
              "LIVINGAREA_MODE                  92534\n",
              "NONLIVINGAPARTMENTS_MODE        128146\n",
              "NONLIVINGAREA_MODE              101788\n",
              "APARTMENTS_MEDI                  93575\n",
              "BASEMENTAREA_MEDI               107975\n",
              "YEARS_BEGINEXPLUATATION_MEDI     89900\n",
              "YEARS_BUILD_MEDI                122757\n",
              "COMMONAREA_MEDI                 128971\n",
              "ELEVATORS_MEDI                   98320\n",
              "ENTRANCES_MEDI                   92807\n",
              "FLOORSMAX_MEDI                   91726\n",
              "FLOORSMIN_MEDI                  125244\n",
              "LANDAREA_MEDI                   109543\n",
              "LIVINGAPARTMENTS_MEDI           126212\n",
              "LIVINGAREA_MEDI                  92534\n",
              "NONLIVINGAPARTMENTS_MEDI        128146\n",
              "NONLIVINGAREA_MEDI              101788\n",
              "FONDKAPREMONT_MODE              126254\n",
              "HOUSETYPE_MODE                   92482\n",
              "TOTALAREA_MODE                   88948\n",
              "WALLSMATERIAL_MODE               93721\n",
              "EMERGENCYSTATE_MODE              87336\n",
              "OBS_30_CNT_SOCIAL_CIRCLE           639\n",
              "DEF_30_CNT_SOCIAL_CIRCLE           639\n",
              "OBS_60_CNT_SOCIAL_CIRCLE           639\n",
              "DEF_60_CNT_SOCIAL_CIRCLE           639\n",
              "DAYS_LAST_PHONE_CHANGE               1\n",
              "FLAG_DOCUMENT_2                      0\n",
              "FLAG_DOCUMENT_3                      0\n",
              "FLAG_DOCUMENT_4                      0\n",
              "FLAG_DOCUMENT_5                      0\n",
              "FLAG_DOCUMENT_6                      0\n",
              "FLAG_DOCUMENT_7                      0\n",
              "FLAG_DOCUMENT_8                      0\n",
              "FLAG_DOCUMENT_9                      0\n",
              "FLAG_DOCUMENT_10                     0\n",
              "FLAG_DOCUMENT_11                     0\n",
              "FLAG_DOCUMENT_12                     0\n",
              "FLAG_DOCUMENT_13                     0\n",
              "FLAG_DOCUMENT_14                     0\n",
              "FLAG_DOCUMENT_15                     0\n",
              "FLAG_DOCUMENT_16                     0\n",
              "FLAG_DOCUMENT_17                     0\n",
              "FLAG_DOCUMENT_18                     0\n",
              "FLAG_DOCUMENT_19                     0\n",
              "FLAG_DOCUMENT_20                     0\n",
              "FLAG_DOCUMENT_21                     0\n",
              "AMT_REQ_CREDIT_BUREAU_HOUR       24998\n",
              "AMT_REQ_CREDIT_BUREAU_DAY        24998\n",
              "AMT_REQ_CREDIT_BUREAU_WEEK       24998\n",
              "AMT_REQ_CREDIT_BUREAU_MON        24998\n",
              "AMT_REQ_CREDIT_BUREAU_QRT        24998\n",
              "AMT_REQ_CREDIT_BUREAU_YEAR       24998\n",
              "TARGET                               0\n",
              "dtype: int64"
            ]
          },
          "metadata": {},
          "execution_count": 12
        }
      ]
    },
    {
      "cell_type": "code",
      "source": [
        "train.drop(axis=\"columns\", labels=\"SK_ID_CURR\", inplace=True)"
      ],
      "metadata": {
        "id": "qa1JFzWxmxnu"
      },
      "execution_count": null,
      "outputs": []
    },
    {
      "cell_type": "markdown",
      "source": [
        "## Handling NULL Values"
      ],
      "metadata": {
        "id": "59QvtGWVmyuk"
      }
    },
    {
      "cell_type": "code",
      "source": [
        "isna = train.isna().sum()\n",
        "data_type = train.dtypes\n",
        "\n",
        "index = []\n",
        "dropped_columns = []\n",
        "\n",
        "\n",
        "for i in isna.index:\n",
        "  index.append(i)\n",
        "\n",
        "value = isna.tolist()\n",
        "\n",
        "data = train.dtypes.tolist()\n",
        "\n",
        "for_row = train.shape[0] * 5 / 100\n",
        "for_columns = train.shape[0] * 0.5\n",
        "\n",
        "for i in range(len(index)):\n",
        "  if value[i] < for_row:               # if less than 9000 values of the column is NAN then just drop the row\n",
        "    train.drop(axis=\"rows\", labels=train.index[train[index[i]].isna()], inplace = True)\n",
        "  \n",
        "  elif value[i] > for_columns:            # if more than 90000 values of the column is NAN then drop the column\n",
        "    train.drop(axis=\"columns\", labels=index[i], inplace=True)\n",
        "    dropped_columns.append(index[i])\n",
        "\n",
        "  else:\n",
        "    if data[i] == \"object\":\n",
        "      mode = train[index[i]].mode()  # in between, if the column is non number type, insert mode of the column in the nan values\n",
        "      train[index[i]].fillna(mode[0], inplace=True)\n",
        "    else:\n",
        "      mean = train[index[i]].mean()             # if column is number type, insert mean of the numbers\n",
        "      train[index[i]].fillna(mean, inplace=True)"
      ],
      "metadata": {
        "id": "dOvYw2ndm2HC"
      },
      "execution_count": null,
      "outputs": []
    },
    {
      "cell_type": "code",
      "source": [
        "train.dropna(axis=0, inplace=True)"
      ],
      "metadata": {
        "id": "NtHFzkZWm4tT"
      },
      "execution_count": null,
      "outputs": []
    },
    {
      "cell_type": "code",
      "source": [
        "train.shape"
      ],
      "metadata": {
        "colab": {
          "base_uri": "https://localhost:8080/"
        },
        "id": "TeGhPhH1m6Qz",
        "outputId": "d462dfc1-cd03-4447-efa5-d27668195697"
      },
      "execution_count": null,
      "outputs": [
        {
          "output_type": "execute_result",
          "data": {
            "text/plain": [
              "(182683, 80)"
            ]
          },
          "metadata": {},
          "execution_count": 16
        }
      ]
    },
    {
      "cell_type": "markdown",
      "source": [
        "Handling Categorical Data"
      ],
      "metadata": {
        "id": "TV9_CO8dm8L_"
      }
    },
    {
      "cell_type": "code",
      "source": [
        "train.nunique(axis=0)"
      ],
      "metadata": {
        "colab": {
          "base_uri": "https://localhost:8080/"
        },
        "id": "kNzchb6Hm-x8",
        "outputId": "a437b29b-7a1b-4c7b-97f4-c8bb43e469db"
      },
      "execution_count": null,
      "outputs": [
        {
          "output_type": "execute_result",
          "data": {
            "text/plain": [
              "NAME_CONTRACT_TYPE                  2\n",
              "CODE_GENDER                         3\n",
              "FLAG_OWN_CAR                        2\n",
              "FLAG_OWN_REALTY                     2\n",
              "CNT_CHILDREN                       14\n",
              "AMT_INCOME_TOTAL                 1746\n",
              "AMT_CREDIT                       4844\n",
              "AMT_ANNUITY                     12401\n",
              "AMT_GOODS_PRICE                   782\n",
              "NAME_TYPE_SUITE                     7\n",
              "NAME_INCOME_TYPE                    8\n",
              "NAME_EDUCATION_TYPE                 5\n",
              "NAME_FAMILY_STATUS                  5\n",
              "NAME_HOUSING_TYPE                   6\n",
              "REGION_POPULATION_RELATIVE         81\n",
              "DAYS_BIRTH                      17327\n",
              "DAYS_EMPLOYED                   11384\n",
              "DAYS_REGISTRATION               14989\n",
              "DAYS_ID_PUBLISH                  6085\n",
              "FLAG_MOBIL                          1\n",
              "FLAG_EMP_PHONE                      2\n",
              "FLAG_WORK_PHONE                     2\n",
              "FLAG_CONT_MOBILE                    2\n",
              "FLAG_PHONE                          2\n",
              "FLAG_EMAIL                          2\n",
              "OCCUPATION_TYPE                    18\n",
              "CNT_FAM_MEMBERS                    15\n",
              "REGION_RATING_CLIENT                3\n",
              "REGION_RATING_CLIENT_W_CITY         3\n",
              "WEEKDAY_APPR_PROCESS_START          7\n",
              "HOUR_APPR_PROCESS_START            24\n",
              "REG_REGION_NOT_LIVE_REGION          2\n",
              "REG_REGION_NOT_WORK_REGION          2\n",
              "LIVE_REGION_NOT_WORK_REGION         2\n",
              "REG_CITY_NOT_LIVE_CITY              2\n",
              "REG_CITY_NOT_WORK_CITY              2\n",
              "LIVE_CITY_NOT_WORK_CITY             2\n",
              "ORGANIZATION_TYPE                  58\n",
              "EXT_SOURCE_2                    94233\n",
              "EXT_SOURCE_3                      791\n",
              "YEARS_BEGINEXPLUATATION_AVG       259\n",
              "FLOORSMAX_AVG                     348\n",
              "YEARS_BEGINEXPLUATATION_MODE      210\n",
              "FLOORSMAX_MODE                     26\n",
              "YEARS_BEGINEXPLUATATION_MEDI      229\n",
              "FLOORSMAX_MEDI                     50\n",
              "TOTALAREA_MODE                   4791\n",
              "EMERGENCYSTATE_MODE                 2\n",
              "OBS_30_CNT_SOCIAL_CIRCLE           31\n",
              "DEF_30_CNT_SOCIAL_CIRCLE           10\n",
              "OBS_60_CNT_SOCIAL_CIRCLE           30\n",
              "DEF_60_CNT_SOCIAL_CIRCLE            9\n",
              "DAYS_LAST_PHONE_CHANGE           3682\n",
              "FLAG_DOCUMENT_2                     2\n",
              "FLAG_DOCUMENT_3                     2\n",
              "FLAG_DOCUMENT_4                     2\n",
              "FLAG_DOCUMENT_5                     2\n",
              "FLAG_DOCUMENT_6                     2\n",
              "FLAG_DOCUMENT_7                     2\n",
              "FLAG_DOCUMENT_8                     2\n",
              "FLAG_DOCUMENT_9                     2\n",
              "FLAG_DOCUMENT_10                    2\n",
              "FLAG_DOCUMENT_11                    2\n",
              "FLAG_DOCUMENT_12                    1\n",
              "FLAG_DOCUMENT_13                    2\n",
              "FLAG_DOCUMENT_14                    2\n",
              "FLAG_DOCUMENT_15                    2\n",
              "FLAG_DOCUMENT_16                    2\n",
              "FLAG_DOCUMENT_17                    2\n",
              "FLAG_DOCUMENT_18                    2\n",
              "FLAG_DOCUMENT_19                    2\n",
              "FLAG_DOCUMENT_20                    2\n",
              "FLAG_DOCUMENT_21                    2\n",
              "AMT_REQ_CREDIT_BUREAU_HOUR          6\n",
              "AMT_REQ_CREDIT_BUREAU_DAY          10\n",
              "AMT_REQ_CREDIT_BUREAU_WEEK          9\n",
              "AMT_REQ_CREDIT_BUREAU_MON          23\n",
              "AMT_REQ_CREDIT_BUREAU_QRT          12\n",
              "AMT_REQ_CREDIT_BUREAU_YEAR         23\n",
              "TARGET                              2\n",
              "dtype: int64"
            ]
          },
          "metadata": {},
          "execution_count": 17
        }
      ]
    },
    {
      "cell_type": "code",
      "source": [
        "delete_one_value = []\n",
        "for i in train.columns:\n",
        "  if(train.nunique(axis=0)[i] == 1):\n",
        "    delete_one_value.append(i)\n",
        "delete_one_value"
      ],
      "metadata": {
        "colab": {
          "base_uri": "https://localhost:8080/"
        },
        "id": "gK_pgbU9nAMg",
        "outputId": "4731daa1-5130-46c1-eb79-16e988b1b843"
      },
      "execution_count": null,
      "outputs": [
        {
          "output_type": "execute_result",
          "data": {
            "text/plain": [
              "['FLAG_MOBIL', 'FLAG_DOCUMENT_12']"
            ]
          },
          "metadata": {},
          "execution_count": 18
        }
      ]
    },
    {
      "cell_type": "code",
      "source": [
        "train.drop(train[delete_one_value], axis=\"columns\", inplace=True)"
      ],
      "metadata": {
        "id": "KbEYQ2nInCC4"
      },
      "execution_count": null,
      "outputs": []
    },
    {
      "cell_type": "code",
      "source": [
        "train['CODE_GENDER'].replace('XNA', 'M', inplace=True)"
      ],
      "metadata": {
        "id": "WlNAiMkcnDPc"
      },
      "execution_count": null,
      "outputs": []
    },
    {
      "cell_type": "code",
      "source": [
        "train[\"CODE_GENDER\"].value_counts()"
      ],
      "metadata": {
        "colab": {
          "base_uri": "https://localhost:8080/"
        },
        "id": "s6W_6SUznE0V",
        "outputId": "917109d6-3abe-46ba-bcf2-884878fd73c7"
      },
      "execution_count": null,
      "outputs": [
        {
          "output_type": "execute_result",
          "data": {
            "text/plain": [
              "F    120147\n",
              "M     62536\n",
              "Name: CODE_GENDER, dtype: int64"
            ]
          },
          "metadata": {},
          "execution_count": 21
        }
      ]
    },
    {
      "cell_type": "code",
      "source": [
        "index = train.isna().sum().index.tolist()\n",
        "data = train.dtypes.tolist()\n",
        "num_of_values = train.nunique(axis=0)\n",
        "\n",
        "one_hot_encode = []\n",
        "label_encode = []\n",
        "\n",
        "for i in range(len(index)):\n",
        "  if data[i] == \"object\":       # all columns with non number data type has to be encoded\n",
        "    if(num_of_values[index[i]] < 10):\n",
        "      one_hot_encode.append(index[i])\n",
        "    else:\n",
        "      label_encode.append(index[i])\n",
        "\n",
        "print(one_hot_encode)\n",
        "print(label_encode)"
      ],
      "metadata": {
        "colab": {
          "base_uri": "https://localhost:8080/"
        },
        "id": "-dFCMxaDnGAM",
        "outputId": "a1c782a2-53f6-40b4-d2e0-90093e2a8e8b"
      },
      "execution_count": null,
      "outputs": [
        {
          "output_type": "stream",
          "name": "stdout",
          "text": [
            "['NAME_CONTRACT_TYPE', 'CODE_GENDER', 'FLAG_OWN_CAR', 'FLAG_OWN_REALTY', 'NAME_TYPE_SUITE', 'NAME_INCOME_TYPE', 'NAME_EDUCATION_TYPE', 'NAME_FAMILY_STATUS', 'NAME_HOUSING_TYPE', 'WEEKDAY_APPR_PROCESS_START', 'EMERGENCYSTATE_MODE']\n",
            "['OCCUPATION_TYPE', 'ORGANIZATION_TYPE']\n"
          ]
        }
      ]
    },
    {
      "cell_type": "code",
      "source": [
        "train = pd.get_dummies(train, columns = one_hot_encode)"
      ],
      "metadata": {
        "id": "96sS0sFZnIh8"
      },
      "execution_count": null,
      "outputs": []
    },
    {
      "cell_type": "code",
      "source": [
        "label_encoder = LabelEncoder()"
      ],
      "metadata": {
        "id": "cjYN07rMnKHH"
      },
      "execution_count": null,
      "outputs": []
    },
    {
      "cell_type": "code",
      "source": [
        "train['OCCUPATION_TYPE'] = label_encoder.fit_transform(train['OCCUPATION_TYPE'])"
      ],
      "metadata": {
        "id": "WIqebc2MnLWX"
      },
      "execution_count": null,
      "outputs": []
    },
    {
      "cell_type": "code",
      "source": [
        "train['ORGANIZATION_TYPE'] = label_encoder.fit_transform(train['ORGANIZATION_TYPE'])"
      ],
      "metadata": {
        "id": "JZu4tu7rnM0y"
      },
      "execution_count": null,
      "outputs": []
    },
    {
      "cell_type": "markdown",
      "source": [
        "## Deleting Columns with High Corelation"
      ],
      "metadata": {
        "id": "bolMmrYqnQ95"
      }
    },
    {
      "cell_type": "code",
      "source": [
        "cor = train.corr().abs()\n",
        "\n",
        "tri = cor.where(np.triu(np.ones(cor.shape), k=1).astype(bool))\n",
        "drop = [i for i in tri.columns if any(tri[i] > 0.90)]   # if two columns have more than 90 percent corelation one of them has to be dropped\n",
        "\n",
        "train.drop(train[drop], axis=\"columns\", inplace=True)"
      ],
      "metadata": {
        "id": "I1mBSlMKnUO7"
      },
      "execution_count": null,
      "outputs": []
    },
    {
      "cell_type": "code",
      "source": [
        "train.shape"
      ],
      "metadata": {
        "colab": {
          "base_uri": "https://localhost:8080/"
        },
        "id": "8YUNiUk2nV9r",
        "outputId": "ea1c83d5-ea98-43a9-9bbe-deab502d2e9c"
      },
      "execution_count": null,
      "outputs": [
        {
          "output_type": "execute_result",
          "data": {
            "text/plain": [
              "(182683, 101)"
            ]
          },
          "metadata": {},
          "execution_count": 28
        }
      ]
    },
    {
      "cell_type": "markdown",
      "source": [
        "## Train Validation Split"
      ],
      "metadata": {
        "id": "Sen9kIeZnXeW"
      }
    },
    {
      "cell_type": "code",
      "source": [
        "X = train.drop(axis=\"columns\", labels=\"TARGET\")"
      ],
      "metadata": {
        "id": "T0O0C7SGneNk"
      },
      "execution_count": null,
      "outputs": []
    },
    {
      "cell_type": "code",
      "source": [
        "y = train[\"TARGET\"]"
      ],
      "metadata": {
        "id": "dwdKjxiZnfuS"
      },
      "execution_count": null,
      "outputs": []
    },
    {
      "cell_type": "code",
      "source": [
        "X_train, X_val, y_train, y_val = train_test_split(X, y, test_size = 0.25, random_state = 65)"
      ],
      "metadata": {
        "id": "DIzBxHU4nhEO"
      },
      "execution_count": null,
      "outputs": []
    },
    {
      "cell_type": "code",
      "source": [
        "X_train.shape"
      ],
      "metadata": {
        "colab": {
          "base_uri": "https://localhost:8080/"
        },
        "id": "nbZbOTLVnivW",
        "outputId": "18d2b8b8-06df-4c8d-bd15-844318fbcbb7"
      },
      "execution_count": null,
      "outputs": [
        {
          "output_type": "execute_result",
          "data": {
            "text/plain": [
              "(137012, 100)"
            ]
          },
          "metadata": {},
          "execution_count": 32
        }
      ]
    },
    {
      "cell_type": "code",
      "source": [
        "X_train = X_train.to_numpy()\n",
        "X_val = X_val.to_numpy()\n",
        "y_train = y_train.to_numpy()\n",
        "y_val = y_val.to_numpy()"
      ],
      "metadata": {
        "id": "CUqSGz5Bnkbl"
      },
      "execution_count": null,
      "outputs": []
    },
    {
      "cell_type": "markdown",
      "source": [
        "## Model Training"
      ],
      "metadata": {
        "id": "uCkq31CYnqCv"
      }
    },
    {
      "cell_type": "markdown",
      "source": [
        "### XG Boost"
      ],
      "metadata": {
        "id": "E7H1FgyunsIc"
      }
    },
    {
      "cell_type": "code",
      "source": [
        "xgb = XGBClassifier(n_estimators= 1000,learning_rate= 0.1,scale_pos_weight=5)"
      ],
      "metadata": {
        "id": "RB57dpo5ntvF"
      },
      "execution_count": null,
      "outputs": []
    },
    {
      "cell_type": "code",
      "source": [
        "xgb.fit(X_train, y_train)"
      ],
      "metadata": {
        "colab": {
          "base_uri": "https://localhost:8080/"
        },
        "id": "YzBFROHLnvyV",
        "outputId": "ee40ec54-dad3-4a0b-e4e5-815f61116e3d"
      },
      "execution_count": null,
      "outputs": [
        {
          "output_type": "execute_result",
          "data": {
            "text/plain": [
              "XGBClassifier(n_estimators=1000, scale_pos_weight=5)"
            ]
          },
          "metadata": {},
          "execution_count": 35
        }
      ]
    },
    {
      "cell_type": "code",
      "source": [
        "y_train_pred = xgb.predict(X_train)"
      ],
      "metadata": {
        "id": "4rR6fLBtnxQV"
      },
      "execution_count": null,
      "outputs": []
    },
    {
      "cell_type": "code",
      "source": [
        "accuracy_score(y_train_pred, y_train)"
      ],
      "metadata": {
        "colab": {
          "base_uri": "https://localhost:8080/"
        },
        "id": "kjCwfHHenyuF",
        "outputId": "d1019848-4351-47f0-d320-efcd662d4a05"
      },
      "execution_count": null,
      "outputs": [
        {
          "output_type": "execute_result",
          "data": {
            "text/plain": [
              "0.8783975126266312"
            ]
          },
          "metadata": {},
          "execution_count": 37
        }
      ]
    },
    {
      "cell_type": "code",
      "source": [
        "f1_score(y_train_pred, y_train)"
      ],
      "metadata": {
        "colab": {
          "base_uri": "https://localhost:8080/"
        },
        "id": "GLdbvL1Pn0GU",
        "outputId": "c4f7af46-36b9-4526-dc83-227b9b658c0c"
      },
      "execution_count": null,
      "outputs": [
        {
          "output_type": "execute_result",
          "data": {
            "text/plain": [
              "0.36667046793629066"
            ]
          },
          "metadata": {},
          "execution_count": 38
        }
      ]
    },
    {
      "cell_type": "code",
      "source": [
        "y_val_pred = xgb.predict(X_val)"
      ],
      "metadata": {
        "id": "vmIZcI5Cn1-c"
      },
      "execution_count": null,
      "outputs": []
    },
    {
      "cell_type": "code",
      "source": [
        "accuracy_score(y_val_pred, y_val)"
      ],
      "metadata": {
        "colab": {
          "base_uri": "https://localhost:8080/"
        },
        "id": "CJxH7Lemn3E9",
        "outputId": "6d71d831-681d-442f-b383-a96397e7358d"
      },
      "execution_count": null,
      "outputs": [
        {
          "output_type": "execute_result",
          "data": {
            "text/plain": [
              "0.8649252260734382"
            ]
          },
          "metadata": {},
          "execution_count": 40
        }
      ]
    },
    {
      "cell_type": "code",
      "source": [
        "f1_score(y_val_pred, y_val)"
      ],
      "metadata": {
        "colab": {
          "base_uri": "https://localhost:8080/"
        },
        "id": "wgqXw9WRn6Zo",
        "outputId": "8c977838-2e94-4bf4-9822-431292f03862"
      },
      "execution_count": null,
      "outputs": [
        {
          "output_type": "execute_result",
          "data": {
            "text/plain": [
              "0.2937607326846021"
            ]
          },
          "metadata": {},
          "execution_count": 41
        }
      ]
    },
    {
      "cell_type": "markdown",
      "source": [
        "# Working with test data"
      ],
      "metadata": {
        "id": "wN2DaJRSn8Tx"
      }
    },
    {
      "cell_type": "markdown",
      "source": [
        "## Importing data"
      ],
      "metadata": {
        "id": "ZvGV99v8n_U9"
      }
    },
    {
      "cell_type": "code",
      "source": [
        "test_path = \"/content/drive/MyDrive/ml_project_data/test_data.csv\"\n",
        "test = pd.read_csv(test_path)"
      ],
      "metadata": {
        "id": "-ZZh54T_n96Y"
      },
      "execution_count": null,
      "outputs": []
    },
    {
      "cell_type": "code",
      "source": [
        "test.shape"
      ],
      "metadata": {
        "colab": {
          "base_uri": "https://localhost:8080/"
        },
        "id": "Kbjg8GYjoDdC",
        "outputId": "96e36860-6ab8-40eb-f652-1004a64e41f9"
      },
      "execution_count": null,
      "outputs": [
        {
          "output_type": "execute_result",
          "data": {
            "text/plain": [
              "(123005, 121)"
            ]
          },
          "metadata": {},
          "execution_count": 43
        }
      ]
    },
    {
      "cell_type": "code",
      "source": [
        "test.isna().sum()"
      ],
      "metadata": {
        "colab": {
          "base_uri": "https://localhost:8080/"
        },
        "id": "jp2CDk67oE1I",
        "outputId": "5059f625-119c-4131-f210-525bc0475d69"
      },
      "execution_count": null,
      "outputs": [
        {
          "output_type": "execute_result",
          "data": {
            "text/plain": [
              "SK_ID_CURR                          0\n",
              "NAME_CONTRACT_TYPE                  0\n",
              "CODE_GENDER                         0\n",
              "FLAG_OWN_CAR                        0\n",
              "FLAG_OWN_REALTY                     0\n",
              "CNT_CHILDREN                        0\n",
              "AMT_INCOME_TOTAL                    0\n",
              "AMT_CREDIT                          0\n",
              "AMT_ANNUITY                         6\n",
              "AMT_GOODS_PRICE                   111\n",
              "NAME_TYPE_SUITE                   522\n",
              "NAME_INCOME_TYPE                    0\n",
              "NAME_EDUCATION_TYPE                 0\n",
              "NAME_FAMILY_STATUS                  0\n",
              "NAME_HOUSING_TYPE                   0\n",
              "REGION_POPULATION_RELATIVE          0\n",
              "DAYS_BIRTH                          0\n",
              "DAYS_EMPLOYED                       0\n",
              "DAYS_REGISTRATION                   0\n",
              "DAYS_ID_PUBLISH                     0\n",
              "OWN_CAR_AGE                     81296\n",
              "FLAG_MOBIL                          0\n",
              "FLAG_EMP_PHONE                      0\n",
              "FLAG_WORK_PHONE                     0\n",
              "FLAG_CONT_MOBILE                    0\n",
              "FLAG_PHONE                          0\n",
              "FLAG_EMAIL                          0\n",
              "OCCUPATION_TYPE                 38524\n",
              "CNT_FAM_MEMBERS                     1\n",
              "REGION_RATING_CLIENT                0\n",
              "REGION_RATING_CLIENT_W_CITY         0\n",
              "WEEKDAY_APPR_PROCESS_START          0\n",
              "HOUR_APPR_PROCESS_START             0\n",
              "REG_REGION_NOT_LIVE_REGION          0\n",
              "REG_REGION_NOT_WORK_REGION          0\n",
              "LIVE_REGION_NOT_WORK_REGION         0\n",
              "REG_CITY_NOT_LIVE_CITY              0\n",
              "REG_CITY_NOT_WORK_CITY              0\n",
              "LIVE_CITY_NOT_WORK_CITY             0\n",
              "ORGANIZATION_TYPE                   0\n",
              "EXT_SOURCE_1                    69304\n",
              "EXT_SOURCE_2                      247\n",
              "EXT_SOURCE_3                    24309\n",
              "APARTMENTS_AVG                  62486\n",
              "BASEMENTAREA_AVG                71968\n",
              "YEARS_BEGINEXPLUATATION_AVG     60107\n",
              "YEARS_BUILD_AVG                 81731\n",
              "COMMONAREA_AVG                  85894\n",
              "ELEVATORS_AVG                   65571\n",
              "ENTRANCES_AVG                   62021\n",
              "FLOORSMAX_AVG                   61294\n",
              "FLOORSMIN_AVG                   83398\n",
              "LANDAREA_AVG                    73047\n",
              "LIVINGAPARTMENTS_AVG            83987\n",
              "LIVINGAREA_AVG                  61816\n",
              "NONLIVINGAPARTMENTS_AVG         85368\n",
              "NONLIVINGAREA_AVG               67894\n",
              "APARTMENTS_MODE                 62486\n",
              "BASEMENTAREA_MODE               71968\n",
              "YEARS_BEGINEXPLUATATION_MODE    60107\n",
              "YEARS_BUILD_MODE                81731\n",
              "COMMONAREA_MODE                 85894\n",
              "ELEVATORS_MODE                  65571\n",
              "ENTRANCES_MODE                  62021\n",
              "FLOORSMAX_MODE                  61294\n",
              "FLOORSMIN_MODE                  83398\n",
              "LANDAREA_MODE                   73047\n",
              "LIVINGAPARTMENTS_MODE           83987\n",
              "LIVINGAREA_MODE                 61816\n",
              "NONLIVINGAPARTMENTS_MODE        85368\n",
              "NONLIVINGAREA_MODE              67894\n",
              "APARTMENTS_MEDI                 62486\n",
              "BASEMENTAREA_MEDI               71968\n",
              "YEARS_BEGINEXPLUATATION_MEDI    60107\n",
              "YEARS_BUILD_MEDI                81731\n",
              "COMMONAREA_MEDI                 85894\n",
              "ELEVATORS_MEDI                  65571\n",
              "ENTRANCES_MEDI                  62021\n",
              "FLOORSMAX_MEDI                  61294\n",
              "FLOORSMIN_MEDI                  83398\n",
              "LANDAREA_MEDI                   73047\n",
              "LIVINGAPARTMENTS_MEDI           83987\n",
              "LIVINGAREA_MEDI                 61816\n",
              "NONLIVINGAPARTMENTS_MEDI        85368\n",
              "NONLIVINGAREA_MEDI              67894\n",
              "FONDKAPREMONT_MODE              84041\n",
              "HOUSETYPE_MODE                  61815\n",
              "TOTALAREA_MODE                  59483\n",
              "WALLSMATERIAL_MODE              62620\n",
              "EMERGENCYSTATE_MODE             58419\n",
              "OBS_30_CNT_SOCIAL_CIRCLE          382\n",
              "DEF_30_CNT_SOCIAL_CIRCLE          382\n",
              "OBS_60_CNT_SOCIAL_CIRCLE          382\n",
              "DEF_60_CNT_SOCIAL_CIRCLE          382\n",
              "DAYS_LAST_PHONE_CHANGE              0\n",
              "FLAG_DOCUMENT_2                     0\n",
              "FLAG_DOCUMENT_3                     0\n",
              "FLAG_DOCUMENT_4                     0\n",
              "FLAG_DOCUMENT_5                     0\n",
              "FLAG_DOCUMENT_6                     0\n",
              "FLAG_DOCUMENT_7                     0\n",
              "FLAG_DOCUMENT_8                     0\n",
              "FLAG_DOCUMENT_9                     0\n",
              "FLAG_DOCUMENT_10                    0\n",
              "FLAG_DOCUMENT_11                    0\n",
              "FLAG_DOCUMENT_12                    0\n",
              "FLAG_DOCUMENT_13                    0\n",
              "FLAG_DOCUMENT_14                    0\n",
              "FLAG_DOCUMENT_15                    0\n",
              "FLAG_DOCUMENT_16                    0\n",
              "FLAG_DOCUMENT_17                    0\n",
              "FLAG_DOCUMENT_18                    0\n",
              "FLAG_DOCUMENT_19                    0\n",
              "FLAG_DOCUMENT_20                    0\n",
              "FLAG_DOCUMENT_21                    0\n",
              "AMT_REQ_CREDIT_BUREAU_HOUR      16521\n",
              "AMT_REQ_CREDIT_BUREAU_DAY       16521\n",
              "AMT_REQ_CREDIT_BUREAU_WEEK      16521\n",
              "AMT_REQ_CREDIT_BUREAU_MON       16521\n",
              "AMT_REQ_CREDIT_BUREAU_QRT       16521\n",
              "AMT_REQ_CREDIT_BUREAU_YEAR      16521\n",
              "dtype: int64"
            ]
          },
          "metadata": {},
          "execution_count": 44
        }
      ]
    },
    {
      "cell_type": "markdown",
      "source": [
        "## Handling NULL Values"
      ],
      "metadata": {
        "id": "FOOtr6neoIPH"
      }
    },
    {
      "cell_type": "code",
      "source": [
        "for i in range(len(dropped_columns)):\n",
        "    test.drop(axis=\"columns\", labels=dropped_columns[i], inplace=True)"
      ],
      "metadata": {
        "id": "nr2PFoHuoGXn"
      },
      "execution_count": null,
      "outputs": []
    },
    {
      "cell_type": "code",
      "source": [
        "isna = test.isna().sum()\n",
        "data_type = test.dtypes\n",
        "\n",
        "index = []\n",
        "\n",
        "for i in isna.index:\n",
        "  index.append(i)\n",
        "\n",
        "value = isna.tolist()\n",
        "\n",
        "data = test.dtypes.tolist()\n",
        "\n",
        "for i in range(len(index)):\n",
        "  if data[i] == \"object\":\n",
        "    mode = test[index[i]].mode(dropna=True)  # in between, if the column is non number type, insert mode of the column in the nan values\n",
        "    test[index[i]].fillna(mode[0], inplace=True)\n",
        "  else:\n",
        "    mean = test[index[i]].mean()             # if column is number type, insert mean of the numbers\n",
        "    test[index[i]].fillna(mean, inplace=True)"
      ],
      "metadata": {
        "id": "z2KuyiQxoMfq"
      },
      "execution_count": null,
      "outputs": []
    },
    {
      "cell_type": "code",
      "source": [
        "test.shape"
      ],
      "metadata": {
        "colab": {
          "base_uri": "https://localhost:8080/"
        },
        "id": "8Q4CclxZoOkH",
        "outputId": "adf066eb-814b-44e2-9390-5794f9f13e4b"
      },
      "execution_count": null,
      "outputs": [
        {
          "output_type": "execute_result",
          "data": {
            "text/plain": [
              "(123005, 80)"
            ]
          },
          "metadata": {},
          "execution_count": 47
        }
      ]
    },
    {
      "cell_type": "code",
      "source": [
        "test.head()"
      ],
      "metadata": {
        "colab": {
          "base_uri": "https://localhost:8080/",
          "height": 340
        },
        "id": "2Oyeg280oULZ",
        "outputId": "365a7fcf-4571-439e-b922-8852c0a7a3de"
      },
      "execution_count": null,
      "outputs": [
        {
          "output_type": "execute_result",
          "data": {
            "text/plain": [
              "   SK_ID_CURR NAME_CONTRACT_TYPE CODE_GENDER FLAG_OWN_CAR FLAG_OWN_REALTY  \\\n",
              "0      367294         Cash loans           F            N               Y   \n",
              "1      439847         Cash loans           F            N               Y   \n",
              "2      380562         Cash loans           M            Y               N   \n",
              "3      407238         Cash loans           F            N               Y   \n",
              "4      239910         Cash loans           F            N               Y   \n",
              "\n",
              "   CNT_CHILDREN  AMT_INCOME_TOTAL  AMT_CREDIT  AMT_ANNUITY  AMT_GOODS_PRICE  \\\n",
              "0             0          180000.0    265306.5      25317.0         252000.0   \n",
              "1             0          202500.0    346500.0      21069.0         346500.0   \n",
              "2             0          360000.0    545040.0      36553.5         450000.0   \n",
              "3             0          135000.0    307557.0      20682.0         265500.0   \n",
              "4             0          157500.0   1056447.0      31018.5         922500.0   \n",
              "\n",
              "  NAME_TYPE_SUITE      NAME_INCOME_TYPE            NAME_EDUCATION_TYPE  \\\n",
              "0   Unaccompanied  Commercial associate  Secondary / secondary special   \n",
              "1   Unaccompanied               Working  Secondary / secondary special   \n",
              "2   Unaccompanied               Working  Secondary / secondary special   \n",
              "3   Unaccompanied               Working               Higher education   \n",
              "4          Family             Pensioner  Secondary / secondary special   \n",
              "\n",
              "  NAME_FAMILY_STATUS  NAME_HOUSING_TYPE  REGION_POPULATION_RELATIVE  \\\n",
              "0            Married  House / apartment                    0.032561   \n",
              "1          Separated  House / apartment                    0.026392   \n",
              "2            Married  House / apartment                    0.010032   \n",
              "3            Married  House / apartment                    0.008625   \n",
              "4            Married  House / apartment                    0.010643   \n",
              "\n",
              "   DAYS_BIRTH  DAYS_EMPLOYED  DAYS_REGISTRATION  DAYS_ID_PUBLISH  FLAG_MOBIL  \\\n",
              "0      -21413          -5323            -3666.0            -4551           1   \n",
              "1      -20087          -1406            -7258.0            -3639           1   \n",
              "2      -13008          -1874            -4975.0            -5324           1   \n",
              "3      -10699          -1454            -1020.0            -2220           1   \n",
              "4      -18283         365243           -10425.0            -1829           1   \n",
              "\n",
              "   FLAG_EMP_PHONE  FLAG_WORK_PHONE  FLAG_CONT_MOBILE  FLAG_PHONE  FLAG_EMAIL  \\\n",
              "0               1                0                 1           1           0   \n",
              "1               1                0                 1           0           0   \n",
              "2               1                0                 1           0           0   \n",
              "3               1                0                 1           0           0   \n",
              "4               0                0                 1           1           0   \n",
              "\n",
              "  OCCUPATION_TYPE  CNT_FAM_MEMBERS  REGION_RATING_CLIENT  \\\n",
              "0        Laborers              2.0                     1   \n",
              "1     Sales staff              1.0                     2   \n",
              "2        Managers              2.0                     2   \n",
              "3     Sales staff              2.0                     2   \n",
              "4        Laborers              2.0                     2   \n",
              "\n",
              "   REGION_RATING_CLIENT_W_CITY WEEKDAY_APPR_PROCESS_START  \\\n",
              "0                            1                    TUESDAY   \n",
              "1                            2                   THURSDAY   \n",
              "2                            2                    TUESDAY   \n",
              "3                            2                  WEDNESDAY   \n",
              "4                            2                  WEDNESDAY   \n",
              "\n",
              "   HOUR_APPR_PROCESS_START  REG_REGION_NOT_LIVE_REGION  \\\n",
              "0                       17                           0   \n",
              "1                       13                           0   \n",
              "2                        4                           0   \n",
              "3                       10                           0   \n",
              "4                       14                           0   \n",
              "\n",
              "   REG_REGION_NOT_WORK_REGION  LIVE_REGION_NOT_WORK_REGION  \\\n",
              "0                           0                            0   \n",
              "1                           0                            0   \n",
              "2                           0                            0   \n",
              "3                           0                            0   \n",
              "4                           0                            0   \n",
              "\n",
              "   REG_CITY_NOT_LIVE_CITY  REG_CITY_NOT_WORK_CITY  LIVE_CITY_NOT_WORK_CITY  \\\n",
              "0                       0                       0                        0   \n",
              "1                       0                       0                        0   \n",
              "2                       0                       0                        0   \n",
              "3                       0                       1                        1   \n",
              "4                       0                       0                        0   \n",
              "\n",
              "        ORGANIZATION_TYPE  EXT_SOURCE_2  EXT_SOURCE_3  \\\n",
              "0  Business Entity Type 3      0.708546      0.510791   \n",
              "1           Trade: type 7      0.649626      0.513694   \n",
              "2  Business Entity Type 3      0.645383      0.740799   \n",
              "3           Self-employed      0.409479      0.456110   \n",
              "4                     XNA      0.265227      0.510791   \n",
              "\n",
              "   YEARS_BEGINEXPLUATATION_AVG  FLOORSMAX_AVG  YEARS_BEGINEXPLUATATION_MODE  \\\n",
              "0                     0.990100       0.520800                      0.983100   \n",
              "1                     0.987100       0.166700                      0.987100   \n",
              "2                     0.975700       0.166700                      0.975700   \n",
              "3                     0.977645       0.226754                      0.977039   \n",
              "4                     0.977645       0.226754                      0.977039   \n",
              "\n",
              "   FLOORSMAX_MODE  YEARS_BEGINEXPLUATATION_MEDI  FLOORSMAX_MEDI  \\\n",
              "0         0.33330                      0.990100        0.541700   \n",
              "1         0.16670                      0.987100        0.166700   \n",
              "2         0.16670                      0.975700        0.166700   \n",
              "3         0.22294                      0.977634        0.226428   \n",
              "4         0.22294                      0.977634        0.226428   \n",
              "\n",
              "   TOTALAREA_MODE EMERGENCYSTATE_MODE  OBS_30_CNT_SOCIAL_CIRCLE  \\\n",
              "0        0.236200                  No                       1.0   \n",
              "1        0.137500                  No                       0.0   \n",
              "2        0.071200                  No                       0.0   \n",
              "3        0.103046                  No                       3.0   \n",
              "4        0.103046                  No                       3.0   \n",
              "\n",
              "   DEF_30_CNT_SOCIAL_CIRCLE  OBS_60_CNT_SOCIAL_CIRCLE  \\\n",
              "0                       0.0                       1.0   \n",
              "1                       0.0                       0.0   \n",
              "2                       0.0                       0.0   \n",
              "3                       0.0                       3.0   \n",
              "4                       0.0                       3.0   \n",
              "\n",
              "   DEF_60_CNT_SOCIAL_CIRCLE  DAYS_LAST_PHONE_CHANGE  FLAG_DOCUMENT_2  \\\n",
              "0                       0.0                 -1547.0                0   \n",
              "1                       0.0                  -415.0                0   \n",
              "2                       0.0                 -2459.0                0   \n",
              "3                       0.0                  -564.0                0   \n",
              "4                       0.0                  -657.0                0   \n",
              "\n",
              "   FLAG_DOCUMENT_3  FLAG_DOCUMENT_4  FLAG_DOCUMENT_5  FLAG_DOCUMENT_6  \\\n",
              "0                1                0                0                0   \n",
              "1                1                0                0                0   \n",
              "2                1                0                0                0   \n",
              "3                1                0                0                0   \n",
              "4                1                0                0                0   \n",
              "\n",
              "   FLAG_DOCUMENT_7  FLAG_DOCUMENT_8  FLAG_DOCUMENT_9  FLAG_DOCUMENT_10  \\\n",
              "0                0                0                0                 0   \n",
              "1                0                0                0                 0   \n",
              "2                0                0                0                 0   \n",
              "3                0                0                0                 0   \n",
              "4                0                0                0                 0   \n",
              "\n",
              "   FLAG_DOCUMENT_11  FLAG_DOCUMENT_12  FLAG_DOCUMENT_13  FLAG_DOCUMENT_14  \\\n",
              "0                 0                 0                 0                 0   \n",
              "1                 0                 0                 0                 0   \n",
              "2                 0                 0                 0                 0   \n",
              "3                 0                 0                 0                 0   \n",
              "4                 0                 0                 0                 0   \n",
              "\n",
              "   FLAG_DOCUMENT_15  FLAG_DOCUMENT_16  FLAG_DOCUMENT_17  FLAG_DOCUMENT_18  \\\n",
              "0                 0                 0                 0                 0   \n",
              "1                 0                 0                 0                 0   \n",
              "2                 0                 0                 0                 0   \n",
              "3                 0                 0                 0                 0   \n",
              "4                 0                 0                 0                 0   \n",
              "\n",
              "   FLAG_DOCUMENT_19  FLAG_DOCUMENT_20  FLAG_DOCUMENT_21  \\\n",
              "0                 0                 0                 0   \n",
              "1                 0                 0                 0   \n",
              "2                 0                 0                 0   \n",
              "3                 0                 0                 0   \n",
              "4                 0                 0                 0   \n",
              "\n",
              "   AMT_REQ_CREDIT_BUREAU_HOUR  AMT_REQ_CREDIT_BUREAU_DAY  \\\n",
              "0                    0.000000                   0.000000   \n",
              "1                    0.000000                   0.000000   \n",
              "2                    0.000000                   0.000000   \n",
              "3                    0.000000                   0.000000   \n",
              "4                    0.006499                   0.006499   \n",
              "\n",
              "   AMT_REQ_CREDIT_BUREAU_WEEK  AMT_REQ_CREDIT_BUREAU_MON  \\\n",
              "0                    0.000000                   1.000000   \n",
              "1                    0.000000                   0.000000   \n",
              "2                    0.000000                   0.000000   \n",
              "3                    1.000000                   0.000000   \n",
              "4                    0.034306                   0.267618   \n",
              "\n",
              "   AMT_REQ_CREDIT_BUREAU_QRT  AMT_REQ_CREDIT_BUREAU_YEAR  \n",
              "0                   2.000000                    5.000000  \n",
              "1                   0.000000                    5.000000  \n",
              "2                   1.000000                    5.000000  \n",
              "3                   1.000000                    2.000000  \n",
              "4                   0.263533                    1.903676  "
            ],
            "text/html": [
              "\n",
              "  <div id=\"df-8f840f86-796d-4b83-83e5-092983127281\">\n",
              "    <div class=\"colab-df-container\">\n",
              "      <div>\n",
              "<style scoped>\n",
              "    .dataframe tbody tr th:only-of-type {\n",
              "        vertical-align: middle;\n",
              "    }\n",
              "\n",
              "    .dataframe tbody tr th {\n",
              "        vertical-align: top;\n",
              "    }\n",
              "\n",
              "    .dataframe thead th {\n",
              "        text-align: right;\n",
              "    }\n",
              "</style>\n",
              "<table border=\"1\" class=\"dataframe\">\n",
              "  <thead>\n",
              "    <tr style=\"text-align: right;\">\n",
              "      <th></th>\n",
              "      <th>SK_ID_CURR</th>\n",
              "      <th>NAME_CONTRACT_TYPE</th>\n",
              "      <th>CODE_GENDER</th>\n",
              "      <th>FLAG_OWN_CAR</th>\n",
              "      <th>FLAG_OWN_REALTY</th>\n",
              "      <th>CNT_CHILDREN</th>\n",
              "      <th>AMT_INCOME_TOTAL</th>\n",
              "      <th>AMT_CREDIT</th>\n",
              "      <th>AMT_ANNUITY</th>\n",
              "      <th>AMT_GOODS_PRICE</th>\n",
              "      <th>NAME_TYPE_SUITE</th>\n",
              "      <th>NAME_INCOME_TYPE</th>\n",
              "      <th>NAME_EDUCATION_TYPE</th>\n",
              "      <th>NAME_FAMILY_STATUS</th>\n",
              "      <th>NAME_HOUSING_TYPE</th>\n",
              "      <th>REGION_POPULATION_RELATIVE</th>\n",
              "      <th>DAYS_BIRTH</th>\n",
              "      <th>DAYS_EMPLOYED</th>\n",
              "      <th>DAYS_REGISTRATION</th>\n",
              "      <th>DAYS_ID_PUBLISH</th>\n",
              "      <th>FLAG_MOBIL</th>\n",
              "      <th>FLAG_EMP_PHONE</th>\n",
              "      <th>FLAG_WORK_PHONE</th>\n",
              "      <th>FLAG_CONT_MOBILE</th>\n",
              "      <th>FLAG_PHONE</th>\n",
              "      <th>FLAG_EMAIL</th>\n",
              "      <th>OCCUPATION_TYPE</th>\n",
              "      <th>CNT_FAM_MEMBERS</th>\n",
              "      <th>REGION_RATING_CLIENT</th>\n",
              "      <th>REGION_RATING_CLIENT_W_CITY</th>\n",
              "      <th>WEEKDAY_APPR_PROCESS_START</th>\n",
              "      <th>HOUR_APPR_PROCESS_START</th>\n",
              "      <th>REG_REGION_NOT_LIVE_REGION</th>\n",
              "      <th>REG_REGION_NOT_WORK_REGION</th>\n",
              "      <th>LIVE_REGION_NOT_WORK_REGION</th>\n",
              "      <th>REG_CITY_NOT_LIVE_CITY</th>\n",
              "      <th>REG_CITY_NOT_WORK_CITY</th>\n",
              "      <th>LIVE_CITY_NOT_WORK_CITY</th>\n",
              "      <th>ORGANIZATION_TYPE</th>\n",
              "      <th>EXT_SOURCE_2</th>\n",
              "      <th>EXT_SOURCE_3</th>\n",
              "      <th>YEARS_BEGINEXPLUATATION_AVG</th>\n",
              "      <th>FLOORSMAX_AVG</th>\n",
              "      <th>YEARS_BEGINEXPLUATATION_MODE</th>\n",
              "      <th>FLOORSMAX_MODE</th>\n",
              "      <th>YEARS_BEGINEXPLUATATION_MEDI</th>\n",
              "      <th>FLOORSMAX_MEDI</th>\n",
              "      <th>TOTALAREA_MODE</th>\n",
              "      <th>EMERGENCYSTATE_MODE</th>\n",
              "      <th>OBS_30_CNT_SOCIAL_CIRCLE</th>\n",
              "      <th>DEF_30_CNT_SOCIAL_CIRCLE</th>\n",
              "      <th>OBS_60_CNT_SOCIAL_CIRCLE</th>\n",
              "      <th>DEF_60_CNT_SOCIAL_CIRCLE</th>\n",
              "      <th>DAYS_LAST_PHONE_CHANGE</th>\n",
              "      <th>FLAG_DOCUMENT_2</th>\n",
              "      <th>FLAG_DOCUMENT_3</th>\n",
              "      <th>FLAG_DOCUMENT_4</th>\n",
              "      <th>FLAG_DOCUMENT_5</th>\n",
              "      <th>FLAG_DOCUMENT_6</th>\n",
              "      <th>FLAG_DOCUMENT_7</th>\n",
              "      <th>FLAG_DOCUMENT_8</th>\n",
              "      <th>FLAG_DOCUMENT_9</th>\n",
              "      <th>FLAG_DOCUMENT_10</th>\n",
              "      <th>FLAG_DOCUMENT_11</th>\n",
              "      <th>FLAG_DOCUMENT_12</th>\n",
              "      <th>FLAG_DOCUMENT_13</th>\n",
              "      <th>FLAG_DOCUMENT_14</th>\n",
              "      <th>FLAG_DOCUMENT_15</th>\n",
              "      <th>FLAG_DOCUMENT_16</th>\n",
              "      <th>FLAG_DOCUMENT_17</th>\n",
              "      <th>FLAG_DOCUMENT_18</th>\n",
              "      <th>FLAG_DOCUMENT_19</th>\n",
              "      <th>FLAG_DOCUMENT_20</th>\n",
              "      <th>FLAG_DOCUMENT_21</th>\n",
              "      <th>AMT_REQ_CREDIT_BUREAU_HOUR</th>\n",
              "      <th>AMT_REQ_CREDIT_BUREAU_DAY</th>\n",
              "      <th>AMT_REQ_CREDIT_BUREAU_WEEK</th>\n",
              "      <th>AMT_REQ_CREDIT_BUREAU_MON</th>\n",
              "      <th>AMT_REQ_CREDIT_BUREAU_QRT</th>\n",
              "      <th>AMT_REQ_CREDIT_BUREAU_YEAR</th>\n",
              "    </tr>\n",
              "  </thead>\n",
              "  <tbody>\n",
              "    <tr>\n",
              "      <th>0</th>\n",
              "      <td>367294</td>\n",
              "      <td>Cash loans</td>\n",
              "      <td>F</td>\n",
              "      <td>N</td>\n",
              "      <td>Y</td>\n",
              "      <td>0</td>\n",
              "      <td>180000.0</td>\n",
              "      <td>265306.5</td>\n",
              "      <td>25317.0</td>\n",
              "      <td>252000.0</td>\n",
              "      <td>Unaccompanied</td>\n",
              "      <td>Commercial associate</td>\n",
              "      <td>Secondary / secondary special</td>\n",
              "      <td>Married</td>\n",
              "      <td>House / apartment</td>\n",
              "      <td>0.032561</td>\n",
              "      <td>-21413</td>\n",
              "      <td>-5323</td>\n",
              "      <td>-3666.0</td>\n",
              "      <td>-4551</td>\n",
              "      <td>1</td>\n",
              "      <td>1</td>\n",
              "      <td>0</td>\n",
              "      <td>1</td>\n",
              "      <td>1</td>\n",
              "      <td>0</td>\n",
              "      <td>Laborers</td>\n",
              "      <td>2.0</td>\n",
              "      <td>1</td>\n",
              "      <td>1</td>\n",
              "      <td>TUESDAY</td>\n",
              "      <td>17</td>\n",
              "      <td>0</td>\n",
              "      <td>0</td>\n",
              "      <td>0</td>\n",
              "      <td>0</td>\n",
              "      <td>0</td>\n",
              "      <td>0</td>\n",
              "      <td>Business Entity Type 3</td>\n",
              "      <td>0.708546</td>\n",
              "      <td>0.510791</td>\n",
              "      <td>0.990100</td>\n",
              "      <td>0.520800</td>\n",
              "      <td>0.983100</td>\n",
              "      <td>0.33330</td>\n",
              "      <td>0.990100</td>\n",
              "      <td>0.541700</td>\n",
              "      <td>0.236200</td>\n",
              "      <td>No</td>\n",
              "      <td>1.0</td>\n",
              "      <td>0.0</td>\n",
              "      <td>1.0</td>\n",
              "      <td>0.0</td>\n",
              "      <td>-1547.0</td>\n",
              "      <td>0</td>\n",
              "      <td>1</td>\n",
              "      <td>0</td>\n",
              "      <td>0</td>\n",
              "      <td>0</td>\n",
              "      <td>0</td>\n",
              "      <td>0</td>\n",
              "      <td>0</td>\n",
              "      <td>0</td>\n",
              "      <td>0</td>\n",
              "      <td>0</td>\n",
              "      <td>0</td>\n",
              "      <td>0</td>\n",
              "      <td>0</td>\n",
              "      <td>0</td>\n",
              "      <td>0</td>\n",
              "      <td>0</td>\n",
              "      <td>0</td>\n",
              "      <td>0</td>\n",
              "      <td>0</td>\n",
              "      <td>0.000000</td>\n",
              "      <td>0.000000</td>\n",
              "      <td>0.000000</td>\n",
              "      <td>1.000000</td>\n",
              "      <td>2.000000</td>\n",
              "      <td>5.000000</td>\n",
              "    </tr>\n",
              "    <tr>\n",
              "      <th>1</th>\n",
              "      <td>439847</td>\n",
              "      <td>Cash loans</td>\n",
              "      <td>F</td>\n",
              "      <td>N</td>\n",
              "      <td>Y</td>\n",
              "      <td>0</td>\n",
              "      <td>202500.0</td>\n",
              "      <td>346500.0</td>\n",
              "      <td>21069.0</td>\n",
              "      <td>346500.0</td>\n",
              "      <td>Unaccompanied</td>\n",
              "      <td>Working</td>\n",
              "      <td>Secondary / secondary special</td>\n",
              "      <td>Separated</td>\n",
              "      <td>House / apartment</td>\n",
              "      <td>0.026392</td>\n",
              "      <td>-20087</td>\n",
              "      <td>-1406</td>\n",
              "      <td>-7258.0</td>\n",
              "      <td>-3639</td>\n",
              "      <td>1</td>\n",
              "      <td>1</td>\n",
              "      <td>0</td>\n",
              "      <td>1</td>\n",
              "      <td>0</td>\n",
              "      <td>0</td>\n",
              "      <td>Sales staff</td>\n",
              "      <td>1.0</td>\n",
              "      <td>2</td>\n",
              "      <td>2</td>\n",
              "      <td>THURSDAY</td>\n",
              "      <td>13</td>\n",
              "      <td>0</td>\n",
              "      <td>0</td>\n",
              "      <td>0</td>\n",
              "      <td>0</td>\n",
              "      <td>0</td>\n",
              "      <td>0</td>\n",
              "      <td>Trade: type 7</td>\n",
              "      <td>0.649626</td>\n",
              "      <td>0.513694</td>\n",
              "      <td>0.987100</td>\n",
              "      <td>0.166700</td>\n",
              "      <td>0.987100</td>\n",
              "      <td>0.16670</td>\n",
              "      <td>0.987100</td>\n",
              "      <td>0.166700</td>\n",
              "      <td>0.137500</td>\n",
              "      <td>No</td>\n",
              "      <td>0.0</td>\n",
              "      <td>0.0</td>\n",
              "      <td>0.0</td>\n",
              "      <td>0.0</td>\n",
              "      <td>-415.0</td>\n",
              "      <td>0</td>\n",
              "      <td>1</td>\n",
              "      <td>0</td>\n",
              "      <td>0</td>\n",
              "      <td>0</td>\n",
              "      <td>0</td>\n",
              "      <td>0</td>\n",
              "      <td>0</td>\n",
              "      <td>0</td>\n",
              "      <td>0</td>\n",
              "      <td>0</td>\n",
              "      <td>0</td>\n",
              "      <td>0</td>\n",
              "      <td>0</td>\n",
              "      <td>0</td>\n",
              "      <td>0</td>\n",
              "      <td>0</td>\n",
              "      <td>0</td>\n",
              "      <td>0</td>\n",
              "      <td>0</td>\n",
              "      <td>0.000000</td>\n",
              "      <td>0.000000</td>\n",
              "      <td>0.000000</td>\n",
              "      <td>0.000000</td>\n",
              "      <td>0.000000</td>\n",
              "      <td>5.000000</td>\n",
              "    </tr>\n",
              "    <tr>\n",
              "      <th>2</th>\n",
              "      <td>380562</td>\n",
              "      <td>Cash loans</td>\n",
              "      <td>M</td>\n",
              "      <td>Y</td>\n",
              "      <td>N</td>\n",
              "      <td>0</td>\n",
              "      <td>360000.0</td>\n",
              "      <td>545040.0</td>\n",
              "      <td>36553.5</td>\n",
              "      <td>450000.0</td>\n",
              "      <td>Unaccompanied</td>\n",
              "      <td>Working</td>\n",
              "      <td>Secondary / secondary special</td>\n",
              "      <td>Married</td>\n",
              "      <td>House / apartment</td>\n",
              "      <td>0.010032</td>\n",
              "      <td>-13008</td>\n",
              "      <td>-1874</td>\n",
              "      <td>-4975.0</td>\n",
              "      <td>-5324</td>\n",
              "      <td>1</td>\n",
              "      <td>1</td>\n",
              "      <td>0</td>\n",
              "      <td>1</td>\n",
              "      <td>0</td>\n",
              "      <td>0</td>\n",
              "      <td>Managers</td>\n",
              "      <td>2.0</td>\n",
              "      <td>2</td>\n",
              "      <td>2</td>\n",
              "      <td>TUESDAY</td>\n",
              "      <td>4</td>\n",
              "      <td>0</td>\n",
              "      <td>0</td>\n",
              "      <td>0</td>\n",
              "      <td>0</td>\n",
              "      <td>0</td>\n",
              "      <td>0</td>\n",
              "      <td>Business Entity Type 3</td>\n",
              "      <td>0.645383</td>\n",
              "      <td>0.740799</td>\n",
              "      <td>0.975700</td>\n",
              "      <td>0.166700</td>\n",
              "      <td>0.975700</td>\n",
              "      <td>0.16670</td>\n",
              "      <td>0.975700</td>\n",
              "      <td>0.166700</td>\n",
              "      <td>0.071200</td>\n",
              "      <td>No</td>\n",
              "      <td>0.0</td>\n",
              "      <td>0.0</td>\n",
              "      <td>0.0</td>\n",
              "      <td>0.0</td>\n",
              "      <td>-2459.0</td>\n",
              "      <td>0</td>\n",
              "      <td>1</td>\n",
              "      <td>0</td>\n",
              "      <td>0</td>\n",
              "      <td>0</td>\n",
              "      <td>0</td>\n",
              "      <td>0</td>\n",
              "      <td>0</td>\n",
              "      <td>0</td>\n",
              "      <td>0</td>\n",
              "      <td>0</td>\n",
              "      <td>0</td>\n",
              "      <td>0</td>\n",
              "      <td>0</td>\n",
              "      <td>0</td>\n",
              "      <td>0</td>\n",
              "      <td>0</td>\n",
              "      <td>0</td>\n",
              "      <td>0</td>\n",
              "      <td>0</td>\n",
              "      <td>0.000000</td>\n",
              "      <td>0.000000</td>\n",
              "      <td>0.000000</td>\n",
              "      <td>0.000000</td>\n",
              "      <td>1.000000</td>\n",
              "      <td>5.000000</td>\n",
              "    </tr>\n",
              "    <tr>\n",
              "      <th>3</th>\n",
              "      <td>407238</td>\n",
              "      <td>Cash loans</td>\n",
              "      <td>F</td>\n",
              "      <td>N</td>\n",
              "      <td>Y</td>\n",
              "      <td>0</td>\n",
              "      <td>135000.0</td>\n",
              "      <td>307557.0</td>\n",
              "      <td>20682.0</td>\n",
              "      <td>265500.0</td>\n",
              "      <td>Unaccompanied</td>\n",
              "      <td>Working</td>\n",
              "      <td>Higher education</td>\n",
              "      <td>Married</td>\n",
              "      <td>House / apartment</td>\n",
              "      <td>0.008625</td>\n",
              "      <td>-10699</td>\n",
              "      <td>-1454</td>\n",
              "      <td>-1020.0</td>\n",
              "      <td>-2220</td>\n",
              "      <td>1</td>\n",
              "      <td>1</td>\n",
              "      <td>0</td>\n",
              "      <td>1</td>\n",
              "      <td>0</td>\n",
              "      <td>0</td>\n",
              "      <td>Sales staff</td>\n",
              "      <td>2.0</td>\n",
              "      <td>2</td>\n",
              "      <td>2</td>\n",
              "      <td>WEDNESDAY</td>\n",
              "      <td>10</td>\n",
              "      <td>0</td>\n",
              "      <td>0</td>\n",
              "      <td>0</td>\n",
              "      <td>0</td>\n",
              "      <td>1</td>\n",
              "      <td>1</td>\n",
              "      <td>Self-employed</td>\n",
              "      <td>0.409479</td>\n",
              "      <td>0.456110</td>\n",
              "      <td>0.977645</td>\n",
              "      <td>0.226754</td>\n",
              "      <td>0.977039</td>\n",
              "      <td>0.22294</td>\n",
              "      <td>0.977634</td>\n",
              "      <td>0.226428</td>\n",
              "      <td>0.103046</td>\n",
              "      <td>No</td>\n",
              "      <td>3.0</td>\n",
              "      <td>0.0</td>\n",
              "      <td>3.0</td>\n",
              "      <td>0.0</td>\n",
              "      <td>-564.0</td>\n",
              "      <td>0</td>\n",
              "      <td>1</td>\n",
              "      <td>0</td>\n",
              "      <td>0</td>\n",
              "      <td>0</td>\n",
              "      <td>0</td>\n",
              "      <td>0</td>\n",
              "      <td>0</td>\n",
              "      <td>0</td>\n",
              "      <td>0</td>\n",
              "      <td>0</td>\n",
              "      <td>0</td>\n",
              "      <td>0</td>\n",
              "      <td>0</td>\n",
              "      <td>0</td>\n",
              "      <td>0</td>\n",
              "      <td>0</td>\n",
              "      <td>0</td>\n",
              "      <td>0</td>\n",
              "      <td>0</td>\n",
              "      <td>0.000000</td>\n",
              "      <td>0.000000</td>\n",
              "      <td>1.000000</td>\n",
              "      <td>0.000000</td>\n",
              "      <td>1.000000</td>\n",
              "      <td>2.000000</td>\n",
              "    </tr>\n",
              "    <tr>\n",
              "      <th>4</th>\n",
              "      <td>239910</td>\n",
              "      <td>Cash loans</td>\n",
              "      <td>F</td>\n",
              "      <td>N</td>\n",
              "      <td>Y</td>\n",
              "      <td>0</td>\n",
              "      <td>157500.0</td>\n",
              "      <td>1056447.0</td>\n",
              "      <td>31018.5</td>\n",
              "      <td>922500.0</td>\n",
              "      <td>Family</td>\n",
              "      <td>Pensioner</td>\n",
              "      <td>Secondary / secondary special</td>\n",
              "      <td>Married</td>\n",
              "      <td>House / apartment</td>\n",
              "      <td>0.010643</td>\n",
              "      <td>-18283</td>\n",
              "      <td>365243</td>\n",
              "      <td>-10425.0</td>\n",
              "      <td>-1829</td>\n",
              "      <td>1</td>\n",
              "      <td>0</td>\n",
              "      <td>0</td>\n",
              "      <td>1</td>\n",
              "      <td>1</td>\n",
              "      <td>0</td>\n",
              "      <td>Laborers</td>\n",
              "      <td>2.0</td>\n",
              "      <td>2</td>\n",
              "      <td>2</td>\n",
              "      <td>WEDNESDAY</td>\n",
              "      <td>14</td>\n",
              "      <td>0</td>\n",
              "      <td>0</td>\n",
              "      <td>0</td>\n",
              "      <td>0</td>\n",
              "      <td>0</td>\n",
              "      <td>0</td>\n",
              "      <td>XNA</td>\n",
              "      <td>0.265227</td>\n",
              "      <td>0.510791</td>\n",
              "      <td>0.977645</td>\n",
              "      <td>0.226754</td>\n",
              "      <td>0.977039</td>\n",
              "      <td>0.22294</td>\n",
              "      <td>0.977634</td>\n",
              "      <td>0.226428</td>\n",
              "      <td>0.103046</td>\n",
              "      <td>No</td>\n",
              "      <td>3.0</td>\n",
              "      <td>0.0</td>\n",
              "      <td>3.0</td>\n",
              "      <td>0.0</td>\n",
              "      <td>-657.0</td>\n",
              "      <td>0</td>\n",
              "      <td>1</td>\n",
              "      <td>0</td>\n",
              "      <td>0</td>\n",
              "      <td>0</td>\n",
              "      <td>0</td>\n",
              "      <td>0</td>\n",
              "      <td>0</td>\n",
              "      <td>0</td>\n",
              "      <td>0</td>\n",
              "      <td>0</td>\n",
              "      <td>0</td>\n",
              "      <td>0</td>\n",
              "      <td>0</td>\n",
              "      <td>0</td>\n",
              "      <td>0</td>\n",
              "      <td>0</td>\n",
              "      <td>0</td>\n",
              "      <td>0</td>\n",
              "      <td>0</td>\n",
              "      <td>0.006499</td>\n",
              "      <td>0.006499</td>\n",
              "      <td>0.034306</td>\n",
              "      <td>0.267618</td>\n",
              "      <td>0.263533</td>\n",
              "      <td>1.903676</td>\n",
              "    </tr>\n",
              "  </tbody>\n",
              "</table>\n",
              "</div>\n",
              "      <button class=\"colab-df-convert\" onclick=\"convertToInteractive('df-8f840f86-796d-4b83-83e5-092983127281')\"\n",
              "              title=\"Convert this dataframe to an interactive table.\"\n",
              "              style=\"display:none;\">\n",
              "        \n",
              "  <svg xmlns=\"http://www.w3.org/2000/svg\" height=\"24px\"viewBox=\"0 0 24 24\"\n",
              "       width=\"24px\">\n",
              "    <path d=\"M0 0h24v24H0V0z\" fill=\"none\"/>\n",
              "    <path d=\"M18.56 5.44l.94 2.06.94-2.06 2.06-.94-2.06-.94-.94-2.06-.94 2.06-2.06.94zm-11 1L8.5 8.5l.94-2.06 2.06-.94-2.06-.94L8.5 2.5l-.94 2.06-2.06.94zm10 10l.94 2.06.94-2.06 2.06-.94-2.06-.94-.94-2.06-.94 2.06-2.06.94z\"/><path d=\"M17.41 7.96l-1.37-1.37c-.4-.4-.92-.59-1.43-.59-.52 0-1.04.2-1.43.59L10.3 9.45l-7.72 7.72c-.78.78-.78 2.05 0 2.83L4 21.41c.39.39.9.59 1.41.59.51 0 1.02-.2 1.41-.59l7.78-7.78 2.81-2.81c.8-.78.8-2.07 0-2.86zM5.41 20L4 18.59l7.72-7.72 1.47 1.35L5.41 20z\"/>\n",
              "  </svg>\n",
              "      </button>\n",
              "      \n",
              "  <style>\n",
              "    .colab-df-container {\n",
              "      display:flex;\n",
              "      flex-wrap:wrap;\n",
              "      gap: 12px;\n",
              "    }\n",
              "\n",
              "    .colab-df-convert {\n",
              "      background-color: #E8F0FE;\n",
              "      border: none;\n",
              "      border-radius: 50%;\n",
              "      cursor: pointer;\n",
              "      display: none;\n",
              "      fill: #1967D2;\n",
              "      height: 32px;\n",
              "      padding: 0 0 0 0;\n",
              "      width: 32px;\n",
              "    }\n",
              "\n",
              "    .colab-df-convert:hover {\n",
              "      background-color: #E2EBFA;\n",
              "      box-shadow: 0px 1px 2px rgba(60, 64, 67, 0.3), 0px 1px 3px 1px rgba(60, 64, 67, 0.15);\n",
              "      fill: #174EA6;\n",
              "    }\n",
              "\n",
              "    [theme=dark] .colab-df-convert {\n",
              "      background-color: #3B4455;\n",
              "      fill: #D2E3FC;\n",
              "    }\n",
              "\n",
              "    [theme=dark] .colab-df-convert:hover {\n",
              "      background-color: #434B5C;\n",
              "      box-shadow: 0px 1px 3px 1px rgba(0, 0, 0, 0.15);\n",
              "      filter: drop-shadow(0px 1px 2px rgba(0, 0, 0, 0.3));\n",
              "      fill: #FFFFFF;\n",
              "    }\n",
              "  </style>\n",
              "\n",
              "      <script>\n",
              "        const buttonEl =\n",
              "          document.querySelector('#df-8f840f86-796d-4b83-83e5-092983127281 button.colab-df-convert');\n",
              "        buttonEl.style.display =\n",
              "          google.colab.kernel.accessAllowed ? 'block' : 'none';\n",
              "\n",
              "        async function convertToInteractive(key) {\n",
              "          const element = document.querySelector('#df-8f840f86-796d-4b83-83e5-092983127281');\n",
              "          const dataTable =\n",
              "            await google.colab.kernel.invokeFunction('convertToInteractive',\n",
              "                                                     [key], {});\n",
              "          if (!dataTable) return;\n",
              "\n",
              "          const docLinkHtml = 'Like what you see? Visit the ' +\n",
              "            '<a target=\"_blank\" href=https://colab.research.google.com/notebooks/data_table.ipynb>data table notebook</a>'\n",
              "            + ' to learn more about interactive tables.';\n",
              "          element.innerHTML = '';\n",
              "          dataTable['output_type'] = 'display_data';\n",
              "          await google.colab.output.renderOutput(dataTable, element);\n",
              "          const docLink = document.createElement('div');\n",
              "          docLink.innerHTML = docLinkHtml;\n",
              "          element.appendChild(docLink);\n",
              "        }\n",
              "      </script>\n",
              "    </div>\n",
              "  </div>\n",
              "  "
            ]
          },
          "metadata": {},
          "execution_count": 48
        }
      ]
    },
    {
      "cell_type": "markdown",
      "source": [
        "## Handling Categorical Data"
      ],
      "metadata": {
        "id": "v2gw8bknoUtD"
      }
    },
    {
      "cell_type": "code",
      "source": [
        "test.loc[test['NAME_FAMILY_STATUS'] == 'Unknown', 'NAME_FAMILY_STATUS'] = 'Single / not married'"
      ],
      "metadata": {
        "id": "-1R4Vf1YoY5y"
      },
      "execution_count": null,
      "outputs": []
    },
    {
      "cell_type": "code",
      "source": [
        "test['CODE_GENDER'].replace('XNA', 'M', inplace=True)"
      ],
      "metadata": {
        "id": "IJ9exYCBobb7"
      },
      "execution_count": null,
      "outputs": []
    },
    {
      "cell_type": "code",
      "source": [
        "test[\"CODE_GENDER\"].value_counts()"
      ],
      "metadata": {
        "colab": {
          "base_uri": "https://localhost:8080/"
        },
        "id": "HJPN2hwBoc6C",
        "outputId": "48b9a992-af9f-4d64-9d91-08503e3f786c"
      },
      "execution_count": null,
      "outputs": [
        {
          "output_type": "execute_result",
          "data": {
            "text/plain": [
              "F    81091\n",
              "M    41914\n",
              "Name: CODE_GENDER, dtype: int64"
            ]
          },
          "metadata": {},
          "execution_count": 51
        }
      ]
    },
    {
      "cell_type": "code",
      "source": [
        "train.shape"
      ],
      "metadata": {
        "colab": {
          "base_uri": "https://localhost:8080/"
        },
        "id": "kKHJY7JgoeWq",
        "outputId": "dc074efd-de93-4fc4-ff63-e7f2dcfed38b"
      },
      "execution_count": null,
      "outputs": [
        {
          "output_type": "execute_result",
          "data": {
            "text/plain": [
              "(182683, 101)"
            ]
          },
          "metadata": {},
          "execution_count": 52
        }
      ]
    },
    {
      "cell_type": "code",
      "source": [
        "test = pd.get_dummies(test, columns=one_hot_encode)"
      ],
      "metadata": {
        "id": "wQm0_TEbofwL"
      },
      "execution_count": null,
      "outputs": []
    },
    {
      "cell_type": "code",
      "source": [
        "test['OCCUPATION_TYPE'] = label_encoder.fit_transform(test['OCCUPATION_TYPE'])"
      ],
      "metadata": {
        "id": "6RU6kjh6og_F"
      },
      "execution_count": null,
      "outputs": []
    },
    {
      "cell_type": "code",
      "source": [
        "test['ORGANIZATION_TYPE'] = label_encoder.fit_transform(test['ORGANIZATION_TYPE'])"
      ],
      "metadata": {
        "id": "GcUaX_4ioiNg"
      },
      "execution_count": null,
      "outputs": []
    },
    {
      "cell_type": "code",
      "source": [
        "test.shape"
      ],
      "metadata": {
        "colab": {
          "base_uri": "https://localhost:8080/"
        },
        "id": "NwR1_xrUokyU",
        "outputId": "5211d7ee-f614-4804-c5b9-27753834fde6"
      },
      "execution_count": null,
      "outputs": [
        {
          "output_type": "execute_result",
          "data": {
            "text/plain": [
              "(123005, 117)"
            ]
          },
          "metadata": {},
          "execution_count": 56
        }
      ]
    },
    {
      "cell_type": "code",
      "source": [
        "test.drop(test[delete_one_value], axis=\"columns\", inplace=True)"
      ],
      "metadata": {
        "id": "ODC74hFTolTZ"
      },
      "execution_count": null,
      "outputs": []
    },
    {
      "cell_type": "markdown",
      "source": [
        "## Deleting columns with high corelation"
      ],
      "metadata": {
        "id": "eutTKCssomhH"
      }
    },
    {
      "cell_type": "code",
      "source": [
        "test.drop(test[drop], axis=\"columns\", inplace=True)"
      ],
      "metadata": {
        "id": "7fu4cSXmore3"
      },
      "execution_count": null,
      "outputs": []
    },
    {
      "cell_type": "code",
      "source": [
        "test.shape"
      ],
      "metadata": {
        "colab": {
          "base_uri": "https://localhost:8080/"
        },
        "id": "3sVOXhV_os5V",
        "outputId": "34df7017-e8ed-484f-c418-810113241541"
      },
      "execution_count": null,
      "outputs": [
        {
          "output_type": "execute_result",
          "data": {
            "text/plain": [
              "(123005, 101)"
            ]
          },
          "metadata": {},
          "execution_count": 59
        }
      ]
    },
    {
      "cell_type": "markdown",
      "source": [
        "## Model Implementation"
      ],
      "metadata": {
        "id": "M84aqve8ovv9"
      }
    },
    {
      "cell_type": "code",
      "source": [
        "test[\"SK_ID_CURR\"].head()"
      ],
      "metadata": {
        "colab": {
          "base_uri": "https://localhost:8080/"
        },
        "id": "DqJCp7qOoycy",
        "outputId": "6f348870-74d5-4a37-cbc6-235270a93378"
      },
      "execution_count": null,
      "outputs": [
        {
          "output_type": "execute_result",
          "data": {
            "text/plain": [
              "0    367294\n",
              "1    439847\n",
              "2    380562\n",
              "3    407238\n",
              "4    239910\n",
              "Name: SK_ID_CURR, dtype: int64"
            ]
          },
          "metadata": {},
          "execution_count": 60
        }
      ]
    },
    {
      "cell_type": "code",
      "source": [
        "id = test[\"SK_ID_CURR\"].to_numpy()\n",
        "test.drop(axis=\"columns\", labels=\"SK_ID_CURR\", inplace=True)"
      ],
      "metadata": {
        "id": "7CjAcyJAozom"
      },
      "execution_count": null,
      "outputs": []
    },
    {
      "cell_type": "code",
      "source": [
        "test.shape"
      ],
      "metadata": {
        "colab": {
          "base_uri": "https://localhost:8080/"
        },
        "id": "QhY3gOplo09W",
        "outputId": "028509d6-ccd5-4a62-af57-fa121079b208"
      },
      "execution_count": null,
      "outputs": [
        {
          "output_type": "execute_result",
          "data": {
            "text/plain": [
              "(123005, 100)"
            ]
          },
          "metadata": {},
          "execution_count": 62
        }
      ]
    },
    {
      "cell_type": "code",
      "source": [
        "test.columns"
      ],
      "metadata": {
        "colab": {
          "base_uri": "https://localhost:8080/"
        },
        "id": "EROIKxvCo2OM",
        "outputId": "19a13785-2c79-4831-b831-35f528997254"
      },
      "execution_count": null,
      "outputs": [
        {
          "output_type": "execute_result",
          "data": {
            "text/plain": [
              "Index(['CNT_CHILDREN', 'AMT_INCOME_TOTAL', 'AMT_CREDIT', 'AMT_ANNUITY',\n",
              "       'REGION_POPULATION_RELATIVE', 'DAYS_BIRTH', 'DAYS_EMPLOYED',\n",
              "       'DAYS_REGISTRATION', 'DAYS_ID_PUBLISH', 'FLAG_WORK_PHONE',\n",
              "       'FLAG_CONT_MOBILE', 'FLAG_PHONE', 'FLAG_EMAIL', 'OCCUPATION_TYPE',\n",
              "       'CNT_FAM_MEMBERS', 'REGION_RATING_CLIENT', 'HOUR_APPR_PROCESS_START',\n",
              "       'REG_REGION_NOT_LIVE_REGION', 'REG_REGION_NOT_WORK_REGION',\n",
              "       'LIVE_REGION_NOT_WORK_REGION', 'REG_CITY_NOT_LIVE_CITY',\n",
              "       'REG_CITY_NOT_WORK_CITY', 'LIVE_CITY_NOT_WORK_CITY',\n",
              "       'ORGANIZATION_TYPE', 'EXT_SOURCE_2', 'EXT_SOURCE_3',\n",
              "       'YEARS_BEGINEXPLUATATION_AVG', 'FLOORSMAX_AVG', 'TOTALAREA_MODE',\n",
              "       'OBS_30_CNT_SOCIAL_CIRCLE', 'DEF_30_CNT_SOCIAL_CIRCLE',\n",
              "       'DEF_60_CNT_SOCIAL_CIRCLE', 'DAYS_LAST_PHONE_CHANGE', 'FLAG_DOCUMENT_2',\n",
              "       'FLAG_DOCUMENT_3', 'FLAG_DOCUMENT_4', 'FLAG_DOCUMENT_5',\n",
              "       'FLAG_DOCUMENT_6', 'FLAG_DOCUMENT_7', 'FLAG_DOCUMENT_8',\n",
              "       'FLAG_DOCUMENT_9', 'FLAG_DOCUMENT_10', 'FLAG_DOCUMENT_11',\n",
              "       'FLAG_DOCUMENT_13', 'FLAG_DOCUMENT_14', 'FLAG_DOCUMENT_15',\n",
              "       'FLAG_DOCUMENT_16', 'FLAG_DOCUMENT_17', 'FLAG_DOCUMENT_18',\n",
              "       'FLAG_DOCUMENT_19', 'FLAG_DOCUMENT_20', 'FLAG_DOCUMENT_21',\n",
              "       'AMT_REQ_CREDIT_BUREAU_HOUR', 'AMT_REQ_CREDIT_BUREAU_DAY',\n",
              "       'AMT_REQ_CREDIT_BUREAU_WEEK', 'AMT_REQ_CREDIT_BUREAU_MON',\n",
              "       'AMT_REQ_CREDIT_BUREAU_QRT', 'AMT_REQ_CREDIT_BUREAU_YEAR',\n",
              "       'NAME_CONTRACT_TYPE_Cash loans', 'CODE_GENDER_F', 'FLAG_OWN_CAR_N',\n",
              "       'FLAG_OWN_REALTY_N', 'NAME_TYPE_SUITE_Children',\n",
              "       'NAME_TYPE_SUITE_Family', 'NAME_TYPE_SUITE_Group of people',\n",
              "       'NAME_TYPE_SUITE_Other_A', 'NAME_TYPE_SUITE_Other_B',\n",
              "       'NAME_TYPE_SUITE_Spouse, partner', 'NAME_TYPE_SUITE_Unaccompanied',\n",
              "       'NAME_INCOME_TYPE_Businessman', 'NAME_INCOME_TYPE_Commercial associate',\n",
              "       'NAME_INCOME_TYPE_Maternity leave', 'NAME_INCOME_TYPE_State servant',\n",
              "       'NAME_INCOME_TYPE_Student', 'NAME_INCOME_TYPE_Unemployed',\n",
              "       'NAME_INCOME_TYPE_Working', 'NAME_EDUCATION_TYPE_Academic degree',\n",
              "       'NAME_EDUCATION_TYPE_Higher education',\n",
              "       'NAME_EDUCATION_TYPE_Incomplete higher',\n",
              "       'NAME_EDUCATION_TYPE_Lower secondary',\n",
              "       'NAME_EDUCATION_TYPE_Secondary / secondary special',\n",
              "       'NAME_FAMILY_STATUS_Civil marriage', 'NAME_FAMILY_STATUS_Married',\n",
              "       'NAME_FAMILY_STATUS_Separated',\n",
              "       'NAME_FAMILY_STATUS_Single / not married', 'NAME_FAMILY_STATUS_Widow',\n",
              "       'NAME_HOUSING_TYPE_Co-op apartment',\n",
              "       'NAME_HOUSING_TYPE_House / apartment',\n",
              "       'NAME_HOUSING_TYPE_Municipal apartment',\n",
              "       'NAME_HOUSING_TYPE_Office apartment',\n",
              "       'NAME_HOUSING_TYPE_Rented apartment', 'NAME_HOUSING_TYPE_With parents',\n",
              "       'WEEKDAY_APPR_PROCESS_START_FRIDAY',\n",
              "       'WEEKDAY_APPR_PROCESS_START_MONDAY',\n",
              "       'WEEKDAY_APPR_PROCESS_START_SATURDAY',\n",
              "       'WEEKDAY_APPR_PROCESS_START_SUNDAY',\n",
              "       'WEEKDAY_APPR_PROCESS_START_THURSDAY',\n",
              "       'WEEKDAY_APPR_PROCESS_START_TUESDAY',\n",
              "       'WEEKDAY_APPR_PROCESS_START_WEDNESDAY', 'EMERGENCYSTATE_MODE_No'],\n",
              "      dtype='object')"
            ]
          },
          "metadata": {},
          "execution_count": 63
        }
      ]
    },
    {
      "cell_type": "code",
      "source": [
        "test_np = test.to_numpy()"
      ],
      "metadata": {
        "id": "hggXPAcdo43V"
      },
      "execution_count": null,
      "outputs": []
    },
    {
      "cell_type": "markdown",
      "source": [
        "### XG Boost"
      ],
      "metadata": {
        "id": "42JDhNISo5YI"
      }
    },
    {
      "cell_type": "code",
      "source": [
        "y_test_pred = xgb.predict(test_np)"
      ],
      "metadata": {
        "id": "O1NO-rFso9am"
      },
      "execution_count": null,
      "outputs": []
    },
    {
      "cell_type": "code",
      "source": [
        "y_test_pred_df = pd.DataFrame(y_test_pred, columns=[\"TARGET\"])\n",
        "y_test_pred_df.TARGET.value_counts().plot(kind='pie',autopct='%1.1f%%')"
      ],
      "metadata": {
        "colab": {
          "base_uri": "https://localhost:8080/",
          "height": 266
        },
        "id": "J1EnFh_qo-z4",
        "outputId": "5c8a66ef-8192-4baa-d976-85a9164c67b5"
      },
      "execution_count": null,
      "outputs": [
        {
          "output_type": "execute_result",
          "data": {
            "text/plain": [
              "<matplotlib.axes._subplots.AxesSubplot at 0x7f3a5e13ae20>"
            ]
          },
          "metadata": {},
          "execution_count": 66
        },
        {
          "output_type": "display_data",
          "data": {
            "text/plain": [
              "<Figure size 432x288 with 1 Axes>"
            ],
            "image/png": "[encoded data removed]"
          },
          "metadata": {}
        }
      ]
    },
    {
      "cell_type": "markdown",
      "source": [
        "# Writing to file"
      ],
      "metadata": {
        "id": "_9g5D1J4pBsA"
      }
    },
    {
      "cell_type": "code",
      "source": [
        "final = np.array(list(zip(id, y_test_pred)))"
      ],
      "metadata": {
        "id": "CBWGv2e2pDp4"
      },
      "execution_count": null,
      "outputs": []
    },
    {
      "cell_type": "code",
      "source": [
        "out_set = pd.DataFrame(final, columns = ['SK_ID_CURR','TARGET'])"
      ],
      "metadata": {
        "id": "vfcpIjN4pK7m"
      },
      "execution_count": null,
      "outputs": []
    },
    {
      "cell_type": "code",
      "source": [
        "out_set.to_csv('out.csv', index=False)"
      ],
      "metadata": {
        "id": "381V8I5xpMZ7"
      },
      "execution_count": null,
      "outputs": []
    }
  ]
}