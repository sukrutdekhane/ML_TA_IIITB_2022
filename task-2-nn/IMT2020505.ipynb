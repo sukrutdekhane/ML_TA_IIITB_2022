{
  "cells": [
    {
      "cell_type": "code",
      "execution_count": null,
      "metadata": {
        "id": "TtVPPGXke-oJ"
      },
      "outputs": [],
      "source": [
        "%matplotlib inline"
      ]
    },
    {
      "cell_type": "markdown",
      "metadata": {
        "id": "t9TEOzPTe-oL"
      },
      "source": [
        "\n",
        "[Learn the Basics](intro.html) ||\n",
        "[Quickstart](quickstart_tutorial.html) ||\n",
        "[Tensors](tensorqs_tutorial.html) ||\n",
        "[Datasets & DataLoaders](data_tutorial.html) ||\n",
        "[Transforms](transforms_tutorial.html) ||\n",
        "**Build Model** ||\n",
        "[Autograd](autogradqs_tutorial.html) ||\n",
        "[Optimization](optimization_tutorial.html) ||\n",
        "[Save & Load Model](saveloadrun_tutorial.html)\n",
        "\n",
        "# Build the Neural Network\n",
        "\n",
        "Neural networks comprise of layers/modules that perform operations on data.\n",
        "The [torch.nn](https://pytorch.org/docs/stable/nn.html) namespace provides all the building blocks you need to\n",
        "build your own neural network. Every module in PyTorch subclasses the [nn.Module](https://pytorch.org/docs/stable/generated/torch.nn.Module.html).\n",
        "A neural network is a module itself that consists of other modules (layers). This nested structure allows for\n",
        "building and managing complex architectures easily.\n",
        "\n",
        "In the following sections, we'll build a neural network to classify images in the FashionMNIST dataset.\n"
      ]
    },
    {
      "cell_type": "markdown",
      "metadata": {
        "id": "r68aRBLRe-oM"
      },
      "source": [
        "## Get Device for Training\n",
        "We want to be able to train our model on a hardware accelerator like the GPU,\n",
        "if it is available. Let's check to see if\n",
        "[torch.cuda](https://pytorch.org/docs/stable/notes/cuda.html) is available, else we\n",
        "continue to use the CPU.\n",
        "\n"
      ]
    },
    {
      "cell_type": "code",
      "execution_count": 2,
      "metadata": {
        "id": "2LO3-69Me-oM"
      },
      "outputs": [],
      "source": [
        "import os\n",
        "import torch\n",
        "from torch import nn\n",
        "from torch.utils.data import DataLoader\n",
        "from torchvision import datasets, transforms"
      ]
    },
    {
      "cell_type": "code",
      "execution_count": 3,
      "metadata": {
        "id": "jxbw2AsXe-oM",
        "outputId": "8c0674cb-1c5e-4400-d16c-8337df4b368d",
        "colab": {
          "base_uri": "https://localhost:8080/"
        }
      },
      "outputs": [
        {
          "output_type": "stream",
          "name": "stdout",
          "text": [
            "Using cuda device\n"
          ]
        }
      ],
      "source": [
        "device = \"cuda\" if torch.cuda.is_available() else \"cpu\"\n",
        "print(f\"Using {device} device\")"
      ]
    },
    {
      "cell_type": "markdown",
      "metadata": {
        "id": "1Yad9QYde-oM"
      },
      "source": [
        "## Define the Class\n",
        "We define our neural network by subclassing ``nn.Module``, and\n",
        "initialize the neural network layers in ``__init__``. Every ``nn.Module`` subclass implements\n",
        "the operations on input data in the ``forward`` method.\n",
        "\n"
      ]
    },
    {
      "cell_type": "code",
      "execution_count": 7,
      "metadata": {
        "id": "Qv8vU2Zze-oM"
      },
      "outputs": [],
      "source": [
        "class NeuralNetwork(nn.Module):\n",
        "    def __init__(self):\n",
        "        super(NeuralNetwork, self).__init__()\n",
        "        self.flatten = nn.Flatten()\n",
        "        self.linear_relu_stack = nn.Sequential(\n",
        "            nn.Linear(28*28, 512),\n",
        "            nn.ReLU(),\n",
        "            nn.Linear(512, 420),\n",
        "            nn.ReLU(),\n",
        "            nn.Linear(420,512),\n",
        "            nn.ReLU(),\n",
        "            nn.Linear(512, 10),\n",
        "        )\n",
        "\n",
        "    def forward(self, x):\n",
        "        x = self.flatten(x)\n",
        "        logits = self.linear_relu_stack(x)\n",
        "        return logits"
      ]
    },
    {
      "cell_type": "markdown",
      "metadata": {
        "id": "yngcVl2Be-oN"
      },
      "source": [
        "We create an instance of ``NeuralNetwork``, and move it to the ``device``, and print\n",
        "its structure.\n",
        "\n"
      ]
    },
    {
      "cell_type": "code",
      "execution_count": 8,
      "metadata": {
        "id": "mxfpGtxGe-oN",
        "outputId": "d7ee1196-3a86-499d-a20e-2a463d0aeebe",
        "colab": {
          "base_uri": "https://localhost:8080/"
        }
      },
      "outputs": [
        {
          "output_type": "stream",
          "name": "stdout",
          "text": [
            "NeuralNetwork(\n",
            "  (flatten): Flatten(start_dim=1, end_dim=-1)\n",
            "  (linear_relu_stack): Sequential(\n",
            "    (0): Linear(in_features=784, out_features=512, bias=True)\n",
            "    (1): ReLU()\n",
            "    (2): Linear(in_features=512, out_features=420, bias=True)\n",
            "    (3): ReLU()\n",
            "    (4): Linear(in_features=420, out_features=512, bias=True)\n",
            "    (5): ReLU()\n",
            "    (6): Linear(in_features=512, out_features=10, bias=True)\n",
            "  )\n",
            ")\n"
          ]
        }
      ],
      "source": [
        "model = NeuralNetwork().to(device)\n",
        "print(model)"
      ]
    },
    {
      "cell_type": "markdown",
      "metadata": {
        "id": "h9aU3-lRe-oN"
      },
      "source": [
        "To use the model, we pass it the input data. This executes the model's ``forward``,\n",
        "along with some [background operations](https://github.com/pytorch/pytorch/blob/270111b7b611d174967ed204776985cefca9c144/torch/nn/modules/module.py#L866).\n",
        "Do not call ``model.forward()`` directly!\n",
        "\n",
        "Calling the model on the input returns a 2-dimensional tensor with dim=0 corresponding to each output of 10 raw predicted values for each class, and dim=1 corresponding to the individual values of each output.  .\n",
        "We get the prediction probabilities by passing it through an instance of the ``nn.Softmax`` module.\n",
        "\n"
      ]
    },
    {
      "cell_type": "code",
      "execution_count": 9,
      "metadata": {
        "id": "v9zsvnSye-oN",
        "outputId": "9e7fc547-59ac-4de2-ad38-4757f23546fa",
        "colab": {
          "base_uri": "https://localhost:8080/"
        }
      },
      "outputs": [
        {
          "output_type": "stream",
          "name": "stdout",
          "text": [
            "Predicted class: tensor([0], device='cuda:0')\n"
          ]
        }
      ],
      "source": [
        "X = torch.rand(1, 28, 28, device=device)\n",
        "logits = model(X)\n",
        "pred_probab = nn.Softmax(dim=1)(logits)\n",
        "y_pred = pred_probab.argmax(1)\n",
        "print(f\"Predicted class: {y_pred}\")"
      ]
    },
    {
      "cell_type": "markdown",
      "metadata": {
        "id": "tHVDvbdAe-oN"
      },
      "source": [
        "--------------\n",
        "\n",
        "\n"
      ]
    },
    {
      "cell_type": "markdown",
      "metadata": {
        "id": "MGIhKT_6e-oO"
      },
      "source": [
        "## Model Layers\n",
        "\n",
        "Let's break down the layers in the FashionMNIST model. To illustrate it, we\n",
        "will take a sample minibatch of 3 images of size 28x28 and see what happens to it as\n",
        "we pass it through the network.\n",
        "\n"
      ]
    },
    {
      "cell_type": "code",
      "execution_count": 10,
      "metadata": {
        "id": "_Bn4DwEYe-oO",
        "outputId": "1ba13415-3ceb-4603-cfe2-7798eedd49a0",
        "colab": {
          "base_uri": "https://localhost:8080/"
        }
      },
      "outputs": [
        {
          "output_type": "stream",
          "name": "stdout",
          "text": [
            "torch.Size([3, 28, 28])\n"
          ]
        }
      ],
      "source": [
        "input_image = torch.rand(3,28,28)\n",
        "print(input_image.size())"
      ]
    },
    {
      "cell_type": "markdown",
      "metadata": {
        "id": "mFF7MG7Ke-oO"
      },
      "source": [
        "### nn.Flatten\n",
        "We initialize the [nn.Flatten](https://pytorch.org/docs/stable/generated/torch.nn.Flatten.html)\n",
        "layer to convert each 2D 28x28 image into a contiguous array of 784 pixel values (\n",
        "the minibatch dimension (at dim=0) is maintained).\n",
        "\n"
      ]
    },
    {
      "cell_type": "code",
      "execution_count": 11,
      "metadata": {
        "id": "Q7exvWqoe-oO",
        "outputId": "e9501472-7f7a-4de1-d690-431498ad0cc6",
        "colab": {
          "base_uri": "https://localhost:8080/"
        }
      },
      "outputs": [
        {
          "output_type": "stream",
          "name": "stdout",
          "text": [
            "torch.Size([3, 784])\n"
          ]
        }
      ],
      "source": [
        "flatten = nn.Flatten()\n",
        "flat_image = flatten(input_image)\n",
        "print(flat_image.size())"
      ]
    },
    {
      "cell_type": "markdown",
      "metadata": {
        "id": "8FxgJAa_e-oO"
      },
      "source": [
        "### nn.Linear\n",
        "The [linear layer](https://pytorch.org/docs/stable/generated/torch.nn.Linear.html)\n",
        "is a module that applies a linear transformation on the input using its stored weights and biases.\n",
        "\n",
        "\n"
      ]
    },
    {
      "cell_type": "code",
      "execution_count": 12,
      "metadata": {
        "id": "99mA4R6ye-oO",
        "outputId": "22e00d3b-d208-4cfe-f121-a02e564f87bb",
        "colab": {
          "base_uri": "https://localhost:8080/"
        }
      },
      "outputs": [
        {
          "output_type": "stream",
          "name": "stdout",
          "text": [
            "torch.Size([3, 20])\n"
          ]
        }
      ],
      "source": [
        "layer1 = nn.Linear(in_features=28*28, out_features=20)\n",
        "hidden1 = layer1(flat_image)\n",
        "print(hidden1.size())"
      ]
    },
    {
      "cell_type": "markdown",
      "metadata": {
        "id": "qagA7GD3e-oO"
      },
      "source": [
        "### nn.ReLU\n",
        "Non-linear activations are what create the complex mappings between the model's inputs and outputs.\n",
        "They are applied after linear transformations to introduce *nonlinearity*, helping neural networks\n",
        "learn a wide variety of phenomena.\n",
        "\n",
        "In this model, we use [nn.ReLU](https://pytorch.org/docs/stable/generated/torch.nn.ReLU.html) between our\n",
        "linear layers, but there's other activations to introduce non-linearity in your model.\n",
        "\n"
      ]
    },
    {
      "cell_type": "code",
      "execution_count": 13,
      "metadata": {
        "id": "PPNDsld1e-oO",
        "outputId": "5368c007-75cc-427b-c619-5d185fe73d5a",
        "colab": {
          "base_uri": "https://localhost:8080/"
        }
      },
      "outputs": [
        {
          "output_type": "stream",
          "name": "stdout",
          "text": [
            "Before ReLU: tensor([[-0.0594,  0.1768,  0.3401,  0.0612, -0.4350,  0.0466,  0.2348, -0.2014,\n",
            "         -0.1268,  0.2361,  0.1580,  0.3794, -0.5278, -0.1363, -0.3410,  0.3987,\n",
            "          0.4018, -0.4358,  0.8033, -0.2307],\n",
            "        [-0.2140,  0.0144, -0.0625,  0.0761, -0.0072, -0.2272, -0.3982, -0.1368,\n",
            "         -0.1187,  0.4383,  0.1457,  0.3538, -0.3204, -0.3675, -0.0435,  0.3636,\n",
            "          0.3173, -0.4275,  0.7577, -0.0719],\n",
            "        [ 0.0196, -0.3754,  0.5540,  0.1158,  0.1591, -0.1109,  0.0619, -0.1397,\n",
            "          0.1091,  0.4117, -0.0495,  0.2239, -0.2387, -0.2354, -0.3209,  0.7885,\n",
            "          0.4028, -0.4157,  0.6247, -0.5122]], grad_fn=<AddmmBackward0>)\n",
            "\n",
            "\n",
            "After ReLU: tensor([[0.0000, 0.1768, 0.3401, 0.0612, 0.0000, 0.0466, 0.2348, 0.0000, 0.0000,\n",
            "         0.2361, 0.1580, 0.3794, 0.0000, 0.0000, 0.0000, 0.3987, 0.4018, 0.0000,\n",
            "         0.8033, 0.0000],\n",
            "        [0.0000, 0.0144, 0.0000, 0.0761, 0.0000, 0.0000, 0.0000, 0.0000, 0.0000,\n",
            "         0.4383, 0.1457, 0.3538, 0.0000, 0.0000, 0.0000, 0.3636, 0.3173, 0.0000,\n",
            "         0.7577, 0.0000],\n",
            "        [0.0196, 0.0000, 0.5540, 0.1158, 0.1591, 0.0000, 0.0619, 0.0000, 0.1091,\n",
            "         0.4117, 0.0000, 0.2239, 0.0000, 0.0000, 0.0000, 0.7885, 0.4028, 0.0000,\n",
            "         0.6247, 0.0000]], grad_fn=<ReluBackward0>)\n"
          ]
        }
      ],
      "source": [
        "print(f\"Before ReLU: {hidden1}\\n\\n\")\n",
        "hidden1 = nn.ReLU()(hidden1)\n",
        "print(f\"After ReLU: {hidden1}\")"
      ]
    },
    {
      "cell_type": "markdown",
      "metadata": {
        "id": "ndg7gZp9e-oO"
      },
      "source": [
        "### nn.Sequential\n",
        "[nn.Sequential](https://pytorch.org/docs/stable/generated/torch.nn.Sequential.html) is an ordered\n",
        "container of modules. The data is passed through all the modules in the same order as defined. You can use\n",
        "sequential containers to put together a quick network like ``seq_modules``.\n",
        "\n"
      ]
    },
    {
      "cell_type": "code",
      "execution_count": 14,
      "metadata": {
        "id": "ZDkrBI0We-oP"
      },
      "outputs": [],
      "source": [
        "seq_modules = nn.Sequential(\n",
        "    flatten,\n",
        "    layer1,\n",
        "    nn.ReLU(),\n",
        "    nn.Linear(20, 10)\n",
        ")\n",
        "input_image = torch.rand(3,28,28)\n",
        "logits = seq_modules(input_image)"
      ]
    },
    {
      "cell_type": "markdown",
      "metadata": {
        "id": "W8CBFK0Ae-oP"
      },
      "source": [
        "### nn.Softmax\n",
        "The last linear layer of the neural network returns `logits` - raw values in [-\\infty, \\infty] - which are passed to the\n",
        "[nn.Softmax](https://pytorch.org/docs/stable/generated/torch.nn.Softmax.html) module. The logits are scaled to values\n",
        "[0, 1] representing the model's predicted probabilities for each class. ``dim`` parameter indicates the dimension along\n",
        "which the values must sum to 1.\n",
        "\n"
      ]
    },
    {
      "cell_type": "code",
      "execution_count": 15,
      "metadata": {
        "id": "Dx2u7HB9e-oP"
      },
      "outputs": [],
      "source": [
        "softmax = nn.Softmax(dim=1)\n",
        "pred_probab = softmax(logits)"
      ]
    },
    {
      "cell_type": "markdown",
      "metadata": {
        "id": "D9N6TInke-oP"
      },
      "source": [
        "## Model Parameters\n",
        "Many layers inside a neural network are *parameterized*, i.e. have associated weights\n",
        "and biases that are optimized during training. Subclassing ``nn.Module`` automatically\n",
        "tracks all fields defined inside your model object, and makes all parameters\n",
        "accessible using your model's ``parameters()`` or ``named_parameters()`` methods.\n",
        "\n",
        "In this example, we iterate over each parameter, and print its size and a preview of its values.\n",
        "\n",
        "\n"
      ]
    },
    {
      "cell_type": "code",
      "execution_count": 16,
      "metadata": {
        "id": "1erZ8OG4e-oP",
        "outputId": "9d635116-fc0c-4362-b7e6-77c870ff12f6",
        "colab": {
          "base_uri": "https://localhost:8080/"
        }
      },
      "outputs": [
        {
          "output_type": "stream",
          "name": "stdout",
          "text": [
            "Model structure: NeuralNetwork(\n",
            "  (flatten): Flatten(start_dim=1, end_dim=-1)\n",
            "  (linear_relu_stack): Sequential(\n",
            "    (0): Linear(in_features=784, out_features=512, bias=True)\n",
            "    (1): ReLU()\n",
            "    (2): Linear(in_features=512, out_features=420, bias=True)\n",
            "    (3): ReLU()\n",
            "    (4): Linear(in_features=420, out_features=512, bias=True)\n",
            "    (5): ReLU()\n",
            "    (6): Linear(in_features=512, out_features=10, bias=True)\n",
            "  )\n",
            ")\n",
            "\n",
            "\n",
            "Layer: linear_relu_stack.0.weight | Size: torch.Size([512, 784]) | Values : tensor([[-0.0018, -0.0349,  0.0299,  ..., -0.0162, -0.0295,  0.0066],\n",
            "        [-0.0302,  0.0163,  0.0251,  ...,  0.0031,  0.0191,  0.0062]],\n",
            "       device='cuda:0', grad_fn=<SliceBackward0>) \n",
            "\n",
            "Layer: linear_relu_stack.0.bias | Size: torch.Size([512]) | Values : tensor([0.0271, 0.0087], device='cuda:0', grad_fn=<SliceBackward0>) \n",
            "\n",
            "Layer: linear_relu_stack.2.weight | Size: torch.Size([420, 512]) | Values : tensor([[-0.0313,  0.0179, -0.0094,  ...,  0.0079, -0.0153, -0.0163],\n",
            "        [-0.0143, -0.0193, -0.0132,  ..., -0.0045,  0.0219, -0.0077]],\n",
            "       device='cuda:0', grad_fn=<SliceBackward0>) \n",
            "\n",
            "Layer: linear_relu_stack.2.bias | Size: torch.Size([420]) | Values : tensor([0.0317, 0.0359], device='cuda:0', grad_fn=<SliceBackward0>) \n",
            "\n",
            "Layer: linear_relu_stack.4.weight | Size: torch.Size([512, 420]) | Values : tensor([[-2.9871e-02, -4.7338e-02, -3.7163e-02,  3.7128e-02, -2.8564e-02,\n",
            "         -4.0014e-02,  3.9324e-02, -1.0722e-02, -9.4746e-03,  3.1032e-02,\n",
            "         -3.8958e-03, -3.2931e-02,  4.0674e-02, -3.4842e-02,  3.2864e-02,\n",
            "          2.4271e-02, -1.3019e-02,  2.9005e-03, -2.0555e-02,  4.1630e-02,\n",
            "          1.4071e-02,  3.5441e-02, -1.7295e-02, -8.8855e-03,  3.5700e-02,\n",
            "          2.9379e-02,  3.4002e-02, -4.0859e-02,  4.3186e-02,  1.3216e-02,\n",
            "          1.4806e-02,  2.4143e-02,  3.6344e-02, -3.7168e-04,  6.9301e-03,\n",
            "          4.8783e-02, -2.8705e-02, -2.3666e-02, -1.2960e-02, -3.5009e-02,\n",
            "         -2.0455e-02, -7.2948e-03,  1.1182e-02,  4.3855e-02,  2.2420e-03,\n",
            "          3.5897e-02,  7.8697e-03, -3.7256e-03, -2.6103e-02,  3.8244e-02,\n",
            "          6.6958e-03,  4.1242e-02, -1.6649e-02, -8.2482e-04, -3.4264e-02,\n",
            "         -4.8685e-02, -2.2274e-02,  4.2118e-02,  9.4320e-04, -2.5528e-02,\n",
            "         -5.2382e-03, -3.5881e-02,  2.6110e-02,  3.4738e-02,  4.5436e-03,\n",
            "         -4.2477e-02,  2.5338e-02, -8.0066e-03,  2.4795e-03, -1.8155e-02,\n",
            "          3.8015e-02, -4.0102e-02,  4.1133e-02,  5.8634e-03, -3.9411e-02,\n",
            "         -2.9931e-02,  7.7685e-03, -2.6588e-02,  2.5438e-02,  4.2319e-02,\n",
            "          4.0712e-02, -4.2436e-02, -3.0211e-02, -2.0754e-02,  3.9128e-02,\n",
            "         -4.7932e-02, -4.3573e-02,  1.3192e-02,  9.8756e-03,  3.0165e-02,\n",
            "          3.7764e-02,  3.6673e-02, -3.8947e-02, -1.2466e-02,  2.3494e-03,\n",
            "         -2.4312e-02, -3.8234e-02, -1.4199e-02, -1.1074e-02,  1.9279e-02,\n",
            "          4.7239e-03, -3.0371e-02, -3.9060e-02, -1.6991e-02, -4.4145e-02,\n",
            "          3.1034e-02, -1.0966e-03,  6.4624e-04,  2.1948e-02, -6.0009e-03,\n",
            "          4.6040e-03,  3.5174e-02,  4.5519e-03, -1.3712e-02, -4.6166e-02,\n",
            "          3.1968e-02, -4.3263e-02,  4.7120e-02,  2.2823e-02,  4.2148e-02,\n",
            "         -4.0614e-02,  4.2874e-02, -4.6257e-02, -3.1176e-02, -2.2627e-02,\n",
            "          6.6861e-03, -3.0354e-03, -4.1830e-02,  1.9930e-03,  2.1526e-02,\n",
            "         -1.8279e-02, -5.0215e-03, -2.8449e-04,  6.1019e-03,  1.9720e-02,\n",
            "         -1.0948e-03, -1.7302e-02, -1.4960e-02, -9.7159e-03,  1.8925e-02,\n",
            "          2.0990e-02, -1.6900e-03, -2.6742e-02,  4.3617e-02, -1.9348e-02,\n",
            "         -2.9960e-03,  4.3916e-02,  3.4125e-03, -1.5694e-02, -1.9061e-02,\n",
            "          2.5223e-02,  3.8997e-02, -1.4293e-02,  1.4617e-02,  1.3600e-02,\n",
            "          2.6013e-02, -2.8576e-02,  1.6781e-02,  1.2082e-02,  1.5818e-02,\n",
            "          2.6035e-02,  1.3107e-02, -5.5999e-03, -1.6391e-03, -1.9051e-02,\n",
            "         -1.0780e-02, -1.8598e-02,  2.5152e-02,  3.8166e-02, -7.5898e-03,\n",
            "          3.5050e-02, -2.9554e-03, -2.3306e-02,  1.5047e-02, -2.5395e-02,\n",
            "          2.3409e-02,  3.9672e-02, -2.1391e-02, -2.6087e-02,  3.4798e-02,\n",
            "         -1.5388e-02,  1.1861e-02, -2.9701e-02,  2.7376e-02, -1.0895e-02,\n",
            "          1.9267e-02, -4.5863e-02,  3.0893e-02,  4.6558e-02, -4.8511e-02,\n",
            "          3.2280e-02, -3.8556e-02,  4.5226e-02, -7.7184e-03,  3.4480e-02,\n",
            "          2.8422e-03, -3.9918e-02, -2.4982e-02,  3.3447e-02, -2.3511e-02,\n",
            "         -4.6657e-02,  4.8393e-02, -4.5239e-02,  3.9914e-02,  2.0678e-02,\n",
            "          3.2717e-02, -3.5130e-02,  3.3720e-02,  1.2096e-02,  1.6299e-02,\n",
            "          4.3263e-02, -1.7687e-02, -3.6064e-03, -4.0806e-02, -4.2819e-02,\n",
            "          4.5874e-02, -2.2409e-02,  1.2369e-02, -3.6048e-02, -3.9072e-02,\n",
            "         -1.4134e-02, -3.8686e-02, -1.8247e-02, -4.2402e-02, -9.5315e-04,\n",
            "          1.3408e-02,  1.0190e-02, -1.7709e-02,  2.0759e-02,  2.0735e-02,\n",
            "          4.5552e-03, -1.2816e-02, -4.2307e-02,  4.1484e-04, -3.6227e-02,\n",
            "         -7.7783e-03,  1.0091e-02, -1.8909e-02,  1.8687e-02,  2.0967e-03,\n",
            "         -6.0158e-04, -3.0747e-03,  3.3066e-02, -3.8254e-02,  1.5261e-02,\n",
            "         -3.7976e-03, -4.2733e-02, -4.6800e-02,  3.1800e-02, -2.7600e-02,\n",
            "         -4.3744e-02, -2.2659e-03,  4.9796e-03,  3.5945e-02, -4.1568e-02,\n",
            "          4.3898e-02,  1.8220e-02, -1.7161e-02, -2.4628e-02,  2.2939e-02,\n",
            "         -1.0643e-02, -1.0086e-02, -4.4384e-02,  3.8051e-02,  3.6116e-02,\n",
            "         -1.9959e-02, -2.5301e-02,  3.1003e-02, -6.6368e-03,  3.9260e-02,\n",
            "          3.5231e-02,  3.4706e-02, -1.5179e-02,  4.1265e-02, -2.3198e-02,\n",
            "          5.4190e-03,  3.5468e-02, -2.5441e-02, -3.1270e-02, -2.0872e-03,\n",
            "          1.3724e-02,  1.1353e-02,  1.3634e-02, -3.7033e-02, -9.7321e-03,\n",
            "          7.7740e-03,  1.8497e-03,  4.0012e-02, -4.3481e-02,  8.5663e-03,\n",
            "         -3.7504e-02,  8.5315e-03, -1.9702e-02,  9.2255e-03,  2.8627e-02,\n",
            "         -3.3333e-02,  4.2438e-02,  1.9028e-02,  2.6830e-02,  3.5132e-02,\n",
            "          1.9626e-02, -1.8638e-02, -4.6865e-02,  1.7768e-02, -6.7212e-03,\n",
            "          4.0743e-02, -5.1387e-03, -3.0065e-02, -1.0020e-03, -3.0264e-03,\n",
            "          1.8789e-02,  1.1964e-03,  4.0380e-02,  2.7597e-02,  1.3212e-03,\n",
            "          4.5069e-02,  3.3613e-02, -4.0432e-02,  1.2699e-02,  1.5823e-02,\n",
            "          1.8037e-02,  2.8966e-02,  1.6647e-02, -4.9313e-03,  4.5947e-02,\n",
            "         -1.6442e-02, -2.0550e-02,  3.3741e-02,  1.4548e-02,  2.1986e-02,\n",
            "          9.2724e-03, -2.4167e-03, -2.9414e-02, -3.0429e-02,  2.1385e-02,\n",
            "          4.3975e-02,  2.3102e-02, -2.7018e-02, -4.5980e-02, -1.2662e-02,\n",
            "          1.3179e-02, -1.4926e-02,  2.0963e-02,  2.1229e-02,  1.7705e-02,\n",
            "         -1.9885e-03, -4.1460e-02,  6.4768e-03,  3.3667e-02,  3.5583e-02,\n",
            "         -4.6318e-02,  2.2953e-02, -2.5130e-03,  8.0866e-03, -1.1910e-02,\n",
            "         -1.5024e-02, -5.6426e-03,  7.9152e-03,  2.7169e-02,  2.6374e-02,\n",
            "         -2.6864e-02,  9.3293e-03,  4.7604e-02,  1.4063e-02,  2.0767e-02,\n",
            "          7.9082e-03,  4.2175e-02, -2.1278e-02, -8.3165e-03,  2.5394e-02,\n",
            "          3.0592e-02,  1.8386e-02,  3.1329e-02,  4.2861e-03,  1.6825e-02,\n",
            "          1.2411e-02, -2.0426e-02, -6.4834e-03, -7.7162e-03,  1.0706e-02,\n",
            "          1.0968e-03, -7.0305e-03,  8.8539e-03,  8.3986e-03, -3.5724e-02,\n",
            "          1.1971e-02, -4.8208e-02,  6.8561e-03, -3.4019e-02,  2.6498e-02,\n",
            "          2.9633e-02,  2.6853e-02, -2.3719e-02,  7.8423e-03, -6.5758e-03,\n",
            "         -4.0183e-02, -4.7528e-02,  3.9035e-02,  3.3426e-02,  2.5058e-02,\n",
            "          3.8396e-02, -3.6515e-03,  4.5725e-02,  3.1410e-02, -2.1003e-02,\n",
            "         -3.9738e-02,  8.1847e-03, -4.4022e-02, -1.6236e-03, -1.4749e-02,\n",
            "         -3.6240e-02, -4.4091e-02,  3.7312e-02,  2.3216e-02, -3.4016e-02,\n",
            "          1.1150e-02, -1.0526e-02,  3.2474e-02,  1.2785e-02, -3.4037e-02],\n",
            "        [-3.4298e-02,  2.1251e-02,  2.6297e-02,  3.2774e-02,  8.6168e-03,\n",
            "          4.1896e-02, -3.2895e-04,  1.3183e-02,  2.5999e-02, -2.7711e-02,\n",
            "         -1.5495e-02, -3.6060e-02, -4.9603e-03, -2.3848e-02,  2.3439e-02,\n",
            "          2.8715e-02,  2.5827e-02, -1.5235e-03,  5.1744e-03, -9.8987e-03,\n",
            "         -3.1521e-02,  4.2492e-02, -4.1824e-02, -4.3827e-02,  1.7790e-02,\n",
            "         -2.7480e-02,  4.5909e-02, -4.2547e-02, -5.5522e-03,  3.5574e-02,\n",
            "         -3.7180e-02,  4.4506e-02,  3.2442e-02, -4.4535e-02, -6.3801e-03,\n",
            "          3.9297e-02, -3.1561e-02,  7.5648e-03, -1.7187e-03, -3.2661e-02,\n",
            "         -2.2844e-02,  2.2578e-02, -4.1101e-02, -3.6953e-02,  4.0546e-02,\n",
            "          4.3885e-02,  3.2759e-02,  1.9249e-02, -1.4872e-03,  1.6351e-02,\n",
            "         -2.5667e-02,  1.6523e-03,  3.7935e-02,  2.5102e-02,  1.9993e-03,\n",
            "          1.1964e-02, -2.9431e-02,  1.1894e-02,  2.1089e-02, -2.7475e-03,\n",
            "          3.6477e-02,  1.9806e-02,  9.3178e-03, -8.5903e-03,  1.5787e-02,\n",
            "         -6.5055e-05, -3.3609e-03,  9.9321e-03,  4.0843e-03,  4.4923e-02,\n",
            "          1.8433e-02, -3.9263e-02, -3.3731e-03,  1.5865e-02, -4.4399e-02,\n",
            "          2.6747e-02,  1.8476e-02,  3.9526e-02,  2.3675e-02,  1.5640e-03,\n",
            "         -1.8956e-02,  8.3741e-03,  2.8103e-02,  4.5724e-04,  1.1324e-02,\n",
            "         -1.3792e-02, -1.5030e-02,  1.1090e-02,  6.5119e-03, -4.4756e-02,\n",
            "          1.5275e-02,  6.7965e-03, -3.0970e-02, -1.9706e-02,  4.8347e-02,\n",
            "          4.6811e-02, -2.4732e-02,  2.9521e-02,  1.3024e-02,  4.4115e-02,\n",
            "         -2.6162e-02, -4.9112e-03, -1.2980e-02,  4.4102e-02,  1.9791e-02,\n",
            "          3.6711e-02, -4.4206e-02,  2.3772e-02,  4.5500e-02, -6.8004e-03,\n",
            "          4.1144e-02, -9.7451e-03, -3.6503e-02,  4.6790e-02, -2.3198e-03,\n",
            "          3.3553e-02,  7.9297e-03,  3.8425e-02, -3.3474e-02,  3.6539e-02,\n",
            "          2.3190e-02, -2.3277e-02,  4.4627e-02,  3.7196e-02,  2.6022e-02,\n",
            "          1.2171e-02,  5.5178e-03, -4.2555e-02, -3.6708e-02, -9.2610e-03,\n",
            "         -5.5434e-03, -4.5632e-02,  2.6676e-02, -3.0091e-02,  6.3683e-03,\n",
            "         -1.0591e-02, -2.4819e-02, -7.3967e-05,  1.0213e-02,  3.1338e-03,\n",
            "         -1.6608e-02, -1.8410e-02, -3.9764e-02,  3.0936e-02,  3.8046e-02,\n",
            "          1.4781e-02,  3.9762e-02,  4.6476e-03,  2.9873e-03, -3.4767e-02,\n",
            "         -1.8450e-02, -2.2626e-03, -4.7397e-02, -4.5077e-02,  1.9609e-02,\n",
            "          1.9913e-02, -3.6946e-02, -1.6531e-02,  3.2645e-02,  2.7381e-02,\n",
            "         -1.9977e-02, -4.3924e-02,  2.1604e-02,  2.1564e-02,  3.9291e-03,\n",
            "          1.1081e-02, -5.7151e-03,  3.7803e-02,  1.8316e-02,  2.4625e-02,\n",
            "          7.3595e-03, -4.6998e-02, -9.1168e-03,  5.1085e-03, -3.3086e-02,\n",
            "         -4.8699e-02, -3.3465e-02,  3.9242e-02, -2.7645e-02, -3.0733e-02,\n",
            "          3.8865e-02, -1.1023e-02, -4.0555e-02, -4.4845e-02, -3.6033e-02,\n",
            "          4.0572e-02,  2.1765e-02,  3.1600e-02,  1.7727e-02,  3.2154e-03,\n",
            "         -3.1716e-02, -1.1677e-02, -1.6804e-02,  2.9843e-02,  1.4843e-02,\n",
            "         -2.1456e-02, -3.6380e-02,  1.7923e-02, -3.8351e-02,  3.5806e-02,\n",
            "          1.1910e-02, -3.2580e-02, -8.6202e-03,  1.6499e-02, -9.5273e-03,\n",
            "         -4.1748e-02,  3.7468e-02,  2.0693e-02,  4.6885e-03,  7.7070e-03,\n",
            "          4.4990e-02, -3.3872e-02,  2.0429e-02,  1.3545e-02,  1.1814e-02,\n",
            "         -1.6699e-02,  1.5459e-02, -2.9959e-02,  1.2476e-02, -3.4841e-02,\n",
            "         -4.9520e-03,  1.2804e-02,  4.2827e-02,  3.3374e-02, -3.0170e-02,\n",
            "         -1.7641e-02, -1.7103e-02, -1.8435e-02,  3.8543e-02,  4.8626e-02,\n",
            "          4.6034e-02,  1.9857e-02, -4.3229e-02, -1.6920e-02, -3.8762e-02,\n",
            "          3.2945e-02, -4.5262e-02,  4.3563e-02, -3.8530e-02,  2.4394e-02,\n",
            "          3.2172e-02,  1.6400e-02,  2.6768e-02, -3.6110e-02, -2.0501e-02,\n",
            "         -4.3707e-03,  1.5065e-02, -3.6002e-02, -4.1106e-02, -3.8643e-02,\n",
            "         -3.8682e-02, -9.2600e-03,  1.2025e-02, -2.3333e-03, -1.0658e-02,\n",
            "         -2.8780e-04,  2.1668e-02, -1.8030e-02, -2.4427e-02,  2.4920e-02,\n",
            "         -3.8625e-02,  4.5366e-02, -5.7262e-03, -2.9542e-02,  3.6282e-02,\n",
            "          3.6192e-02,  1.4331e-02, -8.6736e-03, -2.7075e-02, -1.8893e-02,\n",
            "         -1.9180e-02, -1.5474e-02, -3.7806e-02, -3.5287e-02,  1.1290e-02,\n",
            "         -3.7991e-02,  2.7183e-02,  6.9493e-03,  2.3984e-03,  1.1549e-02,\n",
            "         -2.5533e-02, -2.5623e-03,  2.0090e-02,  1.3619e-02,  2.3089e-02,\n",
            "         -2.9526e-02,  1.7169e-02, -2.2735e-02,  1.2696e-02, -8.9152e-03,\n",
            "         -1.5344e-03, -3.7755e-02,  1.4168e-02, -6.3131e-03,  1.9055e-02,\n",
            "          2.1576e-02, -2.5215e-04, -7.8130e-03, -8.7052e-03, -4.4589e-02,\n",
            "         -2.7274e-02,  9.6571e-03, -4.3182e-02, -2.5073e-03, -1.7639e-02,\n",
            "          1.9419e-02, -7.9974e-03,  4.3905e-02, -3.8149e-02, -3.3172e-02,\n",
            "          9.1778e-03,  2.0941e-03, -4.3240e-02,  4.5751e-02,  8.7916e-03,\n",
            "          3.9396e-02, -4.3181e-02, -2.1230e-02, -2.0429e-02,  1.8287e-03,\n",
            "          1.5846e-02, -3.9862e-02, -4.3206e-02, -9.9891e-03, -3.6293e-02,\n",
            "         -4.3175e-02,  3.7482e-02, -4.4061e-02, -3.8190e-02, -3.1877e-02,\n",
            "         -1.1633e-02,  1.8808e-02, -3.3157e-04,  1.0814e-02, -3.3816e-02,\n",
            "          4.7289e-02,  2.5687e-02, -5.8347e-03, -1.5762e-02,  1.7376e-02,\n",
            "         -2.9940e-02,  2.6772e-02,  3.0556e-02,  4.4360e-02, -1.3415e-02,\n",
            "         -2.6491e-02,  3.5857e-02,  2.1206e-02,  4.8096e-02,  3.4413e-02,\n",
            "          3.1087e-03,  3.6821e-02,  3.8750e-02, -4.1409e-02,  4.7433e-02,\n",
            "          2.7025e-02,  3.6935e-02, -1.1954e-02, -2.7092e-02, -2.2732e-02,\n",
            "         -3.1347e-02,  2.8962e-02, -3.6596e-02,  3.1643e-02,  2.0815e-02,\n",
            "          3.6929e-03, -2.3784e-02, -3.1085e-03, -2.3559e-02, -2.9318e-02,\n",
            "         -3.3032e-02,  2.5723e-02, -1.6616e-02, -1.8669e-02,  3.9088e-02,\n",
            "         -3.3476e-02, -4.6481e-02, -4.8788e-02,  9.8889e-03,  4.6604e-04,\n",
            "          9.7143e-03, -2.1132e-03,  8.9390e-03,  3.3131e-02, -2.1766e-02,\n",
            "          9.5691e-03,  1.5348e-02,  2.4482e-02,  1.0063e-02,  3.9176e-02,\n",
            "         -3.4039e-02, -2.7426e-02, -4.6123e-02,  1.7146e-02,  1.8522e-02,\n",
            "         -3.4603e-02,  1.8405e-02,  4.0188e-02,  5.0428e-03, -3.4123e-02,\n",
            "         -1.5788e-03, -4.1361e-02,  4.3444e-02,  3.3178e-02,  3.5679e-03,\n",
            "          2.9625e-03,  2.5257e-02, -3.0547e-03,  4.7826e-02, -1.1902e-02,\n",
            "         -1.8891e-02, -7.1277e-03,  8.1164e-03, -1.4990e-03,  3.1968e-02,\n",
            "         -2.9128e-02, -4.4778e-02, -1.5329e-02, -2.1551e-02,  2.2641e-02]],\n",
            "       device='cuda:0', grad_fn=<SliceBackward0>) \n",
            "\n",
            "Layer: linear_relu_stack.4.bias | Size: torch.Size([512]) | Values : tensor([-0.0388, -0.0294], device='cuda:0', grad_fn=<SliceBackward0>) \n",
            "\n",
            "Layer: linear_relu_stack.6.weight | Size: torch.Size([10, 512]) | Values : tensor([[-0.0056, -0.0435,  0.0265,  ...,  0.0417,  0.0424, -0.0221],\n",
            "        [-0.0425, -0.0216,  0.0099,  ...,  0.0017, -0.0305, -0.0120]],\n",
            "       device='cuda:0', grad_fn=<SliceBackward0>) \n",
            "\n",
            "Layer: linear_relu_stack.6.bias | Size: torch.Size([10]) | Values : tensor([ 0.0355, -0.0015], device='cuda:0', grad_fn=<SliceBackward0>) \n",
            "\n"
          ]
        }
      ],
      "source": [
        "print(f\"Model structure: {model}\\n\\n\")\n",
        "\n",
        "for name, param in model.named_parameters():\n",
        "    print(f\"Layer: {name} | Size: {param.size()} | Values : {param[:2]} \\n\")"
      ]
    },
    {
      "cell_type": "markdown",
      "metadata": {
        "id": "xzXNtJNze-oP"
      },
      "source": [
        "--------------\n",
        "\n",
        "\n"
      ]
    },
    {
      "cell_type": "markdown",
      "metadata": {
        "id": "Hgj3xjcIe-oP"
      },
      "source": [
        "## Further Reading\n",
        "- [torch.nn API](https://pytorch.org/docs/stable/nn.html)\n",
        "\n"
      ]
    }
  ],
  "metadata": {
    "kernelspec": {
      "display_name": "Python 3",
      "language": "python",
      "name": "python3"
    },
    "language_info": {
      "codemirror_mode": {
        "name": "ipython",
        "version": 3
      },
      "file_extension": ".py",
      "mimetype": "text/x-python",
      "name": "python",
      "nbconvert_exporter": "python",
      "pygments_lexer": "ipython3",
      "version": "3.10.4"
    },
    "colab": {
      "provenance": []
    },
    "accelerator": "GPU",
    "gpuClass": "standard"
  },
  "nbformat": 4,
  "nbformat_minor": 0
}