{
  "cells": [
    {
      "cell_type": "code",
      "execution_count": 1,
      "metadata": {
        "id": "Mw7FVt2Je_4n"
      },
      "outputs": [],
      "source": [
        "%matplotlib inline"
      ]
    },
    {
      "cell_type": "markdown",
      "metadata": {
        "id": "l3wo43Jze_4r"
      },
      "source": [
        "\n",
        "[Learn the Basics](intro.html) ||\n",
        "[Quickstart](quickstart_tutorial.html) ||\n",
        "[Tensors](tensorqs_tutorial.html) ||\n",
        "[Datasets & DataLoaders](data_tutorial.html) ||\n",
        "[Transforms](transforms_tutorial.html) ||\n",
        "**Build Model** ||\n",
        "[Autograd](autogradqs_tutorial.html) ||\n",
        "[Optimization](optimization_tutorial.html) ||\n",
        "[Save & Load Model](saveloadrun_tutorial.html)\n",
        "\n",
        "# Build the Neural Network\n",
        "\n",
        "Neural networks comprise of layers/modules that perform operations on data.\n",
        "The [torch.nn](https://pytorch.org/docs/stable/nn.html) namespace provides all the building blocks you need to\n",
        "build your own neural network. Every module in PyTorch subclasses the [nn.Module](https://pytorch.org/docs/stable/generated/torch.nn.Module.html).\n",
        "A neural network is a module itself that consists of other modules (layers). This nested structure allows for\n",
        "building and managing complex architectures easily.\n",
        "\n",
        "In the following sections, we'll build a neural network to classify images in the FashionMNIST dataset.\n"
      ]
    },
    {
      "cell_type": "code",
      "execution_count": 2,
      "metadata": {
        "id": "8LqtNow9e_4t"
      },
      "outputs": [],
      "source": [
        "import os\n",
        "import torch\n",
        "from torch import nn\n",
        "from torch.utils.data import DataLoader\n",
        "from torchvision import datasets, transforms"
      ]
    },
    {
      "cell_type": "markdown",
      "metadata": {
        "id": "EtX0Djz9e_4t"
      },
      "source": [
        "## Get Device for Training\n",
        "We want to be able to train our model on a hardware accelerator like the GPU,\n",
        "if it is available. Let's check to see if\n",
        "[torch.cuda](https://pytorch.org/docs/stable/notes/cuda.html) is available, else we\n",
        "continue to use the CPU.\n",
        "\n"
      ]
    },
    {
      "cell_type": "code",
      "execution_count": 3,
      "metadata": {
        "id": "OFZ3M9K5e_40",
        "outputId": "aea48151-1d9d-4af6-df67-ee929ae251eb",
        "colab": {
          "base_uri": "https://localhost:8080/"
        }
      },
      "outputs": [
        {
          "output_type": "stream",
          "name": "stdout",
          "text": [
            "Using cuda device\n"
          ]
        }
      ],
      "source": [
        "device = \"cuda\" if torch.cuda.is_available() else \"cpu\"\n",
        "print(f\"Using {device} device\")"
      ]
    },
    {
      "cell_type": "markdown",
      "metadata": {
        "id": "4Ut6U4R2e_41"
      },
      "source": [
        "## Define the Class\n",
        "We define our neural network by subclassing ``nn.Module``, and\n",
        "initialize the neural network layers in ``__init__``. Every ``nn.Module`` subclass implements\n",
        "the operations on input data in the ``forward`` method.\n",
        "\n"
      ]
    },
    {
      "cell_type": "code",
      "execution_count": 14,
      "metadata": {
        "id": "V59HDXm2e_42"
      },
      "outputs": [],
      "source": [
        "class NeuralNetwork(nn.Module):\n",
        "    def __init__(self):\n",
        "        super(NeuralNetwork, self).__init__()\n",
        "        self.flatten = nn.Flatten()\n",
        "        self.linear_relu_stack = nn.Sequential(\n",
        "            nn.Linear(28*28, 1024),\n",
        "            nn.ReLU(),\n",
        "            nn.Linear(1024, 512),\n",
        "            nn.ReLU(),\n",
        "            nn.Linear(512,256),\n",
        "            nn.ReLU(),\n",
        "            nn.Linear(256, 10),\n",
        "        )\n",
        "\n",
        "    def forward(self, x):\n",
        "        x = self.flatten(x)\n",
        "        logits = self.linear_relu_stack(x)\n",
        "        return logits"
      ]
    },
    {
      "cell_type": "markdown",
      "metadata": {
        "id": "Ja2BSeole_43"
      },
      "source": [
        "We create an instance of ``NeuralNetwork``, and move it to the ``device``, and print\n",
        "its structure.\n",
        "\n"
      ]
    },
    {
      "cell_type": "code",
      "execution_count": 15,
      "metadata": {
        "id": "eAAxw35Ne_43",
        "outputId": "91638a1c-353c-4aa5-fb7e-47eeacc7d6e3",
        "colab": {
          "base_uri": "https://localhost:8080/"
        }
      },
      "outputs": [
        {
          "output_type": "stream",
          "name": "stdout",
          "text": [
            "NeuralNetwork(\n",
            "  (flatten): Flatten(start_dim=1, end_dim=-1)\n",
            "  (linear_relu_stack): Sequential(\n",
            "    (0): Linear(in_features=784, out_features=1024, bias=True)\n",
            "    (1): ReLU()\n",
            "    (2): Linear(in_features=1024, out_features=512, bias=True)\n",
            "    (3): ReLU()\n",
            "    (4): Linear(in_features=512, out_features=256, bias=True)\n",
            "    (5): ReLU()\n",
            "    (6): Linear(in_features=256, out_features=10, bias=True)\n",
            "  )\n",
            ")\n"
          ]
        }
      ],
      "source": [
        "model = NeuralNetwork().to(device)\n",
        "print(model)"
      ]
    },
    {
      "cell_type": "markdown",
      "metadata": {
        "id": "ReNq4p9Oe_44"
      },
      "source": [
        "To use the model, we pass it the input data. This executes the model's ``forward``,\n",
        "along with some [background operations](https://github.com/pytorch/pytorch/blob/270111b7b611d174967ed204776985cefca9c144/torch/nn/modules/module.py#L866).\n",
        "Do not call ``model.forward()`` directly!\n",
        "\n",
        "Calling the model on the input returns a 2-dimensional tensor with dim=0 corresponding to each output of 10 raw predicted values for each class, and dim=1 corresponding to the individual values of each output.  .\n",
        "We get the prediction probabilities by passing it through an instance of the ``nn.Softmax`` module.\n",
        "\n"
      ]
    },
    {
      "cell_type": "code",
      "execution_count": 16,
      "metadata": {
        "id": "BJnS3ljSe_45",
        "outputId": "d3efaf00-6eeb-43c6-ae79-40b7282a20e2",
        "colab": {
          "base_uri": "https://localhost:8080/"
        }
      },
      "outputs": [
        {
          "output_type": "stream",
          "name": "stdout",
          "text": [
            "Predicted class: tensor([2], device='cuda:0')\n"
          ]
        }
      ],
      "source": [
        "X = torch.rand(1, 28, 28, device=device)\n",
        "logits = model(X)\n",
        "pred_probab = nn.Softmax(dim=1)(logits)\n",
        "y_pred = pred_probab.argmax(1)\n",
        "print(f\"Predicted class: {y_pred}\")"
      ]
    },
    {
      "cell_type": "markdown",
      "metadata": {
        "id": "eDRC3BLee_45"
      },
      "source": [
        "--------------\n",
        "\n",
        "\n"
      ]
    },
    {
      "cell_type": "markdown",
      "metadata": {
        "id": "z4bG4jeVe_45"
      },
      "source": [
        "## Model Layers\n",
        "\n",
        "Let's break down the layers in the FashionMNIST model. To illustrate it, we\n",
        "will take a sample minibatch of 3 images of size 28x28 and see what happens to it as\n",
        "we pass it through the network.\n",
        "\n"
      ]
    },
    {
      "cell_type": "code",
      "execution_count": 17,
      "metadata": {
        "id": "gbZEiCTke_46",
        "outputId": "9be0e751-cfbf-43b6-bc4c-ee8845f1ba4f",
        "colab": {
          "base_uri": "https://localhost:8080/"
        }
      },
      "outputs": [
        {
          "output_type": "stream",
          "name": "stdout",
          "text": [
            "torch.Size([3, 28, 28])\n"
          ]
        }
      ],
      "source": [
        "input_image = torch.rand(3,28,28)\n",
        "print(input_image.size())"
      ]
    },
    {
      "cell_type": "markdown",
      "metadata": {
        "id": "VxytSLpQe_46"
      },
      "source": [
        "### nn.Flatten\n",
        "We initialize the [nn.Flatten](https://pytorch.org/docs/stable/generated/torch.nn.Flatten.html)\n",
        "layer to convert each 2D 28x28 image into a contiguous array of 784 pixel values (\n",
        "the minibatch dimension (at dim=0) is maintained).\n",
        "\n"
      ]
    },
    {
      "cell_type": "code",
      "execution_count": 18,
      "metadata": {
        "id": "XkqQBAfRe_47",
        "outputId": "4bee3f51-53a1-48b7-f408-7eab328a9012",
        "colab": {
          "base_uri": "https://localhost:8080/"
        }
      },
      "outputs": [
        {
          "output_type": "stream",
          "name": "stdout",
          "text": [
            "torch.Size([3, 784])\n"
          ]
        }
      ],
      "source": [
        "flatten = nn.Flatten()\n",
        "flat_image = flatten(input_image)\n",
        "print(flat_image.size())"
      ]
    },
    {
      "cell_type": "markdown",
      "metadata": {
        "id": "LGvR0wRPe_47"
      },
      "source": [
        "### nn.Linear\n",
        "The [linear layer](https://pytorch.org/docs/stable/generated/torch.nn.Linear.html)\n",
        "is a module that applies a linear transformation on the input using its stored weights and biases.\n",
        "\n",
        "\n"
      ]
    },
    {
      "cell_type": "code",
      "execution_count": 19,
      "metadata": {
        "id": "UJqP9zHce_47",
        "outputId": "ddd7237a-d987-4fc7-e806-1dbf81852436",
        "colab": {
          "base_uri": "https://localhost:8080/"
        }
      },
      "outputs": [
        {
          "output_type": "stream",
          "name": "stdout",
          "text": [
            "torch.Size([3, 20])\n"
          ]
        }
      ],
      "source": [
        "layer1 = nn.Linear(in_features=28*28, out_features=20)\n",
        "hidden1 = layer1(flat_image)\n",
        "print(hidden1.size())"
      ]
    },
    {
      "cell_type": "markdown",
      "metadata": {
        "id": "PjSFqtPKe_48"
      },
      "source": [
        "### nn.ReLU\n",
        "Non-linear activations are what create the complex mappings between the model's inputs and outputs.\n",
        "They are applied after linear transformations to introduce *nonlinearity*, helping neural networks\n",
        "learn a wide variety of phenomena.\n",
        "\n",
        "In this model, we use [nn.ReLU](https://pytorch.org/docs/stable/generated/torch.nn.ReLU.html) between our\n",
        "linear layers, but there's other activations to introduce non-linearity in your model.\n",
        "\n"
      ]
    },
    {
      "cell_type": "code",
      "execution_count": 20,
      "metadata": {
        "id": "PdJ6CjoNe_48",
        "outputId": "4ecaf648-6412-4f5b-cc44-91082e42a199",
        "colab": {
          "base_uri": "https://localhost:8080/"
        }
      },
      "outputs": [
        {
          "output_type": "stream",
          "name": "stdout",
          "text": [
            "Before ReLU: tensor([[-0.5699,  0.2382, -0.0138, -0.1097,  0.4378,  0.2440,  0.2686,  0.8986,\n",
            "          0.1560,  0.0088,  0.2908, -0.5943,  0.2207, -0.3954,  0.4246, -0.2558,\n",
            "         -0.2682, -0.1066,  0.3546, -0.0745],\n",
            "        [-0.7215, -0.0074, -0.0400, -0.0767,  0.3845,  0.7057,  0.0865,  0.6533,\n",
            "          0.1834,  0.1835,  0.4050, -0.5249,  0.0672, -0.6996,  0.1373, -0.2844,\n",
            "          0.0956, -0.0355,  0.1715,  0.1458],\n",
            "        [-0.3871,  0.2170,  0.4069, -0.1571,  0.5204,  0.5193, -0.1885,  0.7020,\n",
            "          0.0035, -0.0155,  0.3038, -0.5508,  0.1561, -0.4608,  0.2355, -0.0489,\n",
            "         -0.1926, -0.0783,  0.4968, -0.2025]], grad_fn=<AddmmBackward0>)\n",
            "\n",
            "\n",
            "After ReLU: tensor([[0.0000, 0.2382, 0.0000, 0.0000, 0.4378, 0.2440, 0.2686, 0.8986, 0.1560,\n",
            "         0.0088, 0.2908, 0.0000, 0.2207, 0.0000, 0.4246, 0.0000, 0.0000, 0.0000,\n",
            "         0.3546, 0.0000],\n",
            "        [0.0000, 0.0000, 0.0000, 0.0000, 0.3845, 0.7057, 0.0865, 0.6533, 0.1834,\n",
            "         0.1835, 0.4050, 0.0000, 0.0672, 0.0000, 0.1373, 0.0000, 0.0956, 0.0000,\n",
            "         0.1715, 0.1458],\n",
            "        [0.0000, 0.2170, 0.4069, 0.0000, 0.5204, 0.5193, 0.0000, 0.7020, 0.0035,\n",
            "         0.0000, 0.3038, 0.0000, 0.1561, 0.0000, 0.2355, 0.0000, 0.0000, 0.0000,\n",
            "         0.4968, 0.0000]], grad_fn=<ReluBackward0>)\n"
          ]
        }
      ],
      "source": [
        "print(f\"Before ReLU: {hidden1}\\n\\n\")\n",
        "hidden1 = nn.ReLU()(hidden1)\n",
        "print(f\"After ReLU: {hidden1}\")"
      ]
    },
    {
      "cell_type": "markdown",
      "metadata": {
        "id": "vFIcIVDQe_48"
      },
      "source": [
        "### nn.Sequential\n",
        "[nn.Sequential](https://pytorch.org/docs/stable/generated/torch.nn.Sequential.html) is an ordered\n",
        "container of modules. The data is passed through all the modules in the same order as defined. You can use\n",
        "sequential containers to put together a quick network like ``seq_modules``.\n",
        "\n"
      ]
    },
    {
      "cell_type": "code",
      "execution_count": 21,
      "metadata": {
        "id": "RW-H3QsJe_49"
      },
      "outputs": [],
      "source": [
        "seq_modules = nn.Sequential(\n",
        "    flatten,\n",
        "    layer1,\n",
        "    nn.ReLU(),\n",
        "    nn.Linear(20, 10)\n",
        ")\n",
        "input_image = torch.rand(3,28,28)\n",
        "logits = seq_modules(input_image)"
      ]
    },
    {
      "cell_type": "markdown",
      "metadata": {
        "id": "phvth-cSe_49"
      },
      "source": [
        "### nn.Softmax\n",
        "The last linear layer of the neural network returns `logits` - raw values in [-\\infty, \\infty] - which are passed to the\n",
        "[nn.Softmax](https://pytorch.org/docs/stable/generated/torch.nn.Softmax.html) module. The logits are scaled to values\n",
        "[0, 1] representing the model's predicted probabilities for each class. ``dim`` parameter indicates the dimension along\n",
        "which the values must sum to 1.\n",
        "\n"
      ]
    },
    {
      "cell_type": "code",
      "execution_count": 22,
      "metadata": {
        "id": "icgqmMbHe_49"
      },
      "outputs": [],
      "source": [
        "softmax = nn.Softmax(dim=1)\n",
        "pred_probab = softmax(logits)"
      ]
    },
    {
      "cell_type": "markdown",
      "metadata": {
        "id": "222xTKLHe_49"
      },
      "source": [
        "## Model Parameters\n",
        "Many layers inside a neural network are *parameterized*, i.e. have associated weights\n",
        "and biases that are optimized during training. Subclassing ``nn.Module`` automatically\n",
        "tracks all fields defined inside your model object, and makes all parameters\n",
        "accessible using your model's ``parameters()`` or ``named_parameters()`` methods.\n",
        "\n",
        "In this example, we iterate over each parameter, and print its size and a preview of its values.\n",
        "\n",
        "\n"
      ]
    },
    {
      "cell_type": "code",
      "execution_count": 23,
      "metadata": {
        "id": "Il_UvVWse_4-",
        "outputId": "419cfc95-21f2-4cd4-cc49-6ca235c43514",
        "colab": {
          "base_uri": "https://localhost:8080/"
        }
      },
      "outputs": [
        {
          "output_type": "stream",
          "name": "stdout",
          "text": [
            "Model structure: NeuralNetwork(\n",
            "  (flatten): Flatten(start_dim=1, end_dim=-1)\n",
            "  (linear_relu_stack): Sequential(\n",
            "    (0): Linear(in_features=784, out_features=1024, bias=True)\n",
            "    (1): ReLU()\n",
            "    (2): Linear(in_features=1024, out_features=512, bias=True)\n",
            "    (3): ReLU()\n",
            "    (4): Linear(in_features=512, out_features=256, bias=True)\n",
            "    (5): ReLU()\n",
            "    (6): Linear(in_features=256, out_features=10, bias=True)\n",
            "  )\n",
            ")\n",
            "\n",
            "\n",
            "Layer: linear_relu_stack.0.weight | Size: torch.Size([1024, 784]) | Values : tensor([[ 0.0354, -0.0097,  0.0310,  ...,  0.0147,  0.0265, -0.0331],\n",
            "        [-0.0345, -0.0005,  0.0005,  ..., -0.0060, -0.0016, -0.0146]],\n",
            "       device='cuda:0', grad_fn=<SliceBackward0>) \n",
            "\n",
            "Layer: linear_relu_stack.0.bias | Size: torch.Size([1024]) | Values : tensor([ 0.0173, -0.0276], device='cuda:0', grad_fn=<SliceBackward0>) \n",
            "\n",
            "Layer: linear_relu_stack.2.weight | Size: torch.Size([512, 1024]) | Values : tensor([[-0.0187, -0.0058,  0.0012,  ..., -0.0048,  0.0120,  0.0058],\n",
            "        [ 0.0239,  0.0160,  0.0060,  ..., -0.0137,  0.0187, -0.0145]],\n",
            "       device='cuda:0', grad_fn=<SliceBackward0>) \n",
            "\n",
            "Layer: linear_relu_stack.2.bias | Size: torch.Size([512]) | Values : tensor([-0.0208, -0.0003], device='cuda:0', grad_fn=<SliceBackward0>) \n",
            "\n",
            "Layer: linear_relu_stack.4.weight | Size: torch.Size([256, 512]) | Values : tensor([[ 0.0081, -0.0322, -0.0351,  ...,  0.0096,  0.0087, -0.0282],\n",
            "        [-0.0209, -0.0103, -0.0239,  ...,  0.0046, -0.0146, -0.0115]],\n",
            "       device='cuda:0', grad_fn=<SliceBackward0>) \n",
            "\n",
            "Layer: linear_relu_stack.4.bias | Size: torch.Size([256]) | Values : tensor([-0.0173, -0.0427], device='cuda:0', grad_fn=<SliceBackward0>) \n",
            "\n",
            "Layer: linear_relu_stack.6.weight | Size: torch.Size([10, 256]) | Values : tensor([[ 3.1314e-02,  1.8310e-02, -2.8202e-02,  1.1766e-02, -5.0632e-02,\n",
            "         -4.4800e-02, -4.6924e-02, -2.0289e-03,  5.6076e-02, -4.6254e-02,\n",
            "         -5.8872e-03, -3.4649e-02,  5.0888e-02, -5.6659e-02,  2.9995e-02,\n",
            "         -3.4005e-02,  4.9651e-03,  2.5913e-02,  1.9688e-02,  2.6773e-02,\n",
            "         -1.7404e-02,  5.6037e-02, -2.8692e-02, -4.7295e-02,  4.2802e-02,\n",
            "         -3.7789e-02,  4.9732e-03, -3.8903e-02,  1.9229e-02,  6.0765e-03,\n",
            "          1.5236e-02,  5.8963e-02, -5.5218e-02, -1.1178e-02,  4.5438e-02,\n",
            "         -3.3116e-02,  2.2926e-02, -3.9232e-02, -6.0021e-03, -1.1639e-02,\n",
            "         -3.9656e-02, -3.4360e-02, -4.5195e-02, -4.1804e-02, -1.4228e-02,\n",
            "          2.5258e-02, -5.6660e-02,  9.2167e-03,  3.4752e-03,  1.9548e-02,\n",
            "          9.2240e-03,  8.2620e-03, -1.6563e-02,  1.2957e-02, -1.7091e-02,\n",
            "         -6.1173e-03, -7.6199e-04, -4.3809e-02, -1.6116e-05, -8.0332e-03,\n",
            "          5.1765e-02,  1.3983e-02,  5.9921e-02, -3.3860e-02,  2.6134e-02,\n",
            "         -1.8755e-02, -7.7584e-04, -4.1529e-02,  4.2381e-02, -2.8887e-02,\n",
            "         -1.6445e-02,  1.0648e-02,  5.3296e-03, -2.2766e-02, -2.3759e-02,\n",
            "          5.1792e-02,  1.4997e-02, -2.5852e-02, -8.9838e-04, -5.2697e-02,\n",
            "         -4.5497e-02,  5.6632e-02,  5.8799e-03, -6.1623e-02, -4.4534e-02,\n",
            "          1.5960e-02,  2.3028e-02, -2.0624e-02, -5.5964e-02,  2.9824e-02,\n",
            "          9.0181e-04,  4.5819e-02, -1.6325e-02, -5.9930e-02,  2.3220e-02,\n",
            "          5.4536e-02, -6.4669e-03,  2.5898e-02,  3.9260e-02, -3.2157e-02,\n",
            "         -2.0860e-02, -7.7770e-03,  1.5807e-02, -1.6519e-02,  4.4506e-02,\n",
            "          3.7301e-02, -2.0712e-02, -2.5497e-02,  9.0379e-03, -6.1864e-02,\n",
            "         -2.8619e-02,  5.7186e-02,  2.0387e-03, -4.3310e-02, -5.5583e-02,\n",
            "          5.4875e-02,  2.8771e-02,  5.7093e-02,  3.9238e-02,  3.3575e-02,\n",
            "         -1.7695e-03, -2.3867e-02,  4.0013e-02,  3.5130e-02,  3.9329e-02,\n",
            "         -3.3491e-02, -1.6750e-03, -1.2385e-02, -9.7426e-03, -4.7495e-02,\n",
            "         -1.8396e-02, -1.2747e-02,  7.1166e-03, -4.1884e-02, -5.8587e-02,\n",
            "          4.0210e-02, -3.8110e-05,  3.5109e-02,  4.6010e-02,  4.7386e-02,\n",
            "          7.9089e-04, -6.0538e-02,  3.8356e-02,  8.2711e-03, -1.1717e-02,\n",
            "          1.3245e-02, -3.1527e-02,  4.4372e-02,  4.3356e-02, -3.2005e-02,\n",
            "         -5.3422e-02,  3.5470e-02, -3.3670e-02, -6.5375e-03, -3.2670e-02,\n",
            "         -3.3284e-02,  5.4865e-02, -3.7575e-02,  3.0342e-02, -3.2341e-02,\n",
            "          4.5132e-02, -1.6452e-02, -3.0838e-02, -4.6373e-02, -1.5049e-03,\n",
            "         -4.5025e-02,  4.9902e-02,  5.3662e-02,  4.2193e-02,  1.4655e-02,\n",
            "          3.5496e-02,  3.7291e-02, -5.5754e-02, -1.8393e-02,  5.7932e-02,\n",
            "         -2.5584e-02, -3.8596e-03, -4.3056e-02,  3.7883e-03,  1.3582e-02,\n",
            "         -3.3630e-02, -5.2029e-03,  5.9762e-02, -3.8886e-02,  3.1406e-02,\n",
            "          1.0474e-02, -2.7540e-02, -6.8405e-04, -2.4598e-02, -1.7111e-02,\n",
            "          1.8682e-02, -2.3304e-02,  1.6387e-02, -3.4165e-02,  6.0212e-02,\n",
            "         -4.2083e-02, -6.0510e-02, -2.4895e-02, -1.3198e-02,  2.7736e-02,\n",
            "          3.3645e-02,  5.0606e-02, -2.3047e-02,  6.1809e-02, -4.8457e-02,\n",
            "          4.8763e-02,  2.1087e-02,  2.7443e-02,  3.6305e-02, -2.1108e-02,\n",
            "          2.7910e-02,  1.0113e-02, -4.9420e-02, -2.8624e-02, -5.9877e-02,\n",
            "          1.3728e-03,  5.6934e-02,  2.4371e-02, -2.4949e-02,  1.1295e-03,\n",
            "         -1.9189e-02,  4.6841e-02,  2.2810e-02, -5.1757e-02, -9.6365e-03,\n",
            "         -4.5329e-03,  5.2769e-02, -3.8852e-02, -3.9302e-02,  3.9856e-02,\n",
            "         -5.3170e-02,  5.9708e-02,  6.1478e-02,  1.7808e-02, -3.7448e-02,\n",
            "          5.2230e-02, -6.8681e-03,  5.8357e-02, -3.3488e-02, -5.8626e-02,\n",
            "         -7.5502e-03,  1.5685e-02, -5.6598e-02,  4.9424e-03, -2.2780e-04,\n",
            "          5.7008e-02, -1.8758e-02,  3.8515e-02,  3.9952e-02, -1.1860e-02,\n",
            "         -3.3147e-02, -4.9559e-02,  3.9817e-02,  4.5228e-02, -3.5186e-02,\n",
            "         -2.4392e-02],\n",
            "        [ 5.4512e-03, -5.6145e-02,  3.4561e-02, -2.1521e-02, -2.6321e-02,\n",
            "         -2.8541e-02, -3.5604e-02, -2.0455e-02, -2.7447e-03,  1.4005e-03,\n",
            "          3.8811e-03,  2.5865e-02,  4.8197e-02,  1.4761e-02, -2.5291e-02,\n",
            "          7.6503e-03, -3.7258e-02, -3.2059e-03, -4.5927e-03, -5.4516e-02,\n",
            "         -1.9647e-02,  5.4813e-02,  4.0402e-02,  5.4135e-02, -3.4414e-02,\n",
            "          3.1744e-02,  5.5695e-02,  3.8970e-02,  1.7380e-02,  1.6758e-02,\n",
            "         -1.9315e-02,  4.5677e-02, -3.0486e-03, -5.8448e-02, -1.7079e-02,\n",
            "         -3.6455e-02,  1.2086e-02, -5.7675e-02,  6.6195e-03,  7.7193e-03,\n",
            "         -6.0130e-03,  4.2801e-02, -6.0406e-02, -4.2079e-02,  1.0581e-02,\n",
            "         -5.2673e-02, -6.1697e-02,  7.2767e-04,  5.0028e-02,  5.7499e-02,\n",
            "         -2.4238e-02, -1.4078e-02,  5.9634e-02, -1.7344e-02, -4.8156e-02,\n",
            "         -4.8747e-02, -3.0395e-02, -3.0189e-02,  3.9058e-02,  4.3000e-02,\n",
            "          2.1200e-02, -5.6453e-02,  7.7743e-03, -2.5763e-03,  1.1296e-02,\n",
            "         -4.9697e-02,  1.0180e-02, -5.0953e-02, -2.0561e-02,  3.7891e-02,\n",
            "         -9.6312e-03,  2.1189e-02, -1.6684e-02, -2.6991e-02, -1.1088e-02,\n",
            "          4.3658e-02, -2.2325e-03,  4.3931e-02, -4.8900e-03, -4.2473e-02,\n",
            "         -2.0436e-02, -5.6538e-02,  2.6556e-02,  5.2271e-02,  2.9176e-02,\n",
            "          3.3567e-02, -7.2938e-03, -2.9252e-02, -2.9176e-02,  1.8113e-02,\n",
            "         -2.5064e-02,  3.9330e-03, -5.0620e-02, -3.6875e-03,  5.7238e-02,\n",
            "          3.1838e-02, -3.1117e-02, -3.7412e-02, -4.5469e-02, -4.3876e-02,\n",
            "         -3.9172e-02, -5.9635e-02,  5.2942e-02,  2.3604e-03, -2.6609e-02,\n",
            "         -1.8852e-03,  2.1922e-02, -3.4657e-02,  1.9080e-02, -1.3753e-02,\n",
            "          4.5033e-02, -2.2205e-02, -3.2332e-02, -2.8488e-02,  2.9895e-03,\n",
            "         -4.0675e-02,  6.1705e-02, -5.3624e-02, -3.7934e-02,  6.1192e-02,\n",
            "         -5.5963e-02, -6.1768e-02, -4.0450e-02,  3.9635e-03,  4.4401e-02,\n",
            "          3.1308e-02,  3.8720e-02,  2.1166e-02, -9.9236e-03,  3.3087e-02,\n",
            "         -5.5429e-02, -4.6216e-02,  5.0216e-02,  5.0764e-02, -2.1984e-02,\n",
            "         -4.6245e-02,  6.0251e-02, -3.2338e-02, -4.4145e-02,  6.0731e-02,\n",
            "          2.2060e-02,  1.3709e-02,  1.5995e-02, -1.9654e-02, -3.6733e-03,\n",
            "          4.9730e-02,  3.0581e-02,  2.9988e-02,  4.6802e-02,  5.9661e-02,\n",
            "          1.4775e-02, -1.6325e-02, -9.8220e-03, -2.7465e-02, -3.5802e-02,\n",
            "          6.1793e-02,  2.9584e-02,  5.8968e-02,  2.5810e-03,  1.0235e-03,\n",
            "         -2.1769e-02,  3.4495e-02, -5.4075e-02,  4.2273e-02,  4.9008e-02,\n",
            "         -4.8175e-02,  2.2045e-02, -3.5718e-02,  4.4412e-02, -5.4279e-02,\n",
            "          4.9551e-03,  4.3912e-02, -5.8883e-02,  5.5204e-02,  5.6201e-02,\n",
            "         -1.4999e-02, -4.4781e-02,  2.2855e-02,  1.3942e-02,  3.1919e-02,\n",
            "         -5.3792e-03, -4.2420e-02,  3.0868e-02,  7.2028e-03,  4.0386e-02,\n",
            "          3.5052e-02, -4.3721e-02,  2.1655e-02,  6.0149e-02,  1.3610e-02,\n",
            "         -2.2883e-02,  2.2083e-02,  1.7476e-02, -3.2468e-02, -2.3141e-02,\n",
            "          4.8691e-02, -1.5278e-02,  1.8243e-02,  4.7472e-02,  3.4609e-02,\n",
            "         -3.6111e-02,  1.8821e-02,  5.4061e-02, -3.9437e-03,  5.9243e-02,\n",
            "         -5.1553e-02, -3.1600e-02, -4.5075e-02,  2.3096e-02,  5.3930e-02,\n",
            "          2.7482e-02, -6.0329e-02,  3.5982e-03, -3.9012e-02, -3.2919e-02,\n",
            "          5.9717e-03, -5.2400e-02,  7.4315e-03, -3.2387e-02,  2.8904e-02,\n",
            "          4.1030e-02,  5.9470e-02,  1.3494e-02, -9.5118e-03,  1.7945e-02,\n",
            "          2.9371e-02,  5.3982e-02, -3.4294e-02, -3.7290e-02, -5.4642e-02,\n",
            "         -3.7616e-02, -3.5306e-02, -1.4852e-02,  6.0969e-03, -5.3320e-02,\n",
            "         -5.1091e-02,  4.6786e-02, -5.1108e-02, -2.1049e-02, -6.1901e-02,\n",
            "         -3.3779e-02, -6.0694e-02, -2.8649e-02,  3.5159e-02, -5.9363e-02,\n",
            "          2.0798e-02, -2.2715e-02,  1.4041e-02,  2.3880e-03,  4.2038e-02,\n",
            "         -3.2743e-03, -5.6436e-02, -4.4711e-02,  2.1495e-02,  1.0750e-02,\n",
            "         -1.5891e-02]], device='cuda:0', grad_fn=<SliceBackward0>) \n",
            "\n",
            "Layer: linear_relu_stack.6.bias | Size: torch.Size([10]) | Values : tensor([ 0.0100, -0.0444], device='cuda:0', grad_fn=<SliceBackward0>) \n",
            "\n"
          ]
        }
      ],
      "source": [
        "print(f\"Model structure: {model}\\n\\n\")\n",
        "\n",
        "for name, param in model.named_parameters():\n",
        "    print(f\"Layer: {name} | Size: {param.size()} | Values : {param[:2]} \\n\")"
      ]
    },
    {
      "cell_type": "markdown",
      "metadata": {
        "id": "Razw3lGqe_4-"
      },
      "source": [
        "--------------\n",
        "\n",
        "\n"
      ]
    },
    {
      "cell_type": "markdown",
      "metadata": {
        "id": "ywrSHCIVe_4-"
      },
      "source": [
        "## Further Reading\n",
        "- [torch.nn API](https://pytorch.org/docs/stable/nn.html)\n",
        "\n"
      ]
    }
  ],
  "metadata": {
    "kernelspec": {
      "display_name": "Python 3",
      "language": "python",
      "name": "python3"
    },
    "language_info": {
      "codemirror_mode": {
        "name": "ipython",
        "version": 3
      },
      "file_extension": ".py",
      "mimetype": "text/x-python",
      "name": "python",
      "nbconvert_exporter": "python",
      "pygments_lexer": "ipython3",
      "version": "3.10.4"
    },
    "colab": {
      "provenance": []
    },
    "accelerator": "GPU",
    "gpuClass": "standard"
  },
  "nbformat": 4,
  "nbformat_minor": 0
}