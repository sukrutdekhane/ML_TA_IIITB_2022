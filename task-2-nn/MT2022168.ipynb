{
  "cells": [
    {
      "cell_type": "code",
      "execution_count": 1,
      "metadata": {
        "id": "iVzzQnLaecGU"
      },
      "outputs": [],
      "source": [
        "%matplotlib inline"
      ]
    },
    {
      "cell_type": "markdown",
      "metadata": {
        "id": "T5RhMk8-ecGZ"
      },
      "source": [
        "\n",
        "[Learn the Basics](intro.html) ||\n",
        "[Quickstart](quickstart_tutorial.html) ||\n",
        "[Tensors](tensorqs_tutorial.html) ||\n",
        "[Datasets & DataLoaders](data_tutorial.html) ||\n",
        "[Transforms](transforms_tutorial.html) ||\n",
        "**Build Model** ||\n",
        "[Autograd](autogradqs_tutorial.html) ||\n",
        "[Optimization](optimization_tutorial.html) ||\n",
        "[Save & Load Model](saveloadrun_tutorial.html)\n",
        "\n",
        "# Build the Neural Network\n",
        "\n",
        "Neural networks comprise of layers/modules that perform operations on data.\n",
        "The [torch.nn](https://pytorch.org/docs/stable/nn.html) namespace provides all the building blocks you need to\n",
        "build your own neural network. Every module in PyTorch subclasses the [nn.Module](https://pytorch.org/docs/stable/generated/torch.nn.Module.html).\n",
        "A neural network is a module itself that consists of other modules (layers). This nested structure allows for\n",
        "building and managing complex architectures easily.\n",
        "\n",
        "In the following sections, we'll build a neural network to classify images in the FashionMNIST dataset.\n"
      ]
    },
    {
      "cell_type": "code",
      "execution_count": 2,
      "metadata": {
        "id": "HZyQ4_qsecGc"
      },
      "outputs": [],
      "source": [
        "import os\n",
        "import torch\n",
        "from torch import nn\n",
        "from torch.utils.data import DataLoader\n",
        "from torchvision import datasets, transforms"
      ]
    },
    {
      "cell_type": "markdown",
      "metadata": {
        "id": "x-Z_aOPNecGd"
      },
      "source": [
        "## Get Device for Training\n",
        "We want to be able to train our model on a hardware accelerator like the GPU,\n",
        "if it is available. Let's check to see if\n",
        "[torch.cuda](https://pytorch.org/docs/stable/notes/cuda.html) is available, else we\n",
        "continue to use the CPU.\n",
        "\n"
      ]
    },
    {
      "cell_type": "code",
      "execution_count": 3,
      "metadata": {
        "id": "XiqYQke8ecGe",
        "outputId": "3d83d5dc-e529-4f36-89cc-eb4ff06bc512",
        "colab": {
          "base_uri": "https://localhost:8080/"
        }
      },
      "outputs": [
        {
          "output_type": "stream",
          "name": "stdout",
          "text": [
            "Using cuda device\n"
          ]
        }
      ],
      "source": [
        "device = \"cuda\" if torch.cuda.is_available() else \"cpu\"\n",
        "print(f\"Using {device} device\")"
      ]
    },
    {
      "cell_type": "markdown",
      "metadata": {
        "id": "avlqaIHGecGf"
      },
      "source": [
        "## Define the Class\n",
        "We define our neural network by subclassing ``nn.Module``, and\n",
        "initialize the neural network layers in ``__init__``. Every ``nn.Module`` subclass implements\n",
        "the operations on input data in the ``forward`` method.\n",
        "\n"
      ]
    },
    {
      "cell_type": "code",
      "execution_count": 35,
      "metadata": {
        "id": "mjJpUxZtecGh"
      },
      "outputs": [],
      "source": [
        "class NeuralNetwork(nn.Module):\n",
        "    def __init__(self):\n",
        "        super(NeuralNetwork, self).__init__()\n",
        "        self.flatten = nn.Flatten()\n",
        "        self.linear_relu_stack = nn.Sequential(\n",
        "            nn.Linear(28*28, 1024),\n",
        "            nn.ReLU(),\n",
        "            nn.Linear(1024, 512),\n",
        "            nn.ReLU(),\n",
        "            nn.Linear(512, 128),\n",
        "            nn.ReLU(),\n",
        "            nn.Linear(128,10)\n",
        "        )\n",
        "\n",
        "    def forward(self, x):\n",
        "        x = self.flatten(x)\n",
        "        logits = self.linear_relu_stack(x)\n",
        "        return logits"
      ]
    },
    {
      "cell_type": "markdown",
      "metadata": {
        "id": "4hVlKYBYecGj"
      },
      "source": [
        "We create an instance of ``NeuralNetwork``, and move it to the ``device``, and print\n",
        "its structure.\n",
        "\n"
      ]
    },
    {
      "cell_type": "code",
      "execution_count": 36,
      "metadata": {
        "id": "szFTlCjHecGk",
        "outputId": "516cfc41-1973-4eb2-ddaa-c0ec9f530e2a",
        "colab": {
          "base_uri": "https://localhost:8080/"
        }
      },
      "outputs": [
        {
          "output_type": "stream",
          "name": "stdout",
          "text": [
            "NeuralNetwork(\n",
            "  (flatten): Flatten(start_dim=1, end_dim=-1)\n",
            "  (linear_relu_stack): Sequential(\n",
            "    (0): Linear(in_features=784, out_features=1024, bias=True)\n",
            "    (1): ReLU()\n",
            "    (2): Linear(in_features=1024, out_features=512, bias=True)\n",
            "    (3): ReLU()\n",
            "    (4): Linear(in_features=512, out_features=128, bias=True)\n",
            "    (5): ReLU()\n",
            "    (6): Linear(in_features=128, out_features=10, bias=True)\n",
            "  )\n",
            ")\n"
          ]
        }
      ],
      "source": [
        "model = NeuralNetwork().to(device)\n",
        "print(model)"
      ]
    },
    {
      "cell_type": "markdown",
      "metadata": {
        "id": "p6Vw39YZecGk"
      },
      "source": [
        "To use the model, we pass it the input data. This executes the model's ``forward``,\n",
        "along with some [background operations](https://github.com/pytorch/pytorch/blob/270111b7b611d174967ed204776985cefca9c144/torch/nn/modules/module.py#L866).\n",
        "Do not call ``model.forward()`` directly!\n",
        "\n",
        "Calling the model on the input returns a 2-dimensional tensor with dim=0 corresponding to each output of 10 raw predicted values for each class, and dim=1 corresponding to the individual values of each output.  .\n",
        "We get the prediction probabilities by passing it through an instance of the ``nn.Softmax`` module.\n",
        "\n"
      ]
    },
    {
      "cell_type": "code",
      "execution_count": 37,
      "metadata": {
        "id": "Vd3kcMYKecGl",
        "outputId": "cab55a37-e0dc-4b71-a75f-54984102eacd",
        "colab": {
          "base_uri": "https://localhost:8080/"
        }
      },
      "outputs": [
        {
          "output_type": "stream",
          "name": "stdout",
          "text": [
            "Predicted class: tensor([8], device='cuda:0')\n"
          ]
        }
      ],
      "source": [
        "X = torch.rand(1, 28, 28, device=device)\n",
        "logits = model(X)\n",
        "pred_probab = nn.Softmax(dim=1)(logits)\n",
        "y_pred = pred_probab.argmax(1)\n",
        "print(f\"Predicted class: {y_pred}\")"
      ]
    },
    {
      "cell_type": "markdown",
      "metadata": {
        "id": "bAGCzsDAecGm"
      },
      "source": [
        "--------------\n",
        "\n",
        "\n"
      ]
    },
    {
      "cell_type": "markdown",
      "metadata": {
        "id": "ChPYVFJOecGm"
      },
      "source": [
        "## Model Layers\n",
        "\n",
        "Let's break down the layers in the FashionMNIST model. To illustrate it, we\n",
        "will take a sample minibatch of 3 images of size 28x28 and see what happens to it as\n",
        "we pass it through the network.\n",
        "\n"
      ]
    },
    {
      "cell_type": "code",
      "execution_count": 38,
      "metadata": {
        "id": "oPoOyk-UecGm",
        "outputId": "f4992492-c45e-4223-da03-123ee1a12f09",
        "colab": {
          "base_uri": "https://localhost:8080/"
        }
      },
      "outputs": [
        {
          "output_type": "stream",
          "name": "stdout",
          "text": [
            "torch.Size([3, 28, 28])\n"
          ]
        }
      ],
      "source": [
        "input_image = torch.rand(3,28,28)\n",
        "print(input_image.size())"
      ]
    },
    {
      "cell_type": "markdown",
      "metadata": {
        "id": "vYKjpNjtecGn"
      },
      "source": [
        "### nn.Flatten\n",
        "We initialize the [nn.Flatten](https://pytorch.org/docs/stable/generated/torch.nn.Flatten.html)\n",
        "layer to convert each 2D 28x28 image into a contiguous array of 784 pixel values (\n",
        "the minibatch dimension (at dim=0) is maintained).\n",
        "\n"
      ]
    },
    {
      "cell_type": "code",
      "execution_count": 39,
      "metadata": {
        "id": "ZOYI0RQRecGo",
        "outputId": "f401ba68-08a2-4ffa-83c5-42dd9c909f35",
        "colab": {
          "base_uri": "https://localhost:8080/"
        }
      },
      "outputs": [
        {
          "output_type": "stream",
          "name": "stdout",
          "text": [
            "torch.Size([3, 784])\n"
          ]
        }
      ],
      "source": [
        "flatten = nn.Flatten()\n",
        "flat_image = flatten(input_image)\n",
        "print(flat_image.size())"
      ]
    },
    {
      "cell_type": "markdown",
      "metadata": {
        "id": "dKZNrFB_ecGo"
      },
      "source": [
        "### nn.Linear\n",
        "The [linear layer](https://pytorch.org/docs/stable/generated/torch.nn.Linear.html)\n",
        "is a module that applies a linear transformation on the input using its stored weights and biases.\n",
        "\n",
        "\n"
      ]
    },
    {
      "cell_type": "code",
      "execution_count": 40,
      "metadata": {
        "id": "tzN-7YZfecGp",
        "outputId": "6d9c8b40-e3ee-4b66-d7c0-7b1d5aef36b9",
        "colab": {
          "base_uri": "https://localhost:8080/"
        }
      },
      "outputs": [
        {
          "output_type": "stream",
          "name": "stdout",
          "text": [
            "torch.Size([3, 20])\n"
          ]
        }
      ],
      "source": [
        "layer1 = nn.Linear(in_features=28*28, out_features=20)\n",
        "hidden1 = layer1(flat_image)\n",
        "print(hidden1.size())"
      ]
    },
    {
      "cell_type": "markdown",
      "metadata": {
        "id": "2DRow4KGecGp"
      },
      "source": [
        "### nn.ReLU\n",
        "Non-linear activations are what create the complex mappings between the model's inputs and outputs.\n",
        "They are applied after linear transformations to introduce *nonlinearity*, helping neural networks\n",
        "learn a wide variety of phenomena.\n",
        "\n",
        "In this model, we use [nn.ReLU](https://pytorch.org/docs/stable/generated/torch.nn.ReLU.html) between our\n",
        "linear layers, but there's other activations to introduce non-linearity in your model.\n",
        "\n"
      ]
    },
    {
      "cell_type": "code",
      "execution_count": 41,
      "metadata": {
        "id": "alyws9CaecGp",
        "outputId": "ae70a7cb-a183-49f5-f030-8eb96c2c74d1",
        "colab": {
          "base_uri": "https://localhost:8080/"
        }
      },
      "outputs": [
        {
          "output_type": "stream",
          "name": "stdout",
          "text": [
            "Before ReLU: tensor([[ 0.1330, -0.0949, -0.2535, -0.0547,  0.0156,  0.5497,  0.4062,  0.3533,\n",
            "         -0.5377,  0.2104, -0.4288,  0.3877, -0.8144,  0.0095,  0.2401, -0.3141,\n",
            "          0.1197,  0.4210,  0.5050, -0.2137],\n",
            "        [ 0.2012,  0.0166, -0.0438,  0.3582,  0.5594,  0.1666,  0.6333,  0.2255,\n",
            "         -0.5216,  0.0359, -0.4306,  0.7455, -0.6460, -0.1963,  0.0833, -0.3704,\n",
            "         -0.0014,  0.1494,  0.4192, -0.2091],\n",
            "        [ 0.2376, -0.1508, -0.5598,  0.0010,  0.3854,  0.5526,  0.3932,  0.2833,\n",
            "         -0.4906,  0.1965, -0.4595,  0.3606, -0.4776, -0.2116,  0.0315, -0.1513,\n",
            "         -0.6211, -0.0080,  0.1690, -0.2347]], grad_fn=<AddmmBackward0>)\n",
            "\n",
            "\n",
            "After ReLU: tensor([[0.1330, 0.0000, 0.0000, 0.0000, 0.0156, 0.5497, 0.4062, 0.3533, 0.0000,\n",
            "         0.2104, 0.0000, 0.3877, 0.0000, 0.0095, 0.2401, 0.0000, 0.1197, 0.4210,\n",
            "         0.5050, 0.0000],\n",
            "        [0.2012, 0.0166, 0.0000, 0.3582, 0.5594, 0.1666, 0.6333, 0.2255, 0.0000,\n",
            "         0.0359, 0.0000, 0.7455, 0.0000, 0.0000, 0.0833, 0.0000, 0.0000, 0.1494,\n",
            "         0.4192, 0.0000],\n",
            "        [0.2376, 0.0000, 0.0000, 0.0010, 0.3854, 0.5526, 0.3932, 0.2833, 0.0000,\n",
            "         0.1965, 0.0000, 0.3606, 0.0000, 0.0000, 0.0315, 0.0000, 0.0000, 0.0000,\n",
            "         0.1690, 0.0000]], grad_fn=<ReluBackward0>)\n"
          ]
        }
      ],
      "source": [
        "print(f\"Before ReLU: {hidden1}\\n\\n\")\n",
        "hidden1 = nn.ReLU()(hidden1)\n",
        "print(f\"After ReLU: {hidden1}\")"
      ]
    },
    {
      "cell_type": "markdown",
      "metadata": {
        "id": "MhsxR8BwecGq"
      },
      "source": [
        "### nn.Sequential\n",
        "[nn.Sequential](https://pytorch.org/docs/stable/generated/torch.nn.Sequential.html) is an ordered\n",
        "container of modules. The data is passed through all the modules in the same order as defined. You can use\n",
        "sequential containers to put together a quick network like ``seq_modules``.\n",
        "\n"
      ]
    },
    {
      "cell_type": "code",
      "execution_count": 42,
      "metadata": {
        "id": "oHbc5gEDecGq"
      },
      "outputs": [],
      "source": [
        "seq_modules = nn.Sequential(\n",
        "    flatten,\n",
        "    layer1,\n",
        "    nn.ReLU(),\n",
        "    nn.Linear(20, 10)\n",
        ")\n",
        "input_image = torch.rand(3,28,28)\n",
        "logits = seq_modules(input_image)"
      ]
    },
    {
      "cell_type": "markdown",
      "metadata": {
        "id": "_o7nXlVlecGq"
      },
      "source": [
        "### nn.Softmax\n",
        "The last linear layer of the neural network returns `logits` - raw values in [-\\infty, \\infty] - which are passed to the\n",
        "[nn.Softmax](https://pytorch.org/docs/stable/generated/torch.nn.Softmax.html) module. The logits are scaled to values\n",
        "[0, 1] representing the model's predicted probabilities for each class. ``dim`` parameter indicates the dimension along\n",
        "which the values must sum to 1.\n",
        "\n"
      ]
    },
    {
      "cell_type": "code",
      "execution_count": 43,
      "metadata": {
        "id": "Bt3y4XfcecGr"
      },
      "outputs": [],
      "source": [
        "softmax = nn.Softmax(dim=1)\n",
        "pred_probab = softmax(logits)"
      ]
    },
    {
      "cell_type": "markdown",
      "metadata": {
        "id": "LusxTVtEecGs"
      },
      "source": [
        "## Model Parameters\n",
        "Many layers inside a neural network are *parameterized*, i.e. have associated weights\n",
        "and biases that are optimized during training. Subclassing ``nn.Module`` automatically\n",
        "tracks all fields defined inside your model object, and makes all parameters\n",
        "accessible using your model's ``parameters()`` or ``named_parameters()`` methods.\n",
        "\n",
        "In this example, we iterate over each parameter, and print its size and a preview of its values.\n",
        "\n",
        "\n"
      ]
    },
    {
      "cell_type": "code",
      "execution_count": 44,
      "metadata": {
        "id": "gh39smk7ecGs",
        "outputId": "44ae6651-1896-420a-bf72-129365958fea",
        "colab": {
          "base_uri": "https://localhost:8080/"
        }
      },
      "outputs": [
        {
          "output_type": "stream",
          "name": "stdout",
          "text": [
            "Model structure: NeuralNetwork(\n",
            "  (flatten): Flatten(start_dim=1, end_dim=-1)\n",
            "  (linear_relu_stack): Sequential(\n",
            "    (0): Linear(in_features=784, out_features=1024, bias=True)\n",
            "    (1): ReLU()\n",
            "    (2): Linear(in_features=1024, out_features=512, bias=True)\n",
            "    (3): ReLU()\n",
            "    (4): Linear(in_features=512, out_features=128, bias=True)\n",
            "    (5): ReLU()\n",
            "    (6): Linear(in_features=128, out_features=10, bias=True)\n",
            "  )\n",
            ")\n",
            "\n",
            "\n",
            "Layer: linear_relu_stack.0.weight | Size: torch.Size([1024, 784]) | Values : tensor([[ 0.0086,  0.0326, -0.0199,  ...,  0.0298,  0.0185,  0.0122],\n",
            "        [ 0.0316,  0.0349,  0.0135,  ...,  0.0235, -0.0118, -0.0051]],\n",
            "       device='cuda:0', grad_fn=<SliceBackward0>) \n",
            "\n",
            "Layer: linear_relu_stack.0.bias | Size: torch.Size([1024]) | Values : tensor([ 0.0136, -0.0193], device='cuda:0', grad_fn=<SliceBackward0>) \n",
            "\n",
            "Layer: linear_relu_stack.2.weight | Size: torch.Size([512, 1024]) | Values : tensor([[ 0.0032,  0.0031,  0.0250,  ..., -0.0147,  0.0263,  0.0220],\n",
            "        [ 0.0108, -0.0232, -0.0115,  ..., -0.0235, -0.0028, -0.0051]],\n",
            "       device='cuda:0', grad_fn=<SliceBackward0>) \n",
            "\n",
            "Layer: linear_relu_stack.2.bias | Size: torch.Size([512]) | Values : tensor([0.0280, 0.0197], device='cuda:0', grad_fn=<SliceBackward0>) \n",
            "\n",
            "Layer: linear_relu_stack.4.weight | Size: torch.Size([128, 512]) | Values : tensor([[ 0.0198, -0.0206,  0.0382,  ..., -0.0161,  0.0014,  0.0431],\n",
            "        [-0.0198, -0.0385, -0.0178,  ..., -0.0077, -0.0369, -0.0256]],\n",
            "       device='cuda:0', grad_fn=<SliceBackward0>) \n",
            "\n",
            "Layer: linear_relu_stack.4.bias | Size: torch.Size([128]) | Values : tensor([0.0232, 0.0024], device='cuda:0', grad_fn=<SliceBackward0>) \n",
            "\n",
            "Layer: linear_relu_stack.6.weight | Size: torch.Size([10, 128]) | Values : tensor([[ 0.0261,  0.0598, -0.0734, -0.0724,  0.0309, -0.0803, -0.0180,  0.0346,\n",
            "         -0.0763, -0.0677,  0.0331, -0.0029, -0.0231,  0.0136, -0.0171, -0.0841,\n",
            "          0.0005, -0.0749, -0.0614, -0.0872,  0.0170, -0.0869,  0.0789, -0.0132,\n",
            "         -0.0053, -0.0567,  0.0603, -0.0480, -0.0172, -0.0631,  0.0129, -0.0039,\n",
            "          0.0459, -0.0391,  0.0100, -0.0120,  0.0862, -0.0552, -0.0137,  0.0486,\n",
            "          0.0133, -0.0344,  0.0272,  0.0277,  0.0146, -0.0599,  0.0047, -0.0021,\n",
            "          0.0206,  0.0122,  0.0191,  0.0620, -0.0016,  0.0750, -0.0058, -0.0636,\n",
            "          0.0762, -0.0105, -0.0510, -0.0227, -0.0690, -0.0497, -0.0164, -0.0244,\n",
            "          0.0753,  0.0448,  0.0638, -0.0462,  0.0297, -0.0471, -0.0273,  0.0612,\n",
            "          0.0493,  0.0732, -0.0047,  0.0427,  0.0611, -0.0145, -0.0375,  0.0708,\n",
            "          0.0625, -0.0388,  0.0402,  0.0255, -0.0272, -0.0009,  0.0097, -0.0512,\n",
            "          0.0586, -0.0415,  0.0226,  0.0213, -0.0797,  0.0498,  0.0860,  0.0727,\n",
            "         -0.0449,  0.0031,  0.0226, -0.0063,  0.0618, -0.0696,  0.0835, -0.0820,\n",
            "         -0.0448,  0.0229, -0.0350, -0.0085, -0.0325, -0.0510,  0.0538, -0.0519,\n",
            "         -0.0808, -0.0132, -0.0024, -0.0178, -0.0534,  0.0773,  0.0193,  0.0407,\n",
            "          0.0357, -0.0237, -0.0265,  0.0592, -0.0673,  0.0652,  0.0070, -0.0384],\n",
            "        [-0.0381, -0.0123,  0.0753,  0.0269,  0.0224,  0.0260,  0.0440,  0.0657,\n",
            "         -0.0150, -0.0840, -0.0536,  0.0242,  0.0527, -0.0764,  0.0012, -0.0196,\n",
            "          0.0173, -0.0816,  0.0693,  0.0443,  0.0675, -0.0074, -0.0488,  0.0798,\n",
            "         -0.0623,  0.0531, -0.0258,  0.0165,  0.0235, -0.0116, -0.0622, -0.0497,\n",
            "          0.0134,  0.0403,  0.0188,  0.0289, -0.0738,  0.0855,  0.0720, -0.0711,\n",
            "          0.0083, -0.0675,  0.0883,  0.0348,  0.0122,  0.0682, -0.0402,  0.0867,\n",
            "         -0.0833, -0.0452, -0.0383, -0.0669, -0.0060, -0.0672, -0.0558, -0.0305,\n",
            "         -0.0698,  0.0258,  0.0015, -0.0092, -0.0042, -0.0067, -0.0219, -0.0042,\n",
            "         -0.0644, -0.0153,  0.0505, -0.0818, -0.0357,  0.0856,  0.0250, -0.0857,\n",
            "          0.0469, -0.0882,  0.0158,  0.0089, -0.0236, -0.0260,  0.0860,  0.0228,\n",
            "          0.0309,  0.0314,  0.0204, -0.0272, -0.0736,  0.0074,  0.0852,  0.0135,\n",
            "          0.0337, -0.0676,  0.0424, -0.0184, -0.0877, -0.0200,  0.0841,  0.0284,\n",
            "         -0.0182, -0.0556, -0.0690, -0.0388, -0.0872, -0.0500,  0.0390, -0.0550,\n",
            "          0.0190, -0.0775,  0.0836, -0.0174, -0.0134,  0.0036,  0.0333,  0.0031,\n",
            "         -0.0095, -0.0017, -0.0350,  0.0854, -0.0351, -0.0476, -0.0565, -0.0152,\n",
            "          0.0150, -0.0512,  0.0245, -0.0609, -0.0332,  0.0262,  0.0513,  0.0429]],\n",
            "       device='cuda:0', grad_fn=<SliceBackward0>) \n",
            "\n",
            "Layer: linear_relu_stack.6.bias | Size: torch.Size([10]) | Values : tensor([-0.0425, -0.0785], device='cuda:0', grad_fn=<SliceBackward0>) \n",
            "\n"
          ]
        }
      ],
      "source": [
        "print(f\"Model structure: {model}\\n\\n\")\n",
        "\n",
        "for name, param in model.named_parameters():\n",
        "    print(f\"Layer: {name} | Size: {param.size()} | Values : {param[:2]} \\n\")"
      ]
    },
    {
      "cell_type": "markdown",
      "metadata": {
        "id": "vDmI3XJHecGt"
      },
      "source": [
        "--------------\n",
        "\n",
        "\n"
      ]
    },
    {
      "cell_type": "markdown",
      "metadata": {
        "id": "Aup6y58necGt"
      },
      "source": [
        "## Further Reading\n",
        "- [torch.nn API](https://pytorch.org/docs/stable/nn.html)\n",
        "\n"
      ]
    }
  ],
  "metadata": {
    "kernelspec": {
      "display_name": "Python 3",
      "language": "python",
      "name": "python3"
    },
    "language_info": {
      "codemirror_mode": {
        "name": "ipython",
        "version": 3
      },
      "file_extension": ".py",
      "mimetype": "text/x-python",
      "name": "python",
      "nbconvert_exporter": "python",
      "pygments_lexer": "ipython3",
      "version": "3.10.4"
    },
    "colab": {
      "provenance": []
    },
    "accelerator": "GPU",
    "gpuClass": "standard"
  },
  "nbformat": 4,
  "nbformat_minor": 0
}