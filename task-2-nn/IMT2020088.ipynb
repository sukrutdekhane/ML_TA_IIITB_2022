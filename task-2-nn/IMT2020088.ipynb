{
  "cells": [
    {
      "cell_type": "code",
      "execution_count": 16,
      "metadata": {
        "id": "CqoizEKUedLh"
      },
      "outputs": [],
      "source": [
        "%matplotlib inline"
      ]
    },
    {
      "cell_type": "markdown",
      "metadata": {
        "id": "_vWje8y2edLm"
      },
      "source": [
        "\n",
        "[Learn the Basics](intro.html) ||\n",
        "[Quickstart](quickstart_tutorial.html) ||\n",
        "[Tensors](tensorqs_tutorial.html) ||\n",
        "[Datasets & DataLoaders](data_tutorial.html) ||\n",
        "[Transforms](transforms_tutorial.html) ||\n",
        "**Build Model** ||\n",
        "[Autograd](autogradqs_tutorial.html) ||\n",
        "[Optimization](optimization_tutorial.html) ||\n",
        "[Save & Load Model](saveloadrun_tutorial.html)\n",
        "\n",
        "# Build the Neural Network\n",
        "\n",
        "Neural networks comprise of layers/modules that perform operations on data.\n",
        "The [torch.nn](https://pytorch.org/docs/stable/nn.html) namespace provides all the building blocks you need to\n",
        "build your own neural network. Every module in PyTorch subclasses the [nn.Module](https://pytorch.org/docs/stable/generated/torch.nn.Module.html).\n",
        "A neural network is a module itself that consists of other modules (layers). This nested structure allows for\n",
        "building and managing complex architectures easily.\n",
        "\n",
        "In the following sections, we'll build a neural network to classify images in the FashionMNIST dataset.\n"
      ]
    },
    {
      "cell_type": "code",
      "execution_count": 17,
      "metadata": {
        "id": "8vwRs6kxedLo"
      },
      "outputs": [],
      "source": [
        "import os\n",
        "import torch\n",
        "from torch import nn\n",
        "from torch.utils.data import DataLoader\n",
        "from torchvision import datasets, transforms"
      ]
    },
    {
      "cell_type": "markdown",
      "metadata": {
        "id": "6qQ9ihe_edLp"
      },
      "source": [
        "## Get Device for Training\n",
        "We want to be able to train our model on a hardware accelerator like the GPU,\n",
        "if it is available. Let's check to see if\n",
        "[torch.cuda](https://pytorch.org/docs/stable/notes/cuda.html) is available, else we\n",
        "continue to use the CPU.\n",
        "\n"
      ]
    },
    {
      "cell_type": "code",
      "execution_count": 18,
      "metadata": {
        "id": "-JTqCbgjedLq",
        "colab": {
          "base_uri": "https://localhost:8080/"
        },
        "outputId": "8465ae67-8504-4e72-e9dc-12de05bbc38d"
      },
      "outputs": [
        {
          "output_type": "stream",
          "name": "stdout",
          "text": [
            "Using cuda device\n"
          ]
        }
      ],
      "source": [
        "device = \"cuda\" if torch.cuda.is_available() else \"cpu\"\n",
        "print(f\"Using {device} device\")"
      ]
    },
    {
      "cell_type": "markdown",
      "metadata": {
        "id": "0zdDgEWeedLr"
      },
      "source": [
        "## Define the Class\n",
        "We define our neural network by subclassing ``nn.Module``, and\n",
        "initialize the neural network layers in ``__init__``. Every ``nn.Module`` subclass implements\n",
        "the operations on input data in the ``forward`` method.\n",
        "\n"
      ]
    },
    {
      "cell_type": "code",
      "execution_count": 23,
      "metadata": {
        "id": "fF3XALlRedLs"
      },
      "outputs": [],
      "source": [
        "class NeuralNetwork(nn.Module):\n",
        "    def __init__(self):\n",
        "        super(NeuralNetwork, self).__init__()\n",
        "        self.flatten = nn.Flatten()\n",
        "        self.linear_relu_stack = nn.Sequential(\n",
        "            nn.Linear(28*28, 1024),\n",
        "            nn.ReLU(),\n",
        "            nn.Linear(1024, 512),\n",
        "            nn.SELU(),\n",
        "            nn.Linear(512, 256),\n",
        "            nn.GELU(),\n",
        "            nn.Linear(256, 10),\n",
        "        )\n",
        "\n",
        "    def forward(self, x):\n",
        "        x = self.flatten(x)\n",
        "        logits = self.linear_relu_stack(x)\n",
        "        return logits"
      ]
    },
    {
      "cell_type": "markdown",
      "metadata": {
        "id": "VOKUoOZTedLt"
      },
      "source": [
        "We create an instance of ``NeuralNetwork``, and move it to the ``device``, and print\n",
        "its structure.\n",
        "\n"
      ]
    },
    {
      "cell_type": "code",
      "execution_count": 24,
      "metadata": {
        "id": "3nPE8EDIedLu",
        "colab": {
          "base_uri": "https://localhost:8080/"
        },
        "outputId": "8d3c2816-4e5c-4f78-b08c-20d2c7e104eb"
      },
      "outputs": [
        {
          "output_type": "stream",
          "name": "stdout",
          "text": [
            "NeuralNetwork(\n",
            "  (flatten): Flatten(start_dim=1, end_dim=-1)\n",
            "  (linear_relu_stack): Sequential(\n",
            "    (0): Linear(in_features=784, out_features=1024, bias=True)\n",
            "    (1): ReLU()\n",
            "    (2): Linear(in_features=1024, out_features=512, bias=True)\n",
            "    (3): SELU()\n",
            "    (4): Linear(in_features=512, out_features=256, bias=True)\n",
            "    (5): GELU(approximate=none)\n",
            "    (6): Linear(in_features=256, out_features=10, bias=True)\n",
            "  )\n",
            ")\n"
          ]
        }
      ],
      "source": [
        "model = NeuralNetwork().to(device)\n",
        "print(model)"
      ]
    },
    {
      "cell_type": "markdown",
      "metadata": {
        "id": "NVvPW47ZedLu"
      },
      "source": [
        "To use the model, we pass it the input data. This executes the model's ``forward``,\n",
        "along with some [background operations](https://github.com/pytorch/pytorch/blob/270111b7b611d174967ed204776985cefca9c144/torch/nn/modules/module.py#L866).\n",
        "Do not call ``model.forward()`` directly!\n",
        "\n",
        "Calling the model on the input returns a 2-dimensional tensor with dim=0 corresponding to each output of 10 raw predicted values for each class, and dim=1 corresponding to the individual values of each output.  .\n",
        "We get the prediction probabilities by passing it through an instance of the ``nn.Softmax`` module.\n",
        "\n"
      ]
    },
    {
      "cell_type": "code",
      "execution_count": 25,
      "metadata": {
        "id": "lPnRcVi_edLv",
        "colab": {
          "base_uri": "https://localhost:8080/"
        },
        "outputId": "86fcb9c2-3aa3-4a96-a48c-86a74fffb37a"
      },
      "outputs": [
        {
          "output_type": "stream",
          "name": "stdout",
          "text": [
            "Predicted class: tensor([7], device='cuda:0')\n"
          ]
        }
      ],
      "source": [
        "X = torch.rand(1, 28, 28, device=device)\n",
        "logits = model(X)\n",
        "pred_probab = nn.Softmax(dim=1)(logits)\n",
        "y_pred = pred_probab.argmax(1)\n",
        "print(f\"Predicted class: {y_pred}\")"
      ]
    },
    {
      "cell_type": "markdown",
      "metadata": {
        "id": "v2Qgs46JedLw"
      },
      "source": [
        "--------------\n",
        "\n",
        "\n"
      ]
    },
    {
      "cell_type": "markdown",
      "metadata": {
        "id": "1eeCMzuwedLw"
      },
      "source": [
        "## Model Layers\n",
        "\n",
        "Let's break down the layers in the FashionMNIST model. To illustrate it, we\n",
        "will take a sample minibatch of 3 images of size 28x28 and see what happens to it as\n",
        "we pass it through the network.\n",
        "\n"
      ]
    },
    {
      "cell_type": "code",
      "execution_count": 26,
      "metadata": {
        "id": "8dGNtZ5GedLx",
        "colab": {
          "base_uri": "https://localhost:8080/"
        },
        "outputId": "27e5c36c-339d-42c8-df00-827ca8b2e3a7"
      },
      "outputs": [
        {
          "output_type": "stream",
          "name": "stdout",
          "text": [
            "torch.Size([3, 28, 28])\n"
          ]
        }
      ],
      "source": [
        "input_image = torch.rand(3,28,28)\n",
        "print(input_image.size())"
      ]
    },
    {
      "cell_type": "markdown",
      "metadata": {
        "id": "ny-3WarKedLx"
      },
      "source": [
        "### nn.Flatten\n",
        "We initialize the [nn.Flatten](https://pytorch.org/docs/stable/generated/torch.nn.Flatten.html)\n",
        "layer to convert each 2D 28x28 image into a contiguous array of 784 pixel values (\n",
        "the minibatch dimension (at dim=0) is maintained).\n",
        "\n"
      ]
    },
    {
      "cell_type": "code",
      "execution_count": 27,
      "metadata": {
        "id": "IVY5UGs3edLx",
        "colab": {
          "base_uri": "https://localhost:8080/"
        },
        "outputId": "dd102b63-54cc-4f0e-8926-343135aa6e52"
      },
      "outputs": [
        {
          "output_type": "stream",
          "name": "stdout",
          "text": [
            "torch.Size([3, 784])\n"
          ]
        }
      ],
      "source": [
        "flatten = nn.Flatten()\n",
        "flat_image = flatten(input_image)\n",
        "print(flat_image.size())"
      ]
    },
    {
      "cell_type": "markdown",
      "metadata": {
        "id": "SHuccw66edLy"
      },
      "source": [
        "### nn.Linear\n",
        "The [linear layer](https://pytorch.org/docs/stable/generated/torch.nn.Linear.html)\n",
        "is a module that applies a linear transformation on the input using its stored weights and biases.\n",
        "\n",
        "\n"
      ]
    },
    {
      "cell_type": "code",
      "execution_count": 28,
      "metadata": {
        "id": "PyJQwnifedLy",
        "colab": {
          "base_uri": "https://localhost:8080/"
        },
        "outputId": "502ba54e-ef9a-4b47-b092-7f4d6420ecdb"
      },
      "outputs": [
        {
          "output_type": "stream",
          "name": "stdout",
          "text": [
            "torch.Size([3, 20])\n"
          ]
        }
      ],
      "source": [
        "layer1 = nn.Linear(in_features=28*28, out_features=20)\n",
        "hidden1 = layer1(flat_image)\n",
        "print(hidden1.size())"
      ]
    },
    {
      "cell_type": "markdown",
      "metadata": {
        "id": "5xa9ZybUedLy"
      },
      "source": [
        "### nn.ReLU\n",
        "Non-linear activations are what create the complex mappings between the model's inputs and outputs.\n",
        "They are applied after linear transformations to introduce *nonlinearity*, helping neural networks\n",
        "learn a wide variety of phenomena.\n",
        "\n",
        "In this model, we use [nn.ReLU](https://pytorch.org/docs/stable/generated/torch.nn.ReLU.html) between our\n",
        "linear layers, but there's other activations to introduce non-linearity in your model.\n",
        "\n"
      ]
    },
    {
      "cell_type": "code",
      "execution_count": 29,
      "metadata": {
        "id": "JC7DP6ExedLz",
        "colab": {
          "base_uri": "https://localhost:8080/"
        },
        "outputId": "a0feac38-2ea3-4288-9f7f-91749418c92d"
      },
      "outputs": [
        {
          "output_type": "stream",
          "name": "stdout",
          "text": [
            "Before ReLU: tensor([[ 0.3569,  0.0945, -0.0256,  0.6807,  0.0214, -0.3503,  0.2013,  0.6324,\n",
            "          0.3378,  0.3769,  0.0718,  0.1286, -0.2449,  0.1759, -0.1204, -0.0797,\n",
            "         -0.0029, -0.1319, -0.7140,  0.1034],\n",
            "        [-0.0286,  0.0462,  0.0641,  0.2871, -0.3533, -0.5387,  0.5414,  0.6716,\n",
            "         -0.0242, -0.1174, -0.1283,  0.2823, -0.0111, -0.2275, -0.1043,  0.3416,\n",
            "         -0.3206, -0.0866, -0.0042,  0.2431],\n",
            "        [ 0.3092, -0.0465, -0.1087,  0.5095,  0.0822, -0.1239,  0.4773,  0.5077,\n",
            "         -0.0250, -0.1087,  0.2529,  0.4644, -0.3524, -0.2568,  0.0494,  0.1771,\n",
            "         -0.1924, -0.1330, -0.2535,  0.1859]], grad_fn=<AddmmBackward0>)\n",
            "\n",
            "\n",
            "After ReLU: tensor([[0.3569, 0.0945, 0.0000, 0.6807, 0.0214, 0.0000, 0.2013, 0.6324, 0.3378,\n",
            "         0.3769, 0.0718, 0.1286, 0.0000, 0.1759, 0.0000, 0.0000, 0.0000, 0.0000,\n",
            "         0.0000, 0.1034],\n",
            "        [0.0000, 0.0462, 0.0641, 0.2871, 0.0000, 0.0000, 0.5414, 0.6716, 0.0000,\n",
            "         0.0000, 0.0000, 0.2823, 0.0000, 0.0000, 0.0000, 0.3416, 0.0000, 0.0000,\n",
            "         0.0000, 0.2431],\n",
            "        [0.3092, 0.0000, 0.0000, 0.5095, 0.0822, 0.0000, 0.4773, 0.5077, 0.0000,\n",
            "         0.0000, 0.2529, 0.4644, 0.0000, 0.0000, 0.0494, 0.1771, 0.0000, 0.0000,\n",
            "         0.0000, 0.1859]], grad_fn=<ReluBackward0>)\n"
          ]
        }
      ],
      "source": [
        "print(f\"Before ReLU: {hidden1}\\n\\n\")\n",
        "hidden1 = nn.ReLU()(hidden1)\n",
        "print(f\"After ReLU: {hidden1}\")"
      ]
    },
    {
      "cell_type": "markdown",
      "metadata": {
        "id": "YvovzyoNedLz"
      },
      "source": [
        "### nn.Sequential\n",
        "[nn.Sequential](https://pytorch.org/docs/stable/generated/torch.nn.Sequential.html) is an ordered\n",
        "container of modules. The data is passed through all the modules in the same order as defined. You can use\n",
        "sequential containers to put together a quick network like ``seq_modules``.\n",
        "\n"
      ]
    },
    {
      "cell_type": "code",
      "execution_count": 30,
      "metadata": {
        "id": "eqE5Uh16edLz"
      },
      "outputs": [],
      "source": [
        "seq_modules = nn.Sequential(\n",
        "    flatten,\n",
        "    layer1,\n",
        "    nn.ReLU(),\n",
        "    nn.Linear(20, 10)\n",
        ")\n",
        "input_image = torch.rand(3,28,28)\n",
        "logits = seq_modules(input_image)"
      ]
    },
    {
      "cell_type": "markdown",
      "metadata": {
        "id": "pJkFPGJgedL0"
      },
      "source": [
        "### nn.Softmax\n",
        "The last linear layer of the neural network returns `logits` - raw values in [-\\infty, \\infty] - which are passed to the\n",
        "[nn.Softmax](https://pytorch.org/docs/stable/generated/torch.nn.Softmax.html) module. The logits are scaled to values\n",
        "[0, 1] representing the model's predicted probabilities for each class. ``dim`` parameter indicates the dimension along\n",
        "which the values must sum to 1.\n",
        "\n"
      ]
    },
    {
      "cell_type": "code",
      "execution_count": 31,
      "metadata": {
        "id": "f6nARhgredL0"
      },
      "outputs": [],
      "source": [
        "softmax = nn.Softmax(dim=1)\n",
        "pred_probab = softmax(logits)"
      ]
    },
    {
      "cell_type": "markdown",
      "metadata": {
        "id": "G4fm5buOedL0"
      },
      "source": [
        "## Model Parameters\n",
        "Many layers inside a neural network are *parameterized*, i.e. have associated weights\n",
        "and biases that are optimized during training. Subclassing ``nn.Module`` automatically\n",
        "tracks all fields defined inside your model object, and makes all parameters\n",
        "accessible using your model's ``parameters()`` or ``named_parameters()`` methods.\n",
        "\n",
        "In this example, we iterate over each parameter, and print its size and a preview of its values.\n",
        "\n",
        "\n"
      ]
    },
    {
      "cell_type": "code",
      "execution_count": 32,
      "metadata": {
        "id": "F5Ixr7s1edL0",
        "colab": {
          "base_uri": "https://localhost:8080/"
        },
        "outputId": "5807224c-4ba9-41eb-e76c-49d600458b95"
      },
      "outputs": [
        {
          "output_type": "stream",
          "name": "stdout",
          "text": [
            "Model structure: NeuralNetwork(\n",
            "  (flatten): Flatten(start_dim=1, end_dim=-1)\n",
            "  (linear_relu_stack): Sequential(\n",
            "    (0): Linear(in_features=784, out_features=1024, bias=True)\n",
            "    (1): ReLU()\n",
            "    (2): Linear(in_features=1024, out_features=512, bias=True)\n",
            "    (3): SELU()\n",
            "    (4): Linear(in_features=512, out_features=256, bias=True)\n",
            "    (5): GELU(approximate=none)\n",
            "    (6): Linear(in_features=256, out_features=10, bias=True)\n",
            "  )\n",
            ")\n",
            "\n",
            "\n",
            "Layer: linear_relu_stack.0.weight | Size: torch.Size([1024, 784]) | Values : tensor([[-0.0346, -0.0017,  0.0301,  ..., -0.0066, -0.0156, -0.0016],\n",
            "        [ 0.0101, -0.0119,  0.0106,  ..., -0.0014, -0.0114,  0.0092]],\n",
            "       device='cuda:0', grad_fn=<SliceBackward0>) \n",
            "\n",
            "Layer: linear_relu_stack.0.bias | Size: torch.Size([1024]) | Values : tensor([0.0314, 0.0205], device='cuda:0', grad_fn=<SliceBackward0>) \n",
            "\n",
            "Layer: linear_relu_stack.2.weight | Size: torch.Size([512, 1024]) | Values : tensor([[-0.0064,  0.0160,  0.0288,  ...,  0.0231, -0.0251, -0.0273],\n",
            "        [-0.0092, -0.0126,  0.0204,  ..., -0.0158,  0.0272, -0.0058]],\n",
            "       device='cuda:0', grad_fn=<SliceBackward0>) \n",
            "\n",
            "Layer: linear_relu_stack.2.bias | Size: torch.Size([512]) | Values : tensor([-0.0054,  0.0200], device='cuda:0', grad_fn=<SliceBackward0>) \n",
            "\n",
            "Layer: linear_relu_stack.4.weight | Size: torch.Size([256, 512]) | Values : tensor([[-0.0138,  0.0339,  0.0165,  ...,  0.0306,  0.0236,  0.0147],\n",
            "        [-0.0151, -0.0432, -0.0028,  ..., -0.0172,  0.0400,  0.0066]],\n",
            "       device='cuda:0', grad_fn=<SliceBackward0>) \n",
            "\n",
            "Layer: linear_relu_stack.4.bias | Size: torch.Size([256]) | Values : tensor([-0.0164, -0.0418], device='cuda:0', grad_fn=<SliceBackward0>) \n",
            "\n",
            "Layer: linear_relu_stack.6.weight | Size: torch.Size([10, 256]) | Values : tensor([[ 0.0390, -0.0117, -0.0465, -0.0211,  0.0617, -0.0319, -0.0129,  0.0012,\n",
            "         -0.0364, -0.0521, -0.0074, -0.0124, -0.0123,  0.0465, -0.0572,  0.0170,\n",
            "          0.0446,  0.0409, -0.0022,  0.0601, -0.0105,  0.0391, -0.0096, -0.0487,\n",
            "         -0.0186, -0.0179,  0.0147,  0.0299,  0.0135, -0.0309,  0.0525,  0.0429,\n",
            "          0.0415,  0.0475,  0.0243,  0.0120,  0.0566,  0.0242, -0.0316, -0.0036,\n",
            "         -0.0275,  0.0533,  0.0470,  0.0558, -0.0233,  0.0624,  0.0218, -0.0487,\n",
            "          0.0141, -0.0488,  0.0121,  0.0174, -0.0507,  0.0514,  0.0402, -0.0168,\n",
            "          0.0025, -0.0339,  0.0578, -0.0086,  0.0270,  0.0434,  0.0287,  0.0192,\n",
            "         -0.0004, -0.0517,  0.0388,  0.0078,  0.0054, -0.0578, -0.0359, -0.0201,\n",
            "         -0.0275,  0.0112, -0.0609,  0.0164,  0.0327, -0.0007,  0.0530, -0.0239,\n",
            "         -0.0106, -0.0093,  0.0168,  0.0307,  0.0159,  0.0202, -0.0548, -0.0037,\n",
            "         -0.0349,  0.0123,  0.0236,  0.0132, -0.0182, -0.0327, -0.0296, -0.0228,\n",
            "          0.0423,  0.0155, -0.0099, -0.0074,  0.0121,  0.0258, -0.0449, -0.0048,\n",
            "          0.0381, -0.0114,  0.0531,  0.0438,  0.0085,  0.0253, -0.0217,  0.0033,\n",
            "         -0.0616, -0.0476, -0.0566,  0.0249, -0.0350, -0.0610, -0.0300, -0.0491,\n",
            "         -0.0615,  0.0574,  0.0046,  0.0450,  0.0101, -0.0239,  0.0295,  0.0156,\n",
            "          0.0034, -0.0092,  0.0484,  0.0045,  0.0586,  0.0059, -0.0466,  0.0531,\n",
            "         -0.0534,  0.0122,  0.0020,  0.0597,  0.0103, -0.0109,  0.0482,  0.0454,\n",
            "         -0.0226, -0.0077,  0.0201, -0.0135, -0.0110, -0.0360, -0.0320, -0.0460,\n",
            "         -0.0275, -0.0516, -0.0300,  0.0553, -0.0524,  0.0391, -0.0088, -0.0583,\n",
            "          0.0621,  0.0336,  0.0230,  0.0545,  0.0261,  0.0220,  0.0103,  0.0153,\n",
            "          0.0024,  0.0552, -0.0224, -0.0617,  0.0500, -0.0107, -0.0615, -0.0411,\n",
            "         -0.0225, -0.0098,  0.0265, -0.0061, -0.0483, -0.0387, -0.0298,  0.0257,\n",
            "          0.0004,  0.0046,  0.0059,  0.0059, -0.0078,  0.0353, -0.0518, -0.0624,\n",
            "         -0.0359, -0.0099, -0.0485, -0.0297, -0.0604, -0.0595,  0.0258,  0.0494,\n",
            "          0.0185,  0.0058, -0.0296,  0.0224, -0.0193,  0.0382,  0.0246,  0.0578,\n",
            "          0.0167,  0.0054, -0.0323,  0.0427,  0.0054,  0.0098, -0.0128,  0.0559,\n",
            "         -0.0172, -0.0288, -0.0449, -0.0013, -0.0214, -0.0075, -0.0302, -0.0362,\n",
            "          0.0536,  0.0618,  0.0050, -0.0109, -0.0477,  0.0304,  0.0613,  0.0280,\n",
            "          0.0385, -0.0566, -0.0584, -0.0222,  0.0430, -0.0400,  0.0266,  0.0566,\n",
            "         -0.0386,  0.0084,  0.0197,  0.0543, -0.0020, -0.0544, -0.0567,  0.0267,\n",
            "         -0.0080, -0.0609, -0.0422,  0.0391, -0.0466,  0.0174,  0.0461, -0.0335],\n",
            "        [-0.0110,  0.0059,  0.0099, -0.0047,  0.0036, -0.0514, -0.0356,  0.0453,\n",
            "          0.0313, -0.0253,  0.0078, -0.0066,  0.0231, -0.0624,  0.0553,  0.0228,\n",
            "         -0.0589,  0.0340, -0.0136,  0.0447,  0.0233,  0.0094,  0.0148, -0.0558,\n",
            "          0.0159, -0.0238, -0.0479,  0.0322, -0.0128,  0.0077,  0.0109,  0.0238,\n",
            "          0.0447,  0.0206, -0.0550, -0.0493,  0.0140,  0.0044,  0.0426,  0.0289,\n",
            "          0.0526, -0.0022, -0.0255, -0.0565, -0.0080,  0.0308, -0.0192,  0.0535,\n",
            "          0.0445, -0.0212,  0.0465, -0.0093,  0.0306, -0.0483,  0.0453, -0.0585,\n",
            "         -0.0613, -0.0558, -0.0134, -0.0050, -0.0068, -0.0619, -0.0133, -0.0193,\n",
            "         -0.0303,  0.0401, -0.0607,  0.0363, -0.0351,  0.0188,  0.0288,  0.0219,\n",
            "          0.0005,  0.0315, -0.0143,  0.0026, -0.0501,  0.0371, -0.0210,  0.0577,\n",
            "         -0.0469, -0.0518, -0.0011,  0.0474,  0.0554,  0.0271, -0.0321,  0.0440,\n",
            "         -0.0576,  0.0490, -0.0029,  0.0276,  0.0233, -0.0125, -0.0531,  0.0602,\n",
            "          0.0470,  0.0206, -0.0153, -0.0320,  0.0248, -0.0180,  0.0519,  0.0584,\n",
            "         -0.0143,  0.0307, -0.0465,  0.0447,  0.0326,  0.0461,  0.0355,  0.0036,\n",
            "         -0.0246, -0.0271,  0.0006, -0.0187, -0.0148,  0.0445, -0.0245,  0.0307,\n",
            "          0.0467,  0.0232, -0.0417, -0.0313, -0.0094, -0.0313, -0.0567,  0.0360,\n",
            "          0.0422,  0.0290, -0.0101, -0.0127,  0.0482, -0.0391,  0.0267, -0.0020,\n",
            "         -0.0520, -0.0579,  0.0579,  0.0257,  0.0572, -0.0567,  0.0055,  0.0498,\n",
            "          0.0204,  0.0385,  0.0442, -0.0586, -0.0465,  0.0292, -0.0091, -0.0544,\n",
            "         -0.0228, -0.0364,  0.0599, -0.0277, -0.0214,  0.0061,  0.0266,  0.0430,\n",
            "         -0.0252,  0.0302, -0.0417, -0.0354, -0.0516, -0.0494,  0.0367, -0.0409,\n",
            "         -0.0496,  0.0181,  0.0051,  0.0064, -0.0340,  0.0409, -0.0073,  0.0348,\n",
            "         -0.0082,  0.0228, -0.0302,  0.0396, -0.0251, -0.0072,  0.0412,  0.0103,\n",
            "         -0.0582,  0.0132,  0.0536,  0.0507,  0.0011, -0.0053, -0.0415,  0.0003,\n",
            "          0.0513,  0.0609,  0.0382,  0.0462, -0.0358, -0.0521,  0.0411,  0.0363,\n",
            "         -0.0528, -0.0272,  0.0143, -0.0094,  0.0182, -0.0593,  0.0228,  0.0008,\n",
            "          0.0019, -0.0090,  0.0365,  0.0253,  0.0318,  0.0265,  0.0080,  0.0610,\n",
            "          0.0066,  0.0565, -0.0183,  0.0070, -0.0413, -0.0248, -0.0511,  0.0249,\n",
            "          0.0227,  0.0213, -0.0117,  0.0377,  0.0224, -0.0263,  0.0161,  0.0190,\n",
            "         -0.0140, -0.0546, -0.0268,  0.0206,  0.0108,  0.0132, -0.0215, -0.0126,\n",
            "         -0.0444, -0.0454, -0.0567,  0.0430,  0.0165,  0.0625, -0.0600, -0.0222,\n",
            "         -0.0622, -0.0493,  0.0436, -0.0134,  0.0272, -0.0248,  0.0069,  0.0518]],\n",
            "       device='cuda:0', grad_fn=<SliceBackward0>) \n",
            "\n",
            "Layer: linear_relu_stack.6.bias | Size: torch.Size([10]) | Values : tensor([ 0.0018, -0.0262], device='cuda:0', grad_fn=<SliceBackward0>) \n",
            "\n"
          ]
        }
      ],
      "source": [
        "print(f\"Model structure: {model}\\n\\n\")\n",
        "\n",
        "for name, param in model.named_parameters():\n",
        "    print(f\"Layer: {name} | Size: {param.size()} | Values : {param[:2]} \\n\")"
      ]
    },
    {
      "cell_type": "markdown",
      "metadata": {
        "id": "NMrTpgd6edL1"
      },
      "source": [
        "--------------\n",
        "\n",
        "\n"
      ]
    },
    {
      "cell_type": "markdown",
      "metadata": {
        "id": "k9VzFKCledL1"
      },
      "source": [
        "## Further Reading\n",
        "- [torch.nn API](https://pytorch.org/docs/stable/nn.html)\n",
        "\n"
      ]
    }
  ],
  "metadata": {
    "kernelspec": {
      "display_name": "Python 3",
      "language": "python",
      "name": "python3"
    },
    "language_info": {
      "codemirror_mode": {
        "name": "ipython",
        "version": 3
      },
      "file_extension": ".py",
      "mimetype": "text/x-python",
      "name": "python",
      "nbconvert_exporter": "python",
      "pygments_lexer": "ipython3",
      "version": "3.10.4"
    },
    "colab": {
      "provenance": []
    },
    "accelerator": "GPU",
    "gpuClass": "standard"
  },
  "nbformat": 4,
  "nbformat_minor": 0
}