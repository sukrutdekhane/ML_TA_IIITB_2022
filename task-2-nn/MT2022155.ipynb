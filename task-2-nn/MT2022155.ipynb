{
  "cells": [
    {
      "cell_type": "code",
      "execution_count": null,
      "metadata": {
        "id": "LG4KV1qTfQic"
      },
      "outputs": [],
      "source": [
        "%matplotlib inline"
      ]
    },
    {
      "cell_type": "markdown",
      "metadata": {
        "id": "X3O1NGcOfQie"
      },
      "source": [
        "\n",
        "[Learn the Basics](intro.html) ||\n",
        "[Quickstart](quickstart_tutorial.html) ||\n",
        "[Tensors](tensorqs_tutorial.html) ||\n",
        "[Datasets & DataLoaders](data_tutorial.html) ||\n",
        "[Transforms](transforms_tutorial.html) ||\n",
        "**Build Model** ||\n",
        "[Autograd](autogradqs_tutorial.html) ||\n",
        "[Optimization](optimization_tutorial.html) ||\n",
        "[Save & Load Model](saveloadrun_tutorial.html)\n",
        "\n",
        "# Build the Neural Network\n",
        "\n",
        "Neural networks comprise of layers/modules that perform operations on data.\n",
        "The [torch.nn](https://pytorch.org/docs/stable/nn.html) namespace provides all the building blocks you need to\n",
        "build your own neural network. Every module in PyTorch subclasses the [nn.Module](https://pytorch.org/docs/stable/generated/torch.nn.Module.html).\n",
        "A neural network is a module itself that consists of other modules (layers). This nested structure allows for\n",
        "building and managing complex architectures easily.\n",
        "\n",
        "In the following sections, we'll build a neural network to classify images in the FashionMNIST dataset.\n"
      ]
    },
    {
      "cell_type": "code",
      "execution_count": 2,
      "metadata": {
        "id": "A-BGf2vffQij"
      },
      "outputs": [],
      "source": [
        "import os\n",
        "import torch\n",
        "from torch import nn\n",
        "from torch.utils.data import DataLoader\n",
        "from torchvision import datasets, transforms"
      ]
    },
    {
      "cell_type": "markdown",
      "metadata": {
        "id": "FNfqTftzfQik"
      },
      "source": [
        "## Get Device for Training\n",
        "We want to be able to train our model on a hardware accelerator like the GPU,\n",
        "if it is available. Let's check to see if\n",
        "[torch.cuda](https://pytorch.org/docs/stable/notes/cuda.html) is available, else we\n",
        "continue to use the CPU.\n",
        "\n"
      ]
    },
    {
      "cell_type": "code",
      "execution_count": 3,
      "metadata": {
        "id": "bVK-eE93fQil",
        "outputId": "b8c0e86f-a4c0-4246-8298-9d4b52723998",
        "colab": {
          "base_uri": "https://localhost:8080/"
        }
      },
      "outputs": [
        {
          "output_type": "stream",
          "name": "stdout",
          "text": [
            "Using cuda device\n"
          ]
        }
      ],
      "source": [
        "device = \"cuda\" if torch.cuda.is_available() else \"cpu\"\n",
        "print(f\"Using {device} device\")"
      ]
    },
    {
      "cell_type": "markdown",
      "metadata": {
        "id": "w01n2yCqfQim"
      },
      "source": [
        "## Define the Class\n",
        "We define our neural network by subclassing ``nn.Module``, and\n",
        "initialize the neural network layers in ``__init__``. Every ``nn.Module`` subclass implements\n",
        "the operations on input data in the ``forward`` method.\n",
        "\n"
      ]
    },
    {
      "cell_type": "code",
      "execution_count": 14,
      "metadata": {
        "id": "HZEQDN2xfQin"
      },
      "outputs": [],
      "source": [
        "class NeuralNetwork(nn.Module):\n",
        "    def __init__(self):\n",
        "        super(NeuralNetwork, self).__init__()\n",
        "        self.flatten = nn.Flatten()\n",
        "        self.linear_relu_stack = nn.Sequential(\n",
        "            nn.Linear(28*28, 2345),\n",
        "            nn.ReLU(),\n",
        "            nn.Linear(2345, 512),\n",
        "            nn.ReLU(),\n",
        "            nn.Linear(512,234),\n",
        "            nn.LeakyReLU(),\n",
        "            nn.Linear(234, 10),\n",
        "        )\n",
        "\n",
        "    def forward(self, x):\n",
        "        x = self.flatten(x)\n",
        "        logits = self.linear_relu_stack(x)\n",
        "        return logits"
      ]
    },
    {
      "cell_type": "markdown",
      "metadata": {
        "id": "f0gMb6a1fQio"
      },
      "source": [
        "We create an instance of ``NeuralNetwork``, and move it to the ``device``, and print\n",
        "its structure.\n",
        "\n"
      ]
    },
    {
      "cell_type": "code",
      "execution_count": 15,
      "metadata": {
        "id": "4tUcW8uOfQip",
        "outputId": "9e44544c-1b75-4ba1-abac-4b2a9ed117cb",
        "colab": {
          "base_uri": "https://localhost:8080/"
        }
      },
      "outputs": [
        {
          "output_type": "stream",
          "name": "stdout",
          "text": [
            "NeuralNetwork(\n",
            "  (flatten): Flatten(start_dim=1, end_dim=-1)\n",
            "  (linear_relu_stack): Sequential(\n",
            "    (0): Linear(in_features=784, out_features=2345, bias=True)\n",
            "    (1): ReLU()\n",
            "    (2): Linear(in_features=2345, out_features=512, bias=True)\n",
            "    (3): ReLU()\n",
            "    (4): Linear(in_features=512, out_features=234, bias=True)\n",
            "    (5): LeakyReLU(negative_slope=0.01)\n",
            "    (6): Linear(in_features=234, out_features=10, bias=True)\n",
            "  )\n",
            ")\n"
          ]
        }
      ],
      "source": [
        "model = NeuralNetwork().to(device)\n",
        "print(model)"
      ]
    },
    {
      "cell_type": "markdown",
      "metadata": {
        "id": "30QiaXEXfQir"
      },
      "source": [
        "To use the model, we pass it the input data. This executes the model's ``forward``,\n",
        "along with some [background operations](https://github.com/pytorch/pytorch/blob/270111b7b611d174967ed204776985cefca9c144/torch/nn/modules/module.py#L866).\n",
        "Do not call ``model.forward()`` directly!\n",
        "\n",
        "Calling the model on the input returns a 2-dimensional tensor with dim=0 corresponding to each output of 10 raw predicted values for each class, and dim=1 corresponding to the individual values of each output.  .\n",
        "We get the prediction probabilities by passing it through an instance of the ``nn.Softmax`` module.\n",
        "\n"
      ]
    },
    {
      "cell_type": "code",
      "execution_count": 16,
      "metadata": {
        "id": "3mtUwLl4fQis",
        "outputId": "f37ad4c0-c3af-4a12-83c6-42491d2b1c3e",
        "colab": {
          "base_uri": "https://localhost:8080/"
        }
      },
      "outputs": [
        {
          "output_type": "stream",
          "name": "stdout",
          "text": [
            "Predicted class: tensor([3], device='cuda:0')\n"
          ]
        }
      ],
      "source": [
        "X = torch.rand(1, 28, 28, device=device)\n",
        "logits = model(X)\n",
        "pred_probab = nn.Softmax(dim=1)(logits)\n",
        "y_pred = pred_probab.argmax(1)\n",
        "print(f\"Predicted class: {y_pred}\")"
      ]
    },
    {
      "cell_type": "markdown",
      "metadata": {
        "id": "eT9WHeJgfQit"
      },
      "source": [
        "--------------\n",
        "\n",
        "\n"
      ]
    },
    {
      "cell_type": "markdown",
      "metadata": {
        "id": "ZZp8PBE9fQiu"
      },
      "source": [
        "## Model Layers\n",
        "\n",
        "Let's break down the layers in the FashionMNIST model. To illustrate it, we\n",
        "will take a sample minibatch of 3 images of size 28x28 and see what happens to it as\n",
        "we pass it through the network.\n",
        "\n"
      ]
    },
    {
      "cell_type": "code",
      "execution_count": 17,
      "metadata": {
        "id": "h_Y0y4-YfQiv",
        "outputId": "dc7798f7-72a6-4995-d193-15e852046054",
        "colab": {
          "base_uri": "https://localhost:8080/"
        }
      },
      "outputs": [
        {
          "output_type": "stream",
          "name": "stdout",
          "text": [
            "torch.Size([3, 28, 28])\n"
          ]
        }
      ],
      "source": [
        "input_image = torch.rand(3,28,28)\n",
        "print(input_image.size())"
      ]
    },
    {
      "cell_type": "markdown",
      "metadata": {
        "id": "dCT-1WMYfQiv"
      },
      "source": [
        "### nn.Flatten\n",
        "We initialize the [nn.Flatten](https://pytorch.org/docs/stable/generated/torch.nn.Flatten.html)\n",
        "layer to convert each 2D 28x28 image into a contiguous array of 784 pixel values (\n",
        "the minibatch dimension (at dim=0) is maintained).\n",
        "\n"
      ]
    },
    {
      "cell_type": "code",
      "execution_count": 18,
      "metadata": {
        "id": "nRyA7m_SfQiw",
        "outputId": "efd0c758-534f-45ed-8e28-99dda7c00798",
        "colab": {
          "base_uri": "https://localhost:8080/"
        }
      },
      "outputs": [
        {
          "output_type": "stream",
          "name": "stdout",
          "text": [
            "torch.Size([3, 784])\n"
          ]
        }
      ],
      "source": [
        "flatten = nn.Flatten()\n",
        "flat_image = flatten(input_image)\n",
        "print(flat_image.size())"
      ]
    },
    {
      "cell_type": "markdown",
      "metadata": {
        "id": "g_976ho1fQix"
      },
      "source": [
        "### nn.Linear\n",
        "The [linear layer](https://pytorch.org/docs/stable/generated/torch.nn.Linear.html)\n",
        "is a module that applies a linear transformation on the input using its stored weights and biases.\n",
        "\n",
        "\n"
      ]
    },
    {
      "cell_type": "code",
      "execution_count": 19,
      "metadata": {
        "id": "4MdG74XzfQiy",
        "outputId": "cfb7a0c3-231b-464d-8b20-174c858f17ed",
        "colab": {
          "base_uri": "https://localhost:8080/"
        }
      },
      "outputs": [
        {
          "output_type": "stream",
          "name": "stdout",
          "text": [
            "torch.Size([3, 20])\n"
          ]
        }
      ],
      "source": [
        "layer1 = nn.Linear(in_features=28*28, out_features=20)\n",
        "hidden1 = layer1(flat_image)\n",
        "print(hidden1.size())"
      ]
    },
    {
      "cell_type": "markdown",
      "metadata": {
        "id": "-mFFzjXTfQiy"
      },
      "source": [
        "### nn.ReLU\n",
        "Non-linear activations are what create the complex mappings between the model's inputs and outputs.\n",
        "They are applied after linear transformations to introduce *nonlinearity*, helping neural networks\n",
        "learn a wide variety of phenomena.\n",
        "\n",
        "In this model, we use [nn.ReLU](https://pytorch.org/docs/stable/generated/torch.nn.ReLU.html) between our\n",
        "linear layers, but there's other activations to introduce non-linearity in your model.\n",
        "\n"
      ]
    },
    {
      "cell_type": "code",
      "execution_count": 20,
      "metadata": {
        "id": "fKdqDbRBfQiz",
        "outputId": "112c54df-21ba-4d74-b4e9-90109138a45f",
        "colab": {
          "base_uri": "https://localhost:8080/"
        }
      },
      "outputs": [
        {
          "output_type": "stream",
          "name": "stdout",
          "text": [
            "Before ReLU: tensor([[ 0.2895, -0.3616,  0.0218,  0.7080, -0.0227,  0.2530,  0.1045, -0.2175,\n",
            "         -0.1826, -0.6612, -0.0492,  0.2586, -0.5000,  0.4618,  0.3556, -0.0491,\n",
            "          0.0832, -0.4012, -0.2318,  0.1788],\n",
            "        [ 0.1852, -0.1320, -0.3494,  0.4657, -0.2103, -0.1169,  0.2566, -0.3776,\n",
            "          0.1489, -0.3633, -0.0482,  0.1133, -0.7973,  0.2652,  0.0400,  0.1910,\n",
            "         -0.3124, -0.1321,  0.0115,  0.0785],\n",
            "        [ 0.2776, -0.2023,  0.2805,  0.3701, -0.0703, -0.0560,  0.3701,  0.0240,\n",
            "         -0.0443, -0.3925,  0.0755,  0.1980, -0.2691,  0.1244,  0.5098,  0.0496,\n",
            "         -0.1407, -0.3341, -0.3624,  0.1927]], grad_fn=<AddmmBackward0>)\n",
            "\n",
            "\n",
            "After ReLU: tensor([[0.2895, 0.0000, 0.0218, 0.7080, 0.0000, 0.2530, 0.1045, 0.0000, 0.0000,\n",
            "         0.0000, 0.0000, 0.2586, 0.0000, 0.4618, 0.3556, 0.0000, 0.0832, 0.0000,\n",
            "         0.0000, 0.1788],\n",
            "        [0.1852, 0.0000, 0.0000, 0.4657, 0.0000, 0.0000, 0.2566, 0.0000, 0.1489,\n",
            "         0.0000, 0.0000, 0.1133, 0.0000, 0.2652, 0.0400, 0.1910, 0.0000, 0.0000,\n",
            "         0.0115, 0.0785],\n",
            "        [0.2776, 0.0000, 0.2805, 0.3701, 0.0000, 0.0000, 0.3701, 0.0240, 0.0000,\n",
            "         0.0000, 0.0755, 0.1980, 0.0000, 0.1244, 0.5098, 0.0496, 0.0000, 0.0000,\n",
            "         0.0000, 0.1927]], grad_fn=<ReluBackward0>)\n"
          ]
        }
      ],
      "source": [
        "print(f\"Before ReLU: {hidden1}\\n\\n\")\n",
        "hidden1 = nn.ReLU()(hidden1)\n",
        "print(f\"After ReLU: {hidden1}\")"
      ]
    },
    {
      "cell_type": "markdown",
      "metadata": {
        "id": "ZWNG9UrifQi0"
      },
      "source": [
        "### nn.Sequential\n",
        "[nn.Sequential](https://pytorch.org/docs/stable/generated/torch.nn.Sequential.html) is an ordered\n",
        "container of modules. The data is passed through all the modules in the same order as defined. You can use\n",
        "sequential containers to put together a quick network like ``seq_modules``.\n",
        "\n"
      ]
    },
    {
      "cell_type": "code",
      "execution_count": 21,
      "metadata": {
        "id": "o00g1DsafQi0"
      },
      "outputs": [],
      "source": [
        "seq_modules = nn.Sequential(\n",
        "    flatten,\n",
        "    layer1,\n",
        "    nn.ReLU(),\n",
        "    nn.Linear(20, 10)\n",
        ")\n",
        "input_image = torch.rand(3,28,28)\n",
        "logits = seq_modules(input_image)"
      ]
    },
    {
      "cell_type": "markdown",
      "metadata": {
        "id": "lReo1KvqfQi1"
      },
      "source": [
        "### nn.Softmax\n",
        "The last linear layer of the neural network returns `logits` - raw values in [-\\infty, \\infty] - which are passed to the\n",
        "[nn.Softmax](https://pytorch.org/docs/stable/generated/torch.nn.Softmax.html) module. The logits are scaled to values\n",
        "[0, 1] representing the model's predicted probabilities for each class. ``dim`` parameter indicates the dimension along\n",
        "which the values must sum to 1.\n",
        "\n"
      ]
    },
    {
      "cell_type": "code",
      "execution_count": 22,
      "metadata": {
        "id": "P6jIdLLRfQi2"
      },
      "outputs": [],
      "source": [
        "softmax = nn.Softmax(dim=1)\n",
        "pred_probab = softmax(logits)"
      ]
    },
    {
      "cell_type": "markdown",
      "metadata": {
        "id": "RCzUSdgVfQi3"
      },
      "source": [
        "## Model Parameters\n",
        "Many layers inside a neural network are *parameterized*, i.e. have associated weights\n",
        "and biases that are optimized during training. Subclassing ``nn.Module`` automatically\n",
        "tracks all fields defined inside your model object, and makes all parameters\n",
        "accessible using your model's ``parameters()`` or ``named_parameters()`` methods.\n",
        "\n",
        "In this example, we iterate over each parameter, and print its size and a preview of its values.\n",
        "\n",
        "\n"
      ]
    },
    {
      "cell_type": "code",
      "execution_count": 23,
      "metadata": {
        "id": "BYVxHNWkfQi3",
        "outputId": "3a4214b3-4f47-4915-948c-44589f74c875",
        "colab": {
          "base_uri": "https://localhost:8080/"
        }
      },
      "outputs": [
        {
          "output_type": "stream",
          "name": "stdout",
          "text": [
            "Model structure: NeuralNetwork(\n",
            "  (flatten): Flatten(start_dim=1, end_dim=-1)\n",
            "  (linear_relu_stack): Sequential(\n",
            "    (0): Linear(in_features=784, out_features=2345, bias=True)\n",
            "    (1): ReLU()\n",
            "    (2): Linear(in_features=2345, out_features=512, bias=True)\n",
            "    (3): ReLU()\n",
            "    (4): Linear(in_features=512, out_features=234, bias=True)\n",
            "    (5): LeakyReLU(negative_slope=0.01)\n",
            "    (6): Linear(in_features=234, out_features=10, bias=True)\n",
            "  )\n",
            ")\n",
            "\n",
            "\n",
            "Layer: linear_relu_stack.0.weight | Size: torch.Size([2345, 784]) | Values : tensor([[-0.0057, -0.0125,  0.0271,  ...,  0.0143, -0.0028, -0.0230],\n",
            "        [ 0.0040,  0.0185,  0.0066,  ...,  0.0072,  0.0323, -0.0303]],\n",
            "       device='cuda:0', grad_fn=<SliceBackward0>) \n",
            "\n",
            "Layer: linear_relu_stack.0.bias | Size: torch.Size([2345]) | Values : tensor([0.0344, 0.0279], device='cuda:0', grad_fn=<SliceBackward0>) \n",
            "\n",
            "Layer: linear_relu_stack.2.weight | Size: torch.Size([512, 2345]) | Values : tensor([[-0.0071, -0.0047, -0.0059,  ...,  0.0099, -0.0164,  0.0098],\n",
            "        [ 0.0051,  0.0101, -0.0155,  ...,  0.0143,  0.0142,  0.0080]],\n",
            "       device='cuda:0', grad_fn=<SliceBackward0>) \n",
            "\n",
            "Layer: linear_relu_stack.2.bias | Size: torch.Size([512]) | Values : tensor([0.0149, 0.0057], device='cuda:0', grad_fn=<SliceBackward0>) \n",
            "\n",
            "Layer: linear_relu_stack.4.weight | Size: torch.Size([234, 512]) | Values : tensor([[ 0.0118,  0.0252,  0.0377,  ...,  0.0015, -0.0068,  0.0087],\n",
            "        [ 0.0061, -0.0260,  0.0086,  ...,  0.0368, -0.0226,  0.0288]],\n",
            "       device='cuda:0', grad_fn=<SliceBackward0>) \n",
            "\n",
            "Layer: linear_relu_stack.4.bias | Size: torch.Size([234]) | Values : tensor([-0.0264,  0.0174], device='cuda:0', grad_fn=<SliceBackward0>) \n",
            "\n",
            "Layer: linear_relu_stack.6.weight | Size: torch.Size([10, 234]) | Values : tensor([[ 5.4749e-02,  6.2860e-02,  5.0091e-02, -1.1997e-03,  1.0329e-02,\n",
            "          2.7915e-02, -4.1033e-02,  5.7065e-02, -3.6677e-02,  4.1247e-03,\n",
            "         -6.4926e-02,  3.5063e-02,  4.2976e-02,  7.1573e-03,  2.5199e-02,\n",
            "          2.0015e-02, -3.2993e-02, -5.8558e-02, -5.8739e-02, -4.5080e-02,\n",
            "          5.5286e-03,  6.4454e-02, -5.4374e-02, -4.4809e-05, -2.4416e-02,\n",
            "          2.2081e-02,  1.2962e-02,  1.6728e-02,  3.8962e-03,  7.5059e-03,\n",
            "         -9.0076e-03, -5.7210e-02,  3.5369e-03,  1.3865e-02, -2.2892e-02,\n",
            "         -4.2865e-02, -1.5757e-03,  9.6593e-03,  6.2802e-02, -4.0536e-02,\n",
            "         -5.1074e-02, -3.5921e-02, -7.9402e-03, -5.4046e-02, -4.3773e-02,\n",
            "         -4.2546e-02,  2.8255e-02, -3.9771e-02,  4.5475e-03,  5.5384e-02,\n",
            "         -3.7787e-03, -2.0108e-02,  1.4417e-02,  6.2475e-02, -2.7110e-02,\n",
            "          2.6926e-03,  2.1456e-02, -3.8211e-02,  4.0021e-02,  4.9582e-02,\n",
            "         -3.9136e-02, -1.1571e-03,  4.7381e-02,  5.1745e-02,  6.5051e-02,\n",
            "          5.9529e-02,  5.4742e-02,  5.6373e-02, -4.0825e-02, -2.1476e-02,\n",
            "          3.2849e-02, -2.6058e-02,  5.8258e-02,  4.7550e-02, -4.3535e-02,\n",
            "         -3.6230e-02,  3.0063e-02,  4.3348e-02,  4.0870e-02,  2.2184e-02,\n",
            "          8.1944e-04, -6.0174e-02,  5.0046e-02, -2.1206e-02,  4.3171e-02,\n",
            "          1.9400e-02,  4.6221e-02,  4.6445e-02,  1.7948e-02,  3.5327e-02,\n",
            "         -1.1187e-03,  2.0308e-02, -6.1953e-02,  4.9344e-02,  4.0561e-02,\n",
            "         -2.9361e-02,  2.7377e-02, -2.5551e-02,  6.0228e-02,  1.7861e-02,\n",
            "          1.4113e-02, -4.1308e-02,  2.7416e-02, -5.1496e-02,  5.3463e-03,\n",
            "          1.5019e-02, -2.0005e-02,  5.8185e-03,  5.0381e-02, -5.5170e-02,\n",
            "          3.5039e-02,  4.1924e-02,  3.1323e-02, -4.6486e-02,  1.7423e-03,\n",
            "          4.4536e-02, -5.3099e-02,  6.1616e-02, -2.7487e-02, -2.1638e-03,\n",
            "          5.1115e-02, -4.1562e-02, -5.9960e-02,  4.2395e-02, -5.5002e-02,\n",
            "          1.8845e-02,  2.1086e-02,  1.7278e-02, -3.6070e-02,  4.6078e-02,\n",
            "         -3.8727e-02,  5.1287e-02,  3.2570e-02, -1.3772e-02,  1.4852e-02,\n",
            "         -4.2100e-02, -1.1349e-02, -3.3508e-02,  1.4963e-03, -4.1659e-02,\n",
            "          6.2006e-02,  6.3049e-03, -4.7141e-02, -3.2547e-02,  6.0083e-03,\n",
            "         -4.7736e-02, -1.0607e-02, -4.7276e-02, -4.4087e-02, -9.5496e-03,\n",
            "          2.5901e-03,  4.7727e-02, -2.5448e-02,  1.3531e-02, -9.3826e-03,\n",
            "         -2.3436e-02,  4.1979e-02,  5.3043e-02, -5.1484e-02,  2.3973e-02,\n",
            "         -4.6229e-02,  6.2974e-02,  4.5875e-02,  5.0090e-02, -2.3277e-02,\n",
            "          5.3932e-02,  3.3516e-02,  4.4382e-02,  1.7405e-02, -5.6819e-02,\n",
            "          4.2944e-02,  3.1819e-02,  3.1105e-02,  4.8167e-02, -6.4863e-02,\n",
            "          2.5344e-02,  5.3291e-02,  1.2220e-02,  2.6655e-02, -4.0025e-02,\n",
            "          5.9907e-02,  1.9683e-02, -3.3790e-02,  3.0946e-02, -4.3735e-02,\n",
            "          4.6983e-02,  4.7900e-02, -6.0410e-02, -9.2881e-03, -4.3071e-02,\n",
            "         -4.9672e-02, -5.6565e-02, -2.0675e-02,  1.2551e-02,  5.8629e-03,\n",
            "         -1.1789e-02,  6.4242e-02,  2.1872e-02, -3.5506e-02,  9.8661e-03,\n",
            "         -2.7365e-02,  1.3917e-02, -2.3140e-02,  9.0124e-03,  7.5512e-03,\n",
            "          5.5765e-02, -4.6556e-02,  1.3658e-02,  6.1629e-02,  6.1938e-02,\n",
            "          5.0407e-02, -3.6791e-02,  5.8827e-02, -3.5140e-02, -3.8999e-02,\n",
            "         -2.2102e-02, -6.7329e-03,  4.3433e-02, -1.4292e-02,  2.3659e-02,\n",
            "         -5.3152e-03, -2.1901e-02, -5.5015e-03,  5.0766e-02, -2.1337e-02,\n",
            "          7.1999e-03,  3.0731e-02, -2.6773e-02,  1.5203e-03, -7.2890e-03,\n",
            "          1.9146e-02,  2.6353e-02, -3.3184e-03,  1.9017e-02],\n",
            "        [-2.3897e-02,  2.8046e-02,  1.4559e-02, -1.1055e-02, -5.6791e-02,\n",
            "          2.1523e-02, -4.9404e-02,  5.6034e-02, -4.9871e-02,  1.0918e-02,\n",
            "          2.2034e-02, -2.4198e-02,  3.8095e-02, -3.6158e-02, -4.6518e-02,\n",
            "         -1.2992e-02, -1.9088e-02,  8.4673e-03, -3.9284e-02, -9.4818e-03,\n",
            "         -1.1962e-02,  3.0604e-02, -5.1252e-02,  4.0312e-02,  6.3731e-02,\n",
            "          1.3931e-02, -1.2653e-02,  5.5187e-02, -2.0379e-02, -2.2406e-02,\n",
            "          4.5461e-02, -3.7352e-02,  6.9729e-03,  3.9132e-02,  1.3906e-02,\n",
            "          1.3481e-02, -3.4640e-02, -2.3919e-02, -7.5560e-03, -5.6251e-02,\n",
            "          3.0072e-02, -4.2031e-02,  4.2844e-02, -1.4755e-02,  5.1258e-02,\n",
            "         -3.4521e-02, -1.6786e-02,  4.1961e-02,  6.0035e-02,  6.2694e-02,\n",
            "         -3.8010e-02, -3.4683e-02,  3.6769e-02, -5.6900e-02,  3.6008e-02,\n",
            "         -3.8063e-02,  2.9007e-02, -7.2111e-03, -1.7144e-02, -3.7749e-02,\n",
            "         -5.2039e-02,  1.6629e-02,  6.4163e-02,  2.9891e-02, -2.9937e-03,\n",
            "         -1.9267e-03, -1.3487e-02,  8.6842e-03, -3.4460e-02, -5.8845e-02,\n",
            "         -6.0631e-02,  2.0392e-02,  9.8701e-03,  8.5017e-03, -4.4145e-02,\n",
            "          3.2647e-02, -1.0775e-02, -5.5493e-02,  3.3304e-02,  3.0338e-02,\n",
            "         -4.4706e-02, -3.2184e-02,  4.8164e-02, -4.9594e-02,  3.0031e-02,\n",
            "         -5.4080e-02,  5.0758e-03, -4.1644e-02,  7.6690e-03,  5.1287e-02,\n",
            "          4.7368e-02,  1.2904e-03,  2.7373e-02, -7.8238e-03, -3.2541e-02,\n",
            "         -3.4344e-03, -3.4646e-03, -1.6123e-02, -1.4280e-02,  4.4573e-02,\n",
            "         -4.0028e-02,  1.6447e-02,  6.4662e-02, -5.1200e-02,  6.2053e-02,\n",
            "         -5.0877e-02, -1.6482e-02,  6.2824e-02, -2.3165e-02,  5.1937e-02,\n",
            "         -5.3489e-02,  2.8253e-02,  4.9681e-02,  1.6762e-02, -5.6615e-04,\n",
            "          3.4507e-02,  2.7535e-02,  6.1647e-02, -3.2365e-02,  5.0843e-02,\n",
            "         -1.7278e-02, -2.1162e-02, -6.1652e-02, -5.5016e-02, -5.9362e-02,\n",
            "          6.0328e-02,  1.6392e-02,  3.1900e-03,  7.2476e-03,  3.8928e-02,\n",
            "         -1.3956e-03,  6.3300e-02, -5.1288e-02, -1.3400e-02, -3.7827e-02,\n",
            "         -2.9773e-04,  8.4344e-04,  6.2926e-04, -3.2616e-02,  3.2398e-02,\n",
            "          2.5077e-02, -3.0544e-02, -3.7068e-02,  5.0871e-03, -4.2763e-02,\n",
            "         -2.8547e-02,  3.7334e-02, -4.7932e-02,  9.3973e-03,  6.0940e-02,\n",
            "         -1.8849e-02, -6.4391e-02,  6.8622e-03, -1.7942e-02, -1.8881e-02,\n",
            "          9.9208e-03, -2.0525e-02, -5.4868e-02, -6.3082e-02,  1.2999e-02,\n",
            "          2.2512e-02,  4.2002e-02, -3.8860e-02,  3.5785e-02,  2.2021e-02,\n",
            "         -5.9993e-02,  1.4453e-02, -3.2275e-02,  6.0234e-02,  8.1438e-03,\n",
            "          4.7643e-03, -9.3987e-03, -6.1299e-02, -3.3128e-02, -3.1061e-02,\n",
            "         -2.6393e-02,  5.9889e-02, -1.3960e-02, -4.9113e-02,  3.6543e-02,\n",
            "         -1.7254e-02, -4.1823e-02, -4.3701e-02, -5.3798e-02, -3.8648e-02,\n",
            "         -1.5379e-02,  6.4993e-02, -2.3936e-03, -2.9631e-02,  2.4424e-02,\n",
            "          2.3801e-02, -2.8530e-03,  5.3476e-02, -2.4013e-02, -2.9055e-02,\n",
            "          4.9518e-02, -5.4060e-03, -4.0194e-02,  5.0659e-02, -3.2300e-02,\n",
            "         -4.6799e-02, -2.2025e-02,  4.0038e-02, -2.5480e-02,  4.4698e-02,\n",
            "         -3.4969e-03,  4.7584e-02, -1.0502e-02,  4.8229e-02, -4.6711e-02,\n",
            "          5.2176e-02,  6.5230e-02,  4.8912e-02,  5.6212e-02,  2.1263e-02,\n",
            "         -7.6215e-03, -5.1172e-02, -3.8479e-02, -3.0143e-02,  5.2183e-02,\n",
            "         -6.0780e-02, -5.1212e-02, -3.8952e-02, -5.7388e-02, -2.0992e-02,\n",
            "          3.4330e-02,  1.1123e-02,  6.0183e-03,  4.6006e-02, -4.6539e-02,\n",
            "          6.4809e-02, -3.9872e-02, -2.5765e-02, -5.3544e-02]], device='cuda:0',\n",
            "       grad_fn=<SliceBackward0>) \n",
            "\n",
            "Layer: linear_relu_stack.6.bias | Size: torch.Size([10]) | Values : tensor([ 0.0088, -0.0199], device='cuda:0', grad_fn=<SliceBackward0>) \n",
            "\n"
          ]
        }
      ],
      "source": [
        "print(f\"Model structure: {model}\\n\\n\")\n",
        "\n",
        "for name, param in model.named_parameters():\n",
        "    print(f\"Layer: {name} | Size: {param.size()} | Values : {param[:2]} \\n\")"
      ]
    },
    {
      "cell_type": "markdown",
      "metadata": {
        "id": "oYSaGxLvfQi4"
      },
      "source": [
        "--------------\n",
        "\n",
        "\n"
      ]
    },
    {
      "cell_type": "markdown",
      "metadata": {
        "id": "CsMI7VmVfQi4"
      },
      "source": [
        "## Further Reading\n",
        "- [torch.nn API](https://pytorch.org/docs/stable/nn.html)\n",
        "\n"
      ]
    }
  ],
  "metadata": {
    "kernelspec": {
      "display_name": "Python 3",
      "language": "python",
      "name": "python3"
    },
    "language_info": {
      "codemirror_mode": {
        "name": "ipython",
        "version": 3
      },
      "file_extension": ".py",
      "mimetype": "text/x-python",
      "name": "python",
      "nbconvert_exporter": "python",
      "pygments_lexer": "ipython3",
      "version": "3.10.4"
    },
    "colab": {
      "provenance": []
    },
    "accelerator": "GPU",
    "gpuClass": "standard"
  },
  "nbformat": 4,
  "nbformat_minor": 0
}